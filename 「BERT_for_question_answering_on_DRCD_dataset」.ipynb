{
  "cells": [
    {
      "cell_type": "markdown",
      "metadata": {
        "id": "view-in-github",
        "colab_type": "text"
      },
      "source": [
        "<a href=\"https://colab.research.google.com/github/salmon-Xin/BERT-for-question-answering-on-DRCD-dataset/blob/main/%E3%80%8CBERT_for_question_answering_on_DRCD_dataset%E3%80%8D.ipynb\" target=\"_parent\"><img src=\"https://colab.research.google.com/assets/colab-badge.svg\" alt=\"Open In Colab\"/></a>"
      ]
    },
    {
      "cell_type": "code",
      "execution_count": null,
      "metadata": {
        "colab": {
          "base_uri": "https://localhost:8080/"
        },
        "id": "-1A6afITpu8E",
        "outputId": "98772297-c15d-47a7-8d41-46f0b1f2b8aa"
      },
      "outputs": [
        {
          "output_type": "stream",
          "name": "stdout",
          "text": [
            "Looking in indexes: https://pypi.org/simple, https://us-python.pkg.dev/colab-wheels/public/simple/\n",
            "Requirement already satisfied: transformers in /usr/local/lib/python3.8/dist-packages (4.25.1)\n",
            "Requirement already satisfied: datasets in /usr/local/lib/python3.8/dist-packages (2.7.1)\n",
            "Requirement already satisfied: accelerate in /usr/local/lib/python3.8/dist-packages (0.15.0)\n",
            "Requirement already satisfied: numpy>=1.17 in /usr/local/lib/python3.8/dist-packages (from transformers) (1.21.6)\n",
            "Requirement already satisfied: packaging>=20.0 in /usr/local/lib/python3.8/dist-packages (from transformers) (21.3)\n",
            "Requirement already satisfied: huggingface-hub<1.0,>=0.10.0 in /usr/local/lib/python3.8/dist-packages (from transformers) (0.11.1)\n",
            "Requirement already satisfied: regex!=2019.12.17 in /usr/local/lib/python3.8/dist-packages (from transformers) (2022.6.2)\n",
            "Requirement already satisfied: filelock in /usr/local/lib/python3.8/dist-packages (from transformers) (3.8.0)\n",
            "Requirement already satisfied: pyyaml>=5.1 in /usr/local/lib/python3.8/dist-packages (from transformers) (6.0)\n",
            "Requirement already satisfied: tokenizers!=0.11.3,<0.14,>=0.11.1 in /usr/local/lib/python3.8/dist-packages (from transformers) (0.13.2)\n",
            "Requirement already satisfied: requests in /usr/local/lib/python3.8/dist-packages (from transformers) (2.23.0)\n",
            "Requirement already satisfied: tqdm>=4.27 in /usr/local/lib/python3.8/dist-packages (from transformers) (4.64.1)\n",
            "Requirement already satisfied: typing-extensions>=3.7.4.3 in /usr/local/lib/python3.8/dist-packages (from huggingface-hub<1.0,>=0.10.0->transformers) (4.1.1)\n",
            "Requirement already satisfied: pyparsing!=3.0.5,>=2.0.2 in /usr/local/lib/python3.8/dist-packages (from packaging>=20.0->transformers) (3.0.9)\n",
            "Requirement already satisfied: fsspec[http]>=2021.11.1 in /usr/local/lib/python3.8/dist-packages (from datasets) (2022.11.0)\n",
            "Requirement already satisfied: xxhash in /usr/local/lib/python3.8/dist-packages (from datasets) (3.1.0)\n",
            "Requirement already satisfied: multiprocess in /usr/local/lib/python3.8/dist-packages (from datasets) (0.70.14)\n",
            "Requirement already satisfied: dill<0.3.7 in /usr/local/lib/python3.8/dist-packages (from datasets) (0.3.6)\n",
            "Requirement already satisfied: pyarrow>=6.0.0 in /usr/local/lib/python3.8/dist-packages (from datasets) (9.0.0)\n",
            "Requirement already satisfied: aiohttp in /usr/local/lib/python3.8/dist-packages (from datasets) (3.8.3)\n",
            "Requirement already satisfied: pandas in /usr/local/lib/python3.8/dist-packages (from datasets) (1.3.5)\n",
            "Requirement already satisfied: responses<0.19 in /usr/local/lib/python3.8/dist-packages (from datasets) (0.18.0)\n",
            "Requirement already satisfied: attrs>=17.3.0 in /usr/local/lib/python3.8/dist-packages (from aiohttp->datasets) (22.1.0)\n",
            "Requirement already satisfied: async-timeout<5.0,>=4.0.0a3 in /usr/local/lib/python3.8/dist-packages (from aiohttp->datasets) (4.0.2)\n",
            "Requirement already satisfied: aiosignal>=1.1.2 in /usr/local/lib/python3.8/dist-packages (from aiohttp->datasets) (1.3.1)\n",
            "Requirement already satisfied: multidict<7.0,>=4.5 in /usr/local/lib/python3.8/dist-packages (from aiohttp->datasets) (6.0.2)\n",
            "Requirement already satisfied: yarl<2.0,>=1.0 in /usr/local/lib/python3.8/dist-packages (from aiohttp->datasets) (1.8.1)\n",
            "Requirement already satisfied: charset-normalizer<3.0,>=2.0 in /usr/local/lib/python3.8/dist-packages (from aiohttp->datasets) (2.1.1)\n",
            "Requirement already satisfied: frozenlist>=1.1.1 in /usr/local/lib/python3.8/dist-packages (from aiohttp->datasets) (1.3.3)\n",
            "Requirement already satisfied: chardet<4,>=3.0.2 in /usr/local/lib/python3.8/dist-packages (from requests->transformers) (3.0.4)\n",
            "Requirement already satisfied: certifi>=2017.4.17 in /usr/local/lib/python3.8/dist-packages (from requests->transformers) (2022.9.24)\n",
            "Requirement already satisfied: urllib3!=1.25.0,!=1.25.1,<1.26,>=1.21.1 in /usr/local/lib/python3.8/dist-packages (from requests->transformers) (1.25.11)\n",
            "Requirement already satisfied: idna<3,>=2.5 in /usr/local/lib/python3.8/dist-packages (from requests->transformers) (2.10)\n",
            "Requirement already satisfied: psutil in /usr/local/lib/python3.8/dist-packages (from accelerate) (5.4.8)\n",
            "Requirement already satisfied: torch>=1.4.0 in /usr/local/lib/python3.8/dist-packages (from accelerate) (1.12.1+cu113)\n",
            "Requirement already satisfied: python-dateutil>=2.7.3 in /usr/local/lib/python3.8/dist-packages (from pandas->datasets) (2.8.2)\n",
            "Requirement already satisfied: pytz>=2017.3 in /usr/local/lib/python3.8/dist-packages (from pandas->datasets) (2022.6)\n",
            "Requirement already satisfied: six>=1.5 in /usr/local/lib/python3.8/dist-packages (from python-dateutil>=2.7.3->pandas->datasets) (1.15.0)\n"
          ]
        }
      ],
      "source": [
        "pip install transformers datasets accelerate"
      ]
    },
    {
      "cell_type": "code",
      "execution_count": null,
      "metadata": {
        "colab": {
          "base_uri": "https://localhost:8080/"
        },
        "id": "JEG-Y-fvp9zW",
        "outputId": "a8fe0f9d-676e-4441-d84e-b57209ac0d8f"
      },
      "outputs": [
        {
          "output_type": "stream",
          "name": "stdout",
          "text": [
            "shell-init: error retrieving current directory: getcwd: cannot access parent directories: Transport endpoint is not connected\n",
            "Sun Dec  4 17:35:16 2022       \n",
            "+-----------------------------------------------------------------------------+\n",
            "| NVIDIA-SMI 460.32.03    Driver Version: 460.32.03    CUDA Version: 11.2     |\n",
            "|-------------------------------+----------------------+----------------------+\n",
            "| GPU  Name        Persistence-M| Bus-Id        Disp.A | Volatile Uncorr. ECC |\n",
            "| Fan  Temp  Perf  Pwr:Usage/Cap|         Memory-Usage | GPU-Util  Compute M. |\n",
            "|                               |                      |               MIG M. |\n",
            "|===============================+======================+======================|\n",
            "|   0  Tesla T4            Off  | 00000000:00:04.0 Off |                    0 |\n",
            "| N/A   67C    P0    30W /  70W |  12118MiB / 15109MiB |      0%      Default |\n",
            "|                               |                      |                  N/A |\n",
            "+-------------------------------+----------------------+----------------------+\n",
            "                                                                               \n",
            "+-----------------------------------------------------------------------------+\n",
            "| Processes:                                                                  |\n",
            "|  GPU   GI   CI        PID   Type   Process name                  GPU Memory |\n",
            "|        ID   ID                                                   Usage      |\n",
            "|=============================================================================|\n",
            "+-----------------------------------------------------------------------------+\n"
          ]
        }
      ],
      "source": [
        "!nvidia-smi"
      ]
    },
    {
      "cell_type": "code",
      "execution_count": null,
      "metadata": {
        "colab": {
          "base_uri": "https://localhost:8080/"
        },
        "id": "LiEGrf9tsKqH",
        "outputId": "0c7cdfbf-0e3b-4cc4-8211-49d94cc93a47"
      },
      "outputs": [
        {
          "output_type": "stream",
          "name": "stdout",
          "text": [
            "Mounted at /content/drive\n"
          ]
        }
      ],
      "source": [
        "from google.colab import drive\n",
        "drive.mount('/content/drive', force_remount=True)"
      ]
    },
    {
      "cell_type": "code",
      "execution_count": null,
      "metadata": {
        "colab": {
          "base_uri": "https://localhost:8080/"
        },
        "id": "1M8HKRb1sLAx",
        "outputId": "7a52d6b6-d5a6-4b10-a3d4-1401e30e70c8"
      },
      "outputs": [
        {
          "output_type": "stream",
          "name": "stdout",
          "text": [
            "/content/drive/MyDrive/Colab Notebooks\n"
          ]
        }
      ],
      "source": [
        "%cd /content/drive/\"MyDrive\"/\"Colab Notebooks\""
      ]
    },
    {
      "cell_type": "code",
      "execution_count": null,
      "metadata": {
        "colab": {
          "base_uri": "https://localhost:8080/"
        },
        "id": "-hWMbbCZsfBQ",
        "outputId": "4bca8372-7d07-4a9d-bb97-2643122c2365"
      },
      "outputs": [
        {
          "output_type": "stream",
          "name": "stdout",
          "text": [
            "shell-init: error retrieving current directory: getcwd: cannot access parent directories: Transport endpoint is not connected\n",
            "ls: cannot open directory '.': Transport endpoint is not connected\n"
          ]
        }
      ],
      "source": [
        "!ls"
      ]
    },
    {
      "cell_type": "code",
      "execution_count": null,
      "metadata": {
        "colab": {
          "base_uri": "https://localhost:8080/"
        },
        "id": "r8-kfmSQsg93",
        "outputId": "72e09676-a044-4335-e32f-5363684c39e5"
      },
      "outputs": [
        {
          "output_type": "stream",
          "name": "stdout",
          "text": [
            "/content/drive/MyDrive/Colab Notebooks/BERT_DRCD\n"
          ]
        }
      ],
      "source": [
        "# !mkdir ./BERT_DRCD/\n",
        "%cd ./BERT_DRCD/"
      ]
    },
    {
      "cell_type": "markdown",
      "metadata": {
        "id": "yQfGWM_2uyTE"
      },
      "source": [
        "# Delta Reading Comprehension Dataset \n",
        "台達閱讀理解資料集 Delta Reading Comprehension Dataset (DRCD) 屬於通用領域繁體中文機器閱讀理解資料集。\n",
        "本資料集期望成為適用於遷移學習之標準中文閱讀理解資料集。\n",
        "本資料集從2,108篇維基條目中整理出10,014篇段落，並從段落中標註出30,000多個問題\n",
        "\n",
        "關於資料集之更詳細資訊請洽詢論文：\n",
        "For more information please refer to Paper https://arxiv.org/abs/1806.00920\n",
        "\n",
        "## Data format 資料格式\n",
        "\n",
        "- version : <String> 資料集版本\n",
        "- data : <Array>\n",
        "  - title : <String> : 文章標題\n",
        "  - id : <String> : 文章編號\n",
        "  - paragraphs : <Array>\n",
        "    - id : <String> : 文章編號_段落編號\n",
        "    - context : <String> : 段落內容\n",
        "    - qas : <Array>\n",
        "      - question : <String> : 問題內容\n",
        "      - id :<String> : 文章編號_段落編號_問題編號\n",
        "      - answers : <Arrays>\n",
        "        - answer_start : <int> text在文中位置\n",
        "        - id : <String> : \"1\"表示為人工標註的答案，\"2\"以上為人工答題的答案\n",
        "        - text : <string> : 答案內容\n",
        "\n",
        "**References:**\n",
        "\n",
        "- [BERT](https://arxiv.org/pdf/1810.04805.pdf)\n",
        "- [DRCD](https://arxiv.org/abs/1806.00920)"
      ]
    },
    {
      "cell_type": "code",
      "execution_count": null,
      "metadata": {
        "colab": {
          "base_uri": "https://localhost:8080/"
        },
        "id": "pZWW_Mansn7z",
        "outputId": "9a0932b3-19f8-459d-d83e-985a221bd594"
      },
      "outputs": [
        {
          "output_type": "stream",
          "name": "stdout",
          "text": [
            "Downloading data from https://raw.githubusercontent.com/DRCKnowledgeTeam/DRCD/master/DRCD_training.json\n",
            "15094666/15094666 [==============================] - 0s 0us/step\n",
            "Downloading data from https://github.com/DRCKnowledgeTeam/DRCD/blob/master/DRCD_dev.json?raw=true\n",
            "2184379/2184379 [==============================] - 0s 0us/step\n",
            "{'context': '2010年引進的廣州快速公交運輸系統，屬世界第二大快速公交系統，日常載客量可達100萬人次，高峰時期每小時單向客流高達26900人次，僅次於波哥大的快速交通系統，平均每10秒鐘就有一輛巴士，每輛巴士單向行駛350小時。包括橋樑在內的站台是世界最長的州快速公交運輸系統站台，長達260米。目前廣州市區的計程車和公共汽車主要使用液化石油氣作燃料，部分公共汽車更使用油電、氣電混合動力技術。2012年底開始投放液化天然氣燃料的公共汽車，2014年6月開始投放液化天然氣插電式混合動力公共汽車，以取代液化石油氣公共汽車。2007年1月16日，廣州市政府全面禁止在市區內駕駛摩托車。違反禁令的機動車將會予以沒收。廣州市交通局聲稱禁令的施行，使得交通擁擠問題和車禍大幅減少。廣州白雲國際機場位於白雲區與花都區交界，2004年8月5日正式投入運營，屬中國交通情況第二繁忙的機場。該機場取代了原先位於市中心的無法滿足日益增長航空需求的舊機場。目前機場有三條飛機跑道，成為國內第三個擁有三跑道的民航機場。比鄰近的香港國際機場第三跑道預計的2023年落成早8年。',\n",
            " 'id': '1001-10',\n",
            " 'qas': [{'answers': [{'answer_start': 84, 'id': '1', 'text': '10秒鐘'}],\n",
            "          'id': '1001-10-1',\n",
            "          'question': '廣州的快速公交運輸系統每多久就會有一輛巴士？'},\n",
            "         {'answers': [{'answer_start': 256, 'id': '1', 'text': '2007年1月16日'}],\n",
            "          'id': '1001-10-2',\n",
            "          'question': '從哪一天開始在廣州市內騎摩托車會被沒收？'},\n",
            "         {'answers': [{'answer_start': 447, 'id': '1', 'text': '香港國際機場'}],\n",
            "          'id': '1001-10-3',\n",
            "          'question': '廣州白雲國際機場在完成第三條跑道的後八年哪一座機場也會有第三跑道？'}]}\n"
          ]
        }
      ],
      "source": [
        "from tensorflow import keras\n",
        "import json\n",
        "from pprint import pprint\n",
        "\n",
        "# Download the data\n",
        "train_data_url = \"https://raw.githubusercontent.com/DRCKnowledgeTeam/DRCD/master/DRCD_training.json\"\n",
        "train_path = keras.utils.get_file(\"train.json\", train_data_url)\n",
        "eval_data_url = \"https://github.com/DRCKnowledgeTeam/DRCD/blob/master/DRCD_dev.json?raw=true\"\n",
        "eval_path = keras.utils.get_file(\"eval.json\", eval_data_url)\n",
        "\n",
        "with open(train_path, \"r\", encoding=\"UTF-8\") as f:\n",
        "    raw_train_data = json.load(f)\n",
        "\n",
        "with open(eval_path, \"r\", encoding=\"UTF-8\") as f:\n",
        "    raw_eval_data = json.load(f)\n",
        "\n",
        "for ele in raw_train_data['data']:\n",
        "  pprint(ele['paragraphs'][0])\n",
        "  break\n",
        "  \n",
        "\n"
      ]
    },
    {
      "cell_type": "markdown",
      "metadata": {
        "id": "kF-B-ZsX1hAv"
      },
      "source": [
        "讀取資料"
      ]
    },
    {
      "cell_type": "code",
      "execution_count": null,
      "metadata": {
        "id": "yO9RcQitufWQ"
      },
      "outputs": [],
      "source": [
        "from pathlib import Path\n",
        "def read_data(path, limit=None):\n",
        "    path = Path(path)\n",
        "    with open(path, 'rb') as f:\n",
        "        data_dict = json.load(f)\n",
        "\n",
        "    contexts = []\n",
        "    questions = []\n",
        "    answers = []\n",
        "    for group in data_dict['data']:\n",
        "        for passage in group['paragraphs']:\n",
        "            context = passage['context']\n",
        "            for qa in passage['qas']:\n",
        "                question = qa['question']\n",
        "                # answer = qa['answers']\n",
        "                for answer in qa['answers']:\n",
        "                  contexts.append(context)\n",
        "                  questions.append(question)\n",
        "                  answers.append(answer)\n",
        "                if limit != None and len(contexts) > limit:\n",
        "                  return contexts, questions, answers\n",
        "                  \n",
        "    return contexts, questions, answers"
      ]
    },
    {
      "cell_type": "code",
      "execution_count": null,
      "metadata": {
        "id": "BIFSt7tP1a8w"
      },
      "outputs": [],
      "source": [
        "train_contexts, train_questions, train_answers = read_data(train_path, 10000)\n",
        "eval_contexts, eval_questions, eval_answers = read_data(eval_path,2000)"
      ]
    },
    {
      "cell_type": "code",
      "execution_count": null,
      "metadata": {
        "colab": {
          "base_uri": "https://localhost:8080/"
        },
        "id": "GtymvLk45GX-",
        "outputId": "a54d3900-d738-4d85-d142-db7fac937b16"
      },
      "outputs": [
        {
          "name": "stdout",
          "output_type": "stream",
          "text": [
            "10001\n",
            "2002\n"
          ]
        }
      ],
      "source": [
        "print(len(train_contexts))\n",
        "print(len(eval_contexts))"
      ]
    },
    {
      "cell_type": "code",
      "execution_count": null,
      "metadata": {
        "colab": {
          "base_uri": "https://localhost:8080/",
          "height": 774
        },
        "id": "MHRvZ3aj5c_L",
        "outputId": "3a006d25-083c-4adc-c36a-d568c5d27c09"
      },
      "outputs": [
        {
          "output_type": "stream",
          "name": "stderr",
          "text": [
            "ERROR:root:Internal Python error in the inspect module.\n",
            "Below is the traceback from this internal error.\n",
            "\n"
          ]
        },
        {
          "output_type": "stream",
          "name": "stdout",
          "text": [
            "train_data\n",
            "Traceback (most recent call last):\n",
            "  File \"/usr/local/lib/python3.8/dist-packages/IPython/core/interactiveshell.py\", line 3326, in run_code\n",
            "    exec(code_obj, self.user_global_ns, self.user_ns)\n",
            "  File \"<ipython-input-79-21955d71c0b4>\", line 2, in <module>\n",
            "    print(\"context:\",train_contexts[0])\n",
            "NameError: name 'train_contexts' is not defined\n",
            "\n",
            "During handling of the above exception, another exception occurred:\n",
            "\n",
            "Traceback (most recent call last):\n",
            "  File \"/usr/local/lib/python3.8/dist-packages/IPython/core/interactiveshell.py\", line 2040, in showtraceback\n",
            "    stb = value._render_traceback_()\n",
            "AttributeError: 'NameError' object has no attribute '_render_traceback_'\n",
            "\n",
            "During handling of the above exception, another exception occurred:\n",
            "\n",
            "Traceback (most recent call last):\n",
            "  File \"/usr/local/lib/python3.8/dist-packages/IPython/core/ultratb.py\", line 1101, in get_records\n",
            "    return _fixed_getinnerframes(etb, number_of_lines_of_context, tb_offset)\n",
            "  File \"/usr/local/lib/python3.8/dist-packages/IPython/core/ultratb.py\", line 319, in wrapped\n",
            "    return f(*args, **kwargs)\n",
            "  File \"/usr/local/lib/python3.8/dist-packages/IPython/core/ultratb.py\", line 353, in _fixed_getinnerframes\n",
            "    records = fix_frame_records_filenames(inspect.getinnerframes(etb, context))\n",
            "  File \"/usr/lib/python3.8/inspect.py\", line 1515, in getinnerframes\n",
            "    frameinfo = (tb.tb_frame,) + getframeinfo(tb, context)\n",
            "  File \"/usr/lib/python3.8/inspect.py\", line 1473, in getframeinfo\n",
            "    filename = getsourcefile(frame) or getfile(frame)\n",
            "  File \"/usr/lib/python3.8/inspect.py\", line 708, in getsourcefile\n",
            "    if getattr(getmodule(object, filename), '__loader__', None) is not None:\n",
            "  File \"/usr/lib/python3.8/inspect.py\", line 737, in getmodule\n",
            "    file = getabsfile(object, _filename)\n",
            "  File \"/usr/lib/python3.8/inspect.py\", line 721, in getabsfile\n",
            "    return os.path.normcase(os.path.abspath(_filename))\n",
            "  File \"/usr/lib/python3.8/posixpath.py\", line 379, in abspath\n",
            "    cwd = os.getcwd()\n",
            "OSError: [Errno 107] Transport endpoint is not connected\n"
          ]
        },
        {
          "output_type": "error",
          "ename": "NameError",
          "evalue": "ignored",
          "traceback": [
            "\u001b[0;31m---------------------------------------------------------------------------\u001b[0m"
          ]
        }
      ],
      "source": [
        "print('train_data')\n",
        "print(\"context:\",train_contexts[0])\n",
        "print(\"question:\",train_questions[0])\n",
        "print(\"answer:\",train_answers[0])"
      ]
    },
    {
      "cell_type": "code",
      "execution_count": null,
      "metadata": {
        "colab": {
          "base_uri": "https://localhost:8080/"
        },
        "id": "TFWKqkmpEw1O",
        "outputId": "12278786-4936-4486-ccd1-0ad094e3659c"
      },
      "outputs": [
        {
          "name": "stdout",
          "output_type": "stream",
          "text": [
            "evaluation_data\n",
            "context: 在歐洲，梵語的學術研究，由德國學者陸特和漢斯雷頓開創。後來威廉·瓊斯發現印歐語系，也要歸功於對梵語的研究。此外，梵語研究，也對西方文字學及歷史語言學的發展，貢獻不少。1786年2月2日，亞洲協會在加爾各答舉行。會中，威廉·瓊斯發表了下面這段著名的言論：「梵語儘管非常古老，構造卻精妙絕倫：比希臘語還完美，比拉丁語還豐富，精緻之處同時勝過此兩者，但在動詞詞根和語法形式上，又跟此兩者無比相似，不可能是巧合的結果。這三種語言太相似了，使任何同時稽考三者的語文學家都不得不相信三者同出一源，出自一種可能已經消逝的語言。基於相似的原因，儘管缺少同樣有力的證據，我們可以推想哥德語和凱爾特語，雖然混入了迥然不同的語彙，也與梵語有著相同的起源；而古波斯語可能也是這一語系的子裔。」\n",
            "question: 陸特和漢斯雷頓開創了哪一地區對梵語的學術研究？\n",
            "answer: {'id': '1', 'text': '歐洲', 'answer_start': 1}\n"
          ]
        }
      ],
      "source": [
        "print(\"evaluation_data\")\n",
        "print(\"context:\",eval_contexts[0])\n",
        "print(\"question:\",eval_questions[0])\n",
        "print(\"answer:\",eval_answers[0])"
      ]
    },
    {
      "cell_type": "code",
      "execution_count": null,
      "metadata": {
        "colab": {
          "base_uri": "https://localhost:8080/"
        },
        "id": "SpZQyDzVE-7g",
        "outputId": "21992530-b696-468c-ef12-2c10531af015"
      },
      "outputs": [
        {
          "name": "stdout",
          "output_type": "stream",
          "text": [
            "context: 馬祖列島是隸屬中華民國的群島，位於臺灣海峽正北方，面臨閩江口、連江口和羅源灣，與中國大陸僅一水之隔，距中國大陸最近點約9.25公里。主要由南竿島、北竿島、高登島、亮島、東莒島、西莒島、東引島、西引島及其附屬小島共計36個島嶼、礁嶼組成，面積29.6平方公里，居民人口約12,600多人。1999年以馬祖列島為範圍的馬祖國家風景區成立，隸屬於交通部觀光局管理。除了地形地貌和人文特色外，因地理位置關係而成為多種候鳥過境或渡冬的區域，2000年成立馬祖列島燕鷗保護區，主要針對白眉燕鷗、紅燕鷗、蒼燕鷗、鳳頭燕鷗、黑尾鷗、岩鷺、插尾雨燕等7種鳥類。2000年6月曾在此發現在世界鳥類紅皮書中被列為臨絕種的黑嘴端鳳頭燕鷗共4對，每年的最佳賞燕鷗季為5月到8月。馬祖除通用國語之外，還通用操長樂口音的閩東語，當地稱為「平話」、「馬祖話」或「福州話」，官方則稱之為「福州語」。\n",
            "question: 負責管理馬祖國家風景區的單位為？\n",
            "answer: {'id': '2', 'text': '交通部觀光局', 'answer_start': 170}\n"
          ]
        }
      ],
      "source": [
        "print(\"context:\",eval_contexts[21])\n",
        "print(\"question:\",eval_questions[21])\n",
        "print(\"answer:\",eval_answers[21])"
      ]
    },
    {
      "cell_type": "code",
      "execution_count": null,
      "metadata": {
        "id": "d-KqS3zmFHnu"
      },
      "outputs": [],
      "source": [
        "# 新增 answer 的結束位置\n",
        "def add_end_idx(answers):\n",
        "    for answer in answers:\n",
        "        gold_text = answer['text']\n",
        "        start_idx = answer['answer_start']\n",
        "        if gold_text == '':\n",
        "          end_idx = 0\n",
        "        else:\n",
        "          end_idx = start_idx + len(gold_text) # Find end character index of answer in context\n",
        "        answer['answer_end'] = end_idx\n",
        "\n",
        "add_end_idx(train_answers)\n",
        "add_end_idx(eval_answers)"
      ]
    },
    {
      "cell_type": "code",
      "execution_count": null,
      "metadata": {
        "colab": {
          "base_uri": "https://localhost:8080/"
        },
        "id": "5SFmnlMpGJgH",
        "outputId": "24a86ce6-04ad-4695-cc15-7d28b3478a50"
      },
      "outputs": [
        {
          "name": "stdout",
          "output_type": "stream",
          "text": [
            "{'id': '1', 'text': '歐洲', 'answer_start': 1, 'answer_end': 3}\n",
            "{'id': '2', 'text': '交通部觀光局', 'answer_start': 170, 'answer_end': 176}\n"
          ]
        }
      ],
      "source": [
        "print(eval_answers[0])\n",
        "print(eval_answers[21])"
      ]
    },
    {
      "cell_type": "markdown",
      "metadata": {
        "id": "bT6fxHmM5wlY"
      },
      "source": [
        "將資料進行 Tokenize\n",
        "\n",
        "\n",
        "將 input 資料轉換成 token id 、tpye_id 與 attention_mask"
      ]
    },
    {
      "cell_type": "code",
      "execution_count": null,
      "metadata": {
        "id": "UzQaywxV5ebE",
        "colab": {
          "base_uri": "https://localhost:8080/",
          "height": 228
        },
        "outputId": "20d95456-db04-4cff-fc3c-1ffab1fdbf7b"
      },
      "outputs": [
        {
          "output_type": "error",
          "ename": "NameError",
          "evalue": "ignored",
          "traceback": [
            "\u001b[0;31m---------------------------------------------------------------------------\u001b[0m",
            "\u001b[0;31mNameError\u001b[0m                                 Traceback (most recent call last)",
            "\u001b[0;32m<ipython-input-34-5a986ba3c27d>\u001b[0m in \u001b[0;36m<module>\u001b[0;34m\u001b[0m\n\u001b[1;32m      4\u001b[0m \u001b[0mconfig\u001b[0m \u001b[0;34m=\u001b[0m \u001b[0mAutoConfig\u001b[0m\u001b[0;34m.\u001b[0m\u001b[0mfrom_pretrained\u001b[0m\u001b[0;34m(\u001b[0m\u001b[0;34m'bert-base-chinese'\u001b[0m\u001b[0;34m)\u001b[0m\u001b[0;34m\u001b[0m\u001b[0;34m\u001b[0m\u001b[0m\n\u001b[1;32m      5\u001b[0m \u001b[0;34m\u001b[0m\u001b[0m\n\u001b[0;32m----> 6\u001b[0;31m \u001b[0mtrain_encodings\u001b[0m \u001b[0;34m=\u001b[0m \u001b[0mtokenizer_fast\u001b[0m\u001b[0;34m(\u001b[0m\u001b[0mtrain_contexts\u001b[0m\u001b[0;34m,\u001b[0m \u001b[0mtrain_questions\u001b[0m\u001b[0;34m,\u001b[0m \u001b[0mtruncation\u001b[0m\u001b[0;34m=\u001b[0m\u001b[0;32mTrue\u001b[0m\u001b[0;34m,\u001b[0m \u001b[0mpadding\u001b[0m\u001b[0;34m=\u001b[0m\u001b[0;32mTrue\u001b[0m\u001b[0;34m)\u001b[0m\u001b[0;34m\u001b[0m\u001b[0;34m\u001b[0m\u001b[0m\n\u001b[0m\u001b[1;32m      7\u001b[0m \u001b[0meval_encodings\u001b[0m \u001b[0;34m=\u001b[0m \u001b[0mtokenizer_fast\u001b[0m\u001b[0;34m(\u001b[0m\u001b[0meval_contexts\u001b[0m\u001b[0;34m,\u001b[0m \u001b[0meval_questions\u001b[0m\u001b[0;34m,\u001b[0m \u001b[0mtruncation\u001b[0m\u001b[0;34m=\u001b[0m\u001b[0;32mTrue\u001b[0m\u001b[0;34m,\u001b[0m \u001b[0mpadding\u001b[0m\u001b[0;34m=\u001b[0m\u001b[0;32mTrue\u001b[0m\u001b[0;34m)\u001b[0m\u001b[0;34m\u001b[0m\u001b[0;34m\u001b[0m\u001b[0m\n",
            "\u001b[0;31mNameError\u001b[0m: name 'train_contexts' is not defined"
          ]
        }
      ],
      "source": [
        "from transformers import AutoTokenizer, BertTokenizerFast, AutoConfig\n",
        "tokenizer = AutoTokenizer.from_pretrained('bert-base-chinese')\n",
        "tokenizer_fast = BertTokenizerFast.from_pretrained('bert-base-chinese')\n",
        "config = AutoConfig.from_pretrained('bert-base-chinese')\n",
        "\n",
        "train_encodings = tokenizer_fast(train_contexts, train_questions, truncation=True, padding=True)\n",
        "eval_encodings = tokenizer_fast(eval_contexts, eval_questions, truncation=True, padding=True)"
      ]
    },
    {
      "cell_type": "code",
      "execution_count": null,
      "metadata": {
        "colab": {
          "base_uri": "https://localhost:8080/"
        },
        "id": "cHg3ytmz6ofW",
        "outputId": "1da4bded-7e2c-4e1f-ca5a-87625999777a"
      },
      "outputs": [
        {
          "name": "stdout",
          "output_type": "stream",
          "text": [
            "tokenizer 最大input長度 =  512\n"
          ]
        }
      ],
      "source": [
        "print('tokenizer 最大input長度 = ' ,tokenizer.model_max_length)"
      ]
    },
    {
      "cell_type": "code",
      "execution_count": null,
      "metadata": {
        "colab": {
          "base_uri": "https://localhost:8080/"
        },
        "id": "-wOhnWxeGXgv",
        "outputId": "8ee0e720-01df-4251-ebea-6c4b09143db2"
      },
      "outputs": [
        {
          "data": {
            "text/plain": [
              "dict_keys(['input_ids', 'token_type_ids', 'attention_mask'])"
            ]
          },
          "execution_count": 18,
          "metadata": {},
          "output_type": "execute_result"
        }
      ],
      "source": [
        "train_encodings.keys()"
      ]
    },
    {
      "cell_type": "code",
      "execution_count": null,
      "metadata": {
        "colab": {
          "base_uri": "https://localhost:8080/"
        },
        "id": "oRVaBTQoGbYH",
        "outputId": "864dfae6-26ae-499d-d6f0-984bd58b08ad"
      },
      "outputs": [
        {
          "name": "stdout",
          "output_type": "stream",
          "text": [
            "input_ids\n",
            " [101, 8166, 2399, 2471, 6868, 4638, 2451, 2336, 2571, 6862, 1062, 769, 6880, 6745, 5143, 5186, 8024, 2253, 686, 4518, 5018, 753, 1920, 2571, 6862, 1062, 769, 5143, 5186, 8024, 3189, 2382, 6734, 2145, 7030, 1377, 6888, 8135, 5857, 782, 3613, 8024, 7770, 2292, 3229, 3309, 3680, 2207, 3229, 1606, 1403, 2145, 3837, 7770, 6888, 11023, 8279, 782, 3613, 8024, 1006, 3613, 3176, 3797, 1520, 1920, 4638, 2571, 6862, 769, 6858, 5143, 5186, 8024, 2398, 1772, 3680, 8108, 4907, 7132, 2218, 3300, 671, 6739, 2349, 1894, 8024, 3680, 6739, 2349, 1894, 1606, 1403, 6121, 7691, 8612, 2207, 3229, 511, 1259, 2886, 3578, 3558, 1762, 1058, 4638, 4991, 1378, 3221, 686, 4518, 3297, 7269, 4638, 2336, 2571, 6862, 1062, 769, 6880, 6745, 5143, 5186, 4991, 1378, 8024, 7269, 6888, 9044, 5101, 511, 4680, 1184, 2451, 2336, 2356, 1281, 4638, 6243, 4923, 6722, 1469, 1062, 1066, 3749, 6722, 712, 6206, 886, 4500, 3890, 1265, 4767, 3779, 3706, 868, 4234, 3160, 8024, 6956, 1146, 1062, 1066, 3749, 6722, 3291, 886, 4500, 3779, 7442, 510, 3706, 7442, 3921, 1394, 1240, 1213, 2825, 6123, 511, 8151, 2399, 2419, 7274, 1993, 2832, 3123, 3890, 1265, 1921, 4197, 3706, 4234, 3160, 4638, 1062, 1066, 3749, 6722, 8024, 8127, 2399, 127, 3299, 7274, 1993, 2832, 3123, 3890, 1265, 1921, 4197, 3706, 2991, 7442, 2466, 3921, 1394, 1240, 1213, 1062, 1066, 3749, 6722, 8024, 809, 1357, 807, 3890, 1265, 4767, 3779, 3706, 1062, 1066, 3749, 6722, 511, 8201, 2399, 122, 3299, 8121, 3189, 8024, 2451, 2336, 2356, 3124, 2424, 1059, 7481, 4881, 3632, 1762, 2356, 1281, 1058, 7690, 7691, 3040, 2805, 6722, 511, 6889, 1353, 4881, 808, 4638, 3582, 1240, 6722, 2200, 3298, 750, 809, 3760, 3119, 511, 2451, 2336, 2356, 769, 6858, 2229, 5476, 4935, 4881, 808, 4638, 3177, 6121, 8024, 886, 2533, 769, 6858, 3075, 3089, 1558, 7539, 1469, 6722, 4884, 1920, 2388, 3938, 2208, 511, 2451, 2336, 4635, 7437, 1751, 7396, 3582, 1842, 855, 3176, 4635, 7437, 1281, 5645, 5709, 6963, 1281, 769, 4518, 8024, 8258, 2399, 129, 3299, 126, 3189, 3633, 2466, 2832, 1057, 6880, 4245, 8024, 2253, 704, 1751, 769, 6858, 2658, 3785, 5018, 753, 5246, 2564, 4638, 3582, 1842, 511, 6283, 3582, 1842, 1357, 807, 749, 1333, 1044, 855, 3176, 2356, 704, 2552, 4638, 4192, 3791, 4021, 6639, 3189, 4660, 1872, 7269, 5661, 4958, 7444, 3724, 4638, 5648, 3582, 1842, 511, 4680, 1184, 3582, 1842, 3300, 676, 3454, 7606, 3582, 6651, 6887, 8024, 2768, 4158, 1751, 1058, 5018, 676, 943, 3075, 3300, 676, 6651, 6887, 4638, 3696, 5661, 3582, 1842, 511, 3683, 6973, 6818, 4638, 7676, 3949, 1751, 7396, 3582, 1842, 5018, 676, 6651, 6887, 7521, 6243, 4638, 9707, 8152, 2399, 5862, 2768, 3193, 129, 2399, 511, 102, 2451, 2336, 4638, 2571, 6862, 1062, 769, 6880, 6745, 5143, 5186, 3680, 1914, 719, 2218, 3298, 3300, 671, 6739, 2349, 1894, 8043, 102, 0, 0, 0, 0, 0, 0, 0, 0, 0, 0, 0, 0, 0, 0, 0, 0, 0, 0, 0, 0, 0, 0, 0, 0, 0, 0, 0, 0, 0, 0, 0, 0, 0, 0, 0, 0, 0, 0, 0, 0, 0, 0, 0, 0]\n",
            "length =  512\n",
            "token_type_ids =  [0, 0, 0, 0, 0, 0, 0, 0, 0, 0, 0, 0, 0, 0, 0, 0, 0, 0, 0, 0, 0, 0, 0, 0, 0, 0, 0, 0, 0, 0, 0, 0, 0, 0, 0, 0, 0, 0, 0, 0, 0, 0, 0, 0, 0, 0, 0, 0, 0, 0, 0, 0, 0, 0, 0, 0, 0, 0, 0, 0, 0, 0, 0, 0, 0, 0, 0, 0, 0, 0, 0, 0, 0, 0, 0, 0, 0, 0, 0, 0, 0, 0, 0, 0, 0, 0, 0, 0, 0, 0, 0, 0, 0, 0, 0, 0, 0, 0, 0, 0, 0, 0, 0, 0, 0, 0, 0, 0, 0, 0, 0, 0, 0, 0, 0, 0, 0, 0, 0, 0, 0, 0, 0, 0, 0, 0, 0, 0, 0, 0, 0, 0, 0, 0, 0, 0, 0, 0, 0, 0, 0, 0, 0, 0, 0, 0, 0, 0, 0, 0, 0, 0, 0, 0, 0, 0, 0, 0, 0, 0, 0, 0, 0, 0, 0, 0, 0, 0, 0, 0, 0, 0, 0, 0, 0, 0, 0, 0, 0, 0, 0, 0, 0, 0, 0, 0, 0, 0, 0, 0, 0, 0, 0, 0, 0, 0, 0, 0, 0, 0, 0, 0, 0, 0, 0, 0, 0, 0, 0, 0, 0, 0, 0, 0, 0, 0, 0, 0, 0, 0, 0, 0, 0, 0, 0, 0, 0, 0, 0, 0, 0, 0, 0, 0, 0, 0, 0, 0, 0, 0, 0, 0, 0, 0, 0, 0, 0, 0, 0, 0, 0, 0, 0, 0, 0, 0, 0, 0, 0, 0, 0, 0, 0, 0, 0, 0, 0, 0, 0, 0, 0, 0, 0, 0, 0, 0, 0, 0, 0, 0, 0, 0, 0, 0, 0, 0, 0, 0, 0, 0, 0, 0, 0, 0, 0, 0, 0, 0, 0, 0, 0, 0, 0, 0, 0, 0, 0, 0, 0, 0, 0, 0, 0, 0, 0, 0, 0, 0, 0, 0, 0, 0, 0, 0, 0, 0, 0, 0, 0, 0, 0, 0, 0, 0, 0, 0, 0, 0, 0, 0, 0, 0, 0, 0, 0, 0, 0, 0, 0, 0, 0, 0, 0, 0, 0, 0, 0, 0, 0, 0, 0, 0, 0, 0, 0, 0, 0, 0, 0, 0, 0, 0, 0, 0, 0, 0, 0, 0, 0, 0, 0, 0, 0, 0, 0, 0, 0, 0, 0, 0, 0, 0, 0, 0, 0, 0, 0, 0, 0, 0, 0, 0, 0, 0, 0, 0, 0, 0, 0, 0, 0, 0, 0, 0, 0, 0, 0, 0, 0, 0, 0, 0, 0, 0, 0, 0, 0, 0, 0, 0, 0, 0, 0, 0, 0, 0, 0, 0, 0, 0, 0, 0, 0, 0, 0, 1, 1, 1, 1, 1, 1, 1, 1, 1, 1, 1, 1, 1, 1, 1, 1, 1, 1, 1, 1, 1, 1, 1, 0, 0, 0, 0, 0, 0, 0, 0, 0, 0, 0, 0, 0, 0, 0, 0, 0, 0, 0, 0, 0, 0, 0, 0, 0, 0, 0, 0, 0, 0, 0, 0, 0, 0, 0, 0, 0, 0, 0, 0, 0, 0, 0, 0]\n",
            "attention_mask =  [1, 1, 1, 1, 1, 1, 1, 1, 1, 1, 1, 1, 1, 1, 1, 1, 1, 1, 1, 1, 1, 1, 1, 1, 1, 1, 1, 1, 1, 1, 1, 1, 1, 1, 1, 1, 1, 1, 1, 1, 1, 1, 1, 1, 1, 1, 1, 1, 1, 1, 1, 1, 1, 1, 1, 1, 1, 1, 1, 1, 1, 1, 1, 1, 1, 1, 1, 1, 1, 1, 1, 1, 1, 1, 1, 1, 1, 1, 1, 1, 1, 1, 1, 1, 1, 1, 1, 1, 1, 1, 1, 1, 1, 1, 1, 1, 1, 1, 1, 1, 1, 1, 1, 1, 1, 1, 1, 1, 1, 1, 1, 1, 1, 1, 1, 1, 1, 1, 1, 1, 1, 1, 1, 1, 1, 1, 1, 1, 1, 1, 1, 1, 1, 1, 1, 1, 1, 1, 1, 1, 1, 1, 1, 1, 1, 1, 1, 1, 1, 1, 1, 1, 1, 1, 1, 1, 1, 1, 1, 1, 1, 1, 1, 1, 1, 1, 1, 1, 1, 1, 1, 1, 1, 1, 1, 1, 1, 1, 1, 1, 1, 1, 1, 1, 1, 1, 1, 1, 1, 1, 1, 1, 1, 1, 1, 1, 1, 1, 1, 1, 1, 1, 1, 1, 1, 1, 1, 1, 1, 1, 1, 1, 1, 1, 1, 1, 1, 1, 1, 1, 1, 1, 1, 1, 1, 1, 1, 1, 1, 1, 1, 1, 1, 1, 1, 1, 1, 1, 1, 1, 1, 1, 1, 1, 1, 1, 1, 1, 1, 1, 1, 1, 1, 1, 1, 1, 1, 1, 1, 1, 1, 1, 1, 1, 1, 1, 1, 1, 1, 1, 1, 1, 1, 1, 1, 1, 1, 1, 1, 1, 1, 1, 1, 1, 1, 1, 1, 1, 1, 1, 1, 1, 1, 1, 1, 1, 1, 1, 1, 1, 1, 1, 1, 1, 1, 1, 1, 1, 1, 1, 1, 1, 1, 1, 1, 1, 1, 1, 1, 1, 1, 1, 1, 1, 1, 1, 1, 1, 1, 1, 1, 1, 1, 1, 1, 1, 1, 1, 1, 1, 1, 1, 1, 1, 1, 1, 1, 1, 1, 1, 1, 1, 1, 1, 1, 1, 1, 1, 1, 1, 1, 1, 1, 1, 1, 1, 1, 1, 1, 1, 1, 1, 1, 1, 1, 1, 1, 1, 1, 1, 1, 1, 1, 1, 1, 1, 1, 1, 1, 1, 1, 1, 1, 1, 1, 1, 1, 1, 1, 1, 1, 1, 1, 1, 1, 1, 1, 1, 1, 1, 1, 1, 1, 1, 1, 1, 1, 1, 1, 1, 1, 1, 1, 1, 1, 1, 1, 1, 1, 1, 1, 1, 1, 1, 1, 1, 1, 1, 1, 1, 1, 1, 1, 1, 1, 1, 1, 1, 1, 1, 1, 1, 1, 1, 1, 1, 1, 1, 1, 1, 1, 1, 1, 1, 1, 1, 1, 1, 0, 0, 0, 0, 0, 0, 0, 0, 0, 0, 0, 0, 0, 0, 0, 0, 0, 0, 0, 0, 0, 0, 0, 0, 0, 0, 0, 0, 0, 0, 0, 0, 0, 0, 0, 0, 0, 0, 0, 0, 0, 0, 0, 0]\n",
            "\n",
            "input_ids convert_ids_to_tokens \n",
            " ['[CLS]', '2010', '年', '引', '進', '的', '廣', '州', '快', '速', '公', '交', '運', '輸', '系', '統', '，', '屬', '世', '界', '第', '二', '大', '快', '速', '公', '交', '系', '統', '，', '日', '常', '載', '客', '量', '可', '達', '100', '萬', '人', '次', '，', '高', '峰', '時', '期', '每', '小', '時', '單', '向', '客', '流', '高', '達', '269', '##00', '人', '次', '，', '僅', '次', '於', '波', '哥', '大', '的', '快', '速', '交', '通', '系', '統', '，', '平', '均', '每', '10', '秒', '鐘', '就', '有', '一', '輛', '巴', '士', '，', '每', '輛', '巴', '士', '單', '向', '行', '駛', '350', '小', '時', '。', '包', '括', '橋', '樑', '在', '內', '的', '站', '台', '是', '世', '界', '最', '長', '的', '州', '快', '速', '公', '交', '運', '輸', '系', '統', '站', '台', '，', '長', '達', '260', '米', '。', '目', '前', '廣', '州', '市', '區', '的', '計', '程', '車', '和', '公', '共', '汽', '車', '主', '要', '使', '用', '液', '化', '石', '油', '氣', '作', '燃', '料', '，', '部', '分', '公', '共', '汽', '車', '更', '使', '用', '油', '電', '、', '氣', '電', '混', '合', '動', '力', '技', '術', '。', '2012', '年', '底', '開', '始', '投', '放', '液', '化', '天', '然', '氣', '燃', '料', '的', '公', '共', '汽', '車', '，', '2014', '年', '6', '月', '開', '始', '投', '放', '液', '化', '天', '然', '氣', '插', '電', '式', '混', '合', '動', '力', '公', '共', '汽', '車', '，', '以', '取', '代', '液', '化', '石', '油', '氣', '公', '共', '汽', '車', '。', '2007', '年', '1', '月', '16', '日', '，', '廣', '州', '市', '政', '府', '全', '面', '禁', '止', '在', '市', '區', '內', '駕', '駛', '摩', '托', '車', '。', '違', '反', '禁', '令', '的', '機', '動', '車', '將', '會', '予', '以', '沒', '收', '。', '廣', '州', '市', '交', '通', '局', '聲', '稱', '禁', '令', '的', '施', '行', '，', '使', '得', '交', '通', '擁', '擠', '問', '題', '和', '車', '禍', '大', '幅', '減', '少', '。', '廣', '州', '白', '雲', '國', '際', '機', '場', '位', '於', '白', '雲', '區', '與', '花', '都', '區', '交', '界', '，', '2004', '年', '8', '月', '5', '日', '正', '式', '投', '入', '運', '營', '，', '屬', '中', '國', '交', '通', '情', '況', '第', '二', '繁', '忙', '的', '機', '場', '。', '該', '機', '場', '取', '代', '了', '原', '先', '位', '於', '市', '中', '心', '的', '無', '法', '滿', '足', '日', '益', '增', '長', '航', '空', '需', '求', '的', '舊', '機', '場', '。', '目', '前', '機', '場', '有', '三', '條', '飛', '機', '跑', '道', '，', '成', '為', '國', '內', '第', '三', '個', '擁', '有', '三', '跑', '道', '的', '民', '航', '機', '場', '。', '比', '鄰', '近', '的', '香', '港', '國', '際', '機', '場', '第', '三', '跑', '道', '預', '計', '的', '202', '##3', '年', '落', '成', '早', '8', '年', '。', '[SEP]', '廣', '州', '的', '快', '速', '公', '交', '運', '輸', '系', '統', '每', '多', '久', '就', '會', '有', '一', '輛', '巴', '士', '？', '[SEP]', '[PAD]', '[PAD]', '[PAD]', '[PAD]', '[PAD]', '[PAD]', '[PAD]', '[PAD]', '[PAD]', '[PAD]', '[PAD]', '[PAD]', '[PAD]', '[PAD]', '[PAD]', '[PAD]', '[PAD]', '[PAD]', '[PAD]', '[PAD]', '[PAD]', '[PAD]', '[PAD]', '[PAD]', '[PAD]', '[PAD]', '[PAD]', '[PAD]', '[PAD]', '[PAD]', '[PAD]', '[PAD]', '[PAD]', '[PAD]', '[PAD]', '[PAD]', '[PAD]', '[PAD]', '[PAD]', '[PAD]', '[PAD]', '[PAD]', '[PAD]', '[PAD]']\n",
            "\n",
            "input_ids decode\n",
            " [CLS] 2010 年 引 進 的 廣 州 快 速 公 交 運 輸 系 統 ， 屬 世 界 第 二 大 快 速 公 交 系 統 ， 日 常 載 客 量 可 達 100 萬 人 次 ， 高 峰 時 期 每 小 時 單 向 客 流 高 達 26900 人 次 ， 僅 次 於 波 哥 大 的 快 速 交 通 系 統 ， 平 均 每 10 秒 鐘 就 有 一 輛 巴 士 ， 每 輛 巴 士 單 向 行 駛 350 小 時 。 包 括 橋 樑 在 內 的 站 台 是 世 界 最 長 的 州 快 速 公 交 運 輸 系 統 站 台 ， 長 達 260 米 。 目 前 廣 州 市 區 的 計 程 車 和 公 共 汽 車 主 要 使 用 液 化 石 油 氣 作 燃 料 ， 部 分 公 共 汽 車 更 使 用 油 電 、 氣 電 混 合 動 力 技 術 。 2012 年 底 開 始 投 放 液 化 天 然 氣 燃 料 的 公 共 汽 車 ， 2014 年 6 月 開 始 投 放 液 化 天 然 氣 插 電 式 混 合 動 力 公 共 汽 車 ， 以 取 代 液 化 石 油 氣 公 共 汽 車 。 2007 年 1 月 16 日 ， 廣 州 市 政 府 全 面 禁 止 在 市 區 內 駕 駛 摩 托 車 。 違 反 禁 令 的 機 動 車 將 會 予 以 沒 收 。 廣 州 市 交 通 局 聲 稱 禁 令 的 施 行 ， 使 得 交 通 擁 擠 問 題 和 車 禍 大 幅 減 少 。 廣 州 白 雲 國 際 機 場 位 於 白 雲 區 與 花 都 區 交 界 ， 2004 年 8 月 5 日 正 式 投 入 運 營 ， 屬 中 國 交 通 情 況 第 二 繁 忙 的 機 場 。 該 機 場 取 代 了 原 先 位 於 市 中 心 的 無 法 滿 足 日 益 增 長 航 空 需 求 的 舊 機 場 。 目 前 機 場 有 三 條 飛 機 跑 道 ， 成 為 國 內 第 三 個 擁 有 三 跑 道 的 民 航 機 場 。 比 鄰 近 的 香 港 國 際 機 場 第 三 跑 道 預 計 的 2023 年 落 成 早 8 年 。 [SEP] 廣 州 的 快 速 公 交 運 輸 系 統 每 多 久 就 會 有 一 輛 巴 士 ？ [SEP] [PAD] [PAD] [PAD] [PAD] [PAD] [PAD] [PAD] [PAD] [PAD] [PAD] [PAD] [PAD] [PAD] [PAD] [PAD] [PAD] [PAD] [PAD] [PAD] [PAD] [PAD] [PAD] [PAD] [PAD] [PAD] [PAD] [PAD] [PAD] [PAD] [PAD] [PAD] [PAD] [PAD] [PAD] [PAD] [PAD] [PAD] [PAD] [PAD] [PAD] [PAD] [PAD] [PAD] [PAD]\n",
            "\n",
            "attention_mask\n",
            " [1, 1, 1, 1, 1, 1, 1, 1, 1, 1, 1, 1, 1, 1, 1, 1, 1, 1, 1, 1, 1, 1, 1, 1, 1, 1, 1, 1, 1, 1, 1, 1, 1, 1, 1, 1, 1, 1, 1, 1, 1, 1, 1, 1, 1, 1, 1, 1, 1, 1, 1, 1, 1, 1, 1, 1, 1, 1, 1, 1, 1, 1, 1, 1, 1, 1, 1, 1, 1, 1, 1, 1, 1, 1, 1, 1, 1, 1, 1, 1, 1, 1, 1, 1, 1, 1, 1, 1, 1, 1, 1, 1, 1, 1, 1, 1, 1, 1, 1, 1, 1, 1, 1, 1, 1, 1, 1, 1, 1, 1, 1, 1, 1, 1, 1, 1, 1, 1, 1, 1, 1, 1, 1, 1, 1, 1, 1, 1, 1, 1, 1, 1, 1, 1, 1, 1, 1, 1, 1, 1, 1, 1, 1, 1, 1, 1, 1, 1, 1, 1, 1, 1, 1, 1, 1, 1, 1, 1, 1, 1, 1, 1, 1, 1, 1, 1, 1, 1, 1, 1, 1, 1, 1, 1, 1, 1, 1, 1, 1, 1, 1, 1, 1, 1, 1, 1, 1, 1, 1, 1, 1, 1, 1, 1, 1, 1, 1, 1, 1, 1, 1, 1, 1, 1, 1, 1, 1, 1, 1, 1, 1, 1, 1, 1, 1, 1, 1, 1, 1, 1, 1, 1, 1, 1, 1, 1, 1, 1, 1, 1, 1, 1, 1, 1, 1, 1, 1, 1, 1, 1, 1, 1, 1, 1, 1, 1, 1, 1, 1, 1, 1, 1, 1, 1, 1, 1, 1, 1, 1, 1, 1, 1, 1, 1, 1, 1, 1, 1, 1, 1, 1, 1, 1, 1, 1, 1, 1, 1, 1, 1, 1, 1, 1, 1, 1, 1, 1, 1, 1, 1, 1, 1, 1, 1, 1, 1, 1, 1, 1, 1, 1, 1, 1, 1, 1, 1, 1, 1, 1, 1, 1, 1, 1, 1, 1, 1, 1, 1, 1, 1, 1, 1, 1, 1, 1, 1, 1, 1, 1, 1, 1, 1, 1, 1, 1, 1, 1, 1, 1, 1, 1, 1, 1, 1, 1, 1, 1, 1, 1, 1, 1, 1, 1, 1, 1, 1, 1, 1, 1, 1, 1, 1, 1, 1, 1, 1, 1, 1, 1, 1, 1, 1, 1, 1, 1, 1, 1, 1, 1, 1, 1, 1, 1, 1, 1, 1, 1, 1, 1, 1, 1, 1, 1, 1, 1, 1, 1, 1, 1, 1, 1, 1, 1, 1, 1, 1, 1, 1, 1, 1, 1, 1, 1, 1, 1, 1, 1, 1, 1, 1, 1, 1, 1, 1, 1, 1, 1, 1, 1, 1, 1, 1, 1, 1, 1, 1, 1, 1, 1, 1, 1, 1, 1, 1, 1, 1, 1, 1, 1, 1, 1, 1, 1, 1, 1, 1, 1, 1, 1, 1, 1, 1, 1, 1, 1, 1, 1, 1, 0, 0, 0, 0, 0, 0, 0, 0, 0, 0, 0, 0, 0, 0, 0, 0, 0, 0, 0, 0, 0, 0, 0, 0, 0, 0, 0, 0, 0, 0, 0, 0, 0, 0, 0, 0, 0, 0, 0, 0, 0, 0, 0, 0]\n",
            "length =  512\n"
          ]
        }
      ],
      "source": [
        "# use AutoTokenizer\n",
        "print(\"input_ids\\n\" ,train_encodings['input_ids'][0])\n",
        "print(\"length = \",len(train_encodings['input_ids'][0]))\n",
        "print(\"token_type_ids = \",train_encodings['token_type_ids'][0])\n",
        "print(\"attention_mask = \",train_encodings['attention_mask'][0])\n",
        "\n",
        "print(\"\\ninput_ids convert_ids_to_tokens \\n\",tokenizer.convert_ids_to_tokens(train_encodings['input_ids'][0]))\n",
        "print(\"\\ninput_ids decode\\n\", tokenizer.decode(train_encodings['input_ids'][0]))\n",
        "\n",
        "print(\"\\nattention_mask\\n\",train_encodings['attention_mask'][0])\n",
        "print(\"length = \",len(train_encodings['attention_mask'][0]))\n"
      ]
    },
    {
      "cell_type": "code",
      "execution_count": null,
      "metadata": {
        "colab": {
          "base_uri": "https://localhost:8080/"
        },
        "id": "pI56Lrt3Hjfc",
        "outputId": "568aeae8-4e7b-4ab1-81e7-be5f0253750e"
      },
      "outputs": [
        {
          "name": "stdout",
          "output_type": "stream",
          "text": [
            "input_ids\n",
            " [101, 8166, 2399, 2471, 6868, 4638, 2451, 2336, 2571, 6862, 1062, 769, 6880, 6745, 5143, 5186, 8024, 2253, 686, 4518, 5018, 753, 1920, 2571, 6862, 1062, 769, 5143, 5186, 8024, 3189, 2382, 6734, 2145, 7030, 1377, 6888, 8135, 5857, 782, 3613, 8024, 7770, 2292, 3229, 3309, 3680, 2207, 3229, 1606, 1403, 2145, 3837, 7770, 6888, 11023, 8279, 782, 3613, 8024, 1006, 3613, 3176, 3797, 1520, 1920, 4638, 2571, 6862, 769, 6858, 5143, 5186, 8024, 2398, 1772, 3680, 8108, 4907, 7132, 2218, 3300, 671, 6739, 2349, 1894, 8024, 3680, 6739, 2349, 1894, 1606, 1403, 6121, 7691, 8612, 2207, 3229, 511, 1259, 2886, 3578, 3558, 1762, 1058, 4638, 4991, 1378, 3221, 686, 4518, 3297, 7269, 4638, 2336, 2571, 6862, 1062, 769, 6880, 6745, 5143, 5186, 4991, 1378, 8024, 7269, 6888, 9044, 5101, 511, 4680, 1184, 2451, 2336, 2356, 1281, 4638, 6243, 4923, 6722, 1469, 1062, 1066, 3749, 6722, 712, 6206, 886, 4500, 3890, 1265, 4767, 3779, 3706, 868, 4234, 3160, 8024, 6956, 1146, 1062, 1066, 3749, 6722, 3291, 886, 4500, 3779, 7442, 510, 3706, 7442, 3921, 1394, 1240, 1213, 2825, 6123, 511, 8151, 2399, 2419, 7274, 1993, 2832, 3123, 3890, 1265, 1921, 4197, 3706, 4234, 3160, 4638, 1062, 1066, 3749, 6722, 8024, 8127, 2399, 127, 3299, 7274, 1993, 2832, 3123, 3890, 1265, 1921, 4197, 3706, 2991, 7442, 2466, 3921, 1394, 1240, 1213, 1062, 1066, 3749, 6722, 8024, 809, 1357, 807, 3890, 1265, 4767, 3779, 3706, 1062, 1066, 3749, 6722, 511, 8201, 2399, 122, 3299, 8121, 3189, 8024, 2451, 2336, 2356, 3124, 2424, 1059, 7481, 4881, 3632, 1762, 2356, 1281, 1058, 7690, 7691, 3040, 2805, 6722, 511, 6889, 1353, 4881, 808, 4638, 3582, 1240, 6722, 2200, 3298, 750, 809, 3760, 3119, 511, 2451, 2336, 2356, 769, 6858, 2229, 5476, 4935, 4881, 808, 4638, 3177, 6121, 8024, 886, 2533, 769, 6858, 3075, 3089, 1558, 7539, 1469, 6722, 4884, 1920, 2388, 3938, 2208, 511, 2451, 2336, 4635, 7437, 1751, 7396, 3582, 1842, 855, 3176, 4635, 7437, 1281, 5645, 5709, 6963, 1281, 769, 4518, 8024, 8258, 2399, 129, 3299, 126, 3189, 3633, 2466, 2832, 1057, 6880, 4245, 8024, 2253, 704, 1751, 769, 6858, 2658, 3785, 5018, 753, 5246, 2564, 4638, 3582, 1842, 511, 6283, 3582, 1842, 1357, 807, 749, 1333, 1044, 855, 3176, 2356, 704, 2552, 4638, 4192, 3791, 4021, 6639, 3189, 4660, 1872, 7269, 5661, 4958, 7444, 3724, 4638, 5648, 3582, 1842, 511, 4680, 1184, 3582, 1842, 3300, 676, 3454, 7606, 3582, 6651, 6887, 8024, 2768, 4158, 1751, 1058, 5018, 676, 943, 3075, 3300, 676, 6651, 6887, 4638, 3696, 5661, 3582, 1842, 511, 3683, 6973, 6818, 4638, 7676, 3949, 1751, 7396, 3582, 1842, 5018, 676, 6651, 6887, 7521, 6243, 4638, 9707, 8152, 2399, 5862, 2768, 3193, 129, 2399, 511, 102, 2451, 2336, 4638, 2571, 6862, 1062, 769, 6880, 6745, 5143, 5186, 3680, 1914, 719, 2218, 3298, 3300, 671, 6739, 2349, 1894, 8043, 102, 0, 0, 0, 0, 0, 0, 0, 0, 0, 0, 0, 0, 0, 0, 0, 0, 0, 0, 0, 0, 0, 0, 0, 0, 0, 0, 0, 0, 0, 0, 0, 0, 0, 0, 0, 0, 0, 0, 0, 0, 0, 0, 0, 0]\n",
            "length =  512\n",
            "token_type_ids =  [0, 0, 0, 0, 0, 0, 0, 0, 0, 0, 0, 0, 0, 0, 0, 0, 0, 0, 0, 0, 0, 0, 0, 0, 0, 0, 0, 0, 0, 0, 0, 0, 0, 0, 0, 0, 0, 0, 0, 0, 0, 0, 0, 0, 0, 0, 0, 0, 0, 0, 0, 0, 0, 0, 0, 0, 0, 0, 0, 0, 0, 0, 0, 0, 0, 0, 0, 0, 0, 0, 0, 0, 0, 0, 0, 0, 0, 0, 0, 0, 0, 0, 0, 0, 0, 0, 0, 0, 0, 0, 0, 0, 0, 0, 0, 0, 0, 0, 0, 0, 0, 0, 0, 0, 0, 0, 0, 0, 0, 0, 0, 0, 0, 0, 0, 0, 0, 0, 0, 0, 0, 0, 0, 0, 0, 0, 0, 0, 0, 0, 0, 0, 0, 0, 0, 0, 0, 0, 0, 0, 0, 0, 0, 0, 0, 0, 0, 0, 0, 0, 0, 0, 0, 0, 0, 0, 0, 0, 0, 0, 0, 0, 0, 0, 0, 0, 0, 0, 0, 0, 0, 0, 0, 0, 0, 0, 0, 0, 0, 0, 0, 0, 0, 0, 0, 0, 0, 0, 0, 0, 0, 0, 0, 0, 0, 0, 0, 0, 0, 0, 0, 0, 0, 0, 0, 0, 0, 0, 0, 0, 0, 0, 0, 0, 0, 0, 0, 0, 0, 0, 0, 0, 0, 0, 0, 0, 0, 0, 0, 0, 0, 0, 0, 0, 0, 0, 0, 0, 0, 0, 0, 0, 0, 0, 0, 0, 0, 0, 0, 0, 0, 0, 0, 0, 0, 0, 0, 0, 0, 0, 0, 0, 0, 0, 0, 0, 0, 0, 0, 0, 0, 0, 0, 0, 0, 0, 0, 0, 0, 0, 0, 0, 0, 0, 0, 0, 0, 0, 0, 0, 0, 0, 0, 0, 0, 0, 0, 0, 0, 0, 0, 0, 0, 0, 0, 0, 0, 0, 0, 0, 0, 0, 0, 0, 0, 0, 0, 0, 0, 0, 0, 0, 0, 0, 0, 0, 0, 0, 0, 0, 0, 0, 0, 0, 0, 0, 0, 0, 0, 0, 0, 0, 0, 0, 0, 0, 0, 0, 0, 0, 0, 0, 0, 0, 0, 0, 0, 0, 0, 0, 0, 0, 0, 0, 0, 0, 0, 0, 0, 0, 0, 0, 0, 0, 0, 0, 0, 0, 0, 0, 0, 0, 0, 0, 0, 0, 0, 0, 0, 0, 0, 0, 0, 0, 0, 0, 0, 0, 0, 0, 0, 0, 0, 0, 0, 0, 0, 0, 0, 0, 0, 0, 0, 0, 0, 0, 0, 0, 0, 0, 0, 0, 0, 0, 0, 0, 0, 0, 0, 0, 0, 0, 0, 0, 0, 0, 0, 0, 0, 0, 0, 0, 0, 0, 0, 1, 1, 1, 1, 1, 1, 1, 1, 1, 1, 1, 1, 1, 1, 1, 1, 1, 1, 1, 1, 1, 1, 1, 0, 0, 0, 0, 0, 0, 0, 0, 0, 0, 0, 0, 0, 0, 0, 0, 0, 0, 0, 0, 0, 0, 0, 0, 0, 0, 0, 0, 0, 0, 0, 0, 0, 0, 0, 0, 0, 0, 0, 0, 0, 0, 0, 0]\n",
            "attention_mask =  [1, 1, 1, 1, 1, 1, 1, 1, 1, 1, 1, 1, 1, 1, 1, 1, 1, 1, 1, 1, 1, 1, 1, 1, 1, 1, 1, 1, 1, 1, 1, 1, 1, 1, 1, 1, 1, 1, 1, 1, 1, 1, 1, 1, 1, 1, 1, 1, 1, 1, 1, 1, 1, 1, 1, 1, 1, 1, 1, 1, 1, 1, 1, 1, 1, 1, 1, 1, 1, 1, 1, 1, 1, 1, 1, 1, 1, 1, 1, 1, 1, 1, 1, 1, 1, 1, 1, 1, 1, 1, 1, 1, 1, 1, 1, 1, 1, 1, 1, 1, 1, 1, 1, 1, 1, 1, 1, 1, 1, 1, 1, 1, 1, 1, 1, 1, 1, 1, 1, 1, 1, 1, 1, 1, 1, 1, 1, 1, 1, 1, 1, 1, 1, 1, 1, 1, 1, 1, 1, 1, 1, 1, 1, 1, 1, 1, 1, 1, 1, 1, 1, 1, 1, 1, 1, 1, 1, 1, 1, 1, 1, 1, 1, 1, 1, 1, 1, 1, 1, 1, 1, 1, 1, 1, 1, 1, 1, 1, 1, 1, 1, 1, 1, 1, 1, 1, 1, 1, 1, 1, 1, 1, 1, 1, 1, 1, 1, 1, 1, 1, 1, 1, 1, 1, 1, 1, 1, 1, 1, 1, 1, 1, 1, 1, 1, 1, 1, 1, 1, 1, 1, 1, 1, 1, 1, 1, 1, 1, 1, 1, 1, 1, 1, 1, 1, 1, 1, 1, 1, 1, 1, 1, 1, 1, 1, 1, 1, 1, 1, 1, 1, 1, 1, 1, 1, 1, 1, 1, 1, 1, 1, 1, 1, 1, 1, 1, 1, 1, 1, 1, 1, 1, 1, 1, 1, 1, 1, 1, 1, 1, 1, 1, 1, 1, 1, 1, 1, 1, 1, 1, 1, 1, 1, 1, 1, 1, 1, 1, 1, 1, 1, 1, 1, 1, 1, 1, 1, 1, 1, 1, 1, 1, 1, 1, 1, 1, 1, 1, 1, 1, 1, 1, 1, 1, 1, 1, 1, 1, 1, 1, 1, 1, 1, 1, 1, 1, 1, 1, 1, 1, 1, 1, 1, 1, 1, 1, 1, 1, 1, 1, 1, 1, 1, 1, 1, 1, 1, 1, 1, 1, 1, 1, 1, 1, 1, 1, 1, 1, 1, 1, 1, 1, 1, 1, 1, 1, 1, 1, 1, 1, 1, 1, 1, 1, 1, 1, 1, 1, 1, 1, 1, 1, 1, 1, 1, 1, 1, 1, 1, 1, 1, 1, 1, 1, 1, 1, 1, 1, 1, 1, 1, 1, 1, 1, 1, 1, 1, 1, 1, 1, 1, 1, 1, 1, 1, 1, 1, 1, 1, 1, 1, 1, 1, 1, 1, 1, 1, 1, 1, 1, 1, 1, 1, 1, 1, 1, 1, 1, 1, 1, 1, 1, 1, 1, 1, 1, 1, 1, 1, 1, 1, 1, 1, 1, 1, 1, 1, 1, 0, 0, 0, 0, 0, 0, 0, 0, 0, 0, 0, 0, 0, 0, 0, 0, 0, 0, 0, 0, 0, 0, 0, 0, 0, 0, 0, 0, 0, 0, 0, 0, 0, 0, 0, 0, 0, 0, 0, 0, 0, 0, 0, 0]\n",
            "\n",
            "input_ids convert_ids_to_tokens \n",
            " ['[CLS]', '2010', '年', '引', '進', '的', '廣', '州', '快', '速', '公', '交', '運', '輸', '系', '統', '，', '屬', '世', '界', '第', '二', '大', '快', '速', '公', '交', '系', '統', '，', '日', '常', '載', '客', '量', '可', '達', '100', '萬', '人', '次', '，', '高', '峰', '時', '期', '每', '小', '時', '單', '向', '客', '流', '高', '達', '269', '##00', '人', '次', '，', '僅', '次', '於', '波', '哥', '大', '的', '快', '速', '交', '通', '系', '統', '，', '平', '均', '每', '10', '秒', '鐘', '就', '有', '一', '輛', '巴', '士', '，', '每', '輛', '巴', '士', '單', '向', '行', '駛', '350', '小', '時', '。', '包', '括', '橋', '樑', '在', '內', '的', '站', '台', '是', '世', '界', '最', '長', '的', '州', '快', '速', '公', '交', '運', '輸', '系', '統', '站', '台', '，', '長', '達', '260', '米', '。', '目', '前', '廣', '州', '市', '區', '的', '計', '程', '車', '和', '公', '共', '汽', '車', '主', '要', '使', '用', '液', '化', '石', '油', '氣', '作', '燃', '料', '，', '部', '分', '公', '共', '汽', '車', '更', '使', '用', '油', '電', '、', '氣', '電', '混', '合', '動', '力', '技', '術', '。', '2012', '年', '底', '開', '始', '投', '放', '液', '化', '天', '然', '氣', '燃', '料', '的', '公', '共', '汽', '車', '，', '2014', '年', '6', '月', '開', '始', '投', '放', '液', '化', '天', '然', '氣', '插', '電', '式', '混', '合', '動', '力', '公', '共', '汽', '車', '，', '以', '取', '代', '液', '化', '石', '油', '氣', '公', '共', '汽', '車', '。', '2007', '年', '1', '月', '16', '日', '，', '廣', '州', '市', '政', '府', '全', '面', '禁', '止', '在', '市', '區', '內', '駕', '駛', '摩', '托', '車', '。', '違', '反', '禁', '令', '的', '機', '動', '車', '將', '會', '予', '以', '沒', '收', '。', '廣', '州', '市', '交', '通', '局', '聲', '稱', '禁', '令', '的', '施', '行', '，', '使', '得', '交', '通', '擁', '擠', '問', '題', '和', '車', '禍', '大', '幅', '減', '少', '。', '廣', '州', '白', '雲', '國', '際', '機', '場', '位', '於', '白', '雲', '區', '與', '花', '都', '區', '交', '界', '，', '2004', '年', '8', '月', '5', '日', '正', '式', '投', '入', '運', '營', '，', '屬', '中', '國', '交', '通', '情', '況', '第', '二', '繁', '忙', '的', '機', '場', '。', '該', '機', '場', '取', '代', '了', '原', '先', '位', '於', '市', '中', '心', '的', '無', '法', '滿', '足', '日', '益', '增', '長', '航', '空', '需', '求', '的', '舊', '機', '場', '。', '目', '前', '機', '場', '有', '三', '條', '飛', '機', '跑', '道', '，', '成', '為', '國', '內', '第', '三', '個', '擁', '有', '三', '跑', '道', '的', '民', '航', '機', '場', '。', '比', '鄰', '近', '的', '香', '港', '國', '際', '機', '場', '第', '三', '跑', '道', '預', '計', '的', '202', '##3', '年', '落', '成', '早', '8', '年', '。', '[SEP]', '廣', '州', '的', '快', '速', '公', '交', '運', '輸', '系', '統', '每', '多', '久', '就', '會', '有', '一', '輛', '巴', '士', '？', '[SEP]', '[PAD]', '[PAD]', '[PAD]', '[PAD]', '[PAD]', '[PAD]', '[PAD]', '[PAD]', '[PAD]', '[PAD]', '[PAD]', '[PAD]', '[PAD]', '[PAD]', '[PAD]', '[PAD]', '[PAD]', '[PAD]', '[PAD]', '[PAD]', '[PAD]', '[PAD]', '[PAD]', '[PAD]', '[PAD]', '[PAD]', '[PAD]', '[PAD]', '[PAD]', '[PAD]', '[PAD]', '[PAD]', '[PAD]', '[PAD]', '[PAD]', '[PAD]', '[PAD]', '[PAD]', '[PAD]', '[PAD]', '[PAD]', '[PAD]', '[PAD]', '[PAD]']\n",
            "\n",
            "input_ids decode\n",
            " [CLS] 2010 年 引 進 的 廣 州 快 速 公 交 運 輸 系 統 ， 屬 世 界 第 二 大 快 速 公 交 系 統 ， 日 常 載 客 量 可 達 100 萬 人 次 ， 高 峰 時 期 每 小 時 單 向 客 流 高 達 26900 人 次 ， 僅 次 於 波 哥 大 的 快 速 交 通 系 統 ， 平 均 每 10 秒 鐘 就 有 一 輛 巴 士 ， 每 輛 巴 士 單 向 行 駛 350 小 時 。 包 括 橋 樑 在 內 的 站 台 是 世 界 最 長 的 州 快 速 公 交 運 輸 系 統 站 台 ， 長 達 260 米 。 目 前 廣 州 市 區 的 計 程 車 和 公 共 汽 車 主 要 使 用 液 化 石 油 氣 作 燃 料 ， 部 分 公 共 汽 車 更 使 用 油 電 、 氣 電 混 合 動 力 技 術 。 2012 年 底 開 始 投 放 液 化 天 然 氣 燃 料 的 公 共 汽 車 ， 2014 年 6 月 開 始 投 放 液 化 天 然 氣 插 電 式 混 合 動 力 公 共 汽 車 ， 以 取 代 液 化 石 油 氣 公 共 汽 車 。 2007 年 1 月 16 日 ， 廣 州 市 政 府 全 面 禁 止 在 市 區 內 駕 駛 摩 托 車 。 違 反 禁 令 的 機 動 車 將 會 予 以 沒 收 。 廣 州 市 交 通 局 聲 稱 禁 令 的 施 行 ， 使 得 交 通 擁 擠 問 題 和 車 禍 大 幅 減 少 。 廣 州 白 雲 國 際 機 場 位 於 白 雲 區 與 花 都 區 交 界 ， 2004 年 8 月 5 日 正 式 投 入 運 營 ， 屬 中 國 交 通 情 況 第 二 繁 忙 的 機 場 。 該 機 場 取 代 了 原 先 位 於 市 中 心 的 無 法 滿 足 日 益 增 長 航 空 需 求 的 舊 機 場 。 目 前 機 場 有 三 條 飛 機 跑 道 ， 成 為 國 內 第 三 個 擁 有 三 跑 道 的 民 航 機 場 。 比 鄰 近 的 香 港 國 際 機 場 第 三 跑 道 預 計 的 2023 年 落 成 早 8 年 。 [SEP] 廣 州 的 快 速 公 交 運 輸 系 統 每 多 久 就 會 有 一 輛 巴 士 ？ [SEP] [PAD] [PAD] [PAD] [PAD] [PAD] [PAD] [PAD] [PAD] [PAD] [PAD] [PAD] [PAD] [PAD] [PAD] [PAD] [PAD] [PAD] [PAD] [PAD] [PAD] [PAD] [PAD] [PAD] [PAD] [PAD] [PAD] [PAD] [PAD] [PAD] [PAD] [PAD] [PAD] [PAD] [PAD] [PAD] [PAD] [PAD] [PAD] [PAD] [PAD] [PAD] [PAD] [PAD] [PAD]\n",
            "\n",
            "attention_mask\n",
            " [1, 1, 1, 1, 1, 1, 1, 1, 1, 1, 1, 1, 1, 1, 1, 1, 1, 1, 1, 1, 1, 1, 1, 1, 1, 1, 1, 1, 1, 1, 1, 1, 1, 1, 1, 1, 1, 1, 1, 1, 1, 1, 1, 1, 1, 1, 1, 1, 1, 1, 1, 1, 1, 1, 1, 1, 1, 1, 1, 1, 1, 1, 1, 1, 1, 1, 1, 1, 1, 1, 1, 1, 1, 1, 1, 1, 1, 1, 1, 1, 1, 1, 1, 1, 1, 1, 1, 1, 1, 1, 1, 1, 1, 1, 1, 1, 1, 1, 1, 1, 1, 1, 1, 1, 1, 1, 1, 1, 1, 1, 1, 1, 1, 1, 1, 1, 1, 1, 1, 1, 1, 1, 1, 1, 1, 1, 1, 1, 1, 1, 1, 1, 1, 1, 1, 1, 1, 1, 1, 1, 1, 1, 1, 1, 1, 1, 1, 1, 1, 1, 1, 1, 1, 1, 1, 1, 1, 1, 1, 1, 1, 1, 1, 1, 1, 1, 1, 1, 1, 1, 1, 1, 1, 1, 1, 1, 1, 1, 1, 1, 1, 1, 1, 1, 1, 1, 1, 1, 1, 1, 1, 1, 1, 1, 1, 1, 1, 1, 1, 1, 1, 1, 1, 1, 1, 1, 1, 1, 1, 1, 1, 1, 1, 1, 1, 1, 1, 1, 1, 1, 1, 1, 1, 1, 1, 1, 1, 1, 1, 1, 1, 1, 1, 1, 1, 1, 1, 1, 1, 1, 1, 1, 1, 1, 1, 1, 1, 1, 1, 1, 1, 1, 1, 1, 1, 1, 1, 1, 1, 1, 1, 1, 1, 1, 1, 1, 1, 1, 1, 1, 1, 1, 1, 1, 1, 1, 1, 1, 1, 1, 1, 1, 1, 1, 1, 1, 1, 1, 1, 1, 1, 1, 1, 1, 1, 1, 1, 1, 1, 1, 1, 1, 1, 1, 1, 1, 1, 1, 1, 1, 1, 1, 1, 1, 1, 1, 1, 1, 1, 1, 1, 1, 1, 1, 1, 1, 1, 1, 1, 1, 1, 1, 1, 1, 1, 1, 1, 1, 1, 1, 1, 1, 1, 1, 1, 1, 1, 1, 1, 1, 1, 1, 1, 1, 1, 1, 1, 1, 1, 1, 1, 1, 1, 1, 1, 1, 1, 1, 1, 1, 1, 1, 1, 1, 1, 1, 1, 1, 1, 1, 1, 1, 1, 1, 1, 1, 1, 1, 1, 1, 1, 1, 1, 1, 1, 1, 1, 1, 1, 1, 1, 1, 1, 1, 1, 1, 1, 1, 1, 1, 1, 1, 1, 1, 1, 1, 1, 1, 1, 1, 1, 1, 1, 1, 1, 1, 1, 1, 1, 1, 1, 1, 1, 1, 1, 1, 1, 1, 1, 1, 1, 1, 1, 1, 1, 1, 1, 1, 1, 1, 1, 1, 1, 1, 1, 1, 1, 1, 1, 1, 1, 1, 1, 1, 1, 1, 1, 1, 0, 0, 0, 0, 0, 0, 0, 0, 0, 0, 0, 0, 0, 0, 0, 0, 0, 0, 0, 0, 0, 0, 0, 0, 0, 0, 0, 0, 0, 0, 0, 0, 0, 0, 0, 0, 0, 0, 0, 0, 0, 0, 0, 0]\n",
            "length =  512\n"
          ]
        }
      ],
      "source": [
        "# use BertTokenizerFast ######\n",
        "print(\"input_ids\\n\" ,train_encodings['input_ids'][0])\n",
        "print(\"length = \",len(train_encodings['input_ids'][0]))\n",
        "print(\"token_type_ids = \",train_encodings['token_type_ids'][0])\n",
        "print(\"attention_mask = \",train_encodings['attention_mask'][0])\n",
        "\n",
        "print(\"\\ninput_ids convert_ids_to_tokens \\n\",tokenizer_fast.convert_ids_to_tokens(train_encodings['input_ids'][0]))\n",
        "print(\"\\ninput_ids decode\\n\", tokenizer_fast.decode(train_encodings['input_ids'][0]))\n",
        "\n",
        "print(\"\\nattention_mask\\n\",train_encodings['attention_mask'][0])\n",
        "print(\"length = \",len(train_encodings['attention_mask'][0]))"
      ]
    },
    {
      "cell_type": "code",
      "execution_count": null,
      "metadata": {
        "id": "9OTcbWclUDrG"
      },
      "outputs": [],
      "source": [
        "# 新增答案的起始結束位置\n",
        "def add_token_positions(encodings,answers):\n",
        "  start_positions = []\n",
        "  end_positions = []\n",
        "  for i in range(len(answers)):\n",
        "    if answers[i]['answer_start'] == 0 and answers[i]['answer_end'] == 0:\n",
        "      start_positions.append(0)\n",
        "      end_positions.append(0)\n",
        "    else:\n",
        "      start_positions.append(encodings.char_to_token(i, answers[i]['answer_start']))\n",
        "      end_positions.append(encodings.char_to_token(i, answers[i]['answer_end'] - 1))\n",
        "    # if None, the answer passage has been truncated\n",
        "    if start_positions[-1] is None:\n",
        "      start_positions[-1] = tokenizer.model_max_length\n",
        "    if end_positions[-1] is None:\n",
        "      end_positions[-1] = tokenizer.model_max_length\n",
        "  encodings.update({'start_positions': start_positions, 'end_positions': end_positions})"
      ]
    },
    {
      "cell_type": "code",
      "execution_count": null,
      "metadata": {
        "colab": {
          "base_uri": "https://localhost:8080/"
        },
        "id": "pQ-B8zzfU89r",
        "outputId": "a9b4df24-e5d1-4a35-8243-3ff33c0b38c7"
      },
      "outputs": [
        {
          "name": "stdout",
          "output_type": "stream",
          "text": [
            "10001\n",
            "2002\n"
          ]
        }
      ],
      "source": [
        "print(len(train_answers))\n",
        "print(len(eval_answers))\n",
        "add_token_positions(train_encodings, train_answers)\n",
        "add_token_positions(eval_encodings, eval_answers)"
      ]
    },
    {
      "cell_type": "markdown",
      "metadata": {
        "id": "jgEvb1ktVOtJ"
      },
      "source": [
        "定義dataset並轉換成tensor格式"
      ]
    },
    {
      "cell_type": "code",
      "execution_count": null,
      "metadata": {
        "id": "BQPQHoKdVBOw"
      },
      "outputs": [],
      "source": [
        "# 定義dataset並轉換成tensor格式\n",
        "import torch\n",
        "class Dataset(torch.utils.data.Dataset):\n",
        "  def __init__(self, encodings):\n",
        "    self.encodings = encodings\n",
        "\n",
        "  def __getitem__(self, idx):\n",
        "    return {key: torch.tensor(val[idx]) for key, val in self.encodings.items()}\n",
        "\n",
        "  def __len__(self):\n",
        "    return len(self.encodings.input_ids)"
      ]
    },
    {
      "cell_type": "code",
      "execution_count": null,
      "metadata": {
        "id": "karO5_XsVRIs"
      },
      "outputs": [],
      "source": [
        "train_dataset = Dataset(train_encodings)\n",
        "eval_dataset = Dataset(eval_encodings)"
      ]
    },
    {
      "cell_type": "code",
      "execution_count": null,
      "metadata": {
        "colab": {
          "base_uri": "https://localhost:8080/"
        },
        "id": "6c03NF3bVTAX",
        "outputId": "5ef0c5de-ff65-4dbf-c71e-fd8e9f40d3f6"
      },
      "outputs": [
        {
          "data": {
            "text/plain": [
              "{'input_ids': tensor([  101,  8166,  2399,  2471,  6868,  4638,  2451,  2336,  2571,  6862,\n",
              "          1062,   769,  6880,  6745,  5143,  5186,  8024,  2253,   686,  4518,\n",
              "          5018,   753,  1920,  2571,  6862,  1062,   769,  5143,  5186,  8024,\n",
              "          3189,  2382,  6734,  2145,  7030,  1377,  6888,  8135,  5857,   782,\n",
              "          3613,  8024,  7770,  2292,  3229,  3309,  3680,  2207,  3229,  1606,\n",
              "          1403,  2145,  3837,  7770,  6888, 11023,  8279,   782,  3613,  8024,\n",
              "          1006,  3613,  3176,  3797,  1520,  1920,  4638,  2571,  6862,   769,\n",
              "          6858,  5143,  5186,  8024,  2398,  1772,  3680,  8108,  4907,  7132,\n",
              "          2218,  3300,   671,  6739,  2349,  1894,  8024,  3680,  6739,  2349,\n",
              "          1894,  1606,  1403,  6121,  7691,  8612,  2207,  3229,   511,  1259,\n",
              "          2886,  3578,  3558,  1762,  1058,  4638,  4991,  1378,  3221,   686,\n",
              "          4518,  3297,  7269,  4638,  2336,  2571,  6862,  1062,   769,  6880,\n",
              "          6745,  5143,  5186,  4991,  1378,  8024,  7269,  6888,  9044,  5101,\n",
              "           511,  4680,  1184,  2451,  2336,  2356,  1281,  4638,  6243,  4923,\n",
              "          6722,  1469,  1062,  1066,  3749,  6722,   712,  6206,   886,  4500,\n",
              "          3890,  1265,  4767,  3779,  3706,   868,  4234,  3160,  8024,  6956,\n",
              "          1146,  1062,  1066,  3749,  6722,  3291,   886,  4500,  3779,  7442,\n",
              "           510,  3706,  7442,  3921,  1394,  1240,  1213,  2825,  6123,   511,\n",
              "          8151,  2399,  2419,  7274,  1993,  2832,  3123,  3890,  1265,  1921,\n",
              "          4197,  3706,  4234,  3160,  4638,  1062,  1066,  3749,  6722,  8024,\n",
              "          8127,  2399,   127,  3299,  7274,  1993,  2832,  3123,  3890,  1265,\n",
              "          1921,  4197,  3706,  2991,  7442,  2466,  3921,  1394,  1240,  1213,\n",
              "          1062,  1066,  3749,  6722,  8024,   809,  1357,   807,  3890,  1265,\n",
              "          4767,  3779,  3706,  1062,  1066,  3749,  6722,   511,  8201,  2399,\n",
              "           122,  3299,  8121,  3189,  8024,  2451,  2336,  2356,  3124,  2424,\n",
              "          1059,  7481,  4881,  3632,  1762,  2356,  1281,  1058,  7690,  7691,\n",
              "          3040,  2805,  6722,   511,  6889,  1353,  4881,   808,  4638,  3582,\n",
              "          1240,  6722,  2200,  3298,   750,   809,  3760,  3119,   511,  2451,\n",
              "          2336,  2356,   769,  6858,  2229,  5476,  4935,  4881,   808,  4638,\n",
              "          3177,  6121,  8024,   886,  2533,   769,  6858,  3075,  3089,  1558,\n",
              "          7539,  1469,  6722,  4884,  1920,  2388,  3938,  2208,   511,  2451,\n",
              "          2336,  4635,  7437,  1751,  7396,  3582,  1842,   855,  3176,  4635,\n",
              "          7437,  1281,  5645,  5709,  6963,  1281,   769,  4518,  8024,  8258,\n",
              "          2399,   129,  3299,   126,  3189,  3633,  2466,  2832,  1057,  6880,\n",
              "          4245,  8024,  2253,   704,  1751,   769,  6858,  2658,  3785,  5018,\n",
              "           753,  5246,  2564,  4638,  3582,  1842,   511,  6283,  3582,  1842,\n",
              "          1357,   807,   749,  1333,  1044,   855,  3176,  2356,   704,  2552,\n",
              "          4638,  4192,  3791,  4021,  6639,  3189,  4660,  1872,  7269,  5661,\n",
              "          4958,  7444,  3724,  4638,  5648,  3582,  1842,   511,  4680,  1184,\n",
              "          3582,  1842,  3300,   676,  3454,  7606,  3582,  6651,  6887,  8024,\n",
              "          2768,  4158,  1751,  1058,  5018,   676,   943,  3075,  3300,   676,\n",
              "          6651,  6887,  4638,  3696,  5661,  3582,  1842,   511,  3683,  6973,\n",
              "          6818,  4638,  7676,  3949,  1751,  7396,  3582,  1842,  5018,   676,\n",
              "          6651,  6887,  7521,  6243,  4638,  9707,  8152,  2399,  5862,  2768,\n",
              "          3193,   129,  2399,   511,   102,  2451,  2336,  4638,  2571,  6862,\n",
              "          1062,   769,  6880,  6745,  5143,  5186,  3680,  1914,   719,  2218,\n",
              "          3298,  3300,   671,  6739,  2349,  1894,  8043,   102,     0,     0,\n",
              "             0,     0,     0,     0,     0,     0,     0,     0,     0,     0,\n",
              "             0,     0,     0,     0,     0,     0,     0,     0,     0,     0,\n",
              "             0,     0,     0,     0,     0,     0,     0,     0,     0,     0,\n",
              "             0,     0,     0,     0,     0,     0,     0,     0,     0,     0,\n",
              "             0,     0]),\n",
              " 'token_type_ids': tensor([0, 0, 0, 0, 0, 0, 0, 0, 0, 0, 0, 0, 0, 0, 0, 0, 0, 0, 0, 0, 0, 0, 0, 0,\n",
              "         0, 0, 0, 0, 0, 0, 0, 0, 0, 0, 0, 0, 0, 0, 0, 0, 0, 0, 0, 0, 0, 0, 0, 0,\n",
              "         0, 0, 0, 0, 0, 0, 0, 0, 0, 0, 0, 0, 0, 0, 0, 0, 0, 0, 0, 0, 0, 0, 0, 0,\n",
              "         0, 0, 0, 0, 0, 0, 0, 0, 0, 0, 0, 0, 0, 0, 0, 0, 0, 0, 0, 0, 0, 0, 0, 0,\n",
              "         0, 0, 0, 0, 0, 0, 0, 0, 0, 0, 0, 0, 0, 0, 0, 0, 0, 0, 0, 0, 0, 0, 0, 0,\n",
              "         0, 0, 0, 0, 0, 0, 0, 0, 0, 0, 0, 0, 0, 0, 0, 0, 0, 0, 0, 0, 0, 0, 0, 0,\n",
              "         0, 0, 0, 0, 0, 0, 0, 0, 0, 0, 0, 0, 0, 0, 0, 0, 0, 0, 0, 0, 0, 0, 0, 0,\n",
              "         0, 0, 0, 0, 0, 0, 0, 0, 0, 0, 0, 0, 0, 0, 0, 0, 0, 0, 0, 0, 0, 0, 0, 0,\n",
              "         0, 0, 0, 0, 0, 0, 0, 0, 0, 0, 0, 0, 0, 0, 0, 0, 0, 0, 0, 0, 0, 0, 0, 0,\n",
              "         0, 0, 0, 0, 0, 0, 0, 0, 0, 0, 0, 0, 0, 0, 0, 0, 0, 0, 0, 0, 0, 0, 0, 0,\n",
              "         0, 0, 0, 0, 0, 0, 0, 0, 0, 0, 0, 0, 0, 0, 0, 0, 0, 0, 0, 0, 0, 0, 0, 0,\n",
              "         0, 0, 0, 0, 0, 0, 0, 0, 0, 0, 0, 0, 0, 0, 0, 0, 0, 0, 0, 0, 0, 0, 0, 0,\n",
              "         0, 0, 0, 0, 0, 0, 0, 0, 0, 0, 0, 0, 0, 0, 0, 0, 0, 0, 0, 0, 0, 0, 0, 0,\n",
              "         0, 0, 0, 0, 0, 0, 0, 0, 0, 0, 0, 0, 0, 0, 0, 0, 0, 0, 0, 0, 0, 0, 0, 0,\n",
              "         0, 0, 0, 0, 0, 0, 0, 0, 0, 0, 0, 0, 0, 0, 0, 0, 0, 0, 0, 0, 0, 0, 0, 0,\n",
              "         0, 0, 0, 0, 0, 0, 0, 0, 0, 0, 0, 0, 0, 0, 0, 0, 0, 0, 0, 0, 0, 0, 0, 0,\n",
              "         0, 0, 0, 0, 0, 0, 0, 0, 0, 0, 0, 0, 0, 0, 0, 0, 0, 0, 0, 0, 0, 0, 0, 0,\n",
              "         0, 0, 0, 0, 0, 0, 0, 0, 0, 0, 0, 0, 0, 0, 0, 0, 0, 0, 0, 0, 0, 0, 0, 0,\n",
              "         0, 0, 0, 0, 0, 0, 0, 0, 0, 0, 0, 0, 0, 1, 1, 1, 1, 1, 1, 1, 1, 1, 1, 1,\n",
              "         1, 1, 1, 1, 1, 1, 1, 1, 1, 1, 1, 1, 0, 0, 0, 0, 0, 0, 0, 0, 0, 0, 0, 0,\n",
              "         0, 0, 0, 0, 0, 0, 0, 0, 0, 0, 0, 0, 0, 0, 0, 0, 0, 0, 0, 0, 0, 0, 0, 0,\n",
              "         0, 0, 0, 0, 0, 0, 0, 0]),\n",
              " 'attention_mask': tensor([1, 1, 1, 1, 1, 1, 1, 1, 1, 1, 1, 1, 1, 1, 1, 1, 1, 1, 1, 1, 1, 1, 1, 1,\n",
              "         1, 1, 1, 1, 1, 1, 1, 1, 1, 1, 1, 1, 1, 1, 1, 1, 1, 1, 1, 1, 1, 1, 1, 1,\n",
              "         1, 1, 1, 1, 1, 1, 1, 1, 1, 1, 1, 1, 1, 1, 1, 1, 1, 1, 1, 1, 1, 1, 1, 1,\n",
              "         1, 1, 1, 1, 1, 1, 1, 1, 1, 1, 1, 1, 1, 1, 1, 1, 1, 1, 1, 1, 1, 1, 1, 1,\n",
              "         1, 1, 1, 1, 1, 1, 1, 1, 1, 1, 1, 1, 1, 1, 1, 1, 1, 1, 1, 1, 1, 1, 1, 1,\n",
              "         1, 1, 1, 1, 1, 1, 1, 1, 1, 1, 1, 1, 1, 1, 1, 1, 1, 1, 1, 1, 1, 1, 1, 1,\n",
              "         1, 1, 1, 1, 1, 1, 1, 1, 1, 1, 1, 1, 1, 1, 1, 1, 1, 1, 1, 1, 1, 1, 1, 1,\n",
              "         1, 1, 1, 1, 1, 1, 1, 1, 1, 1, 1, 1, 1, 1, 1, 1, 1, 1, 1, 1, 1, 1, 1, 1,\n",
              "         1, 1, 1, 1, 1, 1, 1, 1, 1, 1, 1, 1, 1, 1, 1, 1, 1, 1, 1, 1, 1, 1, 1, 1,\n",
              "         1, 1, 1, 1, 1, 1, 1, 1, 1, 1, 1, 1, 1, 1, 1, 1, 1, 1, 1, 1, 1, 1, 1, 1,\n",
              "         1, 1, 1, 1, 1, 1, 1, 1, 1, 1, 1, 1, 1, 1, 1, 1, 1, 1, 1, 1, 1, 1, 1, 1,\n",
              "         1, 1, 1, 1, 1, 1, 1, 1, 1, 1, 1, 1, 1, 1, 1, 1, 1, 1, 1, 1, 1, 1, 1, 1,\n",
              "         1, 1, 1, 1, 1, 1, 1, 1, 1, 1, 1, 1, 1, 1, 1, 1, 1, 1, 1, 1, 1, 1, 1, 1,\n",
              "         1, 1, 1, 1, 1, 1, 1, 1, 1, 1, 1, 1, 1, 1, 1, 1, 1, 1, 1, 1, 1, 1, 1, 1,\n",
              "         1, 1, 1, 1, 1, 1, 1, 1, 1, 1, 1, 1, 1, 1, 1, 1, 1, 1, 1, 1, 1, 1, 1, 1,\n",
              "         1, 1, 1, 1, 1, 1, 1, 1, 1, 1, 1, 1, 1, 1, 1, 1, 1, 1, 1, 1, 1, 1, 1, 1,\n",
              "         1, 1, 1, 1, 1, 1, 1, 1, 1, 1, 1, 1, 1, 1, 1, 1, 1, 1, 1, 1, 1, 1, 1, 1,\n",
              "         1, 1, 1, 1, 1, 1, 1, 1, 1, 1, 1, 1, 1, 1, 1, 1, 1, 1, 1, 1, 1, 1, 1, 1,\n",
              "         1, 1, 1, 1, 1, 1, 1, 1, 1, 1, 1, 1, 1, 1, 1, 1, 1, 1, 1, 1, 1, 1, 1, 1,\n",
              "         1, 1, 1, 1, 1, 1, 1, 1, 1, 1, 1, 1, 0, 0, 0, 0, 0, 0, 0, 0, 0, 0, 0, 0,\n",
              "         0, 0, 0, 0, 0, 0, 0, 0, 0, 0, 0, 0, 0, 0, 0, 0, 0, 0, 0, 0, 0, 0, 0, 0,\n",
              "         0, 0, 0, 0, 0, 0, 0, 0]),\n",
              " 'start_positions': tensor(77),\n",
              " 'end_positions': tensor(79)}"
            ]
          },
          "execution_count": 24,
          "metadata": {},
          "output_type": "execute_result"
        }
      ],
      "source": [
        "train_dataset[0]"
      ]
    },
    {
      "cell_type": "code",
      "execution_count": null,
      "metadata": {
        "colab": {
          "base_uri": "https://localhost:8080/"
        },
        "id": "jkXJKnNvVYqD",
        "outputId": "34e600d4-f2bf-4c19-9018-5eaa7cf97ffb"
      },
      "outputs": [
        {
          "data": {
            "text/plain": [
              "10001"
            ]
          },
          "execution_count": 25,
          "metadata": {},
          "output_type": "execute_result"
        }
      ],
      "source": [
        "len(train_dataset)"
      ]
    },
    {
      "cell_type": "markdown",
      "metadata": {
        "id": "MR29MeW0Vco1"
      },
      "source": [
        "# 載入模型架構( BertForQuestionAnswering )"
      ]
    },
    {
      "cell_type": "code",
      "execution_count": null,
      "metadata": {
        "colab": {
          "base_uri": "https://localhost:8080/",
          "height": 156,
          "referenced_widgets": [
            "3bf5d3ec090a48349d99a9160abc313d",
            "77444cd3887340428bfb1ed877963ded",
            "c267a69445554ba39103e66cb7ef4fb0",
            "705cb08004a84524b0c890b31a752576",
            "e411fc7df1004f98827b0f51e3f737b9",
            "e6c8b877d7dc4244a6c32a20fb41111b",
            "1dd7f3151d6843f1b73c01710deefba3",
            "52704700f39e4cc799e818550df346ca",
            "6c2c4302b4624201bf5f889918380295",
            "7d173692b6d944fd9ec9bd8c36a8f735",
            "d5cf79ff17c2469b8df8e98208ec6a4d"
          ]
        },
        "id": "xeVuwUAKVaih",
        "outputId": "7ae306d8-3b25-4065-b0d3-41eca44d59d0"
      },
      "outputs": [
        {
          "data": {
            "application/vnd.jupyter.widget-view+json": {
              "model_id": "3bf5d3ec090a48349d99a9160abc313d",
              "version_major": 2,
              "version_minor": 0
            },
            "text/plain": [
              "Downloading:   0%|          | 0.00/412M [00:00<?, ?B/s]"
            ]
          },
          "metadata": {},
          "output_type": "display_data"
        },
        {
          "name": "stderr",
          "output_type": "stream",
          "text": [
            "Some weights of the model checkpoint at bert-base-chinese were not used when initializing BertForQuestionAnswering: ['cls.predictions.bias', 'cls.predictions.transform.dense.bias', 'cls.predictions.transform.LayerNorm.bias', 'cls.predictions.transform.LayerNorm.weight', 'cls.seq_relationship.bias', 'cls.predictions.decoder.weight', 'cls.predictions.transform.dense.weight', 'cls.seq_relationship.weight']\n",
            "- This IS expected if you are initializing BertForQuestionAnswering from the checkpoint of a model trained on another task or with another architecture (e.g. initializing a BertForSequenceClassification model from a BertForPreTraining model).\n",
            "- This IS NOT expected if you are initializing BertForQuestionAnswering from the checkpoint of a model that you expect to be exactly identical (initializing a BertForSequenceClassification model from a BertForSequenceClassification model).\n",
            "Some weights of BertForQuestionAnswering were not initialized from the model checkpoint at bert-base-chinese and are newly initialized: ['qa_outputs.weight', 'qa_outputs.bias']\n",
            "You should probably TRAIN this model on a down-stream task to be able to use it for predictions and inference.\n"
          ]
        }
      ],
      "source": [
        "from transformers import AutoModelForSeq2SeqLM, AutoConfig , BertForQuestionAnswering\n",
        "config = AutoConfig.from_pretrained('bert-base-chinese')\n",
        "model = BertForQuestionAnswering.from_pretrained('bert-base-chinese', config=config)"
      ]
    },
    {
      "cell_type": "code",
      "execution_count": null,
      "metadata": {
        "colab": {
          "base_uri": "https://localhost:8080/"
        },
        "id": "a_wgh3VnWHZL",
        "outputId": "a0da358f-952a-4f10-e35e-360b3c845854"
      },
      "outputs": [
        {
          "name": "stdout",
          "output_type": "stream",
          "text": [
            "BertForQuestionAnswering(\n",
            "  (bert): BertModel(\n",
            "    (embeddings): BertEmbeddings(\n",
            "      (word_embeddings): Embedding(21128, 768, padding_idx=0)\n",
            "      (position_embeddings): Embedding(512, 768)\n",
            "      (token_type_embeddings): Embedding(2, 768)\n",
            "      (LayerNorm): LayerNorm((768,), eps=1e-12, elementwise_affine=True)\n",
            "      (dropout): Dropout(p=0.1, inplace=False)\n",
            "    )\n",
            "    (encoder): BertEncoder(\n",
            "      (layer): ModuleList(\n",
            "        (0): BertLayer(\n",
            "          (attention): BertAttention(\n",
            "            (self): BertSelfAttention(\n",
            "              (query): Linear(in_features=768, out_features=768, bias=True)\n",
            "              (key): Linear(in_features=768, out_features=768, bias=True)\n",
            "              (value): Linear(in_features=768, out_features=768, bias=True)\n",
            "              (dropout): Dropout(p=0.1, inplace=False)\n",
            "            )\n",
            "            (output): BertSelfOutput(\n",
            "              (dense): Linear(in_features=768, out_features=768, bias=True)\n",
            "              (LayerNorm): LayerNorm((768,), eps=1e-12, elementwise_affine=True)\n",
            "              (dropout): Dropout(p=0.1, inplace=False)\n",
            "            )\n",
            "          )\n",
            "          (intermediate): BertIntermediate(\n",
            "            (dense): Linear(in_features=768, out_features=3072, bias=True)\n",
            "            (intermediate_act_fn): GELUActivation()\n",
            "          )\n",
            "          (output): BertOutput(\n",
            "            (dense): Linear(in_features=3072, out_features=768, bias=True)\n",
            "            (LayerNorm): LayerNorm((768,), eps=1e-12, elementwise_affine=True)\n",
            "            (dropout): Dropout(p=0.1, inplace=False)\n",
            "          )\n",
            "        )\n",
            "        (1): BertLayer(\n",
            "          (attention): BertAttention(\n",
            "            (self): BertSelfAttention(\n",
            "              (query): Linear(in_features=768, out_features=768, bias=True)\n",
            "              (key): Linear(in_features=768, out_features=768, bias=True)\n",
            "              (value): Linear(in_features=768, out_features=768, bias=True)\n",
            "              (dropout): Dropout(p=0.1, inplace=False)\n",
            "            )\n",
            "            (output): BertSelfOutput(\n",
            "              (dense): Linear(in_features=768, out_features=768, bias=True)\n",
            "              (LayerNorm): LayerNorm((768,), eps=1e-12, elementwise_affine=True)\n",
            "              (dropout): Dropout(p=0.1, inplace=False)\n",
            "            )\n",
            "          )\n",
            "          (intermediate): BertIntermediate(\n",
            "            (dense): Linear(in_features=768, out_features=3072, bias=True)\n",
            "            (intermediate_act_fn): GELUActivation()\n",
            "          )\n",
            "          (output): BertOutput(\n",
            "            (dense): Linear(in_features=3072, out_features=768, bias=True)\n",
            "            (LayerNorm): LayerNorm((768,), eps=1e-12, elementwise_affine=True)\n",
            "            (dropout): Dropout(p=0.1, inplace=False)\n",
            "          )\n",
            "        )\n",
            "        (2): BertLayer(\n",
            "          (attention): BertAttention(\n",
            "            (self): BertSelfAttention(\n",
            "              (query): Linear(in_features=768, out_features=768, bias=True)\n",
            "              (key): Linear(in_features=768, out_features=768, bias=True)\n",
            "              (value): Linear(in_features=768, out_features=768, bias=True)\n",
            "              (dropout): Dropout(p=0.1, inplace=False)\n",
            "            )\n",
            "            (output): BertSelfOutput(\n",
            "              (dense): Linear(in_features=768, out_features=768, bias=True)\n",
            "              (LayerNorm): LayerNorm((768,), eps=1e-12, elementwise_affine=True)\n",
            "              (dropout): Dropout(p=0.1, inplace=False)\n",
            "            )\n",
            "          )\n",
            "          (intermediate): BertIntermediate(\n",
            "            (dense): Linear(in_features=768, out_features=3072, bias=True)\n",
            "            (intermediate_act_fn): GELUActivation()\n",
            "          )\n",
            "          (output): BertOutput(\n",
            "            (dense): Linear(in_features=3072, out_features=768, bias=True)\n",
            "            (LayerNorm): LayerNorm((768,), eps=1e-12, elementwise_affine=True)\n",
            "            (dropout): Dropout(p=0.1, inplace=False)\n",
            "          )\n",
            "        )\n",
            "        (3): BertLayer(\n",
            "          (attention): BertAttention(\n",
            "            (self): BertSelfAttention(\n",
            "              (query): Linear(in_features=768, out_features=768, bias=True)\n",
            "              (key): Linear(in_features=768, out_features=768, bias=True)\n",
            "              (value): Linear(in_features=768, out_features=768, bias=True)\n",
            "              (dropout): Dropout(p=0.1, inplace=False)\n",
            "            )\n",
            "            (output): BertSelfOutput(\n",
            "              (dense): Linear(in_features=768, out_features=768, bias=True)\n",
            "              (LayerNorm): LayerNorm((768,), eps=1e-12, elementwise_affine=True)\n",
            "              (dropout): Dropout(p=0.1, inplace=False)\n",
            "            )\n",
            "          )\n",
            "          (intermediate): BertIntermediate(\n",
            "            (dense): Linear(in_features=768, out_features=3072, bias=True)\n",
            "            (intermediate_act_fn): GELUActivation()\n",
            "          )\n",
            "          (output): BertOutput(\n",
            "            (dense): Linear(in_features=3072, out_features=768, bias=True)\n",
            "            (LayerNorm): LayerNorm((768,), eps=1e-12, elementwise_affine=True)\n",
            "            (dropout): Dropout(p=0.1, inplace=False)\n",
            "          )\n",
            "        )\n",
            "        (4): BertLayer(\n",
            "          (attention): BertAttention(\n",
            "            (self): BertSelfAttention(\n",
            "              (query): Linear(in_features=768, out_features=768, bias=True)\n",
            "              (key): Linear(in_features=768, out_features=768, bias=True)\n",
            "              (value): Linear(in_features=768, out_features=768, bias=True)\n",
            "              (dropout): Dropout(p=0.1, inplace=False)\n",
            "            )\n",
            "            (output): BertSelfOutput(\n",
            "              (dense): Linear(in_features=768, out_features=768, bias=True)\n",
            "              (LayerNorm): LayerNorm((768,), eps=1e-12, elementwise_affine=True)\n",
            "              (dropout): Dropout(p=0.1, inplace=False)\n",
            "            )\n",
            "          )\n",
            "          (intermediate): BertIntermediate(\n",
            "            (dense): Linear(in_features=768, out_features=3072, bias=True)\n",
            "            (intermediate_act_fn): GELUActivation()\n",
            "          )\n",
            "          (output): BertOutput(\n",
            "            (dense): Linear(in_features=3072, out_features=768, bias=True)\n",
            "            (LayerNorm): LayerNorm((768,), eps=1e-12, elementwise_affine=True)\n",
            "            (dropout): Dropout(p=0.1, inplace=False)\n",
            "          )\n",
            "        )\n",
            "        (5): BertLayer(\n",
            "          (attention): BertAttention(\n",
            "            (self): BertSelfAttention(\n",
            "              (query): Linear(in_features=768, out_features=768, bias=True)\n",
            "              (key): Linear(in_features=768, out_features=768, bias=True)\n",
            "              (value): Linear(in_features=768, out_features=768, bias=True)\n",
            "              (dropout): Dropout(p=0.1, inplace=False)\n",
            "            )\n",
            "            (output): BertSelfOutput(\n",
            "              (dense): Linear(in_features=768, out_features=768, bias=True)\n",
            "              (LayerNorm): LayerNorm((768,), eps=1e-12, elementwise_affine=True)\n",
            "              (dropout): Dropout(p=0.1, inplace=False)\n",
            "            )\n",
            "          )\n",
            "          (intermediate): BertIntermediate(\n",
            "            (dense): Linear(in_features=768, out_features=3072, bias=True)\n",
            "            (intermediate_act_fn): GELUActivation()\n",
            "          )\n",
            "          (output): BertOutput(\n",
            "            (dense): Linear(in_features=3072, out_features=768, bias=True)\n",
            "            (LayerNorm): LayerNorm((768,), eps=1e-12, elementwise_affine=True)\n",
            "            (dropout): Dropout(p=0.1, inplace=False)\n",
            "          )\n",
            "        )\n",
            "        (6): BertLayer(\n",
            "          (attention): BertAttention(\n",
            "            (self): BertSelfAttention(\n",
            "              (query): Linear(in_features=768, out_features=768, bias=True)\n",
            "              (key): Linear(in_features=768, out_features=768, bias=True)\n",
            "              (value): Linear(in_features=768, out_features=768, bias=True)\n",
            "              (dropout): Dropout(p=0.1, inplace=False)\n",
            "            )\n",
            "            (output): BertSelfOutput(\n",
            "              (dense): Linear(in_features=768, out_features=768, bias=True)\n",
            "              (LayerNorm): LayerNorm((768,), eps=1e-12, elementwise_affine=True)\n",
            "              (dropout): Dropout(p=0.1, inplace=False)\n",
            "            )\n",
            "          )\n",
            "          (intermediate): BertIntermediate(\n",
            "            (dense): Linear(in_features=768, out_features=3072, bias=True)\n",
            "            (intermediate_act_fn): GELUActivation()\n",
            "          )\n",
            "          (output): BertOutput(\n",
            "            (dense): Linear(in_features=3072, out_features=768, bias=True)\n",
            "            (LayerNorm): LayerNorm((768,), eps=1e-12, elementwise_affine=True)\n",
            "            (dropout): Dropout(p=0.1, inplace=False)\n",
            "          )\n",
            "        )\n",
            "        (7): BertLayer(\n",
            "          (attention): BertAttention(\n",
            "            (self): BertSelfAttention(\n",
            "              (query): Linear(in_features=768, out_features=768, bias=True)\n",
            "              (key): Linear(in_features=768, out_features=768, bias=True)\n",
            "              (value): Linear(in_features=768, out_features=768, bias=True)\n",
            "              (dropout): Dropout(p=0.1, inplace=False)\n",
            "            )\n",
            "            (output): BertSelfOutput(\n",
            "              (dense): Linear(in_features=768, out_features=768, bias=True)\n",
            "              (LayerNorm): LayerNorm((768,), eps=1e-12, elementwise_affine=True)\n",
            "              (dropout): Dropout(p=0.1, inplace=False)\n",
            "            )\n",
            "          )\n",
            "          (intermediate): BertIntermediate(\n",
            "            (dense): Linear(in_features=768, out_features=3072, bias=True)\n",
            "            (intermediate_act_fn): GELUActivation()\n",
            "          )\n",
            "          (output): BertOutput(\n",
            "            (dense): Linear(in_features=3072, out_features=768, bias=True)\n",
            "            (LayerNorm): LayerNorm((768,), eps=1e-12, elementwise_affine=True)\n",
            "            (dropout): Dropout(p=0.1, inplace=False)\n",
            "          )\n",
            "        )\n",
            "        (8): BertLayer(\n",
            "          (attention): BertAttention(\n",
            "            (self): BertSelfAttention(\n",
            "              (query): Linear(in_features=768, out_features=768, bias=True)\n",
            "              (key): Linear(in_features=768, out_features=768, bias=True)\n",
            "              (value): Linear(in_features=768, out_features=768, bias=True)\n",
            "              (dropout): Dropout(p=0.1, inplace=False)\n",
            "            )\n",
            "            (output): BertSelfOutput(\n",
            "              (dense): Linear(in_features=768, out_features=768, bias=True)\n",
            "              (LayerNorm): LayerNorm((768,), eps=1e-12, elementwise_affine=True)\n",
            "              (dropout): Dropout(p=0.1, inplace=False)\n",
            "            )\n",
            "          )\n",
            "          (intermediate): BertIntermediate(\n",
            "            (dense): Linear(in_features=768, out_features=3072, bias=True)\n",
            "            (intermediate_act_fn): GELUActivation()\n",
            "          )\n",
            "          (output): BertOutput(\n",
            "            (dense): Linear(in_features=3072, out_features=768, bias=True)\n",
            "            (LayerNorm): LayerNorm((768,), eps=1e-12, elementwise_affine=True)\n",
            "            (dropout): Dropout(p=0.1, inplace=False)\n",
            "          )\n",
            "        )\n",
            "        (9): BertLayer(\n",
            "          (attention): BertAttention(\n",
            "            (self): BertSelfAttention(\n",
            "              (query): Linear(in_features=768, out_features=768, bias=True)\n",
            "              (key): Linear(in_features=768, out_features=768, bias=True)\n",
            "              (value): Linear(in_features=768, out_features=768, bias=True)\n",
            "              (dropout): Dropout(p=0.1, inplace=False)\n",
            "            )\n",
            "            (output): BertSelfOutput(\n",
            "              (dense): Linear(in_features=768, out_features=768, bias=True)\n",
            "              (LayerNorm): LayerNorm((768,), eps=1e-12, elementwise_affine=True)\n",
            "              (dropout): Dropout(p=0.1, inplace=False)\n",
            "            )\n",
            "          )\n",
            "          (intermediate): BertIntermediate(\n",
            "            (dense): Linear(in_features=768, out_features=3072, bias=True)\n",
            "            (intermediate_act_fn): GELUActivation()\n",
            "          )\n",
            "          (output): BertOutput(\n",
            "            (dense): Linear(in_features=3072, out_features=768, bias=True)\n",
            "            (LayerNorm): LayerNorm((768,), eps=1e-12, elementwise_affine=True)\n",
            "            (dropout): Dropout(p=0.1, inplace=False)\n",
            "          )\n",
            "        )\n",
            "        (10): BertLayer(\n",
            "          (attention): BertAttention(\n",
            "            (self): BertSelfAttention(\n",
            "              (query): Linear(in_features=768, out_features=768, bias=True)\n",
            "              (key): Linear(in_features=768, out_features=768, bias=True)\n",
            "              (value): Linear(in_features=768, out_features=768, bias=True)\n",
            "              (dropout): Dropout(p=0.1, inplace=False)\n",
            "            )\n",
            "            (output): BertSelfOutput(\n",
            "              (dense): Linear(in_features=768, out_features=768, bias=True)\n",
            "              (LayerNorm): LayerNorm((768,), eps=1e-12, elementwise_affine=True)\n",
            "              (dropout): Dropout(p=0.1, inplace=False)\n",
            "            )\n",
            "          )\n",
            "          (intermediate): BertIntermediate(\n",
            "            (dense): Linear(in_features=768, out_features=3072, bias=True)\n",
            "            (intermediate_act_fn): GELUActivation()\n",
            "          )\n",
            "          (output): BertOutput(\n",
            "            (dense): Linear(in_features=3072, out_features=768, bias=True)\n",
            "            (LayerNorm): LayerNorm((768,), eps=1e-12, elementwise_affine=True)\n",
            "            (dropout): Dropout(p=0.1, inplace=False)\n",
            "          )\n",
            "        )\n",
            "        (11): BertLayer(\n",
            "          (attention): BertAttention(\n",
            "            (self): BertSelfAttention(\n",
            "              (query): Linear(in_features=768, out_features=768, bias=True)\n",
            "              (key): Linear(in_features=768, out_features=768, bias=True)\n",
            "              (value): Linear(in_features=768, out_features=768, bias=True)\n",
            "              (dropout): Dropout(p=0.1, inplace=False)\n",
            "            )\n",
            "            (output): BertSelfOutput(\n",
            "              (dense): Linear(in_features=768, out_features=768, bias=True)\n",
            "              (LayerNorm): LayerNorm((768,), eps=1e-12, elementwise_affine=True)\n",
            "              (dropout): Dropout(p=0.1, inplace=False)\n",
            "            )\n",
            "          )\n",
            "          (intermediate): BertIntermediate(\n",
            "            (dense): Linear(in_features=768, out_features=3072, bias=True)\n",
            "            (intermediate_act_fn): GELUActivation()\n",
            "          )\n",
            "          (output): BertOutput(\n",
            "            (dense): Linear(in_features=3072, out_features=768, bias=True)\n",
            "            (LayerNorm): LayerNorm((768,), eps=1e-12, elementwise_affine=True)\n",
            "            (dropout): Dropout(p=0.1, inplace=False)\n",
            "          )\n",
            "        )\n",
            "      )\n",
            "    )\n",
            "  )\n",
            "  (qa_outputs): Linear(in_features=768, out_features=2, bias=True)\n",
            ")\n"
          ]
        }
      ],
      "source": [
        "print(model)"
      ]
    },
    {
      "cell_type": "markdown",
      "metadata": {
        "id": "o6cuUTd6WNdh"
      },
      "source": [
        "########訓練模型###########"
      ]
    },
    {
      "cell_type": "code",
      "execution_count": null,
      "metadata": {
        "id": "HM37VrgxWK8u"
      },
      "outputs": [],
      "source": [
        "import logging\n",
        "import datasets\n",
        "from datasets import load_dataset, load_metric\n",
        "from torch.utils.data import DataLoader\n",
        "from tqdm.auto import tqdm, trange\n",
        "import math\n",
        "\n",
        "import transformers\n",
        "from accelerate import Accelerator\n",
        "from transformers import (\n",
        "    AdamW,\n",
        "    AutoConfig,\n",
        "    default_data_collator,\n",
        "    get_scheduler\n",
        ")"
      ]
    },
    {
      "cell_type": "code",
      "execution_count": null,
      "metadata": {
        "id": "n876V8f3WQZ-"
      },
      "outputs": [],
      "source": [
        "train_batch_size = 2      # 設定 training batch size\n",
        "eval_batch_size = 2     # 設定 eval batch size\n",
        "num_train_epochs = 3      # 設定 epoch"
      ]
    },
    {
      "cell_type": "markdown",
      "metadata": {
        "id": "pmra4-1DWZgP"
      },
      "source": [
        "將資料丟入 DataLoader"
      ]
    },
    {
      "cell_type": "markdown",
      "metadata": {
        "id": "c3VYRN2OgVU3"
      },
      "source": [
        "## Optimizer 、Learning rate 、Scheduler 設定"
      ]
    },
    {
      "cell_type": "code",
      "execution_count": null,
      "metadata": {
        "id": "zWQh5pVPWX9_"
      },
      "outputs": [],
      "source": [
        "data_collator = default_data_collator\n",
        "train_dataloader = DataLoader(train_dataset, shuffle=True, collate_fn=data_collator, batch_size=train_batch_size)\n",
        "eval_dataloader = DataLoader(eval_dataset, collate_fn=data_collator, batch_size=eval_batch_size)"
      ]
    },
    {
      "cell_type": "code",
      "execution_count": null,
      "metadata": {
        "colab": {
          "base_uri": "https://localhost:8080/"
        },
        "id": "p4Kob-O3WhX4",
        "outputId": "7e2e5bb1-33b4-4967-a542-ae94d993191c"
      },
      "outputs": [
        {
          "name": "stdout",
          "output_type": "stream",
          "text": [
            "max_train_steps 15003\n"
          ]
        },
        {
          "name": "stderr",
          "output_type": "stream",
          "text": [
            "/usr/local/lib/python3.8/dist-packages/transformers/optimization.py:306: FutureWarning: This implementation of AdamW is deprecated and will be removed in a future version. Use the PyTorch implementation torch.optim.AdamW instead, or set `no_deprecation_warning=True` to disable this warning\n",
            "  warnings.warn(\n"
          ]
        }
      ],
      "source": [
        "learning_rate=3e-5          # 設定 learning_rate\n",
        "gradient_accumulation_steps = 1   # 設定 幾步後進行反向傳播\n",
        "\n",
        "no_decay = [\"bias\", \"LayerNorm.weight\"]\n",
        "optimizer_grouped_parameters = [\n",
        "    {\n",
        "        \"params\": [p for n, p in model.named_parameters() if not any(nd in n for nd in no_decay)],\n",
        "        \"weight_decay\": 0.0,\n",
        "    },                                \n",
        "    {\n",
        "        \"params\": [p for n, p in model.named_parameters() if any(nd in n for nd in no_decay)],\n",
        "        \"weight_decay\": 0.0,\n",
        "    },\n",
        "]\n",
        "optimizer = AdamW(optimizer_grouped_parameters, lr=learning_rate)\n",
        "\n",
        "# Scheduler and math around the number of training steps.\n",
        "num_update_steps_per_epoch = math.ceil(len(train_dataloader) / gradient_accumulation_steps)\n",
        "max_train_steps = num_train_epochs * num_update_steps_per_epoch\n",
        "print('max_train_steps', max_train_steps)\n",
        "\n",
        "# scheduler\n",
        "lr_scheduler = get_scheduler(\n",
        "    name=\"linear\",\n",
        "    optimizer=optimizer,\n",
        "    num_warmup_steps=0,\n",
        "    num_training_steps=max_train_steps,\n",
        ")"
      ]
    },
    {
      "cell_type": "markdown",
      "metadata": {
        "id": "32bOXfG_gha1"
      },
      "source": [
        "## 將資料、參數丟入 Accelerator\n",
        "\n",
        "> 縮排段落\n",
        "\n",
        "\n",
        "\n"
      ]
    },
    {
      "cell_type": "code",
      "execution_count": null,
      "metadata": {
        "id": "Kl0Lb7YFgXvO"
      },
      "outputs": [],
      "source": [
        "# Initialize the accelerator. We will let the accelerator handle device placement for us in this example.\n",
        "accelerator = Accelerator()\n",
        "\n",
        "# Prepare everything with our `accelerator`.\n",
        "model, optimizer, train_dataloader, eval_dataloader = accelerator.prepare(\n",
        "    model, optimizer, train_dataloader, eval_dataloader\n",
        ")"
      ]
    },
    {
      "cell_type": "code",
      "execution_count": null,
      "metadata": {
        "colab": {
          "base_uri": "https://localhost:8080/"
        },
        "id": "62p330YtgeyC",
        "outputId": "1e5c4fe0-1e87-4565-f748-d8232ad2f8a2"
      },
      "outputs": [
        {
          "name": "stdout",
          "output_type": "stream",
          "text": [
            "Sat Dec  3 15:01:52 2022       \n",
            "+-----------------------------------------------------------------------------+\n",
            "| NVIDIA-SMI 460.32.03    Driver Version: 460.32.03    CUDA Version: 11.2     |\n",
            "|-------------------------------+----------------------+----------------------+\n",
            "| GPU  Name        Persistence-M| Bus-Id        Disp.A | Volatile Uncorr. ECC |\n",
            "| Fan  Temp  Perf  Pwr:Usage/Cap|         Memory-Usage | GPU-Util  Compute M. |\n",
            "|                               |                      |               MIG M. |\n",
            "|===============================+======================+======================|\n",
            "|   0  Tesla T4            Off  | 00000000:00:04.0 Off |                    0 |\n",
            "| N/A   41C    P0    26W /  70W |   1032MiB / 15109MiB |      0%      Default |\n",
            "|                               |                      |                  N/A |\n",
            "+-------------------------------+----------------------+----------------------+\n",
            "                                                                               \n",
            "+-----------------------------------------------------------------------------+\n",
            "| Processes:                                                                  |\n",
            "|  GPU   GI   CI        PID   Type   Process name                  GPU Memory |\n",
            "|        ID   ID                                                   Usage      |\n",
            "|=============================================================================|\n",
            "+-----------------------------------------------------------------------------+\n"
          ]
        }
      ],
      "source": [
        "!nvidia-smi"
      ]
    },
    {
      "cell_type": "markdown",
      "metadata": {
        "id": "zEFrTeQQgnK2"
      },
      "source": [
        "開始訓練"
      ]
    },
    {
      "cell_type": "code",
      "execution_count": null,
      "metadata": {
        "colab": {
          "base_uri": "https://localhost:8080/",
          "height": 1000,
          "referenced_widgets": [
            "d1c77a759055418ab2084e067d461360",
            "6fbfdb06d3b0409ba8f6fa62c549b08e",
            "36ca2489df604721b81edaf6ff7f5d8e",
            "4a6e9d7d63e24ecfb98978241d5b1e54",
            "e31b81040308457eb2cb9f72bfdfa7c5",
            "9e1c6a44faf741459ba99c1d80c6eb99",
            "5787a1a18b8442fc800475c1bc244e41",
            "bdc080780f3544c98053d090da9282cc",
            "c58c58bf0d0244acb356d80ebb7709bb",
            "d568a75c4c704a56ab3daae7083512c4",
            "3e54f2f516ca4c849d310357b9e6c966",
            "054eaeee7025493bac43b71e2ad071ce",
            "8e972a536e214d3b9cb5d74d41869e71",
            "73edc7708b1e4d31a43ba6e3eceb9035",
            "726a889ccc324388ab8890fbf6364f71",
            "10d9e9ccb9504f898ed8433db140ffa6",
            "1c66d1e79a314585a7c2f3651f91e7db",
            "396175e2c4fd4e17bbbe8d66498df3e9",
            "6ec6392303e541f392496c3042a3ebe9",
            "1042240ad2bd4a8d8ad639d6a70bf121",
            "01bfdf81aa594ea4a1949bedebfe959b",
            "063b3bf6fc8e4c5eab28d6861fb426b5",
            "cc696bf8a15a4aa4a63afe27764a52bc",
            "90ae7fe7761045f6a6c17c78205121fc",
            "0e45127aaf87449385346ff345d75072",
            "ea086ff5971d4ce095b2504f7350bd97",
            "b18e5c6e630a4d0aaa5e9e3bebcad1b1",
            "fe8a2571d47f41d295fee39bef2d339b",
            "6e0e818ccf9b4ba6936fceee4bcb88e3",
            "b4e08ae7669348b78e8456a3994510fe",
            "d1846a3d17e840bdb5fbb4303ae94d71",
            "31faea5c0ad048a1952fc49beeaed2c6",
            "16c3371e87fc4e8d822d5a39474f1a1c",
            "38ec06db1fb241a3981b0380d6ce7919",
            "046205e6e79b4279951a949244d6819c",
            "ad2a0e0868094adb9b369ce8908cfaa3",
            "5393a7ff097c4005b60890a61e128668",
            "db51a26d0a7d46428632fe211c371094",
            "e4aea11a2cc943ababf8dc4c17269ce9",
            "4a4e73b3b3f047fca009c1e0f53f6755",
            "03a157cf328247fe9a5e823e3842a1e4",
            "34c2639f3c86496d838115f56545e38b",
            "905187b6fb754d779749e9502d45fd8c",
            "f357ccb0f60f4b40a0a8ebac0806c4a0"
          ]
        },
        "id": "pJvFDwiLggoK",
        "outputId": "afd32b26-9822-4c79-bce2-90baec18f320"
      },
      "outputs": [
        {
          "data": {
            "application/vnd.jupyter.widget-view+json": {
              "model_id": "d1c77a759055418ab2084e067d461360",
              "version_major": 2,
              "version_minor": 0
            },
            "text/plain": [
              "Epoch:   0%|          | 0/3 [00:00<?, ?it/s]"
            ]
          },
          "metadata": {},
          "output_type": "display_data"
        },
        {
          "data": {
            "application/vnd.jupyter.widget-view+json": {
              "model_id": "054eaeee7025493bac43b71e2ad071ce",
              "version_major": 2,
              "version_minor": 0
            },
            "text/plain": [
              "Iteration:   0%|          | 0/5001 [00:00<?, ?it/s]"
            ]
          },
          "metadata": {},
          "output_type": "display_data"
        },
        {
          "name": "stdout",
          "output_type": "stream",
          "text": [
            "{'epoch': 0, 'step': 0, 'loss': 6.3488569259643555}\n",
            "{'epoch': 0, 'step': 50, 'loss': 3.1839828491210938}\n",
            "{'epoch': 0, 'step': 100, 'loss': 2.427407741546631}\n",
            "{'epoch': 0, 'step': 150, 'loss': 2.059192419052124}\n",
            "{'epoch': 0, 'step': 200, 'loss': 3.244138240814209}\n",
            "{'epoch': 0, 'step': 250, 'loss': 1.5916250944137573}\n",
            "{'epoch': 0, 'step': 300, 'loss': 1.5804007053375244}\n",
            "{'epoch': 0, 'step': 350, 'loss': 2.5286612510681152}\n",
            "{'epoch': 0, 'step': 400, 'loss': 0.5927287936210632}\n",
            "{'epoch': 0, 'step': 450, 'loss': 1.0758029222488403}\n",
            "{'epoch': 0, 'step': 500, 'loss': 0.38823938369750977}\n",
            "{'epoch': 0, 'step': 550, 'loss': 5.235383987426758}\n",
            "{'epoch': 0, 'step': 600, 'loss': 1.0152223110198975}\n",
            "{'epoch': 0, 'step': 650, 'loss': 0.5352976322174072}\n",
            "{'epoch': 0, 'step': 700, 'loss': 3.270167350769043}\n",
            "{'epoch': 0, 'step': 750, 'loss': 1.5750904083251953}\n",
            "{'epoch': 0, 'step': 800, 'loss': 2.4815306663513184}\n",
            "{'epoch': 0, 'step': 850, 'loss': 1.8956583738327026}\n",
            "{'epoch': 0, 'step': 900, 'loss': 1.5430982112884521}\n",
            "{'epoch': 0, 'step': 950, 'loss': 1.2675111293792725}\n",
            "{'epoch': 0, 'step': 1000, 'loss': 1.1251039505004883}\n",
            "{'epoch': 0, 'step': 1050, 'loss': 3.1703970432281494}\n",
            "{'epoch': 0, 'step': 1100, 'loss': 2.8311824798583984}\n",
            "{'epoch': 0, 'step': 1150, 'loss': 0.9570984244346619}\n",
            "{'epoch': 0, 'step': 1200, 'loss': 5.523183345794678}\n",
            "{'epoch': 0, 'step': 1250, 'loss': 0.7288824319839478}\n",
            "{'epoch': 0, 'step': 1300, 'loss': 0.46923795342445374}\n",
            "{'epoch': 0, 'step': 1350, 'loss': 0.2835121750831604}\n",
            "{'epoch': 0, 'step': 1400, 'loss': 0.36498314142227173}\n",
            "{'epoch': 0, 'step': 1450, 'loss': 0.4050770401954651}\n",
            "{'epoch': 0, 'step': 1500, 'loss': 0.3812256455421448}\n",
            "{'epoch': 0, 'step': 1550, 'loss': 2.68306827545166}\n",
            "{'epoch': 0, 'step': 1600, 'loss': 1.8430922031402588}\n",
            "{'epoch': 0, 'step': 1650, 'loss': 0.7054527997970581}\n",
            "{'epoch': 0, 'step': 1700, 'loss': 0.252388060092926}\n",
            "{'epoch': 0, 'step': 1750, 'loss': 1.4278645515441895}\n",
            "{'epoch': 0, 'step': 1800, 'loss': 2.997596263885498}\n",
            "{'epoch': 0, 'step': 1850, 'loss': 1.9222427606582642}\n",
            "{'epoch': 0, 'step': 1900, 'loss': 0.3255913257598877}\n",
            "{'epoch': 0, 'step': 1950, 'loss': 3.019003391265869}\n",
            "{'epoch': 0, 'step': 2000, 'loss': 0.6656209826469421}\n",
            "{'epoch': 0, 'step': 2050, 'loss': 1.2152221202850342}\n",
            "{'epoch': 0, 'step': 2100, 'loss': 1.2130634784698486}\n",
            "{'epoch': 0, 'step': 2150, 'loss': 0.4907626211643219}\n",
            "{'epoch': 0, 'step': 2200, 'loss': 0.4392753839492798}\n",
            "{'epoch': 0, 'step': 2250, 'loss': 0.8645191192626953}\n",
            "{'epoch': 0, 'step': 2300, 'loss': 1.647219181060791}\n",
            "{'epoch': 0, 'step': 2350, 'loss': 0.751846194267273}\n",
            "{'epoch': 0, 'step': 2400, 'loss': 0.15366336703300476}\n",
            "{'epoch': 0, 'step': 2450, 'loss': 2.7945733070373535}\n",
            "{'epoch': 0, 'step': 2500, 'loss': 0.7652602791786194}\n",
            "{'epoch': 0, 'step': 2550, 'loss': 1.5733832120895386}\n",
            "{'epoch': 0, 'step': 2600, 'loss': 1.0402573347091675}\n",
            "{'epoch': 0, 'step': 2650, 'loss': 0.07313284277915955}\n",
            "{'epoch': 0, 'step': 2700, 'loss': 2.752750873565674}\n",
            "{'epoch': 0, 'step': 2750, 'loss': 1.1498793363571167}\n",
            "{'epoch': 0, 'step': 2800, 'loss': 0.4606848359107971}\n",
            "{'epoch': 0, 'step': 2850, 'loss': 0.8754897117614746}\n",
            "{'epoch': 0, 'step': 2900, 'loss': 0.9324198961257935}\n",
            "{'epoch': 0, 'step': 2950, 'loss': 0.3795243501663208}\n",
            "{'epoch': 0, 'step': 3000, 'loss': 2.175480365753174}\n",
            "{'epoch': 0, 'step': 3050, 'loss': 0.2583094835281372}\n",
            "{'epoch': 0, 'step': 3100, 'loss': 1.1601024866104126}\n",
            "{'epoch': 0, 'step': 3150, 'loss': 0.3355407416820526}\n",
            "{'epoch': 0, 'step': 3200, 'loss': 0.6887363195419312}\n",
            "{'epoch': 0, 'step': 3250, 'loss': 0.3453254997730255}\n",
            "{'epoch': 0, 'step': 3300, 'loss': 5.056014060974121}\n",
            "{'epoch': 0, 'step': 3350, 'loss': 3.145050048828125}\n",
            "{'epoch': 0, 'step': 3400, 'loss': 0.48309946060180664}\n",
            "{'epoch': 0, 'step': 3450, 'loss': 0.7393183708190918}\n",
            "{'epoch': 0, 'step': 3500, 'loss': 0.6821022033691406}\n",
            "{'epoch': 0, 'step': 3550, 'loss': 0.8777653574943542}\n",
            "{'epoch': 0, 'step': 3600, 'loss': 1.8432888984680176}\n",
            "{'epoch': 0, 'step': 3650, 'loss': 0.8613206148147583}\n",
            "{'epoch': 0, 'step': 3700, 'loss': 1.1654177904129028}\n",
            "{'epoch': 0, 'step': 3750, 'loss': 0.1547088772058487}\n",
            "{'epoch': 0, 'step': 3800, 'loss': 1.5137596130371094}\n",
            "{'epoch': 0, 'step': 3850, 'loss': 0.1056433767080307}\n",
            "{'epoch': 0, 'step': 3900, 'loss': 1.4711921215057373}\n",
            "{'epoch': 0, 'step': 3950, 'loss': 0.9890650510787964}\n",
            "{'epoch': 0, 'step': 4000, 'loss': 0.31378400325775146}\n",
            "{'epoch': 0, 'step': 4050, 'loss': 0.07368464022874832}\n",
            "{'epoch': 0, 'step': 4100, 'loss': 0.9715243577957153}\n",
            "{'epoch': 0, 'step': 4150, 'loss': 0.2080163061618805}\n",
            "{'epoch': 0, 'step': 4200, 'loss': 0.10139123350381851}\n",
            "{'epoch': 0, 'step': 4250, 'loss': 1.444136142730713}\n",
            "{'epoch': 0, 'step': 4300, 'loss': 0.7639979124069214}\n",
            "{'epoch': 0, 'step': 4350, 'loss': 1.5941438674926758}\n",
            "{'epoch': 0, 'step': 4400, 'loss': 0.5612139105796814}\n",
            "{'epoch': 0, 'step': 4450, 'loss': 0.1668788641691208}\n",
            "{'epoch': 0, 'step': 4500, 'loss': 0.7560588717460632}\n",
            "{'epoch': 0, 'step': 4550, 'loss': 2.8811802864074707}\n",
            "{'epoch': 0, 'step': 4600, 'loss': 0.8163228631019592}\n",
            "{'epoch': 0, 'step': 4650, 'loss': 0.38193535804748535}\n",
            "{'epoch': 0, 'step': 4700, 'loss': 2.5419540405273438}\n",
            "{'epoch': 0, 'step': 4750, 'loss': 0.37152713537216187}\n",
            "{'epoch': 0, 'step': 4800, 'loss': 0.44058677554130554}\n",
            "{'epoch': 0, 'step': 4850, 'loss': 1.1623506546020508}\n",
            "{'epoch': 0, 'step': 4900, 'loss': 1.37451171875}\n",
            "{'epoch': 0, 'step': 4950, 'loss': 0.12689749896526337}\n",
            "{'epoch': 0, 'step': 5000, 'loss': 0.11809161305427551}\n"
          ]
        },
        {
          "data": {
            "application/vnd.jupyter.widget-view+json": {
              "model_id": "cc696bf8a15a4aa4a63afe27764a52bc",
              "version_major": 2,
              "version_minor": 0
            },
            "text/plain": [
              "Iteration:   0%|          | 0/5001 [00:00<?, ?it/s]"
            ]
          },
          "metadata": {},
          "output_type": "display_data"
        },
        {
          "name": "stdout",
          "output_type": "stream",
          "text": [
            "{'epoch': 1, 'step': 0, 'loss': 0.1614847481250763}\n",
            "{'epoch': 1, 'step': 50, 'loss': 0.35084760189056396}\n",
            "{'epoch': 1, 'step': 100, 'loss': 1.3423324823379517}\n",
            "{'epoch': 1, 'step': 150, 'loss': 0.0944417342543602}\n",
            "{'epoch': 1, 'step': 200, 'loss': 0.2067795842885971}\n",
            "{'epoch': 1, 'step': 250, 'loss': 0.01170733105391264}\n",
            "{'epoch': 1, 'step': 300, 'loss': 0.16723987460136414}\n",
            "{'epoch': 1, 'step': 350, 'loss': 0.07557608932256699}\n",
            "{'epoch': 1, 'step': 400, 'loss': 0.484496533870697}\n",
            "{'epoch': 1, 'step': 450, 'loss': 0.015415122732520103}\n",
            "{'epoch': 1, 'step': 500, 'loss': 0.07821211218833923}\n",
            "{'epoch': 1, 'step': 550, 'loss': 0.014474182389676571}\n",
            "{'epoch': 1, 'step': 600, 'loss': 0.03631230443716049}\n",
            "{'epoch': 1, 'step': 650, 'loss': 0.027333594858646393}\n",
            "{'epoch': 1, 'step': 700, 'loss': 1.499333143234253}\n",
            "{'epoch': 1, 'step': 750, 'loss': 0.11334466189146042}\n",
            "{'epoch': 1, 'step': 800, 'loss': 0.13948775827884674}\n",
            "{'epoch': 1, 'step': 850, 'loss': 0.19221387803554535}\n",
            "{'epoch': 1, 'step': 900, 'loss': 0.23585623502731323}\n",
            "{'epoch': 1, 'step': 950, 'loss': 0.3085681200027466}\n",
            "{'epoch': 1, 'step': 1000, 'loss': 0.107447050511837}\n",
            "{'epoch': 1, 'step': 1050, 'loss': 0.7278267741203308}\n",
            "{'epoch': 1, 'step': 1100, 'loss': 0.26618707180023193}\n",
            "{'epoch': 1, 'step': 1150, 'loss': 0.023225611075758934}\n",
            "{'epoch': 1, 'step': 1200, 'loss': 0.2768816649913788}\n",
            "{'epoch': 1, 'step': 1250, 'loss': 0.11750299483537674}\n",
            "{'epoch': 1, 'step': 1300, 'loss': 0.03592607378959656}\n",
            "{'epoch': 1, 'step': 1350, 'loss': 0.042132668197155}\n",
            "{'epoch': 1, 'step': 1400, 'loss': 0.5390229821205139}\n",
            "{'epoch': 1, 'step': 1450, 'loss': 0.05142679810523987}\n",
            "{'epoch': 1, 'step': 1500, 'loss': 1.1052154302597046}\n",
            "{'epoch': 1, 'step': 1550, 'loss': 0.2546834349632263}\n",
            "{'epoch': 1, 'step': 1600, 'loss': 0.3026227355003357}\n",
            "{'epoch': 1, 'step': 1650, 'loss': 0.5903949737548828}\n",
            "{'epoch': 1, 'step': 1700, 'loss': 0.2665485441684723}\n",
            "{'epoch': 1, 'step': 1750, 'loss': 0.4561832547187805}\n",
            "{'epoch': 1, 'step': 1800, 'loss': 0.05269339308142662}\n",
            "{'epoch': 1, 'step': 1850, 'loss': 0.5553228855133057}\n",
            "{'epoch': 1, 'step': 1900, 'loss': 0.09987284243106842}\n",
            "{'epoch': 1, 'step': 1950, 'loss': 0.07121047377586365}\n",
            "{'epoch': 1, 'step': 2000, 'loss': 0.016061631962656975}\n",
            "{'epoch': 1, 'step': 2050, 'loss': 0.6294320821762085}\n",
            "{'epoch': 1, 'step': 2100, 'loss': 0.024721700698137283}\n",
            "{'epoch': 1, 'step': 2150, 'loss': 0.383938729763031}\n",
            "{'epoch': 1, 'step': 2200, 'loss': 0.5586053133010864}\n",
            "{'epoch': 1, 'step': 2250, 'loss': 0.0964595302939415}\n",
            "{'epoch': 1, 'step': 2300, 'loss': 0.36530330777168274}\n",
            "{'epoch': 1, 'step': 2350, 'loss': 0.08270664513111115}\n",
            "{'epoch': 1, 'step': 2400, 'loss': 0.06003773957490921}\n",
            "{'epoch': 1, 'step': 2450, 'loss': 0.1372443288564682}\n",
            "{'epoch': 1, 'step': 2500, 'loss': 1.0215035676956177}\n",
            "{'epoch': 1, 'step': 2550, 'loss': 0.20519734919071198}\n",
            "{'epoch': 1, 'step': 2600, 'loss': 1.3825322389602661}\n",
            "{'epoch': 1, 'step': 2650, 'loss': 0.16926226019859314}\n",
            "{'epoch': 1, 'step': 2700, 'loss': 0.4747532308101654}\n",
            "{'epoch': 1, 'step': 2750, 'loss': 0.5975379943847656}\n",
            "{'epoch': 1, 'step': 2800, 'loss': 0.4820142984390259}\n",
            "{'epoch': 1, 'step': 2850, 'loss': 0.7050634622573853}\n",
            "{'epoch': 1, 'step': 2900, 'loss': 0.8160442113876343}\n",
            "{'epoch': 1, 'step': 2950, 'loss': 0.8143892288208008}\n",
            "{'epoch': 1, 'step': 3000, 'loss': 0.07979372143745422}\n",
            "{'epoch': 1, 'step': 3050, 'loss': 0.05535569414496422}\n",
            "{'epoch': 1, 'step': 3100, 'loss': 0.02121002785861492}\n",
            "{'epoch': 1, 'step': 3150, 'loss': 3.1702961921691895}\n",
            "{'epoch': 1, 'step': 3200, 'loss': 0.028142426162958145}\n",
            "{'epoch': 1, 'step': 3250, 'loss': 0.026411287486553192}\n",
            "{'epoch': 1, 'step': 3300, 'loss': 0.2998102307319641}\n",
            "{'epoch': 1, 'step': 3350, 'loss': 0.1595369577407837}\n",
            "{'epoch': 1, 'step': 3400, 'loss': 0.5390964150428772}\n",
            "{'epoch': 1, 'step': 3450, 'loss': 0.005576741881668568}\n",
            "{'epoch': 1, 'step': 3500, 'loss': 0.2133503556251526}\n",
            "{'epoch': 1, 'step': 3550, 'loss': 0.012113351374864578}\n",
            "{'epoch': 1, 'step': 3600, 'loss': 0.10773932933807373}\n",
            "{'epoch': 1, 'step': 3650, 'loss': 0.00523065309971571}\n",
            "{'epoch': 1, 'step': 3700, 'loss': 0.4147140085697174}\n",
            "{'epoch': 1, 'step': 3750, 'loss': 0.39883023500442505}\n",
            "{'epoch': 1, 'step': 3800, 'loss': 1.0986162424087524}\n",
            "{'epoch': 1, 'step': 3850, 'loss': 1.0082800388336182}\n",
            "{'epoch': 1, 'step': 3900, 'loss': 0.028568144887685776}\n",
            "{'epoch': 1, 'step': 3950, 'loss': 0.12177005410194397}\n",
            "{'epoch': 1, 'step': 4000, 'loss': 0.25104227662086487}\n",
            "{'epoch': 1, 'step': 4050, 'loss': 0.7789802551269531}\n",
            "{'epoch': 1, 'step': 4100, 'loss': 0.05083393678069115}\n",
            "{'epoch': 1, 'step': 4150, 'loss': 0.009989386424422264}\n",
            "{'epoch': 1, 'step': 4200, 'loss': 0.5926365852355957}\n",
            "{'epoch': 1, 'step': 4250, 'loss': 0.10830186307430267}\n",
            "{'epoch': 1, 'step': 4300, 'loss': 0.19722841680049896}\n",
            "{'epoch': 1, 'step': 4350, 'loss': 0.12626264989376068}\n",
            "{'epoch': 1, 'step': 4400, 'loss': 0.1901944875717163}\n",
            "{'epoch': 1, 'step': 4450, 'loss': 0.09563392400741577}\n",
            "{'epoch': 1, 'step': 4500, 'loss': 0.6142081022262573}\n",
            "{'epoch': 1, 'step': 4550, 'loss': 0.3352697193622589}\n",
            "{'epoch': 1, 'step': 4600, 'loss': 1.997469186782837}\n",
            "{'epoch': 1, 'step': 4650, 'loss': 2.299086809158325}\n",
            "{'epoch': 1, 'step': 4700, 'loss': 0.07759660482406616}\n",
            "{'epoch': 1, 'step': 4750, 'loss': 0.12228076159954071}\n",
            "{'epoch': 1, 'step': 4800, 'loss': 0.03385917469859123}\n",
            "{'epoch': 1, 'step': 4850, 'loss': 0.36522912979125977}\n",
            "{'epoch': 1, 'step': 4900, 'loss': 0.03410358354449272}\n",
            "{'epoch': 1, 'step': 4950, 'loss': 0.34438708424568176}\n",
            "{'epoch': 1, 'step': 5000, 'loss': 0.018574725836515427}\n"
          ]
        },
        {
          "data": {
            "application/vnd.jupyter.widget-view+json": {
              "model_id": "38ec06db1fb241a3981b0380d6ce7919",
              "version_major": 2,
              "version_minor": 0
            },
            "text/plain": [
              "Iteration:   0%|          | 0/5001 [00:00<?, ?it/s]"
            ]
          },
          "metadata": {},
          "output_type": "display_data"
        },
        {
          "name": "stdout",
          "output_type": "stream",
          "text": [
            "{'epoch': 2, 'step': 0, 'loss': 0.23489829897880554}\n",
            "{'epoch': 2, 'step': 50, 'loss': 0.09463536739349365}\n",
            "{'epoch': 2, 'step': 100, 'loss': 0.03274427726864815}\n",
            "{'epoch': 2, 'step': 150, 'loss': 0.031769104301929474}\n",
            "{'epoch': 2, 'step': 200, 'loss': 0.1963762789964676}\n",
            "{'epoch': 2, 'step': 250, 'loss': 1.0071572065353394}\n",
            "{'epoch': 2, 'step': 300, 'loss': 0.0292824674397707}\n",
            "{'epoch': 2, 'step': 350, 'loss': 0.015553206205368042}\n",
            "{'epoch': 2, 'step': 400, 'loss': 0.0013863713247701526}\n",
            "{'epoch': 2, 'step': 450, 'loss': 0.3949871063232422}\n",
            "{'epoch': 2, 'step': 500, 'loss': 0.8535099029541016}\n",
            "{'epoch': 2, 'step': 550, 'loss': 0.0008604002650827169}\n",
            "{'epoch': 2, 'step': 600, 'loss': 0.0011603101156651974}\n",
            "{'epoch': 2, 'step': 650, 'loss': 0.00015256863844115287}\n",
            "{'epoch': 2, 'step': 700, 'loss': 0.0011077946983277798}\n",
            "{'epoch': 2, 'step': 750, 'loss': 0.007898322306573391}\n",
            "{'epoch': 2, 'step': 800, 'loss': 0.009769098833203316}\n",
            "{'epoch': 2, 'step': 850, 'loss': 0.007279332727193832}\n",
            "{'epoch': 2, 'step': 900, 'loss': 0.0019644671119749546}\n",
            "{'epoch': 2, 'step': 950, 'loss': 0.1460522711277008}\n",
            "{'epoch': 2, 'step': 1000, 'loss': 0.00024821990518830717}\n",
            "{'epoch': 2, 'step': 1050, 'loss': 0.026326747611165047}\n",
            "{'epoch': 2, 'step': 1100, 'loss': 0.8709774017333984}\n",
            "{'epoch': 2, 'step': 1150, 'loss': 0.3674132823944092}\n",
            "{'epoch': 2, 'step': 1200, 'loss': 0.0007772243116050959}\n",
            "{'epoch': 2, 'step': 1250, 'loss': 0.11808325350284576}\n",
            "{'epoch': 2, 'step': 1300, 'loss': 0.014376996085047722}\n",
            "{'epoch': 2, 'step': 1350, 'loss': 0.003619101829826832}\n",
            "{'epoch': 2, 'step': 1400, 'loss': 0.4256747364997864}\n",
            "{'epoch': 2, 'step': 1450, 'loss': 0.27819475531578064}\n",
            "{'epoch': 2, 'step': 1500, 'loss': 0.0035052266903221607}\n",
            "{'epoch': 2, 'step': 1550, 'loss': 0.059743814170360565}\n",
            "{'epoch': 2, 'step': 1600, 'loss': 0.03176463022828102}\n",
            "{'epoch': 2, 'step': 1650, 'loss': 0.6536637544631958}\n",
            "{'epoch': 2, 'step': 1700, 'loss': 0.0039764996618032455}\n",
            "{'epoch': 2, 'step': 1750, 'loss': 0.028283489868044853}\n",
            "{'epoch': 2, 'step': 1800, 'loss': 0.0010800554882735014}\n",
            "{'epoch': 2, 'step': 1850, 'loss': 0.011977212503552437}\n",
            "{'epoch': 2, 'step': 1900, 'loss': 0.11314153671264648}\n",
            "{'epoch': 2, 'step': 1950, 'loss': 0.01417042501270771}\n",
            "{'epoch': 2, 'step': 2000, 'loss': 0.00037610396975651383}\n",
            "{'epoch': 2, 'step': 2050, 'loss': 0.009418835863471031}\n",
            "{'epoch': 2, 'step': 2100, 'loss': 0.007638727780431509}\n",
            "{'epoch': 2, 'step': 2150, 'loss': 0.0011281776241958141}\n",
            "{'epoch': 2, 'step': 2200, 'loss': 0.0003723640111275017}\n",
            "{'epoch': 2, 'step': 2250, 'loss': 0.001460665836930275}\n",
            "{'epoch': 2, 'step': 2300, 'loss': 0.42754197120666504}\n",
            "{'epoch': 2, 'step': 2350, 'loss': 0.004623301327228546}\n",
            "{'epoch': 2, 'step': 2400, 'loss': 0.03799072280526161}\n",
            "{'epoch': 2, 'step': 2450, 'loss': 0.02788732759654522}\n",
            "{'epoch': 2, 'step': 2500, 'loss': 0.0015998450107872486}\n",
            "{'epoch': 2, 'step': 2550, 'loss': 0.6162705421447754}\n",
            "{'epoch': 2, 'step': 2600, 'loss': 0.006324196234345436}\n",
            "{'epoch': 2, 'step': 2650, 'loss': 0.1123928427696228}\n",
            "{'epoch': 2, 'step': 2700, 'loss': 0.06550133228302002}\n",
            "{'epoch': 2, 'step': 2750, 'loss': 0.010341866873204708}\n",
            "{'epoch': 2, 'step': 2800, 'loss': 0.00892250519245863}\n",
            "{'epoch': 2, 'step': 2850, 'loss': 0.07098311185836792}\n",
            "{'epoch': 2, 'step': 2900, 'loss': 0.0034289625473320484}\n",
            "{'epoch': 2, 'step': 2950, 'loss': 0.0002944229054264724}\n",
            "{'epoch': 2, 'step': 3000, 'loss': 0.052457939833402634}\n",
            "{'epoch': 2, 'step': 3050, 'loss': 0.033410731703042984}\n",
            "{'epoch': 2, 'step': 3100, 'loss': 0.0058423480950295925}\n",
            "{'epoch': 2, 'step': 3150, 'loss': 0.01361054740846157}\n",
            "{'epoch': 2, 'step': 3200, 'loss': 0.038527023047208786}\n",
            "{'epoch': 2, 'step': 3250, 'loss': 0.0002811372105497867}\n",
            "{'epoch': 2, 'step': 3300, 'loss': 0.01383238472044468}\n",
            "{'epoch': 2, 'step': 3350, 'loss': 0.9957795739173889}\n",
            "{'epoch': 2, 'step': 3400, 'loss': 0.005845247767865658}\n",
            "{'epoch': 2, 'step': 3450, 'loss': 0.02704591304063797}\n",
            "{'epoch': 2, 'step': 3500, 'loss': 0.0008314539445564151}\n",
            "{'epoch': 2, 'step': 3550, 'loss': 0.30988243222236633}\n",
            "{'epoch': 2, 'step': 3600, 'loss': 1.7563929557800293}\n",
            "{'epoch': 2, 'step': 3650, 'loss': 0.002872409764677286}\n",
            "{'epoch': 2, 'step': 3700, 'loss': 0.0003076787106692791}\n",
            "{'epoch': 2, 'step': 3750, 'loss': 0.18641631305217743}\n",
            "{'epoch': 2, 'step': 3800, 'loss': 0.008775257505476475}\n",
            "{'epoch': 2, 'step': 3850, 'loss': 0.02174726501107216}\n",
            "{'epoch': 2, 'step': 3900, 'loss': 0.05555197596549988}\n",
            "{'epoch': 2, 'step': 3950, 'loss': 0.6673808097839355}\n",
            "{'epoch': 2, 'step': 4000, 'loss': 0.26579609513282776}\n",
            "{'epoch': 2, 'step': 4050, 'loss': 0.9136659502983093}\n",
            "{'epoch': 2, 'step': 4100, 'loss': 2.4110209941864014}\n",
            "{'epoch': 2, 'step': 4150, 'loss': 0.11116069555282593}\n",
            "{'epoch': 2, 'step': 4200, 'loss': 0.19100606441497803}\n",
            "{'epoch': 2, 'step': 4250, 'loss': 1.7727274894714355}\n",
            "{'epoch': 2, 'step': 4300, 'loss': 0.07716331630945206}\n",
            "{'epoch': 2, 'step': 4350, 'loss': 1.1537789106369019}\n",
            "{'epoch': 2, 'step': 4400, 'loss': 0.12731212377548218}\n",
            "{'epoch': 2, 'step': 4450, 'loss': 0.00030349852750077844}\n",
            "{'epoch': 2, 'step': 4500, 'loss': 0.0010511056752875447}\n",
            "{'epoch': 2, 'step': 4550, 'loss': 0.09375820308923721}\n",
            "{'epoch': 2, 'step': 4600, 'loss': 0.003307217499241233}\n",
            "{'epoch': 2, 'step': 4650, 'loss': 0.006634610705077648}\n",
            "{'epoch': 2, 'step': 4700, 'loss': 0.001269787666387856}\n",
            "{'epoch': 2, 'step': 4750, 'loss': 0.003466942347586155}\n",
            "{'epoch': 2, 'step': 4800, 'loss': 0.005468027200549841}\n",
            "{'epoch': 2, 'step': 4850, 'loss': 0.12583890557289124}\n",
            "{'epoch': 2, 'step': 4900, 'loss': 0.00038979918463155627}\n",
            "{'epoch': 2, 'step': 4950, 'loss': 0.02578887902200222}\n",
            "{'epoch': 2, 'step': 5000, 'loss': 0.14018385112285614}\n"
          ]
        }
      ],
      "source": [
        "# Train!\n",
        "logger = logging.getLogger(__name__)\n",
        "logging.basicConfig(\n",
        "    format=\"%(asctime)s - %(levelname)s - %(name)s - %(message)s\",\n",
        "    datefmt=\"%m/%d/%Y %H:%M:%S\",\n",
        "    level=logging.INFO,\n",
        ")\n",
        "logger.info(accelerator.state)\n",
        "output_dir = 'model/'\n",
        "\n",
        "\n",
        "total_batch_size = train_batch_size * accelerator.num_processes * gradient_accumulation_steps\n",
        "\n",
        "logger.info(\"***** Running training *****\")\n",
        "logger.info(f\"  Num examples = {len(train_dataset)}\")\n",
        "logger.info(f\"  Num Epochs = {num_train_epochs}\")\n",
        "logger.info(f\"  Instantaneous batch size per device = {train_batch_size}\")\n",
        "logger.info(f\"  Total train batch size (w. parallel, distributed & accumulation) = {total_batch_size}\")\n",
        "logger.info(f\"  Gradient Accumulation steps = {gradient_accumulation_steps}\")\n",
        "logger.info(f\"  Total optimization steps = {max_train_steps}\")\n",
        "\n",
        "\n",
        "completed_steps = 0\n",
        "best_epoch = {\"epoch:\": 0, \"acc\": 0 }\n",
        "\n",
        "for epoch in trange(num_train_epochs, desc=\"Epoch\"):\n",
        "  model.train()\n",
        "  for step, batch in enumerate(tqdm(train_dataloader, desc=\"Iteration\")):\n",
        "    \n",
        "    outputs = model(**batch)\n",
        "    loss = outputs.loss\n",
        "    loss = loss / gradient_accumulation_steps\n",
        "    accelerator.backward(loss)\n",
        "    if step % gradient_accumulation_steps == 0 or step == len(train_dataloader) - 1:\n",
        "      optimizer.step()\n",
        "      lr_scheduler.step()\n",
        "      optimizer.zero_grad()\n",
        "      completed_steps += 1\n",
        "\n",
        "    if step % 50 == 0:\n",
        "      print({'epoch': epoch, 'step': step, 'loss': loss.item()})\n",
        "\n",
        "    if completed_steps >= max_train_steps:\n",
        "      break\n",
        "      \n",
        "  # logger.info(\"***** Running eval *****\")\n",
        "  # model.eval()\n",
        "  # for step, batch in enumerate(tqdm(eval_dataloader, desc=\"Eval Iteration\")):\n",
        "  #   outputs = model(**batch)\n",
        "  #   predictions = outputs.logits.argmax(dim=-1)\n",
        "  #   metric.add_batch(\n",
        "  #       predictions=accelerator.gather(predictions),\n",
        "  #       references=accelerator.gather(batch[\"labels\"]),\n",
        "  #   )\n",
        "\n",
        "  # eval_metric = metric.compute()\n",
        "  # logger.info(f\"epoch {epoch}: {eval_metric}\")\n",
        "  # if eval_metric > best_epoch['acc']:\n",
        "  #   best_epoch['epoch'] = num_train_epochs\n",
        "  #   best_epoch['acc'] = eval_metric\n",
        "\n",
        "\n",
        "  if output_dir is not None:\n",
        "    accelerator.wait_for_everyone()\n",
        "    unwrapped_model = accelerator.unwrap_model(model)\n",
        "    unwrapped_model.save_pretrained(output_dir + 'new_epoch_' + str(epoch) + '/', save_function=accelerator.save)\n"
      ]
    },
    {
      "cell_type": "code",
      "execution_count": null,
      "metadata": {
        "colab": {
          "base_uri": "https://localhost:8080/"
        },
        "id": "nASgwGPOpTNW",
        "outputId": "e414bcb9-2a88-4f14-dcb6-23a2c806f85f"
      },
      "outputs": [
        {
          "output_type": "stream",
          "name": "stdout",
          "text": [
            "Looking in indexes: https://pypi.org/simple, https://us-python.pkg.dev/colab-wheels/public/simple/\n",
            "Collecting transformers\n",
            "  Downloading transformers-4.25.1-py3-none-any.whl (5.8 MB)\n",
            "\u001b[K     |████████████████████████████████| 5.8 MB 5.0 MB/s \n",
            "\u001b[?25hCollecting datasets\n",
            "  Downloading datasets-2.7.1-py3-none-any.whl (451 kB)\n",
            "\u001b[K     |████████████████████████████████| 451 kB 69.2 MB/s \n",
            "\u001b[?25hCollecting accelerate\n",
            "  Downloading accelerate-0.15.0-py3-none-any.whl (191 kB)\n",
            "\u001b[K     |████████████████████████████████| 191 kB 75.0 MB/s \n",
            "\u001b[?25hRequirement already satisfied: requests in /usr/local/lib/python3.8/dist-packages (from transformers) (2.23.0)\n",
            "Requirement already satisfied: packaging>=20.0 in /usr/local/lib/python3.8/dist-packages (from transformers) (21.3)\n",
            "Requirement already satisfied: filelock in /usr/local/lib/python3.8/dist-packages (from transformers) (3.8.0)\n",
            "Requirement already satisfied: tqdm>=4.27 in /usr/local/lib/python3.8/dist-packages (from transformers) (4.64.1)\n",
            "Collecting huggingface-hub<1.0,>=0.10.0\n",
            "  Downloading huggingface_hub-0.11.1-py3-none-any.whl (182 kB)\n",
            "\u001b[K     |████████████████████████████████| 182 kB 67.8 MB/s \n",
            "\u001b[?25hCollecting tokenizers!=0.11.3,<0.14,>=0.11.1\n",
            "  Downloading tokenizers-0.13.2-cp38-cp38-manylinux_2_17_x86_64.manylinux2014_x86_64.whl (7.6 MB)\n",
            "\u001b[K     |████████████████████████████████| 7.6 MB 55.3 MB/s \n",
            "\u001b[?25hRequirement already satisfied: numpy>=1.17 in /usr/local/lib/python3.8/dist-packages (from transformers) (1.21.6)\n",
            "Requirement already satisfied: pyyaml>=5.1 in /usr/local/lib/python3.8/dist-packages (from transformers) (6.0)\n",
            "Requirement already satisfied: regex!=2019.12.17 in /usr/local/lib/python3.8/dist-packages (from transformers) (2022.6.2)\n",
            "Requirement already satisfied: typing-extensions>=3.7.4.3 in /usr/local/lib/python3.8/dist-packages (from huggingface-hub<1.0,>=0.10.0->transformers) (4.1.1)\n",
            "Requirement already satisfied: pyparsing!=3.0.5,>=2.0.2 in /usr/local/lib/python3.8/dist-packages (from packaging>=20.0->transformers) (3.0.9)\n",
            "Requirement already satisfied: fsspec[http]>=2021.11.1 in /usr/local/lib/python3.8/dist-packages (from datasets) (2022.11.0)\n",
            "Requirement already satisfied: aiohttp in /usr/local/lib/python3.8/dist-packages (from datasets) (3.8.3)\n",
            "Collecting responses<0.19\n",
            "  Downloading responses-0.18.0-py3-none-any.whl (38 kB)\n",
            "Requirement already satisfied: pyarrow>=6.0.0 in /usr/local/lib/python3.8/dist-packages (from datasets) (9.0.0)\n",
            "Collecting multiprocess\n",
            "  Downloading multiprocess-0.70.14-py38-none-any.whl (132 kB)\n",
            "\u001b[K     |████████████████████████████████| 132 kB 67.0 MB/s \n",
            "\u001b[?25hRequirement already satisfied: pandas in /usr/local/lib/python3.8/dist-packages (from datasets) (1.3.5)\n",
            "Collecting xxhash\n",
            "  Downloading xxhash-3.1.0-cp38-cp38-manylinux_2_17_x86_64.manylinux2014_x86_64.whl (212 kB)\n",
            "\u001b[K     |████████████████████████████████| 212 kB 76.0 MB/s \n",
            "\u001b[?25hRequirement already satisfied: dill<0.3.7 in /usr/local/lib/python3.8/dist-packages (from datasets) (0.3.6)\n",
            "Requirement already satisfied: multidict<7.0,>=4.5 in /usr/local/lib/python3.8/dist-packages (from aiohttp->datasets) (6.0.2)\n",
            "Requirement already satisfied: charset-normalizer<3.0,>=2.0 in /usr/local/lib/python3.8/dist-packages (from aiohttp->datasets) (2.1.1)\n",
            "Requirement already satisfied: yarl<2.0,>=1.0 in /usr/local/lib/python3.8/dist-packages (from aiohttp->datasets) (1.8.1)\n",
            "Requirement already satisfied: attrs>=17.3.0 in /usr/local/lib/python3.8/dist-packages (from aiohttp->datasets) (22.1.0)\n",
            "Requirement already satisfied: async-timeout<5.0,>=4.0.0a3 in /usr/local/lib/python3.8/dist-packages (from aiohttp->datasets) (4.0.2)\n",
            "Requirement already satisfied: aiosignal>=1.1.2 in /usr/local/lib/python3.8/dist-packages (from aiohttp->datasets) (1.3.1)\n",
            "Requirement already satisfied: frozenlist>=1.1.1 in /usr/local/lib/python3.8/dist-packages (from aiohttp->datasets) (1.3.3)\n",
            "Requirement already satisfied: certifi>=2017.4.17 in /usr/local/lib/python3.8/dist-packages (from requests->transformers) (2022.9.24)\n",
            "Requirement already satisfied: urllib3!=1.25.0,!=1.25.1,<1.26,>=1.21.1 in /usr/local/lib/python3.8/dist-packages (from requests->transformers) (1.24.3)\n",
            "Requirement already satisfied: idna<3,>=2.5 in /usr/local/lib/python3.8/dist-packages (from requests->transformers) (2.10)\n",
            "Requirement already satisfied: chardet<4,>=3.0.2 in /usr/local/lib/python3.8/dist-packages (from requests->transformers) (3.0.4)\n",
            "Collecting urllib3!=1.25.0,!=1.25.1,<1.26,>=1.21.1\n",
            "  Downloading urllib3-1.25.11-py2.py3-none-any.whl (127 kB)\n",
            "\u001b[K     |████████████████████████████████| 127 kB 72.3 MB/s \n",
            "\u001b[?25hRequirement already satisfied: psutil in /usr/local/lib/python3.8/dist-packages (from accelerate) (5.4.8)\n",
            "Requirement already satisfied: torch>=1.4.0 in /usr/local/lib/python3.8/dist-packages (from accelerate) (1.12.1+cu113)\n",
            "Requirement already satisfied: pytz>=2017.3 in /usr/local/lib/python3.8/dist-packages (from pandas->datasets) (2022.6)\n",
            "Requirement already satisfied: python-dateutil>=2.7.3 in /usr/local/lib/python3.8/dist-packages (from pandas->datasets) (2.8.2)\n",
            "Requirement already satisfied: six>=1.5 in /usr/local/lib/python3.8/dist-packages (from python-dateutil>=2.7.3->pandas->datasets) (1.15.0)\n",
            "Installing collected packages: urllib3, xxhash, tokenizers, responses, multiprocess, huggingface-hub, transformers, datasets, accelerate\n",
            "  Attempting uninstall: urllib3\n",
            "    Found existing installation: urllib3 1.24.3\n",
            "    Uninstalling urllib3-1.24.3:\n",
            "      Successfully uninstalled urllib3-1.24.3\n",
            "Successfully installed accelerate-0.15.0 datasets-2.7.1 huggingface-hub-0.11.1 multiprocess-0.70.14 responses-0.18.0 tokenizers-0.13.2 transformers-4.25.1 urllib3-1.25.11 xxhash-3.1.0\n"
          ]
        }
      ],
      "source": [
        "!pip install transformers datasets accelerate"
      ]
    },
    {
      "cell_type": "code",
      "execution_count": null,
      "metadata": {
        "id": "4SOfZfKfpaXB"
      },
      "outputs": [],
      "source": [
        "from transformers import BartTokenizerFast, BartForQuestionAnswering, AutoConfig, default_data_collator\n",
        "from torch.utils.data import DataLoader\n",
        "from accelerate import Accelerator\n",
        "from tqdm.auto import tqdm\n",
        "import json"
      ]
    },
    {
      "cell_type": "code",
      "execution_count": null,
      "metadata": {
        "colab": {
          "base_uri": "https://localhost:8080/"
        },
        "id": "NtPi9FjxpdJB",
        "outputId": "337406f2-49bf-4333-a33f-650607969772"
      },
      "outputs": [
        {
          "output_type": "stream",
          "name": "stdout",
          "text": [
            "Mounted at /content/drive\n"
          ]
        }
      ],
      "source": [
        "from google.colab import drive\n",
        "drive.mount('/content/drive', force_remount=True)"
      ]
    },
    {
      "cell_type": "code",
      "execution_count": null,
      "metadata": {
        "colab": {
          "base_uri": "https://localhost:8080/"
        },
        "id": "Oz9_mfeS3M2-",
        "outputId": "101f4f22-f059-4067-fa1b-4f753b4dc540"
      },
      "outputs": [
        {
          "output_type": "stream",
          "name": "stdout",
          "text": [
            "\u001b[0m\u001b[01;34mmodel\u001b[0m/\n"
          ]
        }
      ],
      "source": [
        "%ls"
      ]
    },
    {
      "cell_type": "code",
      "execution_count": null,
      "metadata": {
        "id": "GjGK6IUl3Eqq",
        "colab": {
          "base_uri": "https://localhost:8080/"
        },
        "outputId": "0da914f3-f5b2-4a5e-9905-4e48cba7d395"
      },
      "outputs": [
        {
          "output_type": "stream",
          "name": "stdout",
          "text": [
            "shell-init: error retrieving current directory: getcwd: cannot access parent directories: Transport endpoint is not connected\n",
            "fusermount: bad mount point drive: Transport endpoint is not connected\n",
            "shell-init: error retrieving current directory: getcwd: cannot access parent directories: Transport endpoint is not connected\n",
            "/bin/bash: google-drive-ocamlfuse: command not found\n"
          ]
        }
      ],
      "source": [
        "!fusermount -u drive\n",
        "!google-drive-ocamlfuse drive"
      ]
    },
    {
      "cell_type": "code",
      "execution_count": null,
      "metadata": {
        "colab": {
          "base_uri": "https://localhost:8080/"
        },
        "id": "bf0E2N3IpeG6",
        "outputId": "f39c8ece-9b06-4701-fd44-bb0829acb5f5"
      },
      "outputs": [
        {
          "output_type": "stream",
          "name": "stdout",
          "text": [
            "/content/drive/MyDrive/Colab Notebooks/BERT_DRCD\n"
          ]
        }
      ],
      "source": [
        "%cd ./drive/\"MyDrive\"/\"Colab Notebooks\"/BERT_DRCD\n",
        "# %ls ./model/"
      ]
    },
    {
      "cell_type": "code",
      "execution_count": null,
      "metadata": {
        "id": "XS3w30zopgG5"
      },
      "outputs": [],
      "source": [
        "from transformers import AutoTokenizer, AutoConfig, BertForQuestionAnswering\n",
        "tokenizer = AutoTokenizer.from_pretrained('bert-base-chinese')\n",
        "config = AutoConfig.from_pretrained('./model/new_epoch_2/config.json')\n",
        "model = BertForQuestionAnswering.from_pretrained('./model/new_epoch_2/pytorch_model.bin', config=config)"
      ]
    },
    {
      "cell_type": "code",
      "execution_count": null,
      "metadata": {
        "id": "uzo_Gdj8qP08"
      },
      "outputs": [],
      "source": [
        "from pathlib import Path\n",
        "def read_data(path, limit=None):\n",
        "    path = Path(path)\n",
        "    with open(path, 'rb') as f:\n",
        "        data_dict = json.load(f)\n",
        "\n",
        "    contexts = []\n",
        "    questions = []\n",
        "    answers = []\n",
        "    unanswers = {'text': '', 'answer_start': 0}\n",
        "    for group in data_dict['data']:\n",
        "        for passage in group['paragraphs']:\n",
        "            context = passage['context']\n",
        "            for qa in passage['qas']:\n",
        "                question = qa['question']\n",
        "                answer_list = qa['answers']\n",
        "                if len(answer_list) == 0:\n",
        "                  contexts.append(context)\n",
        "                  questions.append(question)\n",
        "                  answers.append(unanswers)\n",
        "                else:\n",
        "                  for answer in answer_list:\n",
        "                    contexts.append(context)\n",
        "                    questions.append(question)\n",
        "                    answers.append(answer)\n",
        "                  if limit != None and len(contexts) > limit:\n",
        "                    return contexts, questions, answers\n",
        "                  \n",
        "    return contexts, questions, answers"
      ]
    },
    {
      "cell_type": "code",
      "execution_count": null,
      "metadata": {
        "id": "unEy2XEnqS7s"
      },
      "outputs": [],
      "source": [
        "# eval_contexts, eval_questions, eval_answers = read_data('dev-v2.0.json',2000)\n",
        "eval_contexts, eval_questions, eval_answers = read_data(eval_path,2000)"
      ]
    },
    {
      "cell_type": "code",
      "source": [
        "print(eval_contexts[0])\n",
        "print(eval_questions[0])\n",
        "print(eval_answers[0])"
      ],
      "metadata": {
        "colab": {
          "base_uri": "https://localhost:8080/"
        },
        "id": "2du7pRGR8fzb",
        "outputId": "18a6c3e3-a3c8-4f21-c9c6-1c0293b298cd"
      },
      "execution_count": null,
      "outputs": [
        {
          "output_type": "stream",
          "name": "stdout",
          "text": [
            "在歐洲，梵語的學術研究，由德國學者陸特和漢斯雷頓開創。後來威廉·瓊斯發現印歐語系，也要歸功於對梵語的研究。此外，梵語研究，也對西方文字學及歷史語言學的發展，貢獻不少。1786年2月2日，亞洲協會在加爾各答舉行。會中，威廉·瓊斯發表了下面這段著名的言論：「梵語儘管非常古老，構造卻精妙絕倫：比希臘語還完美，比拉丁語還豐富，精緻之處同時勝過此兩者，但在動詞詞根和語法形式上，又跟此兩者無比相似，不可能是巧合的結果。這三種語言太相似了，使任何同時稽考三者的語文學家都不得不相信三者同出一源，出自一種可能已經消逝的語言。基於相似的原因，儘管缺少同樣有力的證據，我們可以推想哥德語和凱爾特語，雖然混入了迥然不同的語彙，也與梵語有著相同的起源；而古波斯語可能也是這一語系的子裔。」\n",
            "陸特和漢斯雷頓開創了哪一地區對梵語的學術研究？\n",
            "{'id': '1', 'text': '歐洲', 'answer_start': 1}\n"
          ]
        }
      ]
    },
    {
      "cell_type": "code",
      "execution_count": null,
      "metadata": {
        "id": "aoWRowyIqVne"
      },
      "outputs": [],
      "source": [
        "def add_end_idx(answers):\n",
        "    for answer in answers:\n",
        "        gold_text = answer['text']\n",
        "        start_idx = answer['answer_start']\n",
        "        if gold_text == '':\n",
        "          end_idx = 0\n",
        "        else:\n",
        "          end_idx = start_idx + len(gold_text) # Find end character index of answer in context\n",
        "        answer['answer_end'] = end_idx\n",
        "\n",
        "add_end_idx(eval_answers)"
      ]
    },
    {
      "cell_type": "code",
      "execution_count": null,
      "metadata": {
        "id": "_B-gUVQIqXr0"
      },
      "outputs": [],
      "source": [
        "eval_encodings = tokenizer(eval_contexts, eval_questions, truncation=True, padding=True)"
      ]
    },
    {
      "cell_type": "code",
      "execution_count": null,
      "metadata": {
        "id": "IMkor3s0qZNA"
      },
      "outputs": [],
      "source": [
        "def add_token_positions(encodings,answers):\n",
        "  start_positions = []\n",
        "  end_positions = []\n",
        "  for i in range(len(answers)):\n",
        "    if answers[i]['answer_start'] == 0 and answers[i]['answer_end'] == 0:\n",
        "      start_positions.append(0)\n",
        "      end_positions.append(0)\n",
        "    else:\n",
        "      start_positions.append(encodings.char_to_token(i, answers[i]['answer_start']))\n",
        "      end_positions.append(encodings.char_to_token(i, answers[i]['answer_end'] - 1))\n",
        "    # if None, the answer passage has been truncated\n",
        "    if start_positions[-1] is None:\n",
        "      start_positions[-1] = tokenizer.model_max_length\n",
        "    if end_positions[-1] is None:\n",
        "      end_positions[-1] = tokenizer.model_max_length\n",
        "  encodings.update({'start_positions': start_positions, 'end_positions': end_positions})"
      ]
    },
    {
      "cell_type": "code",
      "execution_count": null,
      "metadata": {
        "colab": {
          "base_uri": "https://localhost:8080/"
        },
        "id": "pX0NoPL-qbmO",
        "outputId": "502d96ba-bd79-4bef-92a8-c7d106705054"
      },
      "outputs": [
        {
          "output_type": "stream",
          "name": "stdout",
          "text": [
            "2002\n"
          ]
        }
      ],
      "source": [
        "print(len(eval_answers))\n",
        "add_token_positions(eval_encodings, eval_answers)"
      ]
    },
    {
      "cell_type": "code",
      "execution_count": null,
      "metadata": {
        "id": "zMJCLQGSqcvY"
      },
      "outputs": [],
      "source": [
        "import torch\n",
        "class Dataset(torch.utils.data.Dataset):\n",
        "  def __init__(self, encodings):\n",
        "    self.encodings = encodings\n",
        "\n",
        "  def __getitem__(self, idx):\n",
        "    return {key: torch.tensor(val[idx]) for key, val in self.encodings.items()}\n",
        "\n",
        "  def __len__(self):\n",
        "    return len(self.encodings.input_ids)"
      ]
    },
    {
      "cell_type": "code",
      "execution_count": null,
      "metadata": {
        "id": "ORYlXKWhqdgA"
      },
      "outputs": [],
      "source": [
        "eval_dataset = Dataset(eval_encodings)"
      ]
    },
    {
      "cell_type": "code",
      "source": [
        "from transformers import BertTokenizerFast, BertForQuestionAnswering, AutoConfig, default_data_collator\n",
        "from torch.utils.data import DataLoader\n",
        "from accelerate import Accelerator\n",
        "from tqdm.auto import tqdm\n",
        "import json"
      ],
      "metadata": {
        "id": "3kBSPc4tN4qO"
      },
      "execution_count": null,
      "outputs": []
    },
    {
      "cell_type": "code",
      "execution_count": null,
      "metadata": {
        "id": "3xWRqgl_qeZS"
      },
      "outputs": [],
      "source": [
        "eval_batch_size = 12      # 設定 batch size\n",
        "data_collator = default_data_collator\n",
        "\n",
        "eval_dataloader = DataLoader(eval_dataset, collate_fn=data_collator, batch_size=eval_batch_size)\n",
        "\n",
        "# Initialize the accelerator. We will let the accelerator handle device placement for us in this example.\n",
        "accelerator = Accelerator()\n",
        "\n",
        "# Prepare everything with our `accelerator`.\n",
        "model, eval_dataloader = accelerator.prepare(\n",
        "    model, eval_dataloader\n",
        ")"
      ]
    },
    {
      "cell_type": "code",
      "source": [
        "from transformers import AutoTokenizer\n",
        "tokenizer = AutoTokenizer.from_pretrained('bert-base-chinese')\n",
        "\n",
        "print(\"***** Running eval *****\")\n",
        "model.eval()\n",
        "score = []\n",
        "pre = []\n",
        "ref = []\n",
        "prediction_text = []\n",
        "answer_text = []\n",
        "index = 0\n",
        "\n",
        "for batch in eval_dataloader:\n",
        "  with torch.no_grad():\n",
        "    # context = batch['context']\n",
        "    input_ids = batch['input_ids']\n",
        "    attention_mask = batch['attention_mask']\n",
        "    start_position = batch['start_positions']\n",
        "    end_position = batch['end_positions']\n",
        "\n",
        "    outputs = model(input_ids, attention_mask = attention_mask)\n",
        "    start_pred = torch.argmax(outputs['start_logits'], dim=1)\n",
        "    end_pred = torch.argmax(outputs['end_logits'], dim=1)\n",
        "\n",
        "\n",
        "    for i in range(len(input_ids)):\n",
        "      # print(tokenizer.decode(input_ids[i]))\n",
        "      # context=tokenizer.decode(input_ids[i])\n",
        "      # print('問題:',context[context.find('[SEP]'): context.rfind('[SEP]')])\n",
        "      pre_text=tokenizer.decode(input_ids[i][start_position[i]: end_position[i]])\n",
        "      ref_text=tokenizer.decode(input_ids[i][start_pred[i]: end_pred[i]])\n",
        "      # print('預測:',pre_text)\n",
        "      # print('答案:',ref_text)\n",
        "      # print(\"--------------------------------------\")\n",
        "      prediction_text.append(pre_text)\n",
        "      answer_text.append(ref_text)\n",
        "      pre.append({'prediction_text': pre_text, 'id': str(index)})\n",
        "      ref.append({'answer': {'answer_start': start_pred[i], 'text': ref_text}, 'id': str(index)})\n",
        "\n",
        "  \n",
        "\n",
        "    score.append(((start_pred == start_position).sum()/len(start_pred)).item())\n",
        "    score.append(((end_pred == end_position).sum()/len(end_pred)).item())\n",
        "\n",
        "    index+=1\n",
        "\n",
        "score = sum(score)/len(score)"
      ],
      "metadata": {
        "colab": {
          "base_uri": "https://localhost:8080/"
        },
        "id": "DXRrmTqyH5-0",
        "outputId": "d5ac908e-4211-41a7-f311-70addb43b860"
      },
      "execution_count": null,
      "outputs": [
        {
          "output_type": "stream",
          "name": "stdout",
          "text": [
            "***** Running eval *****\n"
          ]
        }
      ]
    },
    {
      "cell_type": "code",
      "source": [
        "score"
      ],
      "metadata": {
        "colab": {
          "base_uri": "https://localhost:8080/"
        },
        "id": "VJVZKrvxIes6",
        "outputId": "2143c14f-bedb-4602-e96e-ed4aa3b29275"
      },
      "execution_count": null,
      "outputs": [
        {
          "output_type": "execute_result",
          "data": {
            "text/plain": [
              "0.402744512960404"
            ]
          },
          "metadata": {},
          "execution_count": 28
        }
      ]
    },
    {
      "cell_type": "code",
      "source": [
        "torch.save(model,\"./test_model2\")"
      ],
      "metadata": {
        "id": "8G1GeiSfKf3D"
      },
      "execution_count": null,
      "outputs": []
    },
    {
      "cell_type": "code",
      "source": [
        "!pip install evaluate"
      ],
      "metadata": {
        "colab": {
          "base_uri": "https://localhost:8080/"
        },
        "id": "s3gN8Ti-37Zx",
        "outputId": "9d8b6ce3-145e-4c2b-f21e-5b93383515b8"
      },
      "execution_count": null,
      "outputs": [
        {
          "output_type": "stream",
          "name": "stdout",
          "text": [
            "Looking in indexes: https://pypi.org/simple, https://us-python.pkg.dev/colab-wheels/public/simple/\n",
            "Collecting evaluate\n",
            "  Downloading evaluate-0.3.0-py3-none-any.whl (72 kB)\n",
            "\u001b[K     |████████████████████████████████| 72 kB 1.4 MB/s \n",
            "\u001b[?25hRequirement already satisfied: xxhash in /usr/local/lib/python3.8/dist-packages (from evaluate) (3.1.0)\n",
            "Requirement already satisfied: dill in /usr/local/lib/python3.8/dist-packages (from evaluate) (0.3.6)\n",
            "Requirement already satisfied: fsspec[http]>=2021.05.0 in /usr/local/lib/python3.8/dist-packages (from evaluate) (2022.11.0)\n",
            "Requirement already satisfied: huggingface-hub>=0.7.0 in /usr/local/lib/python3.8/dist-packages (from evaluate) (0.11.1)\n",
            "Requirement already satisfied: pandas in /usr/local/lib/python3.8/dist-packages (from evaluate) (1.3.5)\n",
            "Requirement already satisfied: multiprocess in /usr/local/lib/python3.8/dist-packages (from evaluate) (0.70.14)\n",
            "Requirement already satisfied: datasets>=2.0.0 in /usr/local/lib/python3.8/dist-packages (from evaluate) (2.7.1)\n",
            "Requirement already satisfied: responses<0.19 in /usr/local/lib/python3.8/dist-packages (from evaluate) (0.18.0)\n",
            "Requirement already satisfied: requests>=2.19.0 in /usr/local/lib/python3.8/dist-packages (from evaluate) (2.23.0)\n",
            "Requirement already satisfied: tqdm>=4.62.1 in /usr/local/lib/python3.8/dist-packages (from evaluate) (4.64.1)\n",
            "Requirement already satisfied: numpy>=1.17 in /usr/local/lib/python3.8/dist-packages (from evaluate) (1.21.6)\n",
            "Requirement already satisfied: packaging in /usr/local/lib/python3.8/dist-packages (from evaluate) (21.3)\n",
            "Requirement already satisfied: pyyaml>=5.1 in /usr/local/lib/python3.8/dist-packages (from datasets>=2.0.0->evaluate) (6.0)\n",
            "Requirement already satisfied: pyarrow>=6.0.0 in /usr/local/lib/python3.8/dist-packages (from datasets>=2.0.0->evaluate) (9.0.0)\n",
            "Requirement already satisfied: aiohttp in /usr/local/lib/python3.8/dist-packages (from datasets>=2.0.0->evaluate) (3.8.3)\n",
            "Requirement already satisfied: charset-normalizer<3.0,>=2.0 in /usr/local/lib/python3.8/dist-packages (from aiohttp->datasets>=2.0.0->evaluate) (2.1.1)\n",
            "Requirement already satisfied: aiosignal>=1.1.2 in /usr/local/lib/python3.8/dist-packages (from aiohttp->datasets>=2.0.0->evaluate) (1.3.1)\n",
            "Requirement already satisfied: multidict<7.0,>=4.5 in /usr/local/lib/python3.8/dist-packages (from aiohttp->datasets>=2.0.0->evaluate) (6.0.2)\n",
            "Requirement already satisfied: yarl<2.0,>=1.0 in /usr/local/lib/python3.8/dist-packages (from aiohttp->datasets>=2.0.0->evaluate) (1.8.1)\n",
            "Requirement already satisfied: async-timeout<5.0,>=4.0.0a3 in /usr/local/lib/python3.8/dist-packages (from aiohttp->datasets>=2.0.0->evaluate) (4.0.2)\n",
            "Requirement already satisfied: attrs>=17.3.0 in /usr/local/lib/python3.8/dist-packages (from aiohttp->datasets>=2.0.0->evaluate) (22.1.0)\n",
            "Requirement already satisfied: frozenlist>=1.1.1 in /usr/local/lib/python3.8/dist-packages (from aiohttp->datasets>=2.0.0->evaluate) (1.3.3)\n",
            "Requirement already satisfied: filelock in /usr/local/lib/python3.8/dist-packages (from huggingface-hub>=0.7.0->evaluate) (3.8.0)\n",
            "Requirement already satisfied: typing-extensions>=3.7.4.3 in /usr/local/lib/python3.8/dist-packages (from huggingface-hub>=0.7.0->evaluate) (4.1.1)\n",
            "Requirement already satisfied: pyparsing!=3.0.5,>=2.0.2 in /usr/local/lib/python3.8/dist-packages (from packaging->evaluate) (3.0.9)\n",
            "Requirement already satisfied: idna<3,>=2.5 in /usr/local/lib/python3.8/dist-packages (from requests>=2.19.0->evaluate) (2.10)\n",
            "Requirement already satisfied: urllib3!=1.25.0,!=1.25.1,<1.26,>=1.21.1 in /usr/local/lib/python3.8/dist-packages (from requests>=2.19.0->evaluate) (1.25.11)\n",
            "Requirement already satisfied: chardet<4,>=3.0.2 in /usr/local/lib/python3.8/dist-packages (from requests>=2.19.0->evaluate) (3.0.4)\n",
            "Requirement already satisfied: certifi>=2017.4.17 in /usr/local/lib/python3.8/dist-packages (from requests>=2.19.0->evaluate) (2022.9.24)\n",
            "Requirement already satisfied: python-dateutil>=2.7.3 in /usr/local/lib/python3.8/dist-packages (from pandas->evaluate) (2.8.2)\n",
            "Requirement already satisfied: pytz>=2017.3 in /usr/local/lib/python3.8/dist-packages (from pandas->evaluate) (2022.6)\n",
            "Requirement already satisfied: six>=1.5 in /usr/local/lib/python3.8/dist-packages (from python-dateutil>=2.7.3->pandas->evaluate) (1.15.0)\n",
            "Installing collected packages: evaluate\n",
            "Successfully installed evaluate-0.3.0\n"
          ]
        }
      ]
    },
    {
      "cell_type": "code",
      "source": [
        "from evaluate import load\n",
        "exact_match_metric = load(\"exact_match\")\n",
        "em_results = exact_match_metric.compute(predictions=prediction_text, references=answer_text)\n",
        "print('em:',em_results)\n",
        "print(prediction_text)\n",
        "print(answer_text)\n"
      ],
      "metadata": {
        "id": "9q8HJo2u7OQc",
        "colab": {
          "base_uri": "https://localhost:8080/",
          "height": 124,
          "referenced_widgets": [
            "4e90e35a1daf40c49c5a48e0ec8ce0e9",
            "8bf980bbf54c430f857bea57eb0340db",
            "2502fe9f485148fdba7f9aa9f5106529",
            "e179560fbf7647dd8f4538c3c764af8f",
            "bb50e974985346608eaceb3e12f52d15",
            "450318511a134d27899ff73b8fb75cf2",
            "42fbe58093ff42fa8d2da124038726ad",
            "ccf284493e6f40498e33076b8cf14d40",
            "f46bff5352964d908c1cc4ab5eb78906",
            "104d1c11472d48a085284cc25683e214",
            "f017e58cff324b708082b3d7967623fe"
          ]
        },
        "outputId": "71b5fdd8-05fc-432f-edcd-3b73f70c90c0"
      },
      "execution_count": null,
      "outputs": [
        {
          "output_type": "display_data",
          "data": {
            "text/plain": [
              "Downloading builder script:   0%|          | 0.00/5.67k [00:00<?, ?B/s]"
            ],
            "application/vnd.jupyter.widget-view+json": {
              "version_major": 2,
              "version_minor": 0,
              "model_id": "4e90e35a1daf40c49c5a48e0ec8ce0e9"
            }
          },
          "metadata": {}
        },
        {
          "output_type": "stream",
          "name": "stdout",
          "text": [
            "em: {'exact_match': 0.3191808191808192}\n",
            "['L', 'L', '斯', '斯', ' 究 。', ' 究 。', ' 語 文 獻 的 ', ' 語 文 獻 的 ', '的 ； ', '的 ； ', ' 系 ', ' 系 ', '清 ', '清 ', '用', '用', '0 年', '90 年 ', 'CLS', 'CLS', '島 、 亮', '島 、 亮', ' ', '的 馬 ', 'CLS', 'CLS', ' 與 ', ' 與 ', '、 廚', ' ', '犬 燈 ', '燈 ', ' 花 崗 石 建 造 的 洋 式 燈 ', ' 洋 式 燈 ', ' 例 。', ' 例 。', '艇 ', '艇 ', ' 新 型', ' 新 型', '了 南 ', '南 ', ' 業 ', 'S] ', '有 ', '有 ', '祖 戰 ', '祖 戰 ', ' 學', ' 學', ' ', ' ', ' 村 牛 角 社 區', ' 村 牛 角 社 區', '財 庫 。 馬 ', '財 庫 。 馬 ', ' 本 境 ', ' 本 境 ', ' 庫 戶 ', ' 補 庫 戶 ', 'C', 'C', '、 ', ' 高', '軍 ', ' 光', '政 府 所', '政 府 所', ' ', ' ', '連 ', '連 ', ' ', ' ', '的', '的', ' ', ' ', ' 28', ' 28', '', '日 序', ' 紀 ， 此 為', ' 小 紀 ， 此 為', 'C', 'C', '打 至', '打 至', ' ', ' 明 ', '球 ', '球 ', ' ', ' ', '', '', 'S', 'S', '賽', '賽', ' 賽 ', ' 賽 ', 'NK] 」', 'NK] 」', ' 方 法 ', ' 方 法 ', '離 地 ', '離 地 ', ' 球', ' 球', '', '', '改 良 ， 用 網 代 ', '改 良 ， 用 網 代 ', 'C', 'C', '和', '和', ' ， 使 對 手 難 以 回 球 。 截', ' 截', '1926 ', '1926 ', '運 動 員 組 成 。 最 值 得 稱 道 的 早', '運 動 員 組 成 。 最 值 得 稱 道 的 早', '又 稱 公', ' 了 開 放 年 代 ， 又 稱 公', ' 發 ', ' 發 ', '、', '、', ' ', ' ', ' 中 一 名 ', ' 中 一 名 ', ' 般 站 在 發 球 手 的 斜 對', ' 一 般 站 在 發 球 手 的 斜 對', '用 手 將 球 拋 向', '該 用 手 將 球 拋 向', '', '球', '4', ' 4 ', ' 網 ', '右 邊 開 始 。 網 ', ' ', ' ', ' ', ' ', '舉', '舉', '業 ', '業 和', ' 就', ' 就', ' 教', ' 教', '路 ', '路 ', '由', '要 路', '景 點 ', '景 點 ', '南 客 運 、 基 ', ' 新 北 客 ', ' 市 市 區 公 車 由 臺 北 市', ' 市 市 區 公 車 由 臺 北 市', '和 新 北 市 ', '和 新 北 市 ', ' 自 ', ' 自 ', '運 ', '運 ', ' 公', ' 公', ' 2', ' 2', '', ' 多 ', '北 市 在 醫 療 ', '北 市 在 醫 療 ', ' 市 眷 村 ', ' 市 眷 村 ', '0 年 第 一', '0 年 第 一', '、 新 北 市 三 峽 藍 染 節 。 新 北 市 政 府 在 2011 ', '、 新 北 市 三 峽 藍 染 節 。 新 北 市 政 府 在 2011 ', '發 展 與', '發', '', '員 遼', ' 多 溪', ' 多 溪', 'CL', 'CL', '縣 、 西 南', '縣 、 西 南', '新 ', '新 ', 'LS] 《 國', 'CLS] 《 國 ', 'LS] 《 國', 'CLS] 《 國 ', ' 以 及 討 論 物 種 命 名', '種 以 及 討 論 物 種 命 名', '博 物 學 家 ', '博 物 學', ' 命 名', '瑞', '', '界', 'S] 鑑 於 新 教', 'CLS] 鑑 於 新 教', ' 正 典', ' 正 典', ' 世 在 1', '在', '在', ' 主 耶 穌', ' 記', ' 記', '或', '一 世 紀 末 或 ', ' ', '書 、', '。 書', ' 。 書 ', '樣 ', '樣 ', '300 年 ， 記', '300 ', '可 以 接', '清', ' 徒 ', ' 徒 ', 'CLS', 'CLS', '有 沿', '有 沿', ' 漠', ' 漠', 'CLS', 'CLS', '時', '鬥 ，', '月 ，', '月', '由', 'S] 由', '周 遭', '周 遭', ' ', ' 都', '', ' 在', '後 來 演 變 為 防 禦 敵 方 ', '後 來 演 變 為 防 禦 敵 方 ', '在 ', '在', ' 自 ', ' 自 ', ' 入 ', ' 入 ', ' 的 痕 ', ' 的 痕 ', '平 洋', '平 洋', ' 平', ' 平', '。 關 島 於 ', '。 關 島 於 ', ' 完 善 。 大 多 ', ' 完 善 。 大 多 ', ' 20 至 25 年 前 服 務 經 常 中 斷 的 情 況 相 ', '情 況 相 ', '國 內 業 務 ，', '作 國 內 業 務 ， 因 而 不 ', ' 。 關 ', ' 。 關 ', '要 ', '要 遊 ', '上 海', '上 海', ' 為 ', ' ', '至', '至', '為', '為', 'C', 'C', '平', '平', ' 關 ', ' 關 ', '吹 來', '吹 來', '% 以', '% 以', '。 ', '。 ', 'CLS', 'CLS', '從 前', '從 前', ' ', ' ', '主', '主', '同 ', '同 ', ' 國 殯', ' ', '年', '年', ' 治 刊 本 ， 當 中 以 ', ' 治 刊 本 ， 當 中 以 ', '群 ', '群 ', ' 建 ', ' 建 ', ' 石 ', ' 石 ', ' 街 和 ', '頭 街 和 廈', '海 洋 生 ', '海 洋 生 ', ' ', ' ', ' ', ' ', ' 年', ' 年', ' 學 、 台 灣 輔 仁 ', ' 學 、 台 灣 輔 仁 ', '3 ', '3 ', ' 日', ' 日', ' ， 以 此 他 們 將 基 ', ' ， 以 此 他 們 將 基 ', ' 洲', ' 洲', ' 於 ', ' 於 ', ' 維 ', ' 維 ', ' 保 ', ' 保 ', ' 基 引 ', ' 基', ' 中 的 連', ' 中 的 連', '資 訊 網 。 這 種 變 化 符 合 建 立 ', '資 訊 網 。 這 種 變 化 符 合 建 立 ', '義 。 ', ' 義 。 其 ', '義 。 ', ' 義 。 其 ', '以', '以', '有 人 類 的 蹤 ', '有 人 類 的 蹤 ', ' 人', ' 人', '了', '了', ' ', ' ', ' ', '膠', ' ', ' ', ' 法 進 行 溫 ', '量 可 ', ' 標 ', ' 標 ', '的 溫', '的 溫', '理 量 ', '理 量 ', ' 量 範', ' 量 範', '法 ， ', '法 ， ', ' 個 土', ' 個 土', '府 是', '府 是 漢', '地 地 ', '於 北', '] 德 ', '] 德 ', '的 大 ', '的 大 ', '要 的 科 學', '要 的 科 學', 'CLS] 漢 諾', 'CL', '德 國', '德 國', '賽 。 除 此', '賽 。 除 此', '一 勞', '一 勞', ' 1', ' 1', '也', '也 被 下', 'C', 'CLS', '國', '國', ' ', ' ', ' 邦', ' ', 'K] 也 是', 'K] 也 是', ' 格 哈 特', '家 的 基', 'C', 'C', ' ', ' ', ' ', ' ', ' ', ' ', '值 的 42. 2 % ， 並 且 呈 逐 ', '值 的 42. 2 % ， 並 且 呈 逐 ', ' ', ' ', '共 運', '共 運', '、 ', '卡 ', '司 ', '司 ', ' 易', ' 易', ' ', ' ', ' ', ' ', 'C', 'C', '家 ', '家 ', ' ', ' ', 'CLS] ', 'CLS] ', '是 ', '是 ', ' ', ' ', '辛', '辛', '彼 岸 、 林 警 魂 等 人 領 兵 起 義 後 ， 進 攻', '， 進 攻', '光 復 香 山 。 民', '香 山 。 民', ' ', ' ', '', ' 往 往', '鉀 50～75 公 斤 。 水', '5 ', '今 日 大 ', '今 日 大 ', '吃 ', '吃 ', '簡', '簡', ' ', ' ', '焙 ', '焙 ', ' 開 水 浸 泡 或 經 短 時 間 煮', '以 開 水 浸 泡 或 經 短 時 間 煮 ', ' 目 前 世 界 上 的', ' 目 前 世 界 上 的', '有 多', '有 多', '', '米 和 亞 洲 米 種 ，', '', '', '的 加 飯 酒', ' 的 加 飯 酒', '米', '米', '後 可 ', ' 箱 後 可 ', '將 生 果 ', '用 ， 將 生 果 ', '膚 有', '膚 有', '科', '科', ' ', ' ', ' ', ' ', '國 有 很 ', '國 有 很 ', ' 了 一 些', ' 些', ' ', ' ', '為 稻', '南 方', ' ', ' ', ' 東 ', '、 台 東 ', '在 阿 薩 姆 ， 在', '在 阿', ' 了 ', ' 了 ', ' 國 ，', ' 國 ，', ' 個', ' 個', ' ， 他 在 海 ', ' ， 他 在 海 ', ' 合', ' 合', '自', ' 自 ', '國 珠 江 ', '年 前 南 中 國 珠 江 流 ', ' ', '將 ', '天 文 ', '天 文 ', ' 的 名 稱 不', ' 的 名 稱 不', ' ', ' ', '動 ', ' 的 運 動 ', ' 的 總 質 量 是 恆 星 ', ' 的 總 質 量 是 恆 星 ', ' 其 一 生 ', ' 其 一 生 ', ' 大', ' 大', '的 物', '的 物', ' 成 的', ' 形 成 的 世 ', '', ' ', '量 ', '量 ', '星', '星 ', '建 ', '建 ', '文', '文', ' 的', ' 數 的 恆 星', ' ', ' 域 。', ' ', ' ', ' 磁 場', ' 磁 場', '座', '座', ' 圓 拱', ' 圓 拱', ' 能 尋 獲 。 雖 然 ', ' 上 卻 未 能 尋 獲 。 雖 然 ', 'CLS] 劍', 'CLS] 劍', '低', '低', ' ', ' ', ']', ']', ' 的 依 ', ' 類 的 依 ', ' ', ' ', 'C', 'C', ' 輻 ', ' 輻 ', ' 輻 ', ' 紅 外', ' ', '三 個 ', '縮 ', '縮 ', '長 周 期', '長 周 期', '有 ', '有 ', '流 ', '流 ', '著 恆 ', ' ', '生 代 的', '生 代 的', '止 ', '止 ', '30 萬 年 前 到', '年 前 ， 白 ', '為 乾 旱', '為 乾 旱', ' 能 助 長 了 極 端 的 氣 ', ' 能 助', ' 體', ' 體 可', 'CL', 'CL', ' 熱 帶', ' 熱 帶', '反 而', '反 而', 'CLS]', 'CLS]', '及 的 ', '及 的 ', ' ', ' ', '設 立', '設 立', '源', '源', ' 的 ', ' 律 管 轄 ，', ' ', ' ', ' 會 等 ； 民 辦 非 企 業 [UNK', '員 會 等 ； 民 辦 非 企 業 [UNK]', '辦 非 企 業 單 位 、 民 辦', '辦 非 企 業 單 位 、 ', 'CLS]', ' 在 汽', ' 展 示', ' 展 示', ' 兒 ，', ' 兒 ，', ' ', ']', ' 有 資 ', ' 有 資 ', '之', '。 此', '福', '福', ' 用', ' 用', '那', '那', ' ', ' ', ' ', ' ', '所 有 功 ', '所 有 功 ', '國', '國', ' 國 蘇 ', ' 國 蘇 ', ' ， 與 捷 克 斯 洛 伐 克 、 德 意 ', ' 波 蘭 接 壤 ，', '開 的 人 中', '開 的 人 中', '上 開 始 ', ' 上 開 始 至', '終 修', '終 修', 'LS] 對 ', '和 ', ' ', ' ', '對 西', '對 西', 'CLS] 1968 年 在 布 拉 格 之 春 中 ， 蘇 聯 ', '] 19', '會', '會', '社 會', '社 會', '牙', '牙', ' 在 ', ' 行 在 ', '', 'C', ' ', ' 的 政 策 ， 並 ', '主 共 和 國', '主 共 和 國', '分', '分', ' 著', ' 著', '柏 林 逃 ', '柏 林 逃 ', '西 對', '西 對', ' 只 寫 有 一', ' 常 只 寫 有 一', '', '被', ' ', ' ', ' 。 早', '者 。 早 期', ' 拉 ', ' 拉 ', ' 府 ', ' 改 革 ， 絕', ' 萬 ', ' ', ' ', ' ', '開', '在 東 德 領 ', '] 東 德 ', ' 有 最 高', ' 的 ', ' 的 ', ' ', ' ', '特 拉 貝 特 和 ', '特 拉 貝 特 和 ', ' 氧 化 ', ' 氧 化 ', '排 放 只', '排 放 只', ' 務 社 會 ', ' 務 社 會 ', ' ', ' ', '層 ', '活 ', ' 組 。 在', '小 組 。 在 ', '一 樣', '一 樣', '細 檢 查', '細 檢 查', ' ', ' ', '為', '為', ' 學 ', ' 學 ', '東', '東', ' ', ' ', ' 成 員 的', ' 成 員', '', '', '共 同', '共 同', ' 西 柏 林 隸', ' 西 柏 林 隸', '第 ', '第 ', ' 共', ' 共', '融 風 暴', '融', ' ', ' ', '。 ', '。 ', ' 葉 ', ' 葉 ', '每 屆 ', '每 屆 ', '年', '四 年', ' ', ' ', 'S', 'S] ', '的 地 ', '的 地 ', ' 行 ', ' 行 ', '空', '空', '國 國', '國 國', '以', '以', '經 歷 了 19', '經 歷 了 19', '換', '換', '個 世', '個 世', '間', '間', '株 式 ', '株 式 ', '值 船', '值 船', '60 年 代 ，', '60 年 代 ，', ' 韓', ' 韓', ' ', ' ', '] ', '] ', ' 義', ' 義', '關', '關 係', ' ', '由', '宗 大 王 時 ', '宗 大 王 時 ', '了 條', '了 條', '常 化 的', '常 化 的', '歷 ', '歷 ', ' 世', ' 世', ' 朝', ' 朝', '時 期', '時 期 從', ' ', ' ', '差', '韓', '島 在 ', '島 在 ', ' ', ' ', ' 載 的 ', ' 載 的 ', ' 大 ', ' 大 ', '明 王 的', '明 王 的', 'CLS] 194', 'S] 194', ' 日 帝', ' 日 帝', '的 認', '的 認', '3', '993', ' 林 ', '， 林 權', '帝 圭', '帝 圭', '著 彩 ', '隨 著 彩 ', '成', '成', '三', '三', '料', '、', '', ' ', ' ', ' ', '的 泡', '的 泡', ' ', ' ', ' 大 ', ' 大 ', '國 ，', '國 ，', ' ', ' ', ' 伯 斯 特 字 典 已 將 ', ' 伯 斯 特 字 典 已 將 ', '落 在 安', '落 在 安', ' 多 倫 ', '90, 060', '區 ', '區 ', ' 還 ', ' 還 ', ' ', ' ', '遍 ', '遍 ', 'CLS] 多 倫 ', 'CLS] 多 倫 ', ' 供 ', ' 供 ', '省 級 高 速', '省 級 高 速', 'CLS] 加', 'CLS] 加 拿 大 中', '在 下 午 時', '在 下 午 時', '， 曾 兩 次', '， 曾 兩 次', 'CLS] 多 ', 'CLS] 多 ', ' ，', ' ，', ' 城', ' 城', ' 附', ' 附', '姆', '姆', '從 ', '從 ', 'CL', 'CL', ' 與', '拿 ', '的 長 形 ', '的 ', ' ', ' ', '移', '移', '', ' ', ' 土 面 積', ' 土 面 積', ' 浙 ', ' 浙 ', '都 。', '都 。', ' 間 ', ' 間 ', ' 民 聚', ' 民 ', '巴 爾 虎', '巴 爾 虎', '新 ', '新 ', '', '', ' 蒙 ', ' 蒙 ', ' 長 ，', '盟 長 ，', '古 又', '古 又', '四 十 ', '蒙 古 ', 'C', 'C', '', '', ' 比 宗 低', '為 「 [', ' 紀 ', ' 紀 ', '時 期', '時 期', ' 高', ' 高', '內', '內', ' 12', ' 12', '又 ', '又 ', '述 184', '述 184', '川 王', '川 王', ' ，', ' ，', ' 初', ' 初', 'NK] ', 'NK]', '進 一 步 追', '進 一 步 ', ' 投 降', ' 隋 [UNK] 帝 再 次 率 軍 親 征 高 句', '', '', ' ', ' ', '第 ', ' 朝 第 ', '後 部', '後 部', '', '', '問', '問', 'U', 'U', ' 受 到', ' 受 到', '月', ' 年 九 月', '唐', '唐', ' ', ' ', '督 府', '督 府', '為 管 ', '為 管 ', '三', '三', 'CLS]', 'CLS]', '族 ', '族 ', ' ', ' ', ' ，', ' ，', '的', '的', ' 形', ' 形', ' 體 ', ' 體 ', ' 減', ' 減', ' ', ' ', ' ', ' ', ' 政 ', ' 響 ', '省 理 工 學 ', '省 理 工 學 ', '全 美 最', '全 美 最', ' 接 ', ' 接 ', ' 關 設 ', ' 關 設 ', '電 腦', ' 腦', ' 包 ', ' 包 ', '如', '如 飲', '生 作', '生 作', ' 。 不 ', '字 。 不 ', ' ', ' ', ' 予', ' 予', ' 獎 章 、 ', ' 獎 章 、 ', '獲 得 的 殊 榮 ', '獲 得 的 殊 榮 ', ' ', ' ', ' 包 括 ：', ' 包 括 ：', ' 聯 儲 主 ', '聯 儲 主 ', '根 據 1', '根 據 1', '這 ', '這 ', '全', '全', ' 學', ' 學', '博 ', '博 ', ' ： 美 ', ' ： 美 ', '和 ', '和', ' 類 ', ' 類 ', ' 特 ', ' 特', '機 械 、 ', '機 械 、 ', '興 ', '興 ', '內 ', '內 ', ' 特 拉 斯 堡 ', ' 特 拉 斯 堡 ', '中 央 委 員', '中 央 委 員', '一 區', '一 區', ' 與 ', ' 與 ', '16 世 ', '16 世 紀 ', '圈 ， 史 特', '國 圈 ， 史 特', ' 負 ', ' 主 要 負 ', '了', '了', ' ， ', ' ， ', '堡 ', '堡 ', '斯 ', '斯 ', ' 尖 頂', ' 尖 頂', '交', '交', '過', '過', '。 向 外', '。 向 外', ' 期 的 ', ' 期 的 ', ' 的', ' 的', '個', '個', '、 現 ', ' 結 束', '權 力', '權 力', '之 一', '之 一', ' ，', ' ，', ' ， 包', ' ， 包', '著 的', '著 的', '世 ', '世 ', ' ， 天 ', ' ， 天 ', '士 多', '士 多', '些 作', '些 作', ' 經 ', ' 經 ', '拉 ', '拉 ', ' 讓 ', ' 讓 ', '電 力 ', '電 力 ', '是 ', '和 ', ' 東 ', ' 東 ', ' ，', ' ，', '，', '，', '秀 ', '秀 ', ' 番', ' 番', ' 在 ', ' 人 。 在 ', '了 ', '了 ', ' ，', ' ，', ' ', ' ', '麥 ', '麥 ', '從 19 ', '從 19 ', '里 ', ' 19 世', '築 ', '築 ', '克 爾 河 ', '克 爾 河 ', 'C', 'CLS', ' ', ' 的 ', ' 除', ' 除', '密', '密', '918 年 ', '918 年 ', '茨', '洛 茨', ' 19', ' 19', '民 族 和 ', '民 族', '是', '是', '30 日 的', '30 日 的', ' 處 ', ' 處 ', '和 沒 有', '和 沒 有', ' 優 ', ' 優 ', ' ，', ' ，', '用 強', '， 運', ' 會 第 ', ' 會 第 ', ' ', ' ', ' 人', ' 人', ' 軍', ' 軍', '上 午 ，', '上 午 ，', '台 灣 當', '台', ' 華', ' 華', ' 態 ', ' 狀 態 ', ' ', ' ', '復 辟', '復 辟', '時 期', '時 期', ' 張', ' 張', '容 ', '容 ', ' 裂', ' 國 民 ', '領', '領', ' ， ', ' ， ', 'C', 'C', '顯', '顯', ' 19', ' 19', ' ', ' ', '0', '0', '單 力 薄 ，', '單 力 薄 ，', '方 發', '方 發', ' 展 國', ' 展 國', ' 和 ，', ' 和 ，', '第 ', '第 ', ' 國', ' 國', ' 至 8 月 ', ' 至 8 月 ', '取', '取', ' ， ', ' ， ', '溫', '溫', '情 況 而', '會 因 應 情 況 而', ' ', ' ', '巴 西 在', '巴 西 在', '， ', '， ', ' 首', ' 首', '在', '在', ' 冠 軍', ' 冠 軍', '競 ', '競 ', '後', '後', ' ， ', ' ， ', '盃 由 ', '盃', 'S] ', 'CLS] ', '巴 西', '巴 西 開', '比', '比 0 ', ' 8 位', ' 8 位', ' 大', ' 大 ', '對 多 ', '對 多 ', ' 有 ', ' 有 ', ' 民 結 ', ' 民 結 ', '們', '們', ' 黨 議', ' 黨 議', ' 毫 無 ', ' 毫 無 ', ' 總 ', ' 總 ', '一 千 天', '一 千 天', ' 試', ' 試', ' 國 人 ', ' 人 ', ' ', ' 一 直', '、 以', '、 以', ' 哥', ' 哥', '， 由', ' 民 ', ' 發 起', ' 發 起', '以 反 ', '以 反 ', '登 強 ', '登 強 ', '鎮', '鎮', '立 ', '立 ', ' ', ' ', '以 來 ', '以 來 ', ' 在 外 ', ' 在 外 ', '進 行', '進 行', '輝 格 ', '輝 格 ', '六', '六 州', ' 同 傑 ', ' 同 傑 ', ' 規 模 財 ', ' 規 模 財 ', '黨 在 ', '黨 在 19', ' 1', ' 1', '主 黨 ', '主 黨 ', 'CLS]', 'CLS]', '但 1837 年', '但 1837 年', ' 中 ', ' 中 ', '發 的 時 間', '發 的 時 間', ' 大 戰', ' 大 戰', ' 了 ', ' 了 ', ' 爾 ', ' 爾 ', '罷 工 潮 和 暴', '小 ', '之 間 的 武 ', '之 間 的 武 ', ' ', '歐 ', '古', '古', '', '', '要 的 事', '要 的', '年 ', '年 ', '文', '文', '付 平', '付 平', ' ', ' ', ' ', ' ', '凹 陷', ' 凹 陷', '山 脊 ', '山 脊 ', '界 ', '界 ', '國 認 可', '國 認 可', ' ， 建 立', ' ， 建 立', ' 年', ' 年', ' 一', ' 一', 'C', 'C', '0 ', '0 ', '佔', '佔', '', '', 'C', 'C', '支 ', '支 ', ' 前 例 ', ' 前 例 ', '破', '破', ' 島', ' 島', ' ', ' ', ' ，', ' ，', ' 傳 ', ' 傳 ', '年 ，', '年 ，', '軍 ', '軍 ', '當 ', '當 地 ', '隨', '隨', ' 水', ' 水', '， 沙', '， 沙', '洋 地 ', '洋 地 ', ' 藩 ', ' 藩 ', '府 直 ', '府 直 ', 'CLS', 'CLS', '金 ', '金 ', '使', '使', ' 禾 ', ' 禾 ', 'LS] 按 ', 'LS] 按 ', '同 一 ', ' 崎 縣', '約 有', '約 有', ' ', ' ', '內 鐵 路', '內 鐵 路', '要 由', '要 由', ' 間', ' 間', ' 內 南', ' 內 南', ' 長 崎', ' 長 崎', ' 遺 ', ' 遺 ', '等 地', '地 。', '喜 貝 ', '喜 貝 ', '了 眾 ', '了 眾 多 ', '日 ', '日 ', '築 ', '築 ', ' ', '', ' 巴', ' 巴', ' ', ' ', '大 村 藩', '大 村 藩', ' 教 ', ' 教 ', ' 可 ', ' 可 ', '91 年', '91 年', '了 斯 ', '了 斯 ', ' 極 調 停 戰 事', ' 極 調 停 戰 事', ' 民 族 國 ', ' 民 族 國 ', ' 力 ', ' 力 ', '將', '將', '0 月 ，', '0 月 ，', ' 馬 其', ' 馬 其', ' 的 會 議 上 宣 布 將', ' 的 會 議 上 宣 布 將', '人 民 解 放', '人 民 解 放', ' ', ' ', '達', '達', '夫 的 顧', '夫 的 顧', '領 袖', '領 袖', '自 共 產 ', '自 共 產 黨 ', 'C', 'C', '在', '在 的', '面 對 ', '面 對 ', ' 機 關 ', ' 治 機 關 ', '是 個', '是 個', '標', '標', ' ， ', ' ， 故 ', '', '', '直 接', '直 接 操', '質 技', '質 技 術', ' 用 ', ' 用 ', ' ', ' ', ' ', ' ', 'L', '在 醫', ' 和 ', ' 和 ', ' ', ' 融 合 ', '遺 傳 ', '遺 傳 ', ' 技 術', ' 技 術', ' ', ' ', '包 括 ', '包 括 ', ' 質 添 ', ' 質 添 ', '轉 殖', '轉 殖', ' ，', ' ，', 'S] ', 'S] ', ' ', ' ', ' 的 ', ' 的 ', '足 特 定', '法 居 留 的 ', '滯 留 的 ', '滯 留 的 ', ' ', ' ', '土 的 硬', '土 的 硬 度', '上 使', '上 使', ' 公', ' 公', '壩 、', '壩 、', ' ', ' ', '型', '踏 腳', ' ', ' ', '', '在 ', '資 本', '資 本', ' 生 ', ' 生 ', '心 活', '心 活', '路 運', 'CLS', '沿 鐵', '沿 鐵', ' 的 ', ' 的 ', '導', '道', '軌 ', '軌 ', ' ', ' ', '公 司 商 標 使', '公 司 商 標 使', 'c', 'c', '信 最 常 見', '信 最 常 見', ' ', ' ', '1832 年', '1832 年', '生 示 ', '生 示 ', '性 的', '性 的 論', ' 帶', ' 帶', ' 精', 'CLS', ' 亡', ' 亡', ' ', ' ', 'CLS', 'CLS', ' 症 之 ', ' 症 之 ', ' 使', ' 使', '全', '全', '風', '風', ' 中 ', ' 中 ', ' 業', ' 業', ' 婚 姻', ' 婚 姻', '', '', 'CLS', 'CLS', '有 些 ', '有 些 ', ' ', ' ', ' 食 物', ' 食 物', '擊 的 ', '的 ', '釋 。 但 普 ', '釋 。 但 普 ', '素 相', '素 相 互', ' ', ' ', '海 馬 ', '海 馬 ', 'CLS', 'CLS', ' ', ' ', '括 減 少 焦', '括 減 少 焦', '酗 酒', '酗 酒', ' 措', '', 'LS] ', 'LS] ', ' 正', ' 正', ' 時 ', ' 時 ', ' 日 ', ' 日', ' 影 響 ', ' 影 響 ', '在 天', '在 天', ' 要', ' 要', ' 球', ' 球', ' [UN', '[UN', '之 一 ', ' 一 ', '長 ', '長 ', '縣 ，', '縣 ，', ' ', ' ', ' ', ' ', ' ', ' ', '三 ', '三 ', '為', ' ', '漢 中', '漢 中', ' 部', ' 部', '淮 北', '淮 北', '的', '的', '， ', '， ', '有 ', '有 ', ' 通 ', ' 通 ', ' ', ' ', ' ', ' ', ' 而', ' 而', '是 元', ' 的 是 ', ' 元', ' ', ' 把', ' 把', ' 運 ', ' 運 ', '擅 ', '擅 ', ' 以', ' 以', ' 修', ' 修', '帝 ', '帝 ', ' ', ' ', ' 畫', ' 畫', '帝 時', ' 時', '早', '早', ' 年', ' 年', ' 機', ' 兒', ' 殺 ', ' 殺 ', ' 、 ', ' 、 ', '為 元 嘉', '為 元 嘉', ' 結', ' 結', '遜', '遜', ' 世 ', ' 世 ', '主 ', '主 ', '經 由', '經 由', '統 ', '統 ', ' ', ' ', '的 ', '的 ', '慘 重', '慘 重', '度', '度', ' 寒 ', ' 寒 ', '之 ', '之 ', ' ', ' ', ' 的 ', ' 的 ', ' 中', '位 後 中', ' 因', ' 因', '之', '之', ' ', ' ', '', '', ' ', ' ', '與 劉', '與 劉', '遭 ', '遭 ', 'LS', 'LS', 'K] [', 'K] [', ' 爾 蘇', ' 爾 蘇', ' 蘇 ', ' 蘇 ', ' 紀', ' ', ' ', ' ', '[', '[', '月 ', ' ', ' 19', ' 19', '的 ', '的 ', '是', '是', '一 直', ' 條 ', '曾', '曾', '下 午 各', ' 上 午 、 下 午 各', '存', '存', '道 ， 發', '道 ， 發', ' ', ' ', '發 射 窗 ', '發 射 窗 ', ' 查 自 然 現 象 ', ' 查 自 然 現 象 ', ' 所', ' 所', ' 可 觀 察', ' 可 觀 察', '', '', '可 能', '', 'CLS', 'CLS', '流', '流', '與', '與', '', '', '少 ', '少 ', '最', '最', ' 為 中 ', ' 為 中 ', ' 即', ' 即', '齊', '齊', ' ', ' ', ' ', ' ', ' ', ' ', ' ', ' ', '', '', '內 ', ' 里 ', ' 經', ' 經', '以 ', '以 ', '', '', '萬 ', '萬 ', 'CL', 'CL', ' 米', ' 米', '', '', '地 面', '地 面', ' 。 黑 龍 江', ' 。 黑 龍 江', ' 太 平 洋 ', ' 太 平 洋 ', '的 職 業 ', '的 職 業 ', ' 的 1', ' 的 1', ' 成 立 ', ' 成 立 ', '', '', ' 有 龐', ' 有 龐', '、', '、', '獲 ', '獲 ', ' 外', ' 外', '院 。', '院 。', '、 互 動', '、 互 動', '， 其', '， 其', ' 2004 年 3 月 2 日 ， 由 [UNK', ' 、 電 玩 、', '喬 治 ', '喬 治 ', ' ', ' ', '最', '最', '里', '里', '， 南', '， 南', '歇 爾 商 學 院 ', '歇 爾 商 學 院 ', ' 大 ', ' 大 ', ' 繪', ' 繪', ' 、', ' 、', '變 ', '變 ', '。 在 科 ', '連 。 在 科 ', '的 ：', '的 ：', '風 情 、', ' 、 異 域 風 情 、', '說 都 表 ', '說 都 表 現 出', '', '', '', '', '特 點 ', '特 點 ', '出 ', ' 論 是', ' 作 為 樹 立 ', ' 作 為 樹 立 ', '的 字', ' 的 聯 繫 ', ' 技 新', ' 技 新']\n",
            "['歸 功 於 對 ', '歸 功 於 對 ', '，', '，', ' 究 。', ' 究 。', '的 ； 在 書 寫 梵 語 的 時 候 ， 書 寫 系 統 的 選 擇 受 抄 寫 者 所 處 地 域 的 影 響 。 同 樣 的 ，', '的 ； 在 書 寫 梵 語 的 時 候 ， 書 寫 系 統 的 選 擇 受 抄 寫 者 所 處 地 域 的 影 響 。 同 樣 的 ，', '的 ； 在 書 寫 梵 語 的 時 候 ， 書 寫 系 統 的 選 擇 受 抄 寫 者 所 處 地 域 的 影 響 。 同 樣 的 ，', '的 ； 在 書 寫 梵 語 的 時 候 ， 書 寫 系 統 的 選 擇 受 抄 寫 者 所 處 地 域 的 影 響 。 同 樣 的 ，', ' 系 ', ' 系 ', '', '', ' 梵 文 ， 其 實 它 只 是 蘭 札 體 的 一 種 無 頭 化 變 體 。 藏 文 、 蒙 文 、 托 忒 蒙 文 、 滿 文 都 有 用 各 自 的 文 字 轉 寫 梵 文 的 體 系 。 1991 年 印 度 人 口 普 查 報 告 了 49, 736 名 流 利 的 梵 語 使 用 者 。 自 從 1990 年 代 ， 對 復 興', ' 梵 文 ， 其 實 它 只 是 蘭 札 體 的 一 種 無 頭 化 變 體 。 藏 文 、 蒙 文 、 托 忒 蒙 文 、 滿 文 都 有 用 各 自 的 文 字 轉 寫 梵 文 的 體 系 。 1991 年 印 度 人 口 普 查 報 告 了 49, 736 名 流 利 的 梵 語 使 用 者 。 自 從 1990 年 代 ， 對 復 興', ' 蒙 文 、 滿 文 都 有 用 各 自 的 文 字 轉 寫 梵 文 的 體 系 。 1991 年 印 度 人 口 普 查 報 告 了 49', ' 蒙 文 、 滿 文 都 有 用 各 自 的 文 字 轉 寫 梵 文 的 體 系 。 1991 年 印 度 人 口 普 查 報 告 了 49', 'CLS] 馬 祖 列 島 是 隸 屬 中 華 民 國 的 群 島 ， 位 於 臺 灣 海 峽 正 北 方 ， 面 臨 閩 江 口 、 連 江 口 和 羅 源 灣 ， 與 中 國 大 陸 僅 一 水 之 隔 ， 距 中 國 大 陸 最 近 點 約 9. 25 公 里 。 主 要 由 南 ', 'CLS] 馬 祖 列 島 是 隸 屬 中 華 民 國 的 群 島 ， 位 於 臺 灣 海 峽 正 北 方 ， 面 臨 閩 江 口 、 連 江 口 和 羅 源 灣 ， 與 中 國 大 陸 僅 一 水 之 隔 ， 距 中 國 大 陸 最 近 點 約 9. 25 公 里 。 主 要 由 南 ', 'CLS] 馬 祖 列 島 是 隸 屬 中 華 民 國 的 群 島 ， 位 於 臺 灣 海 峽 正 北 方 ， 面 臨 閩 江 口 、 連 江 口 和 羅 源 灣 ， 與 中 國 大 陸 僅 一 水 之 隔 ， 距 中 國 大 陸 最 近 點 約 9. 25 公 里 。 主 要 由 南 竿 島 、 北 竿 島', 'CLS] 馬 祖 列 島 是 隸 屬 中 華 民 國 的 群 島 ， 位 於 臺 灣 海 峽 正 北 方 ， 面 臨 閩 江 口 、 連 江 口 和 羅 源 灣 ， 與 中 國 大 陸 僅 一 水 之 隔 ， 距 中 國 大 陸 最 近 點 約 9. 25 公 里 。 主 要 由 南 竿 島 、 北 竿 島', 'CLS] 馬 祖 列 島 是 隸 屬 中 華 民 國 的 群 島 ， 位 於 臺 灣 海 峽 正 北 方 ， 面 臨 閩 江 口 、 連 江 口 和 羅 源 灣 ， 與 中 國 大 陸 僅 一 水 之 隔 ， 距 中 國 大 陸 最 近 點 約 9. 25 公 里 。 主 要 由 南 竿 島 、 北 竿 島 、 高 登 島 、 亮 島 、 東 莒 島 、 西 莒 島 、 東 引 島 、 西 引 島 及 其 附 屬 小 島 共 計 36 個 島 嶼 、 礁 嶼 組 成 ， 面 積 29. 6 平 方 公 里 ， 居 民 人 口 約 12, 600 多 人 。 1999 年 以 馬 祖 列 島 為 範 圍 的 馬 ', 'CLS] 馬 祖 列 島 是 隸 屬 中 華 民 國 的 群 島 ， 位 於 臺 灣 海 峽 正 北 方 ， 面 臨 閩 江 口 、 連 江 口 和 羅 源 灣 ， 與 中 國 大 陸 僅 一 水 之 隔 ， 距 中 國 大 陸 最 近 點 約 9. 25 公 里 。 主 要 由 南 竿 島 、 北 竿 島 、 高 登 島 、 亮 島 、 東 莒 島 、 西 莒 島 、 東 引 島 、 西 引 島 及 其 附 屬 小 島 共 計 36 個 島 嶼 、 礁 嶼 組 成 ， 面 積 29. 6 平 方 公 里 ， 居 民 人 口 約 12, 600 多 人 。 1999 年 以 馬 祖 列 島 為 範 圍 的 馬 ', '、 廚', '、 廚', ' 與 ', ' 與 ', '、 廚', '、 廚', '燈 ', '燈 ', '身 向 上 微 收 ， 內 做 螺 旋 石 梯 ， 盤', '身 向 上 微 收 ， 內 做 螺 旋 石 梯 ， 盤', '犬 燈 塔 ， 塔 座 係 由 花 崗 石 砌 造 ， 空 心 圓 筒 形 平 面 ， 座 身 向 上 微 收 ， 內 做 螺 旋 石 梯 ， 盤 旋 直 上 。 座 頂 疊 澀', '犬 燈 塔 ， 塔 座 係 由 花 崗 石 砌 造 ， 空 心 圓 筒 形 平 面 ， 座 身 向 上 微 收 ， 內 做 螺 旋 石 梯 ， 盤 旋 直 上 。 座 頂 疊 澀', '大 ', '大 ', '大 ', '大 ', '大 ， 給 了 南 ', '大 ， 給 了 南 ', ' 下 ', ' 下 ', ' 論 文 方 面 ， 目 前 已 經 有 人 研 究 馬 祖 列 島 的 民 間 傳 說 ， 篇 目 有 ： 曹 詩 穎 〈 馬 祖 民 間 傳 說 研 究 〉 、 陳 孜 涵 〈 馬 祖 列 島 民 間 傳 說 研 究 〉 。 在 俗 諺 語 的 研 究 著 作 出 版 方 面 ， 目 前 已 有 陳 高 志 《 馬 祖 俗 諺 析 論 》 、 出 版 ； 其 他 文 類 著 作 的 出 版 有 ： 鄭 有 諒 的 《 遺 留 馬 祖 戰 地 中 的 精 神 標 語 》 、 陳 春 梅 的 《 煙 硝 下 的 教 化 記 憶 》 。 境 內 沒 有 ', ' 論 文 方 面 ， 目 前 已 經 有 人 研 究 馬 祖 列 島 的 民 間 傳 說 ， 篇 目 有 ： 曹 詩 穎 〈 馬 祖 民 間 傳 說 研 究 〉 、 陳 孜 涵 〈 馬 祖 列 島 民 間 傳 說 研 究 〉 。 在 俗 諺 語 的 研 究 著 作 出 版 方 面 ， 目 前 已 有 陳 高 志 《 馬 祖 俗 諺 析 論 》 、 出 版 ； 其 他 文 類 著 作 的 出 版 有 ： 鄭 有 諒 的 《 遺 留 馬 祖 戰 地 中 的 精 神 標 語 》 、 陳 春 梅 的 《 煙 硝 下 的 教 化 記 憶 》 。 境 內 沒 有 ', '祖 戰 ', '祖 戰 ', ' 學', ' 學', ' 學 評 論 者 。 「 擺 暝 」 為 福 州 話 「 排 夜 」 之 意 ， 即 在 元 宵 節 前 後 各 廟 宇 訂 有 自 ', ' 學 評 論 者 。 「 擺 暝 」 為 福 州 話 「 排 夜 」 之 意 ， 即 在 元 宵 節 前 後 各 廟 宇 訂 有 自 ', ' 村 牛 角 社 區', ' 村 牛 角 社 區', '補 庫 之 意 是 焚 化 庫', '補 庫 之 意 是 焚 化 庫', ' 旋 打 發', ' 旋 打 發', '', '', 'C', 'C', ' 高', ' 高', ' 光', ' 光', '的 觀 ', '的 觀 ', '的 觀 ', '的 觀 ', ' 地 形 ， 也 造 就 了 許 多 值 得 觀 光 的 美 景 ， 縣 政 府 特 別 針 對 觀 光 這 塊 市 場 進 行 推 動 馬 祖 五 島 四 鄉 的 觀 光 資 源 ， 如 元 宵 擺 暝 、 馬 祖 藍 眼 淚 。 塘 后 道 沙 灘 是 北 竿 鄉 最 著 名 的 景 點 ， 這 座 沙 灘 早 年 的 時 候 是 連 ', ' 地 形 ， 也 造 就 了 許 多 值 得 觀 光 的 美 景 ， 縣 政 府 特 別 針 對 觀 光 這 塊 市 場 進 行 推 動 馬 祖 五 島 四 鄉 的 觀 光 資 源 ， 如 元 宵 擺 暝 、 馬 祖 藍 眼 淚 。 塘 后 道 沙 灘 是 北 竿 鄉 最 著 名 的 景 點 ， 這 座 沙 灘 早 年 的 時 候 是 連 ', '', '', '的 石 屋 並 改 建 為 民 宿 。 午 沙 村 介 於 上 村 、 塘 岐 村 之 間 ， 屬 於 沙 灘 旁 的 小 村 落 ， 在 白 沙 港 尚 未 啟 用 之 前 ， 此 處 屬 於 重 要 的 軍 ', '的 石 屋 並 改 建 為 民 宿 。 午 沙 村 介 於 上 村 、 塘 岐 村 之 間 ， 屬 於 沙 灘 旁 的 小 村 落 ， 在 白 沙 港 尚 未 啟 用 之 前 ， 此 處 屬 於 重 要 的 軍 ', ' ', ' ', ' 定 ', ' 定 ', '日 序 與 月 的 日 序 會 重 複 。 19 年 為 一 太 陰 周 期 ， 或 稱 默 冬 章 ， 因 235 朔 望 月 = 19 回 歸 年 ， 經 過 一 太 陰 周 期 則 陰 曆 月 年 的 日 序 重 複 。 15 年 為 一 小 紀 ， 此 為 羅 馬 皇 帝 君 士 坦 丁 一 世 所 頒 ， 每 15 年 評 定 ', '日 序 與 月 的 日 序 會 重 複 。 19 年 為 一 太 陰 周 期 ， 或 稱 默 冬 章 ， 因 235 朔 望 月 = 19 回 歸 年 ， 經 過 一 太 陰 周 期 則 陰 曆 月 年 的 日 序 重 複 。 15 年 為 一 小 紀 ， 此 為 羅 馬 皇 帝 君 士 坦 丁 一 世 所 頒 ， 每 15 年 評 定 ', ' 紀 ， 此 為 羅 馬 皇 帝 君 士 坦 丁 一 世 所 頒 ， 每 15 年 評 定 ', ' 紀 ， 此 為 羅 馬 皇 帝 君 士 坦 丁 一 世 所 頒 ， 每 15 年 評 定 ', 'CLS] 網 球 是 一 項 體 育 運 動 ， 常 見 的 有 一 對 一 的 單 打 和 二 對 二 的 雙 打 ， 對 抗 雙 方 隔 著 球 網 ， 用 球 拍 將 橡 膠 製 空 心 球 擊 打 至', 'CLS] 網 球 是 一 項 體 育 運 動 ， 常 見 的 有 一 對 一 的 單 打 和 二 對 二 的 雙 打 ， 對 抗 雙 方 隔 著 球 網 ， 用 球 拍 將 橡 膠 製 空 心 球 擊 打 至', '至', '至', 'CLS] 網 球 是 一 項 體 育 運 動 ， 常 見 的 有 一 對 一 的 單 打 和 二 對 二 的 雙 打 ， 對 抗 雙 方 隔 著 球 網 ， 用 球 拍 將 橡 膠 製 空 心 球 擊 打 至', 'CLS] 網 球 是 一 項 體 育 運 動 ， 常 見 的 有 一 對 一 的 單 打 和 二 對 二 的 雙 打 ， 對 抗 雙 方 隔 著 球 網 ， 用 球 拍 將 橡 膠 製 空 心 球 擊 打 至', '球 員 外 ， 還 有 相 關 人 員 在 場 。 網 球 比 賽 的 主 裁 判 坐 在 球 場 外 一 邊 的 中 間 的 高 椅 上 ', '球 員 外 ， 還 有 相 關 人 員 在 場 。 網 球 比 賽 的 主 裁 判 坐 在 球 場 外 一 邊 的 中 間 的 高 椅 上 ', '球 員 外 ， 還 有 相 關 人 員 在 場 。 網 球 比 賽 的 主 裁 判 坐 在 球 場 外 一 邊 的 中 間 的 高 椅 上 ', '球 員 外 ， 還 有 相 關 人 員 在 場 。 網 球 比 賽 的 主 裁 判 坐 在 球 場 外 一 邊 的 中 間 的 高 椅 上 ', '] 在 一 場 網 球 正 式 比 賽 中 ， 除 了 球 員 外 ， 還 有 相 關 人 員 在 場 。 網 球 比 賽 的 主 裁 判 坐 在 球 場 外 一 邊 的 中 間 的 高 椅 上 ', '] 在 一 場 網 球 正 式 比 賽 中 ， 除 了 球 員 外 ， 還 有 相 關 人 員 在 場 。 網 球 比 賽 的 主 裁 判 坐 在 球 場 外 一 邊 的 中 間 的 高 椅 上 ', '', '', '', '', ' 最 重 要 的 四 項 賽 事 ，', ' 最 重 要 的 四 項 賽 事 ，', 'NK] 」', 'NK] 」', 'NK] 」', 'NK] 」', 'NK] 」', 'NK] 」', ' 球', ' 球', ' 紀', ' 紀', '改 良 ， 用 網 代 替 ', '改 良 ， 用 網 代 替 ', 'C', 'C', ' 下 ', ' 下 ', '來 交 換 旋 轉 和 節 奏 球 ， 擾 亂 對 方 的 節 奏 ， 使 對 手 難 以 回 球 。 截', '來 交 換 旋 轉 和 節 奏 球 ， 擾 亂 對 方 的 節 奏 ， 使 對 手 難 以 回 球 。 截', '制 度 的 廢', '制 度 的 廢', '', '', ' 網 球 進 入 了 開 放 年 代 ， 又 稱 公', ' 網 球 進 入 了 開 放 年 代 ， 又 稱 公', '', '', '、', '、', '', '', ' 中 一 名 ', ' 中 一 名 ', '方 向 ， 然', '方 向 ， 然', ' 般 站 在 發 球 手 的 斜 對 面 。 在 接 球 手 示 意 準 備 完 畢 後 ， 發 球 手 開 始 發 球 。 發 球 時 ， 選 手 應 該 用 手 將 球 拋 向', ' 般 站 在 發 球 手 的 斜 對 面 。 在 接 球 手 示 意 準 備 完 畢 後 ， 發 球 手 開 始 發 球 。 發 球 時 ， 選 手 應 該 用 手 將 球 拋 向', ' 手', ' 手', ' 手', ' 手', ' 手', ' 手', ' ', ' ', ' 治 條 例 》 ， 新 北 市 政 府 設 有 22 局 、 4 處 、 1 委 員 會 ', ' 治 條 例 》 ， 新 北 市 政 府 設 有 22 局 、 4 處 、 1 委 員 會 ', ' 員 會 ', ' 員 會 ', '', '', 'LS] 在 新 北 市 的 工 業 就 業 人 口 中 ， 以 製 造 業 和 營 造 業 為 大 宗 ， 各 佔 總 就 業 人 口 27. 82 % 和 8. 90 % ； 至 於 在 服 務 業 就 業 人 口 中 ， 則 以 批 發 及 零 售 業 、 住 宿 及 餐 飲 業 、 金 融 及 保 險 業 、 其 他 服 務 業 、 運 輸 及 倉 儲 業 、 教', 'LS] 在 新 北 市 的 工 業 就 業 人 口 中 ， 以 製 造 業 和 營 造 業 為 大 宗 ， 各 佔 總 就 業 人 口 27. 82 % 和 8. 90 % ； 至 於 在 服 務 業 就 業 人 口 中 ， 則 以 批 發 及 零 售 業 、 住 宿 及 餐 飲 業 、 金 融 及 保 險 業 、 其 他 服 務 業 、 運 輸 及 倉 儲 業 、 教', ' 教', ' 教', 'CLS] 臺 灣 鐵 路 ', 'CLS] 臺 灣 鐵 路 ', '要 路', '要 路', '要 路 線 有 縱 貫 ', '要 路 線 有 縱 貫 ', '南 客 運 、 基 ', '南 客 運 、 基 ', '', '', '與 臺 北 ', '與 臺 北 ', '由 新 北', '由 新 北', '運 ', '運 ', ' 公', ' 公', ' 2', ' 2', '中 和 區 次', '中 和 區 次', '中 和 區 次', '中 和 區 次', '。 新 北 市 政 府 文 化 局 於 2010 年 第 一 次 辦 理 臺 北 縣 眷 村 文 化 節 ， 後 續 轉 型 為 「 新 北 市 竹 籬 笆 藝 文 季 」 ， 並 於 2011 年', '。 新 北 市 政 府 文 化 局 於 2010 年 第 一 次 辦 理 臺 北 縣 眷 村 文 化 節 ， 後 續 轉 型 為 「 新 北 市 竹 籬 笆 藝 文 季 」 ， 並 於 2011 年', '0 年 第 一', '0 年 第 一', '。 新 北 市 政 府 文 化 局 於 2010 年 第 一 次 辦 理 臺 北 縣 眷 村 文 化 節 ， 後 續 轉 型 為 「 新 北 市 竹 籬 笆 藝 文 季 」 ， 並 於 2011 年 至 2015 年 連 續 辦 理 。 新 北 市 政 府 文 化 局 辦 理 的 文 化 節 慶 活 動 有 ： 新 北 市 新 莊 國 際 鼓 藝 節 、 新 北 市 國 際 環 境 藝 術 節 、 新 北 市 三 峽 藍 染 節 。 新 北 市 政 府 在 2011 年 起 每 年 在 市 府 廣 場 舉 辦 「 新 北 市 歡 樂 耶 誕 城 」 。 2015 末 開 始 每 年 在 市 府 廣 場 舉 辦 「 新 北 市 冬 季 系 列 活 動 」 由 「 新 北 市 歡 樂 耶 誕 城', '。 新 北 市 政 府 文 化 局 於 2010 年 第 一 次 辦 理 臺 北 縣 眷 村 文 化 節 ， 後 續 轉 型 為 「 新 北 市 竹 籬 笆 藝 文 季 」 ， 並 於 2011 年 至 2015 年 連 續 辦 理 。 新 北 市 政 府 文 化 局 辦 理 的 文 化 節 慶 活 動 有 ： 新 北 市 新 莊 國 際 鼓 藝 節 、 新 北 市 國 際 環 境 藝 術 節 、 新 北 市 三 峽 藍 染 節 。 新 北 市 政 府 在 2011 年 起 每 年 在 市 府 廣 場 舉 辦 「 新 北 市 歡 樂 耶 誕 城 」 。 2015 末 開 始 每 年 在 市 府 廣 場 舉 辦 「 新 北 市 冬 季 系 列 活 動 」 由 「 新 北 市 歡 樂 耶 誕 城', '發 展 與', '發 展 與', '員 遼', '員 遼', '風 光 ，', '風 光 ，', 'CL', 'CL', '縣 、 西 南', '縣 、 西 南', '新 ', '新 ', 'LS] 《 國', 'LS] 《 國', 'CLS] 《 國', 'CLS] 《 國', ' 際 生 物 學 會 負 責 ', ' 際 生 物 學 會 負 責 ', ' 物 學 家 ', ' 物 學 家 ', ' 命 名', ' 命 名', '', '', 'CLS] 鑑 於 新 教 徒 對 聖 經 正 典 的 質 疑 ， 天 特 會 議 重 申 了 傳 ', 'CLS] 鑑 於 新 教 徒 對 聖 經 正 典 的 質 疑 ， 天 特 會 議 重 申 了 傳 ', ' 特 正 典', ' 特 正 典', ' 聖 經 註 釋 通 諭 》 ， 允 許 使 用 武 加 大 譯 本 以 外 的 譯 本 翻 譯 。 新 約 對 藝 術 方 面 的 影 響 主 要 來 自 福', ' 聖 經 註 釋 通 諭 》 ， 允 許 使 用 武 加 大 譯 本 以 外 的 譯 本 翻 譯 。 新 約 對 藝 術 方 面 的 影 響 主 要 來 自 福', ' 的 年 代 是 在 公 元 一 世 紀 末 或', ' 的 年 代 是 在 公 元 一 世 紀 末 或', ' 記', ' 記', ' 的 年 代 是 在 公 元 一 世 紀 末 或', ' 的 年 代 是 在 公 元 一 世 紀 末 或', ' ', ' ', '', '', '樣 ', '樣 ', '300 年 ， 記', '300 年 ， 記', '', '', '00 年 ， 記', '00 年 ， 記', 'CLS] 索 馬 利 亞 全 境 以 平 緩 的 低 高 原 為 主 ， 高 度 由 北 向 南 漸 降 。 有 沿', 'CLS] 索 馬 利 亞 全 境 以 平 緩 的 低 高 原 為 主 ， 高 度 由 北 向 南 漸 降 。 有 沿', 'CLS] 索 馬 利 亞 全 境 以 平 緩 的 低 高 原 為 主 ， 高 度 由 北 向 南 漸 降 。 有 沿', 'CLS] 索 馬 利 亞 全 境 以 平 緩 的 低 高 原 為 主 ， 高 度 由 北 向 南 漸 降 。 有 沿', ' 漠', ' 漠', 'CLS', 'CLS', '鬥 ， 北 方 兩 港 承 擔 主 要 ', '鬥 ， 北 方 兩 港 承 擔 主 要 ', '月 ，', '月 ，', 'S] 由 於 城 市 的 地 價 相 對 較 高 ， 所 以 建 築 物 容 積 率 要 好 好 利 用 。 但 在 另 一 方 面 ， 若 過 份 提 高 容 積 率 ， 可 能 會 對 周 遭 環 境 構 成 影 響 ， 也 會 對 附 近 的 交 通 造 成 衝 擊 壓 力 。 而 對 於 都 市 再 生 ， 歷 史 因 素 及 古 蹟 的 保 留 亦 是 一 個 考 慮 因 素 。 都 市 計 畫 有 許 多 形 式 ， 它 與 城 市 設 計 有 著 許 多 共 同 的 理 論 觀 點 和 實 踐 活 動 。 都 市 計 畫 控 制 引 導 城 鄉 空 間 的 有 序 發 展 。 雖 然 都 市 計 畫 主 要 關 注 於 城 鄉 居 民 點 和 城 市 社 區 的 ', 'S] 由 於 城 市 的 地 價 相 對 較 高 ， 所 以 建 築 物 容 積 率 要 好 好 利 用 。 但 在 另 一 方 面 ， 若 過 份 提 高 容 積 率 ， 可 能 會 對 周 遭 環 境 構 成 影 響 ， 也 會 對 附 近 的 交 通 造 成 衝 擊 壓 力 。 而 對 於 都 市 再 生 ， 歷 史 因 素 及 古 蹟 的 保 留 亦 是 一 個 考 慮 因 素 。 都 市 計 畫 有 許 多 形 式 ， 它 與 城 市 設 計 有 著 許 多 共 同 的 理 論 觀 點 和 實 踐 活 動 。 都 市 計 畫 控 制 引 導 城 鄉 空 間 的 有 序 發 展 。 雖 然 都 市 計 畫 主 要 關 注 於 城 鄉 居 民 點 和 城 市 社 區 的 ', '多 形', '多 形', 'S] 由 於 城 市 的 地 價 相 對 較 高 ， 所 以 建 築 物 容 積 率 要 好 好 利 用 。 但 在 另 一 方 面 ， 若 過 份 提 高 容 積 率 ， 可 能 會 對 周 遭 環 境 構 成 影 響 ， 也 會 對 附 近 的 交 通 造 成 衝 擊 壓 力 。 而 對 於 都 市 再 生 ， 歷 史 因 素 及 古 蹟 的 保 留 亦 是 一 個 考 慮 因 素 。 都 市 計 畫 有 許 多 形 式 ， 它 與 城 市 設 計 有 著 許 多 共 同 的 理 論 觀 點 和 實 踐 活 動 。 都 市 計 畫 控 制 引 導 城 鄉 空 間 的 有 序 發 展 。 雖 然 都 市 計 畫 主 要 關 注 於 城 鄉 居 民 點 和 城 市 社 區 的 規 劃 設 計 ， 但 也 涉 及 到 資 源 開 發 利 用 與 保 護 ， 鄉 村 和 農 業 用 地 ， 公 園 ', 'S] 由 於 城 市 的 地 價 相 對 較 高 ， 所 以 建 築 物 容 積 率 要 好 好 利 用 。 但 在 另 一 方 面 ， 若 過 份 提 高 容 積 率 ， 可 能 會 對 周 遭 環 境 構 成 影 響 ， 也 會 對 附 近 的 交 通 造 成 衝 擊 壓 力 。 而 對 於 都 市 再 生 ， 歷 史 因 素 及 古 蹟 的 保 留 亦 是 一 個 考 慮 因 素 。 都 市 計 畫 有 許 多 形 式 ， 它 與 城 市 設 計 有 著 許 多 共 同 的 理 論 觀 點 和 實 踐 活 動 。 都 市 計 畫 控 制 引 導 城 鄉 空 間 的 有 序 發 展 。 雖 然 都 市 計 畫 主 要 關 注 於 城 鄉 居 民 點 和 城 市 社 區 的 規 劃 設 計 ， 但 也 涉 及 到 資 源 開 發 利 用 與 保 護 ， 鄉 村 和 農 業 用 地 ， 公 園 ', '', '', '', '', '在 ', '在 ', ' 自 古 以 來 就 有 城 市 規 劃 ， 從 著 名 的 長 安 古 城', ' 自 古 以 來 就 有 城 市 規 劃 ， 從 著 名 的 長 安 古 城', ' 入 ', ' 入 ', ' 的 痕 ', ' 的 痕 ', '平 洋 的 島 嶼 ， 為 美 國 五 個 建 立 平 民 政 府 的 屬 地 之 一 。 美 軍', '平 洋 的 島 嶼 ， 為 美 國 五 個 建 立 平 民 政 府 的 屬 地 之 一 。 美 軍', '', '', '地', '地', '97 年 加 入 了 北', '97 年 加 入 了 北', '97 年 加 入 了 北', '97 年 加 入 了 北', '', '', '', '', '', '', '', '', ' 。 20', ' 。 20', ' 。 2012 年 9 月 ， 美 國 第 十 三 航 空 隊 停 止', ' 。 2012 年 9 月 ， 美 國 第 十 三 航 空 隊 停 止', '為', '為', 'C', 'C', 'C', 'C', ' 關 ', ' 關 ', '', '', 'CLS] 關 島 氣 ', 'CLS] 關 島 氣 ', '。 ', '。 ', 'CLS', 'CLS', '', '', ' ', ' ', '', '', ' 但', ' 但', ' ', ' ', '19 世 紀 時 ， 灣 仔 爲 香 港 華 人 俗 稱 爲 「 下 環 」 。 自 1843 年', '19 世 紀 時 ， 灣 仔 爲 香 港 華 人 俗 稱 爲 「 下 環 」 。 自 1843 年', '', '', '群 ', '群 ', '本 ', '本 ', ' 快 ', ' 快 ', ' 快 就 開 始 發 展 。 起 源 為 寶 順 洋 行 東 主 顛 地 在 此 建 一 私 邸 「 春 園 別 墅 」 ， 其 範 圍 由 灣 仔 道 伸 展 至 大 王 東 街 。 別 墅 內 有 一 小 湖 供 劃 [UNK] 板 之 用 ， 其 水 源 乃 由 石 水 渠 街 所 引 入 。 春 園 英 語 本 來 的 意 思 是 指 花 園 內 有 一 泉 水 。 至 於 春 園 街 附 近 的 汕 頭 街 和 ', ' 快 就 開 始 發 展 。 起 源 為 寶 順 洋 行 東 主 顛 地 在 此 建 一 私 邸 「 春 園 別 墅 」 ， 其 範 圍 由 灣 仔 道 伸 展 至 大 王 東 街 。 別 墅 內 有 一 小 湖 供 劃 [UNK] 板 之 用 ， 其 水 源 乃 由 石 水 渠 街 所 引 入 。 春 園 英 語 本 來 的 意 思 是 指 花 園 內 有 一 泉 水 。 至 於 春 園 街 附 近 的 汕 頭 街 和 ', '海 洋 生 ', '海 洋 生 ', '', '', ' ', ' ', '、 台 灣 輔 ', '、 台 灣 輔 ', ' 學 、 台 灣 輔 仁 大 學 聯 合 開 辦 「 全 球 領 導 力 課 程 」 ， 課 程 目 標 透 過 小 組 討 論 ， 培 養 現 代 社 會 的 未 來 全 球 領 導 人 。 2012 年 ， 印 尼 聖 那 塔 達 瑪 大 學 加 入 ， ', ' 學 、 台 灣 輔 仁 大 學 聯 合 開 辦 「 全 球 領 導 力 課 程 」 ， 課 程 目 標 透 過 小 組 討 論 ， 培 養 現 代 社 會 的 未 來 全 球 領 導 人 。 2012 年 ， 印 尼 聖 那 塔 達 瑪 大 學 加 入 ， ', '3 年 ，', '3 年 ，', ' 日', ' 日', ' ， 以 此 他 們 將 基 ', ' ， 以 此 他 們 將 基 ', ' 穌', ' 穌', '', '', '', '', '', '', '， 維 基 的 ', '， 維 基 的 ', '', '', '， 維 基 的 典 型 現 象 是 需 要 文 字 像 「 連 鎖 」 一 樣 建 立 關 於 全 球 資 訊 網 ', '， 維 基 的 典 型 現 象 是 需 要 文 字 像 「 連 鎖 」 一 樣 建 立 關 於 全 球 資 訊 網 ', '義 。 其 中 一 個 定 義 ， 是 指 俄 羅 斯 亞 洲 部 分 ， 主 要 是 指 西 伯 利 亞 、 以 及 阿 爾 泰 山 脈 以 北 的 地 區 ， 占 亞 洲 面 積 的 三 分 之 一 。 過 去 亦 有 將 蒙 古 包 括 入 北 亞 的 範 圍 內 。 另 一 個 定 義 ， 是 指 東 北 亞 ， 即 大 中 華 地 區 加 上 日 本 和 韓 國 甚 至 蒙 古 ， 這 是 一 個 商 業 上 相 對 東 南 亞 的 地 理 劃 分 。 一 般 來 說 ， 以 前 者 比 較 普 遍 。 在 1911 年 ， 俄 羅 斯 策 動 原 屬 於 中 國 的 外 蒙 古 「 獨 立 」 ，', '義 。 其 中 一 個 定 義 ， 是 指 俄 羅 斯 亞 洲 部 分 ， 主 要 是 指 西 伯 利 亞 、 以 及 阿 爾 泰 山 脈 以 北 的 地 區 ， 占 亞 洲 面 積 的 三 分 之 一 。 過 去 亦 有 將 蒙 古 包 括 入 北 亞 的 範 圍 內 。 另 一 個 定 義 ， 是 指 東 北 亞 ， 即 大 中 華 地 區 加 上 日 本 和 韓 國 甚 至 蒙 古 ， 這 是 一 個 商 業 上 相 對 東 南 亞 的 地 理 劃 分 。 一 般 來 說 ， 以 前 者 比 較 普 遍 。 在 1911 年 ， 俄 羅 斯 策 動 原 屬 於 中 國 的 外 蒙 古 「 獨 立 」 ，', '山 ', '山 ', '', '', '的 蹤 ', '的 蹤 ', ' 人', ' 人', '', '', ' ', ' ', ' ', ' ', '膠 與 金 礦 等 重 要 工 業 資 源 的 生 產 國 。 蘇 利 南 在 第 二 次 世 界 大 戰 ', '膠 與 金 礦 等 重 要 工 業 資 源 的 生 產 國 。 蘇 利 南 在 第 二 次 世 界 大 戰 ', ' 法 進 行 溫 ', ' 法 進 行 溫 ', ' 標 ', ' 標 ', ' 的 溫', ' 的 溫', '理 量 ', '理 量 ', '理 量 ', '理 量 ', '理 量 ', '理 量 ', 'CLS', 'CLS', '府 是 漢', '府 是 漢', '亞 邦 ， 是 德 國 第 二 大 邦 。 邦 首 府 是 漢 諾 瓦 。 北 海 以 及 易 北 河 的 中 下 游 為 下 薩 克 森 邦 的 北 部 形 成 了 天 然 屏 障 。 在 邦 的 東 南 部 是 哈 爾 茨 山 脈 。 占 邦 內 總 面 積 四 分 之 三 的 東 北 部 以 及 西 部 屬 於 北 德 低 地 地 ', '亞 邦 ， 是 德 國 第 二 大 邦 。 邦 首 府 是 漢 諾 瓦 。 北 海 以 及 易 北 河 的 中 下 游 為 下 薩 克 森 邦 的 北 部 形 成 了 天 然 屏 障 。 在 邦 的 東 南 部 是 哈 爾 茨 山 脈 。 占 邦 內 總 面 積 四 分 之 三 的 東 北 部 以 及 西 部 屬 於 北 德 低 地 地 ', '] 德 國 的 下 薩 克 森 邦 的 工 業 中 心 位 於 漢 諾 瓦 - 布 倫 瑞 克 - 狼 堡 這 一 區 域 ， 這 裡 分 布 著 許 多 汽 車 企 業 ， 其 中 最 著 名 的 要 數 位 於 狼 堡 的 大 眾 汽 車 總 部 及 其 主 要 位 於 漢 諾 瓦 的 大 空 間 交 通 工 具 生 產 部 。 此 外 ， 派 納 和 薩', '] 德 國 的 下 薩 克 森 邦 的 工 業 中 心 位 於 漢 諾 瓦 - 布 倫 瑞 克 - 狼 堡 這 一 區 域 ， 這 裡 分 布 著 許 多 汽 車 企 業 ， 其 中 最 著 名 的 要 數 位 於 狼 堡 的 大 眾 汽 車 總 部 及 其 主 要 位 於 漢 諾 瓦 的 大 空 間 交 通 工 具 生 產 部 。 此 外 ， 派 納 和 薩', '的 大 空 間 交 通 工 具 生 產 部 。 此 外 ， 派 納 和 薩', '的 大 空 間 交 通 工 具 生 產 部 。 此 外 ， 派 納 和 薩', ' 。 布 ', ' 。 布 ', 'CLS] 漢 諾', 'CLS] 漢 諾', '', '', '賽 。 除 此', '賽 。 除 此', ' 五 旬 ', ' 五 旬 ', ' 1', ' 1', ' 五 旬 節 、 德 國 統 一', ' 五 旬 節 、 德 國 統 一', 'C', 'C', ' 年 以 來', ' 年 以 來', ' ', ' ', '理 [UNK] ', '理 [UNK] ', '理 [UNK] [UNK] 在 1990 年 當 選 為 下 薩 克 森 邦 總 理 。 1993 年 6 月 1 日 新 憲 法 生 效 ， 同 時 「 下 薩 克 森 邦 臨 時 憲 法 」 得 以 廢 除 。 這 首 先 保 障 了 公 民 享 有 表 決 權 和 決 策 權 ， 同 時 將 環 境 保 護 定 為 國 家 的 基 本 原 則 。 1998 年 格 哈 特 · 施 洛 德 當 選 為 聯 邦 德 國 總 理 ， 格 哈 特 · 格', '理 [UNK] [UNK] 在 1990 年 當 選 為 下 薩 克 森 邦 總 理 。 1993 年 6 月 1 日 新 憲 法 生 效 ， 同 時 「 下 薩 克 森 邦 臨 時 憲 法 」 得 以 廢 除 。 這 首 先 保 障 了 公 民 享 有 表 決 權 和 決 策 權 ， 同 時 將 環 境 保 護 定 為 國 家 的 基 本 原 則 。 1998 年 格 哈 特 · 施 洛 德 當 選 為 聯 邦 德 國 總 理 ， 格 哈 特 · 格', '理 [UNK] [UNK] 在 1990 年 當 選 為 下 薩 克 森 邦 總 理 。 1993 年 6 月 1 日 新 憲 法 生 效 ， 同 時 「 下 薩 克 森 邦 臨 時 憲 法 」 得 以 廢 除 。 這 首 先 保 障 了 公 民 享 有 表 決 權 和 決 策 權 ， 同 時 將 環 ', '理 [UNK] [UNK] 在 1990 年 當 選 為 下 薩 克 森 邦 總 理 。 1993 年 6 月 1 日 新 憲 法 生 效 ， 同 時 「 下 薩 克 森 邦 臨 時 憲 法 」 得 以 廢 除 。 這 首 先 保 障 了 公 民 享 有 表 決 權 和 決 策 權 ， 同 時 將 環 ', 'C', 'C', ' ', ' ', ' 人 均 生 產 總 值 88953 元 ， 城 鎮 登 記 失 業 率 為 2. 16 % ， 在 仲 量 聯 行 2012 年 發 表 的 中 國 新 興 城 市 五 十 強 ， 中 山 市 入 圍 其 中 。 中 山 曾 是 廣 東 的 農 業 大 縣 ， 被 譽', ' 人 均 生 產 總 值 88953 元 ， 城 鎮 登 記 失 業 率 為 2. 16 % ， 在 仲 量 聯 行 2012 年 發 表 的 中 國 新 興 城 市 五 十 強 ， 中 山 市 入 圍 其 中 。 中 山 曾 是 廣 東 的 農 業 大 縣 ， 被 譽', 'CLS] 中 山 第 三 ', 'CLS] 中 山 第 三 ', 'CLS] 中 山 第 三 產 業 的 規 模 僅 次 於 工 業 ， 2014 年 第 三 產 業 的 增 加 值 為 1192. 2 億 元 人 民 幣 ， 占 全 市 國 內 生 產 總 值 的 42. 2 % ， 並 且 呈 逐 年 增 長 的 趨 勢 。 物 流 業 、 房 地 產 業 、 旅 遊 業 、 金 融 業 是 中 山 的 四 大 第 三 產 業 。 在 物 流 業 方 面 ， 中 山 市 政 府 近 年 來 對 一 批 物 流 項 目 給 予 貸 ', 'CLS] 中 山 第 三 產 業 的 規 模 僅 次 於 工 業 ， 2014 年 第 三 產 業 的 增 加 值 為 1192. 2 億 元 人 民 幣 ， 占 全 市 國 內 生 產 總 值 的 42. 2 % ， 並 且 呈 逐 年 增 長 的 趨 勢 。 物 流 業 、 房 地 產 業 、 旅 遊 業 、 金 融 業 是 中 山 的 四 大 第 三 產 業 。 在 物 流 業 方 面 ， 中 山 市 政 府 近 年 來 對 一 批 物 流 項 目 給 予 貸 ', 'CLS] 中 山 第 三 產 業 的 規 模 僅 次 於 工 業 ， 2014 年 第 三 產 業 的 增 加 值 為 1192. 2 億 元 人 民 幣 ， 占 全 市 國 內 生 產 總 值 的 42. 2 % ， 並 且 呈 逐 年 增 長 的 趨 勢 。 物 流 業 、 房 地 產 業 、 旅 遊 業 、 金 融 業 是 中 山 的 四 大 第 三 產 業 。 在 物 流 業 方 面 ， 中 山 市 政 府 近 年 來 對 一 批 物 流 項 目 給 予 貸 款 貼 息 政 策 ， 帶 動 了 中 山 物 流 業 的 ', 'CLS] 中 山 第 三 產 業 的 規 模 僅 次 於 工 業 ， 2014 年 第 三 產 業 的 增 加 值 為 1192. 2 億 元 人 民 幣 ， 占 全 市 國 內 生 產 總 值 的 42. 2 % ， 並 且 呈 逐 年 增 長 的 趨 勢 。 物 流 業 、 房 地 產 業 、 旅 遊 業 、 金 融 業 是 中 山 的 四 大 第 三 產 業 。 在 物 流 業 方 面 ， 中 山 市 政 府 近 年 來 對 一 批 物 流 項 目 給 予 貸 款 貼 息 政 策 ， 帶 動 了 中 山 物 流 業 的 ', ' 南 公 ', ' 南 公 ', ' 中 山', ' 中 山', ' 中 山', ' 中 山', 'CLS] 中 山 五 桂 山 一 帶 的 客 家 菜 是 另 一 種 特 色 ， 由 於 居 于 山 區 的 客 家 先 民 多 從 事 重 體 力 勞 作 ， 為 了 補 充 鹽 分 和 不 易', 'CLS] 中 山 五 桂 山 一 帶 的 客 家 菜 是 另 一 種 特 色 ， 由 於 居 于 山 區 的 客 家 先 民 多 從 事 重 體 力 勞 作 ， 為 了 補 充 鹽 分 和 不 易', 'CLS] 中 山 五 桂 山 一 帶 的 客 家 菜 是 另 一 種 特 色 ， 由 於 居 于 山 區 的 客 家 先 民 多 從 事 重 體 力 勞 作 ， 為 了 補 充 鹽 分 和 不 易', 'CLS] 中 山 五 桂 山 一 帶 的 客 家 菜 是 另 一 種 特 色 ， 由 於 居 于 山 區 的 客 家 先 民 多 從 事 重 體 力 勞 作 ， 為 了 補 充 鹽 分 和 不 易', ' ', ' ', 'C', 'C', '家 ', '家 ', ' ', ' ', '', '', '是 ', '是 ', '', '', '辛', '辛', '義 ， 林 君 復 、 ', '義 ， 林 君 復 、 ', '光 復 香 山 。 民', '光 復 香 山 。 民', ' ', ' ', '', '', 'CLS] 除 草 除 蟲 是 秧 苗 成 長 的 時 候 ， 得 時 時 照 顧 ， 並 拔 除 雜 草 、 有 時', 'CLS] 除 草 除 蟲 是 秧 苗 成 長 的 時 候 ， 得 時 時 照 顧 ， 並 拔 除 雜 草 、 有 時', '吃 到 台 灣 出 產 的 米 。 此 處 將 米 的 種 類 以 加 工 過 程 做 簡 單 區 分 ； 稻 的 品 種 也 會 影 響 米 的 種', '吃 到 台 灣 出 產 的 米 。 此 處 將 米 的 種 類 以 加 工 過 程 做 簡 單 區 分 ； 稻 的 品 種 也 會 影 響 米 的 種', '', '', '', '', ' 短 時 間 ', ' 短 時 間 ', '焙 ', '焙 ', ' 短 時 間 煮', ' 短 時 間 煮', ' ， 據 知 目 前 世 界 上 的 稻 屬 植 物 可 能 超 過 14 萬 種 ， 而 且 科 學 家 還 在 不 停 的 研 發 新 稻 種 ， 因 此 稻 的 品 種 究 竟 有 多 少 ， 是 很 難 估 算 的 。 作 為 糧 食 的 主 要 有 非 洲 米 和 亞 洲 米 種 ， 不 過 較 簡 明 的 分 類 是 依 稻 穀 的 澱 粉 成 份 來 粗 分 。 稻 米 的 澱 粉 分 為 直 鏈 及 支 鏈 兩 種 。 支 鏈 澱 粉 越 多 ， 煮 熟 後 會 黏 性 越 高 。 中 國', ' ， 據 知 目 前 世 界 上 的 稻 屬 植 物 可 能 超 過 14 萬 種 ， 而 且 科 學 家 還 在 不 停 的 研 發 新 稻 種 ， 因 此 稻 的 品 種 究 竟 有 多 少 ， 是 很 難 估 算 的 。 作 為 糧 食 的 主 要 有 非 洲 米 和 亞 洲 米 種 ， 不 過 較 簡 明 的 分 類 是 依 稻 穀 的 澱 粉 成 份 來 粗 分 。 稻 米 的 澱 粉 分 為 直 鏈 及 支 鏈 兩 種 。 支 鏈 澱 粉 越 多 ， 煮 熟 後 會 黏 性 越 高 。 中 國', '有 多', '有 多', ' ， 據 知 目 前 世 界 上 的 稻 屬 植 物 可 能 超 過 14 萬 種 ， 而 且 科 學 家 還 在 不 停 的 研 發 新 稻 ', ' ， 據 知 目 前 世 界 上 的 稻 屬 植 物 可 能 超 過 14 萬 種 ， 而 且 科 學 家 還 在 不 停 的 研 發 新 稻 ', 'CLS] 用 米 做 成 的 飲 料 有 相 當 多 種 。 將 米 炒 製 後 做 成 的 米 茶 和 糙 米 茶 相 當 有 名 ， 而 當 中 米 酒 可 能 最 為 大 眾 所 知 ， 中 國 廣 西 壯 族 自 治 區 出 產 的 三 花 酒 、 浙 江 省 出 產 的 加 飯 酒 、 黃 酒 、 女 兒 紅 、 四 川 甜 米 酒 都 是 用 稻 米 釀 製 的 ， 部 份 酒 類 亦 有 以 糯 米 釀 成 的 。 米 酒 也 是 台 灣 家 庭 料 理 不 可 或 缺 的 要 角 ， 台 灣 加 入 世 界 貿 ', 'CLS] 用 米 做 成 的 飲 料 有 相 當 多 種 。 將 米 炒 製 後 做 成 的 米 茶 和 糙 米 茶 相 當 有 名 ， 而 當 中 米 酒 可 能 最 為 大 眾 所 知 ， 中 國 廣 西 壯 族 自 治 區 出 產 的 三 花 酒 、 浙 江 省 出 產 的 加 飯 酒 、 黃 酒 、 女 兒 紅 、 四 川 甜 米 酒 都 是 用 稻 米 釀 製 的 ， 部 份 酒 類 亦 有 以 糯 米 釀 成 的 。 米 酒 也 是 台 灣 家 庭 料 理 不 可 或 缺 的 要 角 ， 台 灣 加 入 世 界 貿 ', '的 加 飯 酒 、 黃 酒 、 ', '的 加 飯 酒 、 黃 酒 、 ', ' ', ' ', '大 ', '大 ', '', '', '膚 有 美 容 功 效 。 煮 熟 的 米 具 有 很 大 ', '膚 有 美 容 功 效 。 煮 熟 的 米 具 有 很 大 ', '科', '科', '', '', ' ', ' ', '', '', ' 找 出 最 早 的', ' 找 出 最 早 的', ' 找 出 最 早 的 水 稻 或 旱 稻 品 種 ， 中 國 有 很 多 考 古 地 點 曾 陸 續 發 現 了 一 些', ' 找 出 最 早 的 水 稻 或 旱 稻 品 種 ， 中 國 有 很 多 考 古 地 點 曾 陸 續 發 現 了 一 些', '為 稻', '為 稻', '', '', ' ', ' ', '', '', '', '', ' ，', ' ，', 'CL', 'CL', '上 有 了 自 己 的 心 得 。 袁 隆', '上 有 了 自 己 的 心 得 。 袁 隆', ' 合', ' 合', '自', '自', '年', '年', '年', '年', '', '', '', '', ' ', ' ', ' 的 運 動 ', ' 的 運 動 ', ' 的 總 質 量 是 恆 星 ', ' 的 總 質 量 是 恆 星 ', ' 其 一 生 ', ' 其 一 生 ', ' 大', ' 大', ' 大 部 分 物 質 都 飛 散 出 去 。 ', ' 大 部 分 物 質 都 飛 散 出 去 。 ', '', '', '', '', '', '', ' ', ' ', '建 ', '建 ', '建 ', '建 ', '建 ', '建 ', 'CLS] 恆 星 的 磁 場 起 源 於 恆 星 內 部 對 流 的 循 環 開 始 產 生 的', 'CLS] 恆 星 的 磁 場 起 源 於 恆 星 內 部 對 流 的 循 環 開 始 產 生 的', ' 活 ', ' 活 ', ' 磁 場', ' 磁 場', 'CLS] ', 'CLS] ', 'CLS] ', 'CLS] ', ' 卻 未 能 尋 獲 。 雖 然 ', ' 卻 未 能 尋 獲 。 雖 然 ', 'CLS] 劍', 'CLS] 劍', 'CLS] 劍 魚 座 · 欸 逼', 'CLS] 劍 魚 座 · 欸 逼', '', '', '等 和 吸 收 特 點 ， 被 用 來 作 為 恆 星 分 類 的 依 據 。 大 質 量 的 主 序 星 表 面 溫 度 可 以 高 達 50, 000 克 耳 文 ，', '等 和 吸 收 特 點 ， 被 用 來 作 為 恆 星 分 類 的 依 據 。 大 質 量 的 主 序 星 表 面 溫 度 可 以 高 達 50, 000 克 耳 文 ，', '等 和 吸 收 特 點 ， 被 用 來 作 為 恆 星 分 類 的 依 據 。 大', '等 和 吸 收 特 點 ， 被 用 來 作 為 恆 星 分 類 的 依 據 。 大', ' 面 溫 度 可 以 高 達 50, 000 克 耳 文 ， 像 太 陽 這 種 較 小 的 恆 星 表 面 溫 度 就 只 有 幾 千 度 。 相 對 來 說 ， 紅 巨 星 的 表 面 只 有 3, 600 克 耳 文 的 低 溫 ， 但 是 因 為 巨 大 的 表 面 積 而 有 高 亮 度 。 輻 射 是 恆 星 產 生 的 能 量 ，', ' 面 溫 度 可 以 高 達 50, 000 克 耳 文 ， 像 太 陽 這 種 較 小 的 恆 星 表 面 溫 度 就 只 有 幾 千 度 。 相 對 來 說 ， 紅 巨 星 的 表 面 只 有 3, 600 克 耳 文 的 低 溫 ， 但 是 因 為 巨 大 的 表 面 積 而 有 高 亮 度 。 輻 射 是 恆 星 產 生 的 能 量 ，', 'CLS] 恆 星 的 顏 色 ， 以 可 見 光 頻 率 的 峰 ', 'CLS] 恆 星 的 顏 色 ， 以 可 見 光 頻 率 的 峰 ', ' 輻 ', ' 輻 ', ' 輻 ', ' 輻 ', '主 要 ', '主 要 ', '主 要 ', '主 要 ', '主 要 ', '主 要 ', '', '', '流 ', '流 ', '', '', '', '', '', '', '年 前 ， 白 ', '年 前 ， 白 ', '為 乾 旱', '為 乾 旱', ' 期 開 始 ， 全 球 的 氣 候 逐 漸 變 得 乾 旱 。 這 段 時 期 ', ' 期 開 始 ， 全 球 的 氣 候 逐 漸 變 得 乾 旱 。 這 段 時 期 ', '季 節 ', '季 節 ', ' 熱 帶', ' 熱 帶', ' 熱 帶', ' 熱 帶', '反 而', '反 而', 'CLS]', 'CLS]', '及 的 領 域 非 ', '及 的 領 域 非 ', '', '', ' 連', ' 連', '源', '源', ' 的 重 點 是 要 把 錢 管 好 。 社 團 法 人 有 明 確 的 法 律 管 轄 ，', ' 的 重 點 是 要 把 錢 管 好 。 社 團 法 人 有 明 確 的 法 律 管 轄 ，', '', '', '', '', '所 制 定 的 《 民 辦 非 企 業 單 位 登 記 暫 行 辦 法 》 ， 將 民 辦 非 企 業 單 位 分 為 民 辦 非 企 業 單 位 、 民 辦', '所 制 定 的 《 民 辦 非 企 業 單 位 登 記 暫 行 辦 法 》 ， 將 民 辦 非 企 業 單 位 分 為 民 辦 非 企 業 單 位 、 民 辦', '', '', ' 展 示', ' 展 示', ' 兒 ，', ' 兒 ，', '族 封 建 制 度 亦 久 。 ', '族 封 建 制 度 亦 久 。 ', '', '', ' 有 資 ', ' 有 資 ', ' 樣 一 句 形 容 詞 ： 「 政 客 是 為 了 下 一 次 的 選 舉 ， 政 治 家 卻 是 為 了 下 一 代 」 。 政 治 人 物 若 能 為 了 下 一 代 子 孫 的 尊 嚴 、 自 主 與 幸 福', ' 樣 一 句 形 容 詞 ： 「 政 客 是 為 了 下 一 次 的 選 舉 ， 政 治 家 卻 是 為 了 下 一 代 」 。 政 治 人 物 若 能 為 了 下 一 代 子 孫 的 尊 嚴 、 自 主 與 幸 福', ' 用', ' 用', ' 樣 一 句 形 容 詞 ： 「 政 客 是 為 了 下 一 次 的 選 舉 ， 政 治 家 卻 是 為 了 下 一 代 」 。 政 治 人 物 若 能 為 了 下 一 代 子 孫 的 尊 嚴 、 自 主 與 幸 福', ' 樣 一 句 形 容 詞 ： 「 政 客 是 為 了 下 一 次 的 選 舉 ， 政 治 家 卻 是 為 了 下 一 代 」 。 政 治 人 物 若 能 為 了 下 一 代 子 孫 的 尊 嚴 、 自 主 與 幸 福', ' 從 預 覽', ' 從 預 覽', '所 有 功 ', '所 有 功 ', '所 有 功 ', '所 有 功 ', '', '', '方', '方', ' 和 國', ' 和 國', '開 的 人 中 大 多 ', '開 的 人 中 大 多 ', '上 開 始 ', '上 開 始 ', '終 修', '終 修', '和 ', '和 ', ' ', ' ', '對 西', '對 西', '] 19', '] 19', '', '', '社 會', '社 會', '牙', '牙', '', '', '', '', '的 政 策 ， 並', '的 政 策 ， 並', '主 共 和 國', '主 共 和 國', ' ', ' ', ' 著', ' 著', '柏 林 逃 ', '柏 林 逃 ', '西 對', '西 對', '', '', '', '', ' 社 會', ' 社 會', ' 。 早', ' 。 早', ' 布 拉 ', ' 布 拉 ', '者 。 早 期 對 東 德 反 對 派 通 常 通 過 清 洗 和 ', '者 。 早 期 對 東 德 反 對 派 通 常 通 過 清 洗 和 ', ' ', ' ', '修', '修', '開', '開', ' 有 最 高', ' 有 最 高', '總 ', '總 ', ' ', ' ', '的 二 衝 程 發 動 機 ， 其 廢 氣 對 環 境 造 成 了 顯 著 污 染 。 由 於 其 中 含 有 [UNK] ， 廢 氣 具 有 明 顯 氣 味 和 顏 色 。 而 ', '的 二 衝 程 發 動 機 ， 其 廢 氣 對 環 境 造 成 了 顯 著 污 染 。 由 於 其 中 含 有 [UNK] ， 廢 氣 具 有 明 顯 氣 味 和 顏 色 。 而 ', ' 氧 化 ', ' 氧 化 ', ' 原 因 。 其 一 氧 化 碳 排 放 尚 在 正 常 標 準 內 。 1960 年 東 德 具 有 12, 335 公 里 的', ' 原 因 。 其 一 氧 化 碳 排 放 尚 在 正 常 標 準 內 。 1960 年 東 德 具 有 12, 335 公 里 的', ' 務 社 會 ', ' 務 社 會 ', '', '', '官 方 鼓 勵 「 社 會 主 義 現 實 主 義 」 的 藝 術 形 式 ， 以 期 望 藝 術 能 夠 描 繪 社 會 主 義 的 生 活 並 且 顯 示 在 東 德 工 作 和 生 活 的 幸 福 。 東 德 從 國 家 層 面 引 導 文 化 和 教 育 的 發 展 。 1968 年 憲 法 提 出 倡 ', '官 方 鼓 勵 「 社 會 主 義 現 實 主 義 」 的 藝 術 形 式 ， 以 期 望 藝 術 能 夠 描 繪 社 會 主 義 的 生 活 並 且 顯 示 在 東 德 工 作 和 生 活 的 幸 福 。 東 德 從 國 家 層 面 引 導 文 化 和 教 育 的 發 展 。 1968 年 憲 法 提 出 倡 ', ' 組 。 在', ' 組 。 在', '流 ', '流 ', '', '', '有 10, 471 座 普 通 教 育 學 校 ， 1988 年 公 立 ', '有 10, 471 座 普 通 教 育 學 校 ， 1988 年 公 立 ', '為', '為', ' 學 ', ' 學 ', '東', '東', ' ', ' ', ' 成 員 的', ' 成 員 的', ' 。 1949 年 ， 德 意 志 民 主 共 和 國 成 立 ， 東 柏 林 成 為 民 主 德 國 的 首 都 。 但 西 柏 林 實 際 上 依 然 為 美 英 法 三 國 共 同 控 制 ， 雖 然 聯 邦 德 國 基 本 法 和 西 柏 林 憲 法 規 定 西 柏 林 隸 屬 於 聯 邦 德 國 的 一 個 州 ， 但 是 ， 西 方 三 國 認 為 該 規 定 同 柏 林 的 現 實 地 ', ' 。 1949 年 ， 德 意 志 民 主 共 和 國 成 立 ， 東 柏 林 成 為 民 主 德 國 的 首 都 。 但 西 柏 林 實 際 上 依 然 為 美 英 法 三 國 共 同 控 制 ， 雖 然 聯 邦 德 國 基 本 法 和 西 柏 林 憲 法 規 定 西 柏 林 隸 屬 於 聯 邦 德 國 的 一 個 州 ， 但 是 ， 西 方 三 國 認 為 該 規 定 同 柏 林 的 現 實 地 ', '德 意 志 ', '德 意 志 ', ' 西 柏 林 隸', ' 西 柏 林 隸', '第 ', '第 ', '', '', '', '', ' ', ' ', ' ', ' ', '溫 帶 ， 植 被 以 韓 松 ， 闊 葉 落 葉 植 物 為 主 。 韓 國 南 部 海 岸 和 濟 州 島 為 暖 溫 帶 。 植 被 為 闊 葉 常 綠 植 被 。 韓 國 礦 產 資 源 種 類 繁 多 ， 但 有 開 採 價 值 的 礦 物 數 量 很 少 。 工 業 原 料 主 要 依 靠 進 口 ， 自 給 率 僅 為 ', '溫 帶 ， 植 被 以 韓 松 ， 闊 葉 落 葉 植 物 為 主 。 韓 國 南 部 海 岸 和 濟 州 島 為 暖 溫 帶 。 植 被 為 闊 葉 常 綠 植 被 。 韓 國 礦 產 資 源 種 類 繁 多 ， 但 有 開 採 價 值 的 礦 物 數 量 很 少 。 工 業 原 料 主 要 依 靠 進 口 ， 自 給 率 僅 為 ', '， 每 屆 ', '， 每 屆 ', '四 年', '四 年', 'CLS] 韓 國 國 會 是 韓 國 一 院 制 立 法 機 關 ， 按 法 律 規 定 應 由 至 少 200 個 議 席 組 成 ， 每 屆 任 期 四 年 ， 其 中 80 % 以 上 的 席 位 由 國 民 投 票 選 舉 產 生 ， 其 餘 的 5 % 以 上 的 席 位 通 過 比 例 代 表 制 產 生 。 韓 國 國 會 具 有 立 法 權 、 修 憲 權 、 財 政 審 查 權 、 外 交 和 戰 爭 權 、 人 事 權 、 監 督 權 和 彈 劾 權 等 權 力 ， 負 責 ', 'CLS] 韓 國 國 會 是 韓 國 一 院 制 立 法 機 關 ， 按 法 律 規 定 應 由 至 少 200 個 議 席 組 成 ， 每 屆 任 期 四 年 ， 其 中 80 % 以 上 的 席 位 由 國 民 投 票 選 舉 產 生 ， 其 餘 的 5 % 以 上 的 席 位 通 過 比 例 代 表 制 產 生 。 韓 國 國 會 具 有 立 法 權 、 修 憲 權 、 財 政 審 查 權 、 外 交 和 戰 爭 權 、 人 事 權 、 監 督 權 和 彈 劾 權 等 權 力 ， 負 責 ', ' 法', ' 法', '', '', ' 行 ', ' 行 ', 'CLS', 'CLS', '', '', '', '', ' 汽 車 ', ' 汽 車 ', ' 汽 車 ', ' 汽 車 ', ' 汽 車 、 半 導 體 及 數 碼 產 品 等 製 造 業 有 著 很 強 的 國 際 競 爭 力 ， 多 數 產 品 擁 有 自 主 品 牌 ， 在 國 際 產 業 鏈 中 的 地 位 在 不 斷 提 高 。 鋼 鐵 工 業 在 過 去 的 半 個 世', ' 汽 車 、 半 導 體 及 數 碼 產 品 等 製 造 業 有 著 很 強 的 國 際 競 爭 力 ， 多 數 產 品 擁 有 自 主 品 牌 ， 在 國 際 產 業 鏈 中 的 地 位 在 不 斷 提 高 。 鋼 鐵 工 業 在 過 去 的 半 個 世', 'CLS] 韓 國 是 世 界 造 船 強 國 ， 很 長 一 段 時 間', 'CLS] 韓 國 是 世 界 造 船 強 國 ， 很 長 一 段 時 間', '', '', '值 船', '值 船', '60 年 代 ，', '60 年 代 ，', '60 年 代 ， 韓 國 開 始 倡 導 「 科 技 立 國 」 ， 1966 年 成 立 了 韓 國 首 個 綜 合 性 科 研 機 構 韓 國 科 學 技 術 研 究 院 。 經 過 對 本 國 科 技 的 培 育 與 扶 植 ， 20 世 紀 80 年 代 ， 韓 國 實 現 了 從 技 術 引 進 到 技 術 創 新 的 跨 越 。 1997 年 ， 亞 洲 金 融 風 暴 衝 擊 韓 國 經 濟 。 執 政 的 金 大 中 政 府 為 應 對 危 機 ， 將 發 展 高 科 技 信 息 產', '60 年 代 ， 韓 國 開 始 倡 導 「 科 技 立 國 」 ， 1966 年 成 立 了 韓 國 首 個 綜 合 性 科 研 機 構 韓 國 科 學 技 術 研 究 院 。 經 過 對 本 國 科 技 的 培 育 與 扶 植 ， 20 世 紀 80 年 代 ， 韓 國 實 現 了 從 技 術 引 進 到 技 術 創 新 的 跨 越 。 1997 年 ， 亞 洲 金 融 風 暴 衝 擊 韓 國 經 濟 。 執 政 的 金 大 中 政 府 為 應 對 危 機 ， 將 發 展 高 科 技 信 息 產', '60 年 代 ， 韓 國 開 始 倡 導 「 科 技 立 國 」 ， 1966 年 成 立 了 韓 國 首 個 綜 合 性 科 研 機 構 韓 國 科 學 技 術 研 究 院 。 經 過 對 本 國 科 技 的 培 育 與 扶 植 ， 20 世 紀 80 年 代 ， 韓 國 實 現 了 從 技 術 引 進 到 技 術 創 新 的 跨 越 。 1997 年 ， 亞 洲 金 融 風 暴 衝 擊 韓 國 經 濟 。 執 政 的 金 大 中 政 府 為 應 對 危 機 ， 將 發 展 高 科 技 信 息 產', '60 年 代 ， 韓 國 開 始 倡 導 「 科 技 立 國 」 ， 1966 年 成 立 了 韓 國 首 個 綜 合 性 科 研 機 構 韓 國 科 學 技 術 研 究 院 。 經 過 對 本 國 科 技 的 培 育 與 扶 植 ， 20 世 紀 80 年 代 ， 韓 國 實 現 了 從 技 術 引 進 到 技 術 創 新 的 跨 越 。 1997 年 ， 亞 洲 金 融 風 暴 衝 擊 韓 國 經 濟 。 執 政 的 金 大 中 政 府 為 應 對 危 機 ， 將 發 展 高 科 技 信 息 產', '] ', '] ', '] ', '] ', '關 係', '關 係', '由', '由', ' 。 諺', ' 。 諺', '了 條', '了 條', '常 化 的', '常 化 的', '歷 了 13 年 零 8 個 月 的 談 判 後 ， 才 於 1965 年 6 月 22 日 建 立 外 交 關 係 。 建 交 後 ', '歷 了 13 年 零 8 個 月 的 談 判 後 ， 才 於 1965 年 6 月 22 日 建 立 外 交 關 係 。 建 交 後 ', '', '', ' 朝', ' 朝', '時 期 從 中 傳 入 朝 鮮 半 島 。 百 濟 和 高 句 麗 的 教 育 制 度 都 是 以 儒 教 為 基 礎 。 高 句 ', '時 期 從 中 傳 入 朝 鮮 半 島 。 百 濟 和 高 句 麗 的 教 育 制 度 都 是 以 儒 教 為 基 礎 。 高 句 ', ' ', ' ', ' 國 傳 統 文 化 衍 生 而 來 。 韓 國 戰 爭 後 韓 半 島 的 南 北 對 峙 導 致 了 南 北 韓 現 代 文 化 的 差 異 ， 但 雙 方 傳 統 文 化 卻 一 脈 相 承 。 韓 半 島 在 歷 史 上 與 中 國 有 著 密 切 的 交 往 ， 因 此 韓 半 島 傳 統 文 化 深 受 中 國 傳 統 文 化 影 響 ，', ' 國 傳 統 文 化 衍 生 而 來 。 韓 國 戰 爭 後 韓 半 島 的 南 北 對 峙 導 致 了 南 北 韓 現 代 文 化 的 差 異 ， 但 雙 方 傳 統 文 化 卻 一 脈 相 承 。 韓 半 島 在 歷 史 上 與 中 國 有 著 密 切 的 交 往 ， 因 此 韓 半 島 傳 統 文 化 深 受 中 國 傳 統 文 化 影 響 ，', ' 國 傳 統 文 化 衍 生 而 來 。 韓 國 戰 爭 後 韓 半 島 的 南 北 對 峙 導 致 了 南 北 韓 現 代 文 化 的 差 異 ， 但 雙 方 傳 統 文 化 卻 一 脈 相 承 。 韓 半 島 在 歷 史 上 與 中 國 有 著 密 切 的 交 往 ， 因 此 韓 半 島 傳 統 文 化 深 受 中 國 傳 統 文 化 影 響 ，', ' 國 傳 統 文 化 衍 生 而 來 。 韓 國 戰 爭 後 韓 半 島 的 南 北 對 峙 導 致 了 南 北 韓 現 代 文 化 的 差 異 ， 但 雙 方 傳 統 文 化 卻 一 脈 相 承 。 韓 半 島 在 歷 史 上 與 中 國 有 著 密 切 的 交 往 ， 因 此 韓 半 島 傳 統 文 化 深 受 中 國 傳 統 文 化 影 響 ，', ' 國 傳 統 文 化 衍 生 而 來 。 韓 國 戰 爭 後 韓 半 島 的 南 北 對 峙 導 致 了 南 北 韓 現 代 文 化 的 差 異 ， 但 雙 方 傳 統 文 化 卻 一 脈 相 承 。 韓 半 島 在 歷 史 上 與 中 國 有 著 密 切 的 交 往 ， 因 此 韓 半 島 傳 統 文 化 深 受 中 國 傳 統 文 化 影 響 ， 不 過 韓 半 島 傳 統 文 化 仍 保 留 有 其 獨 特 的 特 徵 。 韓 國 現 代 文 化 是 韓 國 現 代 化 的 產 物 。 隨 著 韓 國 經 濟 和 社 會 的 發 展 ', ' 國 傳 統 文 化 衍 生 而 來 。 韓 國 戰 爭 後 韓 半 島 的 南 北 對 峙 導 致 了 南 北 韓 現 代 文 化 的 差 異 ， 但 雙 方 傳 統 文 化 卻 一 脈 相 承 。 韓 半 島 在 歷 史 上 與 中 國 有 著 密 切 的 交 往 ， 因 此 韓 半 島 傳 統 文 化 深 受 中 國 傳 統 文 化 影 響 ， 不 過 韓 半 島 傳 統 文 化 仍 保 留 有 其 獨 特 的 特 徵 。 韓 國 現 代 文 化 是 韓 國 現 代 化 的 產 物 。 隨 著 韓 國 經 濟 和 社 會 的 發 展 ', ' 的 ', ' 的 ', '', '', '明 王 的', '明 王 的', 'CLS] 194', 'CLS] 194', ' 有', ' 有', ' 韓 ', ' 韓 ', '升 ', '升 ', ' 林 ', ' 林 ', '國 傳 統 藝 術 盤 索 里 的 影 片 《 西 便 制 》 取 得 歷 史', '國 傳 統 藝 術 盤 索 里 的 影 片 《 西 便 制 》 取 得 歷 史', '韓 劇 ', '韓 劇 ', '韓 劇 ', '韓 劇 ', '三', '三', '、', '、', ' ', ' ', ' ', ' ', ' 大 ', ' 大 ', '', '', ' 大 ', ' 大 ', '量 最', '量 最', ' ', ' ', '量 最 大 的 酒 精 飲 品 ， 也 是 世 界 上 最 暢 銷 的 酒 ， 其 中 韓 國 著 名 的 燒 酒 品 牌 真 露 居 世 界 烈 酒 銷 量 之 首 。 韓 國 燒 酒 口 感 清 新 、 酒 精 度 數 低 、 價 格 便 宜 在 歐 美 是 非 常 受 歡 迎 的 白 酒 。 2008 年 ， 美 國 著 名 的 韋 伯 斯 特 字 典 已 將 韓 國 燒 酒 「 燒 酒 」 一 詞 正 式 收 錄 其 中 。 除 燒 酒 外 ， 韓 國 常 見 的 酒 還 有 清 酒 、 濁 酒 、 果 酒 、 花 酒 、 藥 酒 等 。 啤 酒 在 韓 國 也 越 來 越 受 歡 迎 。 海 特 啤 酒 是 韓 國 最 大 的 啤 酒 生 產 商 。', '量 最 大 的 酒 精 飲 品 ， 也 是 世 界 上 最 暢 銷 的 酒 ， 其 中 韓 國 著 名 的 燒 酒 品 牌 真 露 居 世 界 烈 酒 銷 量 之 首 。 韓 國 燒 酒 口 感 清 新 、 酒 精 度 數 低 、 價 格 便 宜 在 歐 美 是 非 常 受 歡 迎 的 白 酒 。 2008 年 ， 美 國 著 名 的 韋 伯 斯 特 字 典 已 將 韓 國 燒 酒 「 燒 酒 」 一 詞 正 式 收 錄 其 中 。 除 燒 酒 外 ， 韓 國 常 見 的 酒 還 有 清 酒 、 濁 酒 、 果 酒 、 花 酒 、 藥 酒 等 。 啤 酒 在 韓 國 也 越 來 越 受 歡 迎 。 海 特 啤 酒 是 韓 國 最 大 的 啤 酒 生 產 商 。', '落 在 安', '落 在 安', '', '', 'CL', 'CL', ' 還 ', ' 還 ', ' 暴 風', ' 暴 風', '氣 候 ， 溫 度 普 遍 ', '氣 候 ， 溫 度 普 遍 ', 'CLS] 多 倫 ', 'CLS] 多 倫 ', ' 供 ', ' 供 ', '', '', ' 節 目 ', ' 節 目 ', '在 下 午 時', '在 下 午 時', '在 下 午 時', '在 下 午 時', 'CLS] 多 ', 'CLS] 多 ', 'CLS] 多 倫 多 證 券 交 易 所 是 世 界 第 七 大 交 易 所 ， 總 部 設 於 市 內 ， 有 多 數 加 拿 大 公 司 在 這 裡 上 市 。 多 倫 多 的 國 際 性 人 口 體 現 出 它 是 前 往 加 拿 大 移 民 的 重 要 落 腳 點 。 而 市 內 49 % 的 人 口 是 在 加 拿 大 以 外 誕 生 ，', 'CLS] 多 倫 多 證 券 交 易 所 是 世 界 第 七 大 交 易 所 ， 總 部 設 於 市 內 ， 有 多 數 加 拿 大 公 司 在 這 裡 上 市 。 多 倫 多 的 國 際 性 人 口 體 現 出 它 是 前 往 加 拿 大 移 民 的 重 要 落 腳 點 。 而 市 內 49 % 的 人 口 是 在 加 拿 大 以 外 誕 生 ，', 'CLS] 多 倫 多 證 券 交 易 所 是 世 界 第 七 大 交 易 所 ， 總 部 設 於 市 內 ， 有 多 數 加 拿 大 公 司 在 這 裡 上 市 。 多 倫 多 的 國 際 性 人 口 體 現 出 它 是 前 往 加 拿 大 移 民 的 重 要 落 腳 點 。 而 市 內 49 % 的 人 口 是 在 加 拿 大 以 外 誕 生 ，', 'CLS] 多 倫 多 證 券 交 易 所 是 世 界 第 七 大 交 易 所 ， 總 部 設 於 市 內 ， 有 多 數 加 拿 大 公 司 在 這 裡 上 市 。 多 倫 多 的 國 際 性 人 口 體 現 出 它 是 前 往 加 拿 大 移 民 的 重 要 落 腳 點 。 而 市 內 49 % 的 人 口 是 在 加 拿 大 以 外 誕 生 ，', '', '', '現 在', '現 在', '從 ', '從 ', '的 長 形 ', '的 長 形 ', '的 長 形 ', '的 長 形 ', '的 長 形 ', '的 長 形 ', ' ', ' ', '於 ', '於 ', '', '', ' 土 面 積', ' 土 面 積', ' 浙 江 、 福 建 、 江 西 、 廣 東 、 廣 西 、 湖 廣 、 四 川 、 雲 南 、 貴 州 。 順 治 元 年 定 鼎 北 京 ， 以 盛 京 為 留 都 。 二 年 改 北 直 隸 為 直 隸 省 ， 改 南', ' 浙 江 、 福 建 、 江 西 、 廣 東 、 廣 西 、 湖 廣 、 四 川 、 雲 南 、 貴 州 。 順 治 元 年 定 鼎 北 京 ， 以 盛 京 為 留 都 。 二 年 改 北 直 隸 為 直 隸 省 ， 改 南', '都 。 二', '都 。 二', ' 間 ', ' 間 ', '', '', '巴 爾 虎', '巴 爾 虎', '新 ', '新 ', '', '', '行 政', '行 政', '盟 長 ， 掌 管 會 盟 事', '盟 長 ， 掌 管 會 盟 事', '古 ', '古 ', ' 構', ' 構', 'C', 'C', '', '', 'CLS] 西 藏 在 清 代 又 稱 「 唐 古 忒 」 、 「 圖 伯 特 」 ， 分 為 衛 、 喀 木 、 藏 、 阿 里 四 部 ， 以 及 霍 爾 三 十 九 族 地 區 。 西 藏 地 方', 'CLS] 西 藏 在 清 代 又 稱 「 唐 古 忒 」 、 「 圖 伯 特 」 ， 分 為 衛 、 喀 木 、 藏 、 阿 里 四 部 ， 以 及 霍 爾 三 十 九 族 地 區 。 西 藏 地 方', '新', '新', '期', '期', ' 高', ' 高', '內', '內', '。 公 元 12', '。 公 元 12', '州 ', '州 ', '述 184', '述 184', ' ，', ' ，', ' ，', ' ，', ' 初', ' 初', '] ', '] ', '進 一 步 追', '進 一 步 追', ' 投 降', ' 投 降', '麗 ', '麗 ', '和 ', '和 ', '第 ', '第 ', '九 州 統 一 ', '九 州 統 一 ', '淵 蓋 蘇 文 刺 殺 榮 留 王', '淵 蓋 蘇 文 刺 殺 榮 留 王', '問', '問', ' 糧 使', ' 糧 使', '金 ', '金 ', 'CLS] 667 年 九 月 十 二 ， 高 句 麗 僧 人 信 誠 打 開 平 壤 城 門 ， 唐 軍 有 機 會 攻 入 平 壤 ， 淵 男 建 被 俘 虜 投 降 。 與 此 同 時 ， 在 南 線 由 於 金 庾 信 的 攻 勢 ， 淵 蓋 蘇 文 的 弟 弟 淵 淨 土 向 新 羅 投 降 。 就 這 樣 高 句 麗 由 於 內 部 紛 爭 ， 長 年 饑 荒 和 唐 與 新 羅 南 北 聯 合', 'CLS] 667 年 九 月 十 二 ， 高 句 麗 僧 人 信 誠 打 開 平 壤 城 門 ， 唐 軍 有 機 會 攻 入 平 壤 ， 淵 男 建 被 俘 虜 投 降 。 與 此 同 時 ， 在 南 線 由 於 金 庾 信 的 攻 勢 ， 淵 蓋 蘇 文 的 弟 弟 淵 淨 土 向 新 羅 投 降 。 就 這 樣 高 句 麗 由 於 內 部 紛 爭 ， 長 年 饑 荒 和 唐 與 新 羅 南 北 聯 合', ' 平', ' 平', ' 平', ' 平', '', '', '為 管 ', '為 管 ', ' 句 麗 故 地 而 設 置 的 安 東 都 護 府 ， 最 初 是 由 薛 仁 貴 來 管 理 的 。 後 來 唐 朝 任 命 高 句 麗 寶 藏 王 高 藏 為 遼 東 州 都 督 、 朝 鮮 王 。 由 於 寶 藏 王 支 持 反 唐 被 流 放 。 寶 藏 王 的 兒 子 高 德 武 接 管 了 安 東 都 督 府 。 日 本 學 者 日 野 開 三 郎 在 其 著 《 小', ' 句 麗 故 地 而 設 置 的 安 東 都 護 府 ， 最 初 是 由 薛 仁 貴 來 管 理 的 。 後 來 唐 朝 任 命 高 句 麗 寶 藏 王 高 藏 為 遼 東 州 都 督 、 朝 鮮 王 。 由 於 寶 藏 王 支 持 反 唐 被 流 放 。 寶 藏 王 的 兒 子 高 德 武 接 管 了 安 東 都 督 府 。 日 本 學 者 日 野 開 三 郎 在 其 著 《 小', 'CLS', 'CLS', '蒙 ', '蒙 ', ' ', ' ', ' ，', ' ，', '', '', ' 形', ' 形', '經 資', '經 資', ' 減', ' 減', '', '', '', '', ' 政 治 ', ' 政 治 ', '省 理 工 學 ', '省 理 工 學 ', '全 美 最', '全 美 最', ' 接 ', ' 接 ', ' 接 近 民 居 而 惹 來 了 一 些 爭 議 。 校 方 一 再 強 調 ， 有 關 設 ', ' 接 近 民 居 而 惹 來 了 一 些 爭 議 。 校 方 一 再 強 調 ， 有 關 設 ', ' ', ' ', ' 了 大 學 生 研 究 計 劃 ， 提 供 網 站 作 平 台 ， 方 便 他 們 能 ', ' 了 大 學 生 研 究 計 劃 ， 提 供 網 站 作 平 台 ， 方 便 他 們 能 ', '如 飲', '如 飲', ' 了', ' 了', ' 了', ' 了', '', '', ' 教', ' 教', ' 獎 章 、 ', ' 獎 章 、 ', '截 至 2', '截 至 2', ' ', ' ', '1 位 ', '1 位 ', '獲 獎 者 、 47 位 羅 德 學 者 、 61 位 馬 歇 爾 獎 學 金 得 主 為 麻 省 理 工 學 院 的 校 友 。 著 名 政 界 人 物 包 括 ： 美 聯 儲 主 席 本 · 伯 南 克 、 麻 薩 諸 塞 州 第 一 國 會 選 區 代 表 約 翰 · 奧 利 弗 、 加 州 第 十 三 國 會 選 區 代 表 彼 得 · 斯 塔 克 、', '獲 獎 者 、 47 位 羅 德 學 者 、 61 位 馬 歇 爾 獎 學 金 得 主 為 麻 省 理 工 學 院 的 校 友 。 著 名 政 界 人 物 包 括 ： 美 聯 儲 主 席 本 · 伯 南 克 、 麻 薩 諸 塞 州 第 一 國 會 選 區 代 表 約 翰 · 奧 利 弗 、 加 州 第 十 三 國 會 選 區 代 表 彼 得 · 斯 塔 克 、', '根 據 1', '根 據 1', '這 ', '這 ', '全', '全', '，', '，', ' 規 模', ' 規 模', ' 規 模', ' 規 模', '', '', ' 類 ', ' 類 ', '機 械 、 ', '機 械 、 ', '機 械 、 ', '機 械 、 ', '興 ', '興 ', ' 公 路 、 鐵 路 和 內 河 航 運 的 重 要 中 心 。 史 特 拉 斯 堡 港 是 萊 茵 河 沿 線 的 第 二 大 港 口 ， 僅 次 於 德 國 的 杜 伊 斯 堡 。 該 市 也 是 萊 茵 河 航 運 中 央 委 員 會 的 駐 地 。 史 特 拉 斯 堡 的 歷 史 中 心 位 於 伊 爾 河 兩 條 支 流 環 繞 的 大 島 ， 這 一 區 域 擁 有 中 世 紀 以 來 的 大 量 精 美 建 築 ， 包 括 史 特 拉 斯 堡 大 教 堂 與 小 法 蘭 西 ， ', ' 公 路 、 鐵 路 和 內 河 航 運 的 重 要 中 心 。 史 特 拉 斯 堡 港 是 萊 茵 河 沿 線 的 第 二 大 港 口 ， 僅 次 於 德 國 的 杜 伊 斯 堡 。 該 市 也 是 萊 茵 河 航 運 中 央 委 員 會 的 駐 地 。 史 特 拉 斯 堡 的 歷 史 中 心 位 於 伊 爾 河 兩 條 支 流 環 繞 的 大 島 ， 這 一 區 域 擁 有 中 世 紀 以 來 的 大 量 精 美 建 築 ， 包 括 史 特 拉 斯 堡 大 教 堂 與 小 法 蘭 西 ， ', ' 特 拉 斯 堡 ', ' 特 拉 斯 堡 ', ' 茵 河 沿 線 的 第 二 大 港 口 ， 僅 次 於 德 國 的 杜 伊 斯 堡 。 該 市 也 是 萊 茵 河 航 運 中 央 委 員 會 的 駐 地 。 史 特 拉 斯 堡 的 歷 史 中 心 位 於 伊 爾 河 兩 條 支 流 環 繞 的 大 島 ， 這 一 區 域 擁 有 中 世 紀 以 來 的 大 量 精 美 建 築 ， 包 括 史 特 拉 斯 堡 大 教 堂 與 小 法 蘭 西 ， ', ' 茵 河 沿 線 的 第 二 大 港 口 ， 僅 次 於 德 國 的 杜 伊 斯 堡 。 該 市 也 是 萊 茵 河 航 運 中 央 委 員 會 的 駐 地 。 史 特 拉 斯 堡 的 歷 史 中 心 位 於 伊 爾 河 兩 條 支 流 環 繞 的 大 島 ， 這 一 區 域 擁 有 中 世 紀 以 來 的 大 量 精 美 建 築 ， 包 括 史 特 拉 斯 堡 大 教 堂 與 小 法 蘭 西 ， ', '一 區', '一 區', ' 與 ', ' 與 ', '16 世 紀 ', '16 世 紀 ', '', '', ' 負 ', ' 負 ', ' 容', ' 容', ' ， ', ' ， ', '堡 ', '堡 ', 'CLS] 法 國 革 命 期 間 ， 在 1792 年 4 月 25 日 ， 德 利 斯 勒 在 史 特 拉 斯 堡 市 長 德 特 里 希 家 中 進 晚 餐 時 ， 譜 寫 了 萊 茵 守 軍 戰 曲 ， 即 後 來 的 法 國 國 歌 馬 賽 曲 。 不 過 ， 法 國 革 命 也 廢 除 了 史 特 拉 斯 堡 的 自 由 市 地 位 。 激 進 的 雅 各 賓 俱 樂 部 用 鐵 腕 手 段 統 治 該 市 ， 直 到 羅 伯 斯 ', 'CLS] 法 國 革 命 期 間 ， 在 1792 年 4 月 25 日 ， 德 利 斯 勒 在 史 特 拉 斯 堡 市 長 德 特 里 希 家 中 進 晚 餐 時 ， 譜 寫 了 萊 茵 守 軍 戰 曲 ， 即 後 來 的 法 國 國 歌 馬 賽 曲 。 不 過 ， 法 國 革 命 也 廢 除 了 史 特 拉 斯 堡 的 自 由 市 地 位 。 激 進 的 雅 各 賓 俱 樂 部 用 鐵 腕 手 段 統 治 該 市 ， 直 到 羅 伯 斯 ', ' 尖 頂', ' 尖 頂', '', '', '大 陸 連 接 。 航 空 群 島 現 有 民 用 機 場 1 個 ，', '大 陸 連 接 。 航 空 群 島 現 有 民 用 機 場 1 個 ，', '大 陸 連', '大 陸 連', '', '', ' 結 束 之 後 ， 也 就 是 大 約 1900 年 。 當 代 史 學 者 習 慣 把 一 戰 爆 發 ， 作 為 近 代 的 終 結 、 現 代 的 開 端 。 同 樣 地 ， 依 據 各 個 領 域 的 不 同 觀 點 ', ' 結 束 之 後 ， 也 就 是 大 約 1900 年 。 當 代 史 學 者 習 慣 把 一 戰 爆 發 ， 作 為 近 代 的 終 結 、 現 代 的 開 端 。 同 樣 地 ， 依 據 各 個 領 域 的 不 同 觀 點 ', '', '', '、 現 ', '、 現 ', ' ， 包', ' ， 包', '', '', '、 ', '、 ', ' ， 包', ' ， 包', '、 ', '、 ', '世 ', '世 ', ' ， 天 ', ' ， 天 ', '士 多', '士 多', '同 ', '同 ', ' 經 ', ' 經 ', '些 產 業 是 ', '些 產 業 是 ', ' 讓 ', ' 讓 ', '地 位 是', '地 位 是', '是 ', '是 ', ' 東 ', ' 東 ', 'CL', 'CL', 'CL', 'CL', 'CLS] 樂 山 市 是 中 華 人 ', 'CLS] 樂 山 市 是 中 華 人 ', ' 番', ' 番', ' 在 ', ' 在 ', '了 ', '了 ', ' ，', ' ，', ' ', ' ', ' 行 政 機 構 為 新 的 經 濟 增 長 奠 定 了 基 礎 ， 而 從 19 世 紀 40 年 代 開 始 的 工 業 化 進 程 則 為 其 提 供 了 強 勁 的 動 力 。 在 19 世 紀 ， 克 里 斯 蒂 安 尼 亞 快 速 擴 張 ， 許 多 新 的 公 共 建 築 開 始 建 造 [UNK] 包 括 奧 斯 陸 王 宮 、 挪 威 國 會 大 廈 、 國 家 劇 院 等 。 克 里 斯 蒂 安 尼 亞 建 成 區 西 面 的 一 批 公 共 建 築 隸 屬 於 建 築 師 漢 斯 · 林 斯 道 爾 於 1838 年 制 定 的 規 劃 ， 其 中 卡 爾 約 翰 大 街 將 成 為 主 軸 ， 新 城 區 吸 引 了 許 多 富 裕 階 層 的 市 民 入 住 。 與 此 同 時 ， 城 市 東 邊 的 阿 克 爾 河 沿 岸 ', ' 行 政 機 構 為 新 的 經 濟 增 長 奠 定 了 基 礎 ， 而 從 19 世 紀 40 年 代 開 始 的 工 業 化 進 程 則 為 其 提 供 了 強 勁 的 動 力 。 在 19 世 紀 ， 克 里 斯 蒂 安 尼 亞 快 速 擴 張 ， 許 多 新 的 公 共 建 築 開 始 建 造 [UNK] 包 括 奧 斯 陸 王 宮 、 挪 威 國 會 大 廈 、 國 家 劇 院 等 。 克 里 斯 蒂 安 尼 亞 建 成 區 西 面 的 一 批 公 共 建 築 隸 屬 於 建 築 師 漢 斯 · 林 斯 道 爾 於 1838 年 制 定 的 規 劃 ， 其 中 卡 爾 約 翰 大 街 將 成 為 主 軸 ， 新 城 區 吸 引 了 許 多 富 裕 階 層 的 市 民 入 住 。 與 此 同 時 ， 城 市 東 邊 的 阿 克 爾 河 沿 岸 ', '', '', ' 19 世 紀 ， 克 里 ', ' 19 世 紀 ， 克 里 ', '築 ', '築 ', ' 河 ', ' 河 ', 'CLS] 商 朝 時 期 ， 這 塊 土 地 上 出 現 了 [UNK] 、 莒 、 費 諸 方 國 。 周 滅 商 後 ， 魯 國 和 齊 國 是 周 王 朝 控 制 東 方 的 ', 'CLS] 商 朝 時 期 ， 這 塊 土 地 上 出 現 了 [UNK] 、 莒 、 費 諸 方 國 。 周 滅 商 後 ， 魯 國 和 齊 國 是 周 王 朝 控 制 東 方 的 ', '', '', ' 除', ' 除', '', '', '月 6 日 布 爾 什 維 克 民 兵 在 共 和 國 革 命 軍 事 委 員 會 主 席', '月 6 日 布 爾 什 維 克 民 兵 在 共 和 國 革 命 軍 事 委 員 會 主 席', '洛 茨', '洛 茨', ' 了 ', ' 了 ', '', '', ' ', ' ', '30 日 的', '30 日 的', ' ', ' ', '和 沒 有', '和 沒 有', ' ', ' ', ' ，', ' ，', '，', '，', 'CLS] 1947 年 3 月 15 日 ， 中 國 國 民 黨 第 六 屆 中 央 執 行 委 員 會 第 三 次 全 體 會 議 在 南 京 開 幕 。 蔣 介 石 主 持 ， 出 席 中 央 委 員 146 人 ， 候 補 中 央 委 員 46 人 ， 列 席 各 地 黨 部 及 三 民 主 義 青 年 團 書 記 長 68 人 ； 蔣 致 開 幕 詞 ， 稱 中 共 全 面 叛 亂 [UNK] [UNK] 政 治 解 決 的 途 徑 已 經 絕 望 [UNK] [UNK] 政 府 為 捍 衛 國 家 統 一 ， 保 障 人 民 安 全 ， 當 然 不 能 坐 視 變 亂 而 不 加 制 止 [UNK] [UNK] 我 敢 斷 定 ， 決 沒 有 任 何 力 量 能 阻 止 我 們 建 國 工 作 的 完 成 。 同 時 聲 稱 實 行 民 主 ， 結 束 訓 政 ， 改 組 政 府 。 3 月 17 日 ， 參 謀 總 長 陳 誠 向 三 中 全 會 報 告 軍 事 ， 歷 述 一 年', 'CLS] 1947 年 3 月 15 日 ， 中 國 國 民 黨 第 六 屆 中 央 執 行 委 員 會 第 三 次 全 體 會 議 在 南 京 開 幕 。 蔣 介 石 主 持 ， 出 席 中 央 委 員 146 人 ， 候 補 中 央 委 員 46 人 ， 列 席 各 地 黨 部 及 三 民 主 義 青 年 團 書 記 長 68 人 ； 蔣 致 開 幕 詞 ， 稱 中 共 全 面 叛 亂 [UNK] [UNK] 政 治 解 決 的 途 徑 已 經 絕 望 [UNK] [UNK] 政 府 為 捍 衛 國 家 統 一 ， 保 障 人 民 安 全 ， 當 然 不 能 坐 視 變 亂 而 不 加 制 止 [UNK] [UNK] 我 敢 斷 定 ， 決 沒 有 任 何 力 量 能 阻 止 我 們 建 國 工 作 的 完 成 。 同 時 聲 稱 實 行 民 主 ， 結 束 訓 政 ， 改 組 政 府 。 3 月 17 日 ， 參 謀 總 長 陳 誠 向 三 中 全 會 報 告 軍 事 ， 歷 述 一 年', ' ', ' ', ' 人', ' 人', ' 軍', ' 軍', '上 午 ，', '上 午 ，', '台 灣 當', '台 灣 當', ' 華', ' 華', '', '', ' ', ' ', '復 辟', '復 辟', '', '', '', '', '期 ', '期 ', ' 張', ' 張', '', '', ' ， 共 產 黨 發 動 南 昌 起 事 ， 開 始 武 裝 奪 權 ， 並 先 後 建 立 中 國 工 農 紅 軍 及 數 處 革 命 根 據 地 ， 與 定 都 南 京 的 中 華 民 國 分 庭 抗 禮 。 1928 年 12 月 ， 國 民 政 府 完 成 北 伐 、 形 式 上 統 一 中 國 後 ， 自 1930 年 起 先 後 ', ' ， 共 產 黨 發 動 南 昌 起 事 ， 開 始 武 裝 奪 權 ， 並 先 後 建 立 中 國 工 農 紅 軍 及 數 處 革 命 根 據 地 ， 與 定 都 南 京 的 中 華 民 國 分 庭 抗 禮 。 1928 年 12 月 ， 國 民 政 府 完 成 北 伐 、 形 式 上 統 一 中 國 後 ， 自 1930 年 起 先 後 ', ' 產', ' 產', '顯', '顯', ' 19', ' 19', ' 產 黨 將 其 掌 握 的 武 裝 力 量 命 名 為 中 國 人 民 解 放 軍 ； 經 過 遼 瀋 、 徐 蚌 、 平 津 等 三 大 戰 役 後 ， 共 產 黨 在 東 北 與 北 方 取 得 軍 事 上 絕 對 優 勢 ， 至 1949 年 初 已 控 制 長 江 以 北 所 有 省 份 。 另 一 方 面 ， 國 民 政 府 在 1947 年 結 束 訓 政 、 頒 行 憲 法 、 將 以 黨 治 國 的 國 民 政 府 改 組 為 行 憲 之 中 華 民 國 政 府 、 將 國 民 革 命 軍 改 組 為 國 軍 ， 並 以 推 行 金 圓 券 等 金 融 改 革 措 施 提 振 當 時 尚 處 戰 後 疲 弱 的 中 國 經 濟 ， 企 圖 以 改 革 換 取 社 會 菁 英 與 中 產 階 級 的 支 持 ， 但 改 革 失 敗 反 使 國 ', ' 產 黨 將 其 掌 握 的 武 裝 力 量 命 名 為 中 國 人 民 解 放 軍 ； 經 過 遼 瀋 、 徐 蚌 、 平 津 等 三 大 戰 役 後 ， 共 產 黨 在 東 北 與 北 方 取 得 軍 事 上 絕 對 優 勢 ， 至 1949 年 初 已 控 制 長 江 以 北 所 有 省 份 。 另 一 方 面 ， 國 民 政 府 在 1947 年 結 束 訓 政 、 頒 行 憲 法 、 將 以 黨 治 國 的 國 民 政 府 改 組 為 行 憲 之 中 華 民 國 政 府 、 將 國 民 革 命 軍 改 組 為 國 軍 ， 並 以 推 行 金 圓 券 等 金 融 改 革 措 施 提 振 當 時 尚 處 戰 後 疲 弱 的 中 國 經 濟 ， 企 圖 以 改 革 換 取 社 會 菁 英 與 中 產 階 級 的 支 持 ， 但 改 革 失 敗 反 使 國 ', '', '', '單 力 薄 ，', '單 力 薄 ，', '方 發', '方 發', ' 展 國', ' 展 國', ' 和 ， 這 段 緩 和 期 中 共 稱 之 為 第 二 次 國 共 合 作 。 1937 年 ', ' 和 ， 這 段 緩 和 期 中 共 稱 之 為 第 二 次 國 共 合 作 。 1937 年 ', '第 ', '第 ', '第 ', '第 ', '', '', 'CLS] 西 安 事 變 後 ， 國 民 政 府 與 中 國 共 產 黨 的 衝 突 趨 於 緩 和 ， 這 段 緩 和 期 中 共 稱 之 為 第 二 次 國 共 合 作 。 1937 年 7 月 7 日 盧 溝 橋 事 變 後 ， 中 日 兩 國 進 入 全 面 戰 爭 狀 態 。 7 月 17 日 ， 蔣 中 正 在 廬 山 發 表 講 話 ， 表 明 了 中 國 對 日 本 退 讓 的 底 線 以 及 準 備 全 面 抗 戰 的 態 度 。 8 月 22 日 至 8 月 25 日 洛 川 會 議 中 毛 澤 東 稱 中 共 之 真 正 任 務 ， 關 于 軍 事 問 題 ， 抗 日 戰 爭 將 是 一 場 艱 苦 持 久 戰 。 紅 軍 之 基 本 任 務 是 ： 創 造 根 據 地 ， 牽 制 消 滅 敵 人 ， 配 合 友 軍 作 戰 ， 保 存 和 擴 大 紅 軍 ， 爭 取 共 產 黨 對 民 族 革 命 戰 爭 的 領 導 權 。 紅 軍 的 作 戰 方 針 是 獨 立 自 主 的 山 地 遊 擊 戰 爭 。 1937 年 9 ', 'CLS] 西 安 事 變 後 ， 國 民 政 府 與 中 國 共 產 黨 的 衝 突 趨 於 緩 和 ， 這 段 緩 和 期 中 共 稱 之 為 第 二 次 國 共 合 作 。 1937 年 7 月 7 日 盧 溝 橋 事 變 後 ， 中 日 兩 國 進 入 全 面 戰 爭 狀 態 。 7 月 17 日 ， 蔣 中 正 在 廬 山 發 表 講 話 ， 表 明 了 中 國 對 日 本 退 讓 的 底 線 以 及 準 備 全 面 抗 戰 的 態 度 。 8 月 22 日 至 8 月 25 日 洛 川 會 議 中 毛 澤 東 稱 中 共 之 真 正 任 務 ， 關 于 軍 事 問 題 ， 抗 日 戰 爭 將 是 一 場 艱 苦 持 久 戰 。 紅 軍 之 基 本 任 務 是 ： 創 造 根 據 地 ， 牽 制 消 滅 敵 人 ， 配 合 友 軍 作 戰 ， 保 存 和 擴 大 紅 軍 ， 爭 取 共 產 黨 對 民 族 革 命 戰 爭 的 領 導 權 。 紅 軍 的 作 戰 方 針 是 獨 立 自 主 的 山 地 遊 擊 戰 爭 。 1937 年 9 ', 'CLS] 香 港 天 文 台 的 香 港 氣 象 中 心 每 日 24 小 時 工 作 ， 向 公 眾 發 放 最 新 的 天 氣 消 息 ， 包 括 最 高 及 最 低 氣 溫 、 分 ', 'CLS] 香 港 天 文 台 的 香 港 氣 象 中 心 每 日 24 小 時 工 作 ， 向 公 眾 發 放 最 新 的 天 氣 消 息 ， 包 括 最 高 及 最 低 氣 溫 、 分 ', '氣 溫', '氣 溫', '', '', ' 。 而', ' 。 而', '', '', '', '', '', '', '的', '的', '', '', '競 爭 分 組 首 位 。 巴 西 ', '競 爭 分 組 首 位 。 巴 西 ', '後', '後', ' ， ', ' ， ', '盃 由 ', '盃 由 ', '', '', '', '', '比', '比', ' 西 攻', ' 西 攻', ' 西 攻 擊 核 心 。 但 在 對 哥 倫 比 亞 之 戰 ， 內 馬 爾 被 對 手 哥 倫 比 亞 後 衞 朱 尼 嘉 膝 蓋 頂 到 背 部 ， 造 成 脊 椎 骨 骨 折 ， 隊 醫 隨 後 表 示 內 馬 爾 將 無 法 在 繼 續 接 下 來 的 比 賽 ， 以 及 隊 長 蒂 亞 戈 • 席 爾 瓦 被 [UNK] 停 賽 。 稍 後 的 準 決 賽 中 被 德 國 攻 進 7 球 ， 刷 新 了 巴 西 國 家 足 球 隊 的 最 大 比 數 失 利 記', ' 西 攻 擊 核 心 。 但 在 對 哥 倫 比 亞 之 戰 ， 內 馬 爾 被 對 手 哥 倫 比 亞 後 衞 朱 尼 嘉 膝 蓋 頂 到 背 部 ， 造 成 脊 椎 骨 骨 折 ， 隊 醫 隨 後 表 示 內 馬 爾 將 無 法 在 繼 續 接 下 來 的 比 賽 ， 以 及 隊 長 蒂 亞 戈 • 席 爾 瓦 被 [UNK] 停 賽 。 稍 後 的 準 決 賽 中 被 德 國 攻 進 7 球 ， 刷 新 了 巴 西 國 家 足 球 隊 的 最 大 比 數 失 利 記', '對 多 ', '對 多 ', ' 有 ', ' 有 ', ' 民 結 ', ' 民 結 ', '們', '們', ' 黨 議', ' 黨 議', '', '', '飛', '飛', '一 千 ', '一 千 ', '', '', ' 間 的 太 空 競 賽 ， 讓 美 國 人 ', ' 間 的 太 空 競 賽 ， 讓 美 國 人 ', ' 一 直', ' 一 直', '、 以', '、 以', ' 哥', ' 哥', ' 哥', ' 哥', ' 發 起', ' 發 起', ' 發 起', ' 發 起', '登 強 森 總 統 在 3 月 31 日 放 棄 參 ', '登 強 森 總 統 在 3 月 31 日 放 棄 參 ', '鎮', '鎮', '政 對 於 經 濟 的 管 制 政 策 。 他 鞏 固 了 社 會 福 利 制 度 ， 並 且 指 派 了 破 紀 錄 數 量 的 婦 女 和 少 數 族 群 人 士 擔 任 重 要 的 政 府 部 門 及 法 官 職 位 ， 他 也 頒 布 了 許 多 環 境 保 護 法 案 。 在 外 交 事 務 上 ， 卡 特 的 成 就 包 括 了 調 解 贖 罪 日 戰 爭 的 大 衛 營 和 約 、 巴 拿 馬 運 河 條 約 、 以 及 與 中 華 人 民 共 和 國 建 立 正 式 外 交 關 係 ， 同 時 與 蘇 聯 進 行 戰 略 武 器 限 制 談 判 。 除 此 之 外 ， 卡 特 任 內 也 相 當 強', '政 對 於 經 濟 的 管 制 政 策 。 他 鞏 固 了 社 會 福 利 制 度 ， 並 且 指 派 了 破 紀 錄 數 量 的 婦 女 和 少 數 族 群 人 士 擔 任 重 要 的 政 府 部 門 及 法 官 職 位 ， 他 也 頒 布 了 許 多 環 境 保 護 法 案 。 在 外 交 事 務 上 ， 卡 特 的 成 就 包 括 了 調 解 贖 罪 日 戰 爭 的 大 衛 營 和 約 、 巴 拿 馬 運 河 條 約 、 以 及 與 中 華 人 民 共 和 國 建 立 正 式 外 交 關 係 ， 同 時 與 蘇 聯 進 行 戰 略 武 器 限 制 談 判 。 除 此 之 外 ， 卡 特 任 內 也 相 當 強', '政 對 於 ', '政 對 於 ', '相 當 強 ', '相 當 強 ', ' 在 外 ', ' 在 外 ', '進 行', '進 行', '', '', '六', '六', ' 同 傑 ', ' 同 傑 ', ' 規 模 財 ', ' 規 模 財 ', '黨 在 ', '黨 在 ', '', '', ' 簽 訂 ', ' 簽 訂 ', '但 1837 年', '但 1837 年', '但 1837 年', '但 1837 年', ' 中 ', ' 中 ', 'CLS] 馬 丁 范 布 倫 在 1836 年 取 得 了 總 統 職 位 ， 但 1837 年 的 經 濟 蕭 條 卻 使 他 在 1840 年 選 舉 中 連 任 失 敗 。 詹 姆 斯 諾 克 斯 波 爾 克 在 1844 年 贏 得 了 選 舉 ， 在 總 統 任 期 中 他 領 導 了 美 墨 戰 爭 、 降 低 關 稅 、 建 立 了 國 庫 的 分 行 、 並 且 將 今 天 的 華 盛 頓 州 、 奧 勒 岡 州 、 和 西 南 部 地 區 併 入 國 土 ， 之 後 他 便 退 休 不 再 連 任 。 在 1848 的 選 舉 中 ， 一 個 名 為 自 由 土 黨 的 派 系 反 對 奴 隸 制 度 的 擴 張 ， 最 後 與 民 主 黨 決 裂 。 民 主 黨 在 1850 年 通 過 了 一 份 調 解 蓄 奴 州 與 自 由 州 的 法 案 ， 但 只 是 延 緩 了 衝 突 爆 發 的 時 間 。 隨 著 輝 格 黨 在 奴 隸 和 排 外 主 義 問 題 上 出 現 內 部 分 ', 'CLS] 馬 丁 范 布 倫 在 1836 年 取 得 了 總 統 職 位 ， 但 1837 年 的 經 濟 蕭 條 卻 使 他 在 1840 年 選 舉 中 連 任 失 敗 。 詹 姆 斯 諾 克 斯 波 爾 克 在 1844 年 贏 得 了 選 舉 ， 在 總 統 任 期 中 他 領 導 了 美 墨 戰 爭 、 降 低 關 稅 、 建 立 了 國 庫 的 分 行 、 並 且 將 今 天 的 華 盛 頓 州 、 奧 勒 岡 州 、 和 西 南 部 地 區 併 入 國 土 ， 之 後 他 便 退 休 不 再 連 任 。 在 1848 的 選 舉 中 ， 一 個 名 為 自 由 土 黨 的 派 系 反 對 奴 隸 制 度 的 擴 張 ， 最 後 與 民 主 黨 決 裂 。 民 主 黨 在 1850 年 通 過 了 一 份 調 解 蓄 奴 州 與 自 由 州 的 法 案 ， 但 只 是 延 緩 了 衝 突 爆 發 的 時 間 。 隨 著 輝 格 黨 在 奴 隸 和 排 外 主 義 問 題 上 出 現 內 部 分 ', ' 大 戰 ， 並 且 簽 訂 了 包 括 成 立 國 際 聯 盟 在 內 的 凡 爾 賽 條 約 。 但 在 1919 年 ', ' 大 戰 ， 並 且 簽 訂 了 包 括 成 立 國 際 聯 盟 在 內 的 凡 爾 賽 條 約 。 但 在 1919 年 ', ' 簽 訂 了 包 括 成 立 國 際 聯 盟 在 內 的 凡 爾 賽 條 約 。 但 在 1919 年 威 爾 遜 的 政 治 運 勢 和 健 康 都 開 始 急 劇 衰 退 ， 政 治 局 面 也 開 始 逆 轉 ， 共 和 黨 重 新 控 制 國 會 兩 院 ， 參 議 院 拒 絕 加 入 凡 爾 賽 條 約 以 及 國 際 聯 盟 ， 同 時 全 國 性 的 罷 工 潮 和 暴 力 活 動 也 產 生 了 不 小 的 動 亂 。 民 主 黨 內 部 也 因 為 禁 酒 令 而 分 裂 為 南 北 對 峙 。 最 後 黨 內 的 分 歧 使 得 共 和 黨 在 1920 年 、 1924 年 、 和 1928 年 的 總 統 選 舉 中 都 獲 得 了 壓 倒 性 勝 利 。 不 過 ， 在 此', ' 簽 訂 了 包 括 成 立 國 際 聯 盟 在 內 的 凡 爾 賽 條 約 。 但 在 1919 年 威 爾 遜 的 政 治 運 勢 和 健 康 都 開 始 急 劇 衰 退 ， 政 治 局 面 也 開 始 逆 轉 ， 共 和 黨 重 新 控 制 國 會 兩 院 ， 參 議 院 拒 絕 加 入 凡 爾 賽 條 約 以 及 國 際 聯 盟 ， 同 時 全 國 性 的 罷 工 潮 和 暴 力 活 動 也 產 生 了 不 小 的 動 亂 。 民 主 黨 內 部 也 因 為 禁 酒 令 而 分 裂 為 南 北 對 峙 。 最 後 黨 內 的 分 歧 使 得 共 和 黨 在 1920 年 、 1924 年 、 和 1928 年 的 總 統 選 舉 中 都 獲 得 了 壓 倒 性 勝 利 。 不 過 ， 在 此', 'CL', 'CL', 'CL', 'CL', '', '', ' 年 1 月 25 日 ， 歐 洲 理 事 會 議 會 大 會 通 過 [UNK] 協 議 1416 ， 譴 責 對 亞 塞 拜 然 人 的 種 族 清 洗 。 2007 年 5 月 15 至 17 日 ， 伊 斯 蘭 ', ' 年 1 月 25 日 ， 歐 洲 理 事 會 議 會 大 會 通 過 [UNK] 協 議 1416 ， 譴 責 對 亞 塞 拜 然 人 的 種 族 清 洗 。 2007 年 5 月 15 至 17 日 ， 伊 斯 蘭 ', '', '', ' 年 1 月 25 日 ， 歐 洲 理 事 會 ', ' 年 1 月 25 日 ， 歐 洲 理 事 會 ', '要 的', '要 的', ' 言 人 艾', ' 言 人 艾', '', '', ' 言 人 艾', ' 言 人 艾', ' 殺 了 9 歲 大 的 法 里 茲 巴 達 洛 夫 。 巴 達 洛 夫 的 死 亡 受 到 部 分 [UNK] 成 員 在 125', ' 殺 了 9 歲 大 的 法 里 茲 巴 達 洛 夫 。 巴 達 洛 夫 的 死 亡 受 到 部 分 [UNK] 成 員 在 125', ' ', ' ', '', '', '山 脊 ， 南 部 多 山 地 。 菜 豆 的 凹 陷 部 分 是 一 個 相 對 平 坦 的 谷 地 ， 豆 子 的 兩 側 ， 也 就 是 馬 爾 塔 克 爾 特 、 馬 爾 圖 尼 兩 省 ， 也 擁 有 平 坦 的 土 地 。 其 他 較 平 坦 谷 地 存 在 於 薩 珊 水 庫 、 哈 德 魯 特 與 南 部 一 帶 。 整 個 地 區 平 均 海 拔 1, 100 公 尺 。 知 名 的 山 峰 包 括 位 於 邊 界 的 穆 洛 夫 達 格 山 與 位 於 舒 沙 區 、 哈 德 魯 特 區 交 界 地 帶 的 大 克 爾 斯 山 。 現 代 納 戈 爾 諾 - 卡 拉 ', '山 脊 ， 南 部 多 山 地 。 菜 豆 的 凹 陷 部 分 是 一 個 相 對 平 坦 的 谷 地 ， 豆 子 的 兩 側 ， 也 就 是 馬 爾 塔 克 爾 特 、 馬 爾 圖 尼 兩 省 ， 也 擁 有 平 坦 的 土 地 。 其 他 較 平 坦 谷 地 存 在 於 薩 珊 水 庫 、 哈 德 魯 特 與 南 部 一 帶 。 整 個 地 區 平 均 海 拔 1, 100 公 尺 。 知 名 的 山 峰 包 括 位 於 邊 界 的 穆 洛 夫 達 格 山 與 位 於 舒 沙 區 、 哈 德 魯 特 區 交 界 地 帶 的 大 克 爾 斯 山 。 現 代 納 戈 爾 諾 - 卡 拉 ', ' 平 坦', ' 平 坦', '國 認 可', '國 認 可', '', '', '宣 布', '宣 布', '國 認 可', '國 認 可', '對 抗 當', '對 抗 當', '鎖 在', '鎖 在', '最 終 解 決 方 案 達 成 之 前 ， 由 一 個 暫 時 的 布 爾 什 維 克 佔', '最 終 解 決 方 案 達 成 之 前 ， 由 一 個 暫 時 的 布 爾 什 維 克 佔', ' 巴 赫 與', ' 巴 赫 與', 'CLS] 1988 年 2 月 13 日 ， 卡 拉 巴 赫 亞 美 尼 亞 人 開 始 在 他 們 的 首 府 斯 捷 潘 奈 克 特 舉 行 示 威 ， 支 持 與 亞 美 尼 亞 共 和 國 統 一 。 六 天 後 ， 葉 里 溫 舉 行 大 遊 行 加 入 聲 援 。 2 月 20 日 ， 卡 拉 巴 赫 的 人 民 代 表 蘇 維 埃 舉 行 投 票 ， 以 110 票 對 17 票 要 求 該 地 區 轉 移 給 亞 美 尼 亞 。 這 個 地 區 性 蘇 維 埃 史 無 前 例 的 行 動 ， 在 斯 捷 潘 奈 克 特 與 葉 爾 溫 分 別 引 發 數 萬 人 的 遊 行 示 威 ， 但 莫 斯 科 否 決 亞 美 尼 亞 人 的 請 求 。 2 月 22 日 ， 一 大 群 亞 塞 拜 然 人 由 阿 格 達 姆 區 前 往 阿 斯 克 蘭 的 亞 美 尼 亞 聚 居 市 鎮 遊 行 示 威 時 ， 發 生 了 第 一 次 的 直 接 對 抗 ， 而 且 沿 途 大 肆 破', 'CLS] 1988 年 2 月 13 日 ， 卡 拉 巴 赫 亞 美 尼 亞 人 開 始 在 他 們 的 首 府 斯 捷 潘 奈 克 特 舉 行 示 威 ， 支 持 與 亞 美 尼 亞 共 和 國 統 一 。 六 天 後 ， 葉 里 溫 舉 行 大 遊 行 加 入 聲 援 。 2 月 20 日 ， 卡 拉 巴 赫 的 人 民 代 表 蘇 維 埃 舉 行 投 票 ， 以 110 票 對 17 票 要 求 該 地 區 轉 移 給 亞 美 尼 亞 。 這 個 地 區 性 蘇 維 埃 史 無 前 例 的 行 動 ， 在 斯 捷 潘 奈 克 特 與 葉 爾 溫 分 別 引 發 數 萬 人 的 遊 行 示 威 ， 但 莫 斯 科 否 決 亞 美 尼 亞 人 的 請 求 。 2 月 22 日 ， 一 大 群 亞 塞 拜 然 人 由 阿 格 達 姆 區 前 往 阿 斯 克 蘭 的 亞 美 尼 亞 聚 居 市 鎮 遊 行 示 威 時 ， 發 生 了 第 一 次 的 直 接 對 抗 ， 而 且 沿 途 大 肆 破', ' 行 示 威 ， 支 持 與 亞 美 尼 亞 共 和 國 統 一 。', ' 行 示 威 ， 支 持 與 亞 美 尼 亞 共 和 國 統 一 。', ' 行 示 威 ， 支 持 與 亞 美 尼 亞 共 和 國 統 一 。', ' 行 示 威 ， 支 持 與 亞 美 尼 亞 共 和 國 統 一 。', '破', '破', '在 中', '在 中', ' ， 以 ', ' ， 以 ', ' ，', ' ，', ' 傳 ', ' 傳 ', '年 ', '年 ', ' 頁', ' 頁', '', '', '', '', ' 水', ' 水', '， 沙', '， 沙', '', '', ' 藩 ', ' 藩 ', '逮 捕 或 ', '逮 捕 或 ', 'CLS', 'CLS', '， ', '， ', '使', '使', ' 禾 ', ' 禾 ', 'LS] 按 ', 'LS] 按 ', '同 一 ', '同 一 ', '約 有', '約 有', '有', '有', '', '', ' 佐 世 ', ' 佐 世 ', ' 間', ' 間', ' 內 南 北 方 向 的 主 幹 道 。 往 返 於 長 崎 站 及 博 多 站 之 間 的 特 急 列 車 鷗 號 列 車 和 往 返 於 佐 世 保 站 及 博 多 站 之 間 ', ' 內 南 北 方 向 的 主 幹 道 。 往 返 於 長 崎 站 及 博 多 站 之 間 的 特 急 列 車 鷗 號 列 車 和 往 返 於 佐 世 保 站 及 博 多 站 之 間 ', ' 市 的 日 之 岳 遺 跡 等 地 。 長 崎 縣 內 的 繩 文 時 代 代 表 性 遺 跡 則 有 原 山 支 石 墓 群 、 有 喜 貝 塚 、 白 濱 貝 塚 等 地 。 彌 生 時 代 之 後 ， 這 裡 開 始 開 始 出 現 稻 作 農 耕 文 明 。 長 崎 縣 內 的 壹 岐 、 對 馬 等 地 因 為 位 於 亞 洲 大 陸 文 化 傳 入 日 本 的 路 徑 ， 而 發 現 了 眾 多 金 屬 器 文 ', ' 市 的 日 之 岳 遺 跡 等 地 。 長 崎 縣 內 的 繩 文 時 代 代 表 性 遺 跡 則 有 原 山 支 石 墓 群 、 有 喜 貝 塚 、 白 濱 貝 塚 等 地 。 彌 生 時 代 之 後 ， 這 裡 開 始 開 始 出 現 稻 作 農 耕 文 明 。 長 崎 縣 內 的 壹 岐 、 對 馬 等 地 因 為 位 於 亞 洲 大 陸 文 化 傳 入 日 本 的 路 徑 ， 而 發 現 了 眾 多 金 屬 器 文 ', '耕 文 明 。 長 崎 縣 內 的 壹 岐 、 對 馬 等 地 因 為 位 於 亞 洲 大 陸 文 化 傳 入 日 本 的 路 徑 ， 而 發 現 了 眾 多 金 屬 器 文 物 。 甚 至 在 史 籍 魏 志 倭 人 傳 中 ， 已 經 出 現 對 馬 國 、 一 支 國 的 地 名 ， 這 也 是 最 早 的', '耕 文 明 。 長 崎 縣 內 的 壹 岐 、 對 馬 等 地 因 為 位 於 亞 洲 大 陸 文 化 傳 入 日 本 的 路 徑 ， 而 發 現 了 眾 多 金 屬 器 文 物 。 甚 至 在 史 籍 魏 志 倭 人 傳 中 ， 已 經 出 現 對 馬 國 、 一 支 國 的 地 名 ， 這 也 是 最 早 的', '等 地 。', '等 地 。', '', '', '洞 窟 、 泉 福 寺 洞 窟 ； 雲 仙 市 的 百 花 台 遺 跡 群 ； 平 戶 市 的 日 之 岳 遺 跡 等 地 。 長 崎 縣 內 的 繩 文 時 代 代 表 性 遺 跡 則 有 原 山 支 石 墓 群 、 有 喜 貝 塚 、 白 濱 貝 塚 等 地 。 彌 生 時 代 之 後 ， 這 裡 開 始 開 始 出 現 稻 作 農 耕 文 明 。 長 崎 縣 內 的 壹 岐 、 對 馬 等 地 因 為 位 於 亞 洲 大 陸 文 化 傳 入 日 本 的 路 徑 ， 而 發 現 了 眾 多 金 屬 器 文 物 。 甚 至 在 史 籍 魏 志 倭 人 傳', '洞 窟 、 泉 福 寺 洞 窟 ； 雲 仙 市 的 百 花 台 遺 跡 群 ； 平 戶 市 的 日 之 岳 遺 跡 等 地 。 長 崎 縣 內 的 繩 文 時 代 代 表 性 遺 跡 則 有 原 山 支 石 墓 群 、 有 喜 貝 塚 、 白 濱 貝 塚 等 地 。 彌 生 時 代 之 後 ， 這 裡 開 始 開 始 出 現 稻 作 農 耕 文 明 。 長 崎 縣 內 的 壹 岐 、 對 馬 等 地 因 為 位 於 亞 洲 大 陸 文 化 傳 入 日 本 的 路 徑 ， 而 發 現 了 眾 多 金 屬 器 文 物 。 甚 至 在 史 籍 魏 志 倭 人 傳', '日 ', '日 ', '上 海 銀 行 長 崎 支 店 等 西 洋 式 建', '上 海 銀 行 長 崎 支 店 等 西 洋 式 建', '平 戶 荷', '平 戶 荷', '建 ', '建 ', '大 村 藩 等 諸 小 藩 並 存 的 局 面 。 江 戶 時 代 的 長 崎 縣 內 分 為 1 幕 府 領 、 6 藩 、 5 領 ， 局 勢 極 為 複 雜 。 1612 年 岡 本 大 八 事 件 之 後 ， 德 川 家 康 更 發 布 禁 教 令 ， 對 天 主 教 嚴 加 鎮 壓 。 在 江 戶 時 代 初 期 ， 平 戶 和 長 崎 都 是 獲 得 幕 府 許 可 的 貿 易 據 點 。 1637 年 ， 島 原 藩 爆 發 島 原 之 亂 。 幕 府 將 這 一 事 件 定 性 為 天 主 教 徒 的 一 揆 ， 對 天 主 教 的 鎮 壓 更 加 嚴 厲 ， 並 開 始 實 施 鎖 國 政 策 。 1641 年 ， 幕 府 驅 逐 居 住 在 長 崎 的 葡 萄 牙 人 ， 並 將 平 戶 的 荷 蘭 商 館 遷 到 長 崎 ， 獲 得 幕 府 許 可 與 西 洋 進 行', '大 村 藩 等 諸 小 藩 並 存 的 局 面 。 江 戶 時 代 的 長 崎 縣 內 分 為 1 幕 府 領 、 6 藩 、 5 領 ， 局 勢 極 為 複 雜 。 1612 年 岡 本 大 八 事 件 之 後 ， 德 川 家 康 更 發 布 禁 教 令 ， 對 天 主 教 嚴 加 鎮 壓 。 在 江 戶 時 代 初 期 ， 平 戶 和 長 崎 都 是 獲 得 幕 府 許 可 的 貿 易 據 點 。 1637 年 ， 島 原 藩 爆 發 島 原 之 亂 。 幕 府 將 這 一 事 件 定 性 為 天 主 教 徒 的 一 揆 ， 對 天 主 教 的 鎮 壓 更 加 嚴 厲 ， 並 開 始 實 施 鎖 國 政 策 。 1641 年 ， 幕 府 驅 逐 居 住 在 長 崎 的 葡 萄 牙 人 ， 並 將 平 戶 的 荷 蘭 商 館 遷 到 長 崎 ， 獲 得 幕 府 許 可 與 西 洋 進 行', '大 村 藩', '大 村 藩', ' 教', ' 教', ' 、 大 村 藩 等 諸 小 藩 並 存 的 局 面 。 江 戶 時 代 的 長 崎 縣 內 分 為 1 幕 府 領 、 6 藩 、 5 領 ， 局 勢 極 為 複 雜 。 1612 年 岡 本 大 八 事 件 之 後 ， 德 川 家 康 更 發 布 禁 教 令 ， 對 天 主 教 嚴 加 鎮 壓 。 在 江 戶 時 代 初 期 ， 平 戶 和 長 崎 都 是 獲 得 幕 府 許 可 的 貿 易 據 點 。 1637 年 ， 島 原 藩 爆 發 島 原 之 亂 。 幕 府 將 這 一 事 件 定 性 為 天 主 教 徒 的 一 揆 ， 對 天 主 教 的 鎮 壓 更 加 嚴 厲 ， 並 開 始 實 施 鎖 國 政 策 。 1641 年 ， 幕 府 驅 逐 居 住 在 長 崎 的 葡 萄 牙 人 ， 並 將 平 戶 的 荷 蘭 商 館 遷 到 長 崎 ， 獲 得 幕 府 許 可 ', ' 、 大 村 藩 等 諸 小 藩 並 存 的 局 面 。 江 戶 時 代 的 長 崎 縣 內 分 為 1 幕 府 領 、 6 藩 、 5 領 ， 局 勢 極 為 複 雜 。 1612 年 岡 本 大 八 事 件 之 後 ， 德 川 家 康 更 發 布 禁 教 令 ， 對 天 主 教 嚴 加 鎮 壓 。 在 江 戶 時 代 初 期 ， 平 戶 和 長 崎 都 是 獲 得 幕 府 許 可 的 貿 易 據 點 。 1637 年 ， 島 原 藩 爆 發 島 原 之 亂 。 幕 府 將 這 一 事 件 定 性 為 天 主 教 徒 的 一 揆 ， 對 天 主 教 的 鎮 壓 更 加 嚴 厲 ， 並 開 始 實 施 鎖 國 政 策 。 1641 年 ， 幕 府 驅 逐 居 住 在 長 崎 的 葡 萄 牙 人 ， 並 將 平 戶 的 荷 蘭 商 館 遷 到 長 崎 ， 獲 得 幕 府 許 可 ', '91 年 6 月 25 日 ， 斯 洛 維 尼 亞 與 克 羅 埃 西 亞 同 時 宣 布 了 獨 立 ， 成 為 一 連 串 南 斯 拉 夫 內 戰 的 導 ', '91 年 6 月 25 日 ， 斯 洛 維 尼 亞 與 克 羅 埃 西 亞 同 時 宣 布 了 獨 立 ， 成 為 一 連 串 南 斯 拉 夫 內 戰 的 導 ', '', '', '', '', ' 民 族 國 ', ' 民 族 國 ', ' 人 的 政 治 勢 力 ， 自 己 的 權 ', ' 人 的 政 治 勢 力 ， 自 己 的 權 ', '將', '將', '', '', '0 月 ， 波 赫 國 會 通 過 了 主 權 宣 言 ， 在 宣 言 中 暗 示 將 會 獨 立 。 塞 爾 維 亞 人 議 員 在 表 決 時 退 場 抗 議 並 聲 稱 這 份 宣 言 違 法 。 馬 其 頓 方 面 則 同 波 赫 政 府 ， 認 為 若 繼 續 留 存 於 南 聯 邦 則 極 可 能 受 到 塞 爾 維 亞 的 控 制 ， 故 也 展 開 獨 立 行 動 。 1991 年 9 月 8 日 ， 馬 其 頓 共 和 國 舉 行 了 獨 立 公 投 ， 其', '0 月 ， 波 赫 國 會 通 過 了 主 權 宣 言 ， 在 宣 言 中 暗 示 將 會 獨 立 。 塞 爾 維 亞 人 議 員 在 表 決 時 退 場 抗 議 並 聲 稱 這 份 宣 言 違 法 。 馬 其 頓 方 面 則 同 波 赫 政 府 ， 認 為 若 繼 續 留 存 於 南 聯 邦 則 極 可 能 受 到 塞 爾 維 亞 的 控 制 ， 故 也 展 開 獨 立 行 動 。 1991 年 9 月 8 日 ， 馬 其 頓 共 和 國 舉 行 了 獨 立 公 投 ， 其', '人 民 解 放', '人 民 解 放', '人 民 解 放', '人 民 解 放', ' 斯 拉 夫 反 法 西 斯 人 民 解 放', ' 斯 拉 夫 反 法 西 斯 人 民 解 放', '', '', '蘇 聯 撤 回 其 於 南 斯 拉 夫 的 顧', '蘇 聯 撤 回 其 於 南 斯 拉 夫 的 顧', '領 袖', '領 袖', '自 共 產 ', '自 共 產 ', 'CLS] 1980 年 5 月 4 日 ， 狄 托 去 世 ， 結 束 其 在 南 斯 拉 夫 長 達 37 年 的 統 治 。 長 期 以 來 ， 南 斯 拉 夫 之 所 以 面 對 內 部 存 在 的 大 量 問 題 能 不 致 解 體 ， 全 有 賴 於 狄 托 的 個 人 魅 力 、 國 家 面 對 外 敵 所 產 生 的 凝 聚 力 與 共 產 黨 統 治 機 關 ， 而 當 狄 托 去 世 後 ， 弊 端 事 件 即 接 連 爆 發 。 1980 年 代 起 ， 南 斯 拉 夫 同 其 他 東 歐 社 會 主 義 國 家 一 樣 面 臨 到 經 濟 衰 退 的 問 題 ， 國 內 通 貨 膨 脹 ', 'CLS] 1980 年 5 月 4 日 ， 狄 托 去 世 ， 結 束 其 在 南 斯 拉 夫 長 達 37 年 的 統 治 。 長 期 以 來 ， 南 斯 拉 夫 之 所 以 面 對 內 部 存 在 的 大 量 問 題 能 不 致 解 體 ， 全 有 賴 於 狄 托 的 個 人 魅 力 、 國 家 面 對 外 敵 所 產 生 的 凝 聚 力 與 共 產 黨 統 治 機 關 ， 而 當 狄 托 去 世 後 ， 弊 端 事 件 即 接 連 爆 發 。 1980 年 代 起 ， 南 斯 拉 夫 同 其 他 東 歐 社 會 主 義 國 家 一 樣 面 臨 到 經 濟 衰 退 的 問 題 ， 國 內 通 貨 膨 脹 ', '在', '在', '內 部 存 在 的 大 量 問 題 能 不 致 解 體 ， 全 有 賴 於 狄 托 的 個 人 魅 力 、 國 家 面 對 外 敵 所 產 生 的 凝 聚 力 與 共 產 黨 統 治 機 關 ， 而 當 狄 托 去 世 後 ， 弊 端 事 件 即 接 連 爆 發 。 1980 年 代 起 ， 南 斯 拉 夫 同 其 他 東 歐 社 會 主 義 國 家 一 樣 面 臨 到 經 濟 衰 退 的 問 題 ， 國 內 通 貨 膨 脹 嚴 重 、 失 業 率 攀 升 、 外 債 ', '內 部 存 在 的 大 量 問 題 能 不 致 解 體 ， 全 有 賴 於 狄 托 的 個 人 魅 力 、 國 家 面 對 外 敵 所 產 生 的 凝 聚 力 與 共 產 黨 統 治 機 關 ， 而 當 狄 托 去 世 後 ， 弊 端 事 件 即 接 連 爆 發 。 1980 年 代 起 ， 南 斯 拉 夫 同 其 他 東 歐 社 會 主 義 國 家 一 樣 面 臨 到 經 濟 衰 退 的 問 題 ， 國 內 通 貨 膨 脹 嚴 重 、 失 業 率 攀 升 、 外 債 ', ' 治 機 關 ', ' 治 機 關 ', '是 個', '是 個', 'CLS]', 'CLS]', ' ， ', ' ， ', 'CLS]', 'CLS]', 'CLS] 基 因 工 程 是 一 組 使 用 生 物 技 術 直 接 操 縱 有 機 體 基 因 組 、 用 於 改 變 細 胞 的 遺 傳 物 質 技 術 。 包 括 了 同 一 物 種 和 跨 物 種 的 基 因 轉 移 以 產 生 改 良 的 或 新 的 生 物 體 。 可 以 通 過 使 用 分 子 複 製 技 術 分 離 和 複 製 需 要 的 遺 傳 物 質 以 產 生 [UNK] 序 列 ， ', 'CLS] 基 因 工 程 是 一 組 使 用 生 物 技 術 直 接 操 縱 有 機 體 基 因 組 、 用 於 改 變 細 胞 的 遺 傳 物 質 技 術 。 包 括 了 同 一 物 種 和 跨 物 種 的 基 因 轉 移 以 產 生 改 良 的 或 新 的 生 物 體 。 可 以 通 過 使 用 分 子 複 製 技 術 分 離 和 複 製 需 要 的 遺 傳 物 質 以 產 生 [UNK] 序 列 ， ', '物 質 技 術', '物 質 技 術', ' 列 ， 或 通 過 合 成 [UNK] ，', ' 列 ， 或 通 過 合 成 [UNK] ，', ' 列 ， 或 通 過 合 成 [UNK] ， 然 後 插 入 宿 主 生 物 體 ， 以 此 將 新 的 遺 傳 物 質 插 入 宿 主 基 因 組 中 。 可 以 使 用 核 酸 酶 除 去 或 敲 除 基 因 。 基 因 靶 向 是 使 用 同 源 重 組 來 改 變 內 源 基 因 的 不 同 技 術 ， 並 且 可 以 用 於 缺 失 基 因 ， 去 除 外 顯 子 ， 添 加 基 因 或 引 入 點 突 變 。 通 過 基 因 工 程 產 生 的 生', ' 列 ， 或 通 過 合 成 [UNK] ， 然 後 插 入 宿 主 生 物 體 ， 以 此 將 新 的 遺 傳 物 質 插 入 宿 主 基 因 組 中 。 可 以 使 用 核 酸 酶 除 去 或 敲 除 基 因 。 基 因 靶 向 是 使 用 同 源 重 組 來 改 變 內 源 基 因 的 不 同 技 術 ， 並 且 可 以 用 於 缺 失 基 因 ， 去 除 外 顯 子 ， 添 加 基 因 或 引 入 點 突 變 。 通 過 基 因 工 程 產 生 的 生', ' 列 ， 或 通 過 合 成 [UNK] ， 然 後 插 入 宿 主 生 物 體 ， 以 此 將 新 的 遺 傳 物 質 插 入 宿 主 基 因 組 中 。 可 以 使 用 核 酸 酶 除 去 或 敲 除 基 因 。 基 因 靶 向 是 使 用 同 源 重 組 來 改 變 內 源 基 因 的 不 同 技 術 ， 並 且 可 以 用 於 缺 失 基 因 ， 去 除 外 顯 子 ， 添 加 基 因 或 引 入 點 突 變 。 通 過 基 因 工 程 產 生 的 生 物 體 被 認 為 是 基 因 轉 殖 生 ', ' 列 ， 或 通 過 合 成 [UNK] ， 然 後 插 入 宿 主 生 物 體 ， 以 此 將 新 的 遺 傳 物 質 插 入 宿 主 基 因 組 中 。 可 以 使 用 核 酸 酶 除 去 或 敲 除 基 因 。 基 因 靶 向 是 使 用 同 源 重 組 來 改 變 內 源 基 因 的 不 同 技 術 ， 並 且 可 以 用 於 缺 失 基 因 ， 去 除 外 顯 子 ， 添 加 基 因 或 引 入 點 突 變 。 通 過 基 因 工 程 產 生 的 生 物 體 被 認 為 是 基 因 轉 殖 生 ', '在 醫', '在 醫', ' 療 。 遺 傳 工 程 用 於 大 規 模 生 產 胰 島 素 、 生 長 激 素 、 人 白 蛋 白 、 單 株 抗 體 、 凝 血 因 子 、 疫 苗 。 小 鼠 雜 交 瘤 ， 融 合 在 一 起 以 產 生 單 株 抗 體 的 細 胞 已 經 通 過 基 因 工 程 人 源 化 以 產 生 人 單 株 抗 體 。 正 在 開 發 遺 傳 工 程 改 造 的 病 毒 ， 其 仍 ', ' 療 。 遺 傳 工 程 用 於 大 規 模 生 產 胰 島 素 、 生 長 激 素 、 人 白 蛋 白 、 單 株 抗 體 、 凝 血 因 子 、 疫 苗 。 小 鼠 雜 交 瘤 ， 融 合 在 一 起 以 產 生 單 株 抗 體 的 細 胞 已 經 通 過 基 因 工 程 人 源 化 以 產 生 人 單 株 抗 體 。 正 在 開 發 遺 傳 工 程 改 造 的 病 毒 ， 其 仍 ', ' 融 合 ', ' 融 合 ', '', '', '， 和 將 生 物 體 外 直 接 製 備 的 [UNK] 匯 入 宿 主 或 細 胞 ， 然 後 與 宿 主 融 合 或 雜 交 。 這 涉 及 使 用 重 組 核 酸 技 術 來 形 成 可 遺 傳 遺 傳 材 料 的 新 組 合 ， 然 後 通 過 載 體 系 統 間 接 地 或 通 過 顯 微 注 射 ， 大 量 注 射 和 微 囊 化 技 術 直 接 摻 入 該 材 料 。 遺 傳 工 程 通 常 不 包 括 傳 統 的 動 ', '， 和 將 生 物 體 外 直 接 製 備 的 [UNK] 匯 入 宿 主 或 細 胞 ， 然 後 與 宿 主 融 合 或 雜 交 。 這 涉 及 使 用 重 組 核 酸 技 術 來 形 成 可 遺 傳 遺 傳 材 料 的 新 組 合 ， 然 後 通 過 載 體 系 統 間 接 地 或 通 過 顯 微 注 射 ， 大 量 注 射 和 微 囊 化 技 術 直 接 摻 入 該 材 料 。 遺 傳 工 程 通 常 不 包 括 傳 統 的 動 ', '合 技 ', '合 技 ', 'CLS', 'CLS', '', '', '轉 殖', '轉 殖', ' ，', ' ，', 'S] ', 'S] ', '', '', ' 的 ', ' 的 ', '', '', '足 特 定 條 件 並 且 在 美 國 持 有 長 期 簽 證 併 合 法 居 留 的 外 籍 人 員 也 可 通 過 [UNK] 項 目 申 請 加 入 美 軍 。 各 軍 種 對 不 同 語 言 申 請 人 的 招 募 計 劃 不 同 ， 且 時 常 在 更 新 。 從 小 來 美 非 法 滯 留 的 申 請 人 也 可 申 請 加 入 美 軍 。 作 為 協 調 軍 事 行 動 和 與 外 交 活 動 ， 美 國 政 府 設 有 國 家 安 全 會 議 為 美 國 總 統', '足 特 定 條 件 並 且 在 美 國 持 有 長 期 簽 證 併 合 法 居 留 的 外 籍 人 員 也 可 通 過 [UNK] 項 目 申 請 加 入 美 軍 。 各 軍 種 對 不 同 語 言 申 請 人 的 招 募 計 劃 不 同 ， 且 時 常 在 更 新 。 從 小 來 美 非 法 滯 留 的 申 請 人 也 可 申 請 加 入 美 軍 。 作 為 協 調 軍 事 行 動 和 與 外 交 活 動 ， 美 國 政 府 設 有 國 家 安 全 會 議 為 美 國 總 統', '', '', '土 的 硬 度', '土 的 硬 度', '上 使', '上 使', ' 世 界 上 使', ' 世 界 上 使', '', '', 'CL', 'CL', '型', '型', ' 腳 踏 車 、 自 轉 車 ； 江 浙 、 上 海 等 地 亦 有 腳 踏 車 一 稱 ； 在 香 港 、 澳 門 、 廣 東 、 廣 西 、 湖 南 等 中 國 南 方 地 區 則 更 常 稱 其 為 單 車 ；', ' 腳 踏 車 、 自 轉 車 ； 江 浙 、 上 海 等 地 亦 有 腳 踏 車 一 稱 ； 在 香 港 、 澳 門 、 廣 東 、 廣 西 、 湖 南 等 中 國 南 方 地 區 則 更 常 稱 其 為 單 車 ；', 'CLS] 腳 踏 車 ， 或 稱 自 行 車 、 單 車 、 自 由 車 、 鐵 馬 ， 是 一 種 以 人 力 踩 踏 腳 踏 板 驅 動 的 小 型 陸 上 車 輛 。 腳 踏 車 通 常 是 雙 輪 的 ， 但 也 有 三 輪 的 。 在 中 國 大 陸 ， 通 常 稱 為 自 行 車 、 鐵 馬 ， 臺 灣 稱 孔 明 車 、 腳 踏 車 、 自 轉 車 ； 江 浙 、 上 海 等 地 亦 有 腳 踏 車 一 稱 ； 在 香 港 、 澳 門 、 廣 東 、 廣 西 、 湖 南 等 中 國 南 方 地 區 則 更 常 稱 其 為 單 車', 'CLS] 腳 踏 車 ， 或 稱 自 行 車 、 單 車 、 自 由 車 、 鐵 馬 ， 是 一 種 以 人 力 踩 踏 腳 踏 板 驅 動 的 小 型 陸 上 車 輛 。 腳 踏 車 通 常 是 雙 輪 的 ， 但 也 有 三 輪 的 。 在 中 國 大 陸 ， 通 常 稱 為 自 行 車 、 鐵 馬 ， 臺 灣 稱 孔 明 車 、 腳 踏 車 、 自 轉 車 ； 江 浙 、 上 海 等 地 亦 有 腳 踏 車 一 稱 ； 在 香 港 、 澳 門 、 廣 東 、 廣 西 、 湖 南 等 中 國 南 方 地 區 則 更 常 稱 其 為 單 車', '資 本 的 協 助 下 ， 創 造 出 具 有 使 用 性 的 確 定 的 可 認 知 的 東 西 。 生 產 關 係 的 研 究 對 政 治 經 濟 學 非 常 重 要 ， 因 為 經 濟 學 家 僅 認 識 到 總 體 需 求 ， 但 總 有 特 定 的 資 源 會 成 為 生 產 的 ', '資 本 的 協 助 下 ， 創 造 出 具 有 使 用 性 的 確 定 的 可 認 知 的 東 西 。 生 產 關 係 的 研 究 對 政 治 經 濟 學 非 常 重 要 ， 因 為 經 濟 學 家 僅 認 識 到 總 體 需 求 ， 但 總 有 特 定 的 資 源 會 成 為 生 產 的 ', ' 生 ', ' 生 ', '的 ', '的 ', '', '', ' 路 運 輸 尚 包 括 磁 浮 列 車 、 纜 車 、 索 道 等 並 非 使 用 車 輪 形 式 ， 但 仍 然 沿 特 定 軌 道 運 行 的 運 輸 方 式 。 在 中 國 大 陸 ， 軌 道 交 通 一 般 指 城 市 軌 道 交 通 和 城 際 軌 道 交 通 。 依 據 中 華 人 民 共 和 國 國 家 標 準 城 市 軌 道 交 通 技 術 規 範 ， 城 市 軌 道 交 通 的 定 義 是 ： 採 用 專 用 軌 道 導 向 運 行 的 城 市 公 共 客 運 交 通 系 統 ， 包 括 地 鐵 系 統 、 輕 軌 系 統 、 單 軌 系 統 、 有 軌 電 車 、 磁 浮 系 統 、 自 動 導 向', ' 路 運 輸 尚 包 括 磁 浮 列 車 、 纜 車 、 索 道 等 並 非 使 用 車 輪 形 式 ， 但 仍 然 沿 特 定 軌 道 運 行 的 運 輸 方 式 。 在 中 國 大 陸 ， 軌 道 交 通 一 般 指 城 市 軌 道 交 通 和 城 際 軌 道 交 通 。 依 據 中 華 人 民 共 和 國 國 家 標 準 城 市 軌 道 交 通 技 術 規 範 ， 城 市 軌 道 交 通 的 定 義 是 ： 採 用 專 用 軌 道 導 向 運 行 的 城 市 公 共 客 運 交 通 系 統 ， 包 括 地 鐵 系 統 、 輕 軌 系 統 、 單 軌 系 統 、 有 軌 電 車 、 磁 浮 系 統 、 自 動 導 向', ' 的 ', ' 的 ', 'CLS] 鐵 路 運 輸 ， 通 稱 軌 道 運 輸 或 軌 道 交 通 。 狹 義 上 通 常 是 指 一 種 以 具 有 輪 對 的 車 輛 沿 鐵 路 軌 道 運 行 ， 以 達 到 運 送 旅 客 或 貨 物 目 的 的 陸 上 運 輸 方 式 。 而 廣 義 的 鐵 路 運 輸 尚 包 括 磁 浮 列 車 、 纜 車 、 索 道 等 並 非 使 用 車 輪 形 式 ， 但 仍 然 沿 特 定 軌 道 運 行 的 運 輸 方 式 。 在 中 國 大 陸 ， 軌', 'CLS] 鐵 路 運 輸 ， 通 稱 軌 道 運 輸 或 軌 道 交 通 。 狹 義 上 通 常 是 指 一 種 以 具 有 輪 對 的 車 輛 沿 鐵 路 軌 道 運 行 ， 以 達 到 運 送 旅 客 或 貨 物 目 的 的 陸 上 運 輸 方 式 。 而 廣 義 的 鐵 路 運 輸 尚 包 括 磁 浮 列 車 、 纜 車 、 索 道 等 並 非 使 用 車 輪 形 式 ， 但 仍 然 沿 特 定 軌 道 運 行 的 運 輸 方 式 。 在 中 國 大 陸 ， 軌', '等 並 非 使 用 車 輪 形 式 ， 但 仍 然 沿 特 定 軌 道 運 行 的 運 輸 方 式 。 在 中 國 大 陸 ， 軌 道 交 通 一 般 指 城 市 軌 道 交 通 和 城 際 軌 道 交 通 。 依 據 中 華 人 民 共 和 國 國 家 標 準 城 市 軌 道 交 通 技 術 規 範 ， 城 市 軌 道 交 通 的 定 義 是 ： 採 用 專 用 軌 道 導 向 運 行 的 城 市 公 共 客 運 交 通 系 統 ， 包 括 地 鐵 系 統 、 輕 軌 系 統 、 單 軌 系 統 、 有 軌 電 車 、 磁', '等 並 非 使 用 車 輪 形 式 ， 但 仍 然 沿 特 定 軌 道 運 行 的 運 輸 方 式 。 在 中 國 大 陸 ， 軌 道 交 通 一 般 指 城 市 軌 道 交 通 和 城 際 軌 道 交 通 。 依 據 中 華 人 民 共 和 國 國 家 標 準 城 市 軌 道 交 通 技 術 規 範 ， 城 市 軌 道 交 通 的 定 義 是 ： 採 用 專 用 軌 道 導 向 運 行 的 城 市 公 共 客 運 交 通 系 統 ， 包 括 地 鐵 系 統 、 輕 軌 系 統 、 單 軌 系 統 、 有 軌 電 車 、 磁', ' ', ' ', '公 司 商 標 使', '公 司 商 標 使', '2', '2', '一 通 俗', '一 通 俗', '', '', '1832 年', '1832 年', '生 示 ', '生 示 ', '性 的 論', '性 的 論', '', '', '', '', '殺 ', '殺 ', '殺 的 終 生 風 險 是 約 8. 6 % 。 全 部 自 殺 死 亡 者 的 半 數 可 能 有 重 抑 症 ； 出 現 這 個 疾 病 或 其 他 情 緒 障 礙 的 其 中 一 種 ， 例 如 躁 鬱 症 ， 皆 會 增 加 自 殺 率 20 倍 。 其 他 牽 連 的 情 況 包 括 精 神 分 裂 症 、 人 格 障 礙 、 躁 鬱 症 和 創 傷 後 應 激 綜 合 症 。', '殺 的 終 生 風 險 是 約 8. 6 % 。 全 部 自 殺 死 亡 者 的 半 數 可 能 有 重 抑 症 ； 出 現 這 個 疾 病 或 其 他 情 緒 障 礙 的 其 中 一 種 ， 例 如 躁 鬱 症 ， 皆 會 增 加 自 殺 率 20 倍 。 其 他 牽 連 的 情 況 包 括 精 神 分 裂 症 、 人 格 障 礙 、 躁 鬱 症 和 創 傷 後 應 激 綜 合 症 。', ' 症 之 後 第 二 最 常 見 自 殺 的 風 險 因 素 。 慢 性 藥 物 誤 用 與 急 性 中 毒 有 關 連 。 如 果 合 併 個 人 的 悲 傷 例 如 喪 親 ', ' 症 之 後 第 二 最 常 見 自 殺 的 風 險 因 素 。 慢 性 藥 物 誤 用 與 急 性 中 毒 有 關 連 。 如 果 合 併 個 人 的 悲 傷 例 如 喪 親 ', ' 症 之 後 第 二 最 常 見 自 殺 的 風 險 因 素 。 慢 性 藥 物 誤 用 與 急 性 中 毒 有 關 連 。 如 果 合 併 個 人 的 悲 傷 例 如 喪 親 ', ' 症 之 後 第 二 最 常 見 自 殺 的 風 險 因 素 。 慢 性 藥 物 誤 用 與 急 性 中 毒 有 關 連 。 如 果 合 併 個 人 的 悲 傷 例 如 喪 親 ', ' 症 之 後 第 二 最 常 見 自 殺 的 風 險 因 素 。 慢 性 藥 物 誤 用 與 急 性 中 毒 有 關 連 。 如 果 合 併 個 人 的 悲 傷 例 如 喪 親 ， 風 險 便 會 進 一 步 增 加 。 同 時 ， 藥 物 誤 用 與 精 神 障 礙 有 關 連 。 大 多 數 的 人 自 殺 時 皆 受 到 鎮 靜 安 眠 藥 的 影 響 ， 其 中 15 % 至 61 % 的 人 出 現 酗 酒 問 題 。 有 較 高 的 酒 精 使 用 率 和 較 高 密 度 酒 吧 之 國 家 通 常 亦 有 較 高 的 自 殺 率 ， 而 此 關 連 主 要 是 與 烈 酒 使 用 而 並 不 是 與 全 部 酒 精 使 用 有 關 。 在 其 一 生 中 某 個 時 間 點 曾 接 受 酗 酒 治 療 的 約 2. 2 [UNK] 3. 4 % 人 死 於 自 殺 。 有 自 殺 企 圖 的 酗 酒 者 通 ', ' 症 之 後 第 二 最 常 見 自 殺 的 風 險 因 素 。 慢 性 藥 物 誤 用 與 急 性 中 毒 有 關 連 。 如 果 合 併 個 人 的 悲 傷 例 如 喪 親 ， 風 險 便 會 進 一 步 增 加 。 同 時 ， 藥 物 誤 用 與 精 神 障 礙 有 關 連 。 大 多 數 的 人 自 殺 時 皆 受 到 鎮 靜 安 眠 藥 的 影 響 ， 其 中 15 % 至 61 % 的 人 出 現 酗 酒 問 題 。 有 較 高 的 酒 精 使 用 率 和 較 高 密 度 酒 吧 之 國 家 通 常 亦 有 較 高 的 自 殺 率 ， 而 此 關 連 主 要 是 與 烈 酒 使 用 而 並 不 是 與 全 部 酒 精 使 用 有 關 。 在 其 一 生 中 某 個 時 間 點 曾 接 受 酗 酒 治 療 的 約 2. 2 [UNK] 3. 4 % 人 死 於 自 殺 。 有 自 殺 企 圖 的 酗 酒 者 通 ', '影 響 ， 其 中 15 % 至 61 % 的 人 出 現 酗 酒 問 題 。 有 較 高 的 酒', '影 響 ， 其 中 15 % 至 61 % 的 人 出 現 酗 酒 問 題 。 有 較 高 的 酒', '', '', ' 中 ， 覺 得 自 己 是 他 人 的 負 擔 這 種 想 法 也 在 自 殺 中 扮 演 著 重 要 角 色 。 近 期 生 活 上 的 壓 力 ， 例 如 ： 失 去 一 名 家 庭 成 員 或 好 友 、 失 業 、 社 交 孤 立 等 均 能 導 致 風 險 的 增 加 。 而 那 些 從 未 踏 入 婚 姻 殿 堂 的 人 群 自 殺 的 風 險 也 比 較 高 。 宗 教 信 仰 可 能 會 降 低 自 殺 的 風 險 。 這 一 方 面 是 因 為 許 多 宗 教 對 自 殺 均 持 負 面 立 場 ， 另 一 方 面 是 因 為 宗 教 信 仰 ', ' 中 ， 覺 得 自 己 是 他 人 的 負 擔 這 種 想 法 也 在 自 殺 中 扮 演 著 重 要 角 色 。 近 期 生 活 上 的 壓 力 ， 例 如 ： 失 去 一 名 家 庭 成 員 或 好 友 、 失 業 、 社 交 孤 立 等 均 能 導 致 風 險 的 增 加 。 而 那 些 從 未 踏 入 婚 姻 殿 堂 的 人 群 自 殺 的 風 險 也 比 較 高 。 宗 教 信 仰 可 能 會 降 低 自 殺 的 風 險 。 這 一 方 面 是 因 為 許 多 宗 教 對 自 殺 均 持 負 面 立 場 ， 另 一 方 面 是 因 為 宗 教 信 仰 ', '社 交 孤 立 等 均 能 導 致 風 險 的 增 加 。 而 那 些 從 未 踏 入 婚 姻 殿 堂 的 人 群 自 殺 的 風 險 也 比 較 高 。 宗 教 信 仰 可 能 會 降 低 自 殺 的 風 險 。 這 一 方 面 是 因 為 許 多 宗 教 對 自 殺 均 持 負 面 立 場 ， 另 一 方 面 是 因 為 宗 教 信 仰 ', '社 交 孤 立 等 均 能 導 致 風 險 的 增 加 。 而 那 些 從 未 踏 入 婚 姻 殿 堂 的 人 群 自 殺 的 風 險 也 比 較 高 。 宗 教 信 仰 可 能 會 降 低 自 殺 的 風 險 。 這 一 方 面 是 因 為 許 多 宗 教 對 自 殺 均 持 負 面 立 場 ， 另 一 方 面 是 因 為 宗 教 信 仰 ', '林 與', '林 與', '', '', 'CLS] 理 性 自 殺 是 指 某 人 在 理 由 充 分 的 情 況 下 結 束 自 己 的 生 命 的 做 法, 儘 管 有 些 ', 'CLS] 理 性 自 殺 是 指 某 人 在 理 由 充 分 的 情 況 下 結 束 自 己 的 生 命 的 做 法, 儘 管 有 些 ', '有 些 ', '有 些 ', ' ', ' ', 'CLS] 理 性 自 殺 是 指 某 人 在 理 由 充 分 的 情 況 下 結 束 自 己 的 生 命 的 做 法, 儘 管 有 些 人 認 為 自 殺 行 為 無 論 如 何 也 不 合 邏 輯 。 以 自 殺 ', 'CLS] 理 性 自 殺 是 指 某 人 在 理 由 充 分 的 情 況 下 結 束 自 己 的 生 命 的 做 法, 儘 管 有 些 人 認 為 自 殺 行 為 無 論 如 何 也 不 合 邏 輯 。 以 自 殺 ', '擊 的 ', '擊 的 ', '釋 。 但 普 ', '釋 。 但 普 ', '海 馬 ', '海 馬 ', '', '', '海 馬 ', '海 馬 ', 'CLS', 'CLS', ' ', ' ', 'CLS] 自 殺 預 防 是 指 人 們 通 過 使 用 一 些 預 防 措 施 ， 集 體 防 範 以 減 少 自 殺 事 件 的 行 為 。 其 中 包 括 減 少 某 些 自 殺 方 式 的 可 獲 得 性 ， 比 如 減 少 槍 枝 或 毒 素 的 可 用 性 ， 以 降 低 自 殺 風 險 。 其 他 措 施 包 括 減 少 焦 碳 的 可 獲 得 性 ， 防 止 人 們 靠 近 大 橋 欄 杆 和 地 鐵 站 台 欄 杆', 'CLS] 自 殺 預 防 是 指 人 們 通 過 使 用 一 些 預 防 措 施 ， 集 體 防 範 以 減 少 自 殺 事 件 的 行 為 。 其 中 包 括 減 少 某 些 自 殺 方 式 的 可 獲 得 性 ， 比 如 減 少 槍 枝 或 毒 素 的 可 用 性 ， 以 降 低 自 殺 風 險 。 其 他 措 施 包 括 減 少 焦 碳 的 可 獲 得 性 ， 防 止 人 們 靠 近 大 橋 欄 杆 和 地 鐵 站 台 欄 杆', 'CLS] 自 殺 預 防 是 指 人 們 通 過 使 用 一 些 預 防 措 施 ， 集 體 防 範 以 減 少 自 殺 事 件 的 行 為 。 其 中 包 括 減 少 某 些 自 殺 方 式 的 可 獲 得 性 ， 比 如 減 少 槍 枝 或 毒 素 的 可 用 性 ， 以 降 低 自 殺 風 險 。 其 他 措 施 包 括 減 少 焦 碳 的 可 獲 得 性 ， 防 止 人 們 靠 近 大 橋 欄 杆 和 地 鐵 站 台 欄 杆', 'CLS] 自 殺 預 防 是 指 人 們 通 過 使 用 一 些 預 防 措 施 ， 集 體 防 範 以 減 少 自 殺 事 件 的 行 為 。 其 中 包 括 減 少 某 些 自 殺 方 式 的 可 獲 得 性 ， 比 如 減 少 槍 枝 或 毒 素 的 可 用 性 ， 以 降 低 自 殺 風 險 。 其 他 措 施 包 括 減 少 焦 碳 的 可 獲 得 性 ， 防 止 人 們 靠 近 大 橋 欄 杆 和 地 鐵 站 台 欄 杆', '', '', 'LS] ', 'LS] ', ' 正', ' 正', ' 時 ', ' 時 ', '', '', ' 影 響 ', ' 影 響 ', '在 天', '在 天', ' 要', ' 要', '想 ', '想 ', ' [U', ' [U', '長 葛 ', '長 葛 ', '', '', ' ', ' ', '廢', '廢', ' ', ' ', ' ', ' ', '者 ', '者 ', '', '', ' 書', ' 書', ' 部 到 海', ' 部 到 海', '淮 北', '淮 北', '的', '的', '交 界 地 新 設 越 州 ， ', '交 界 地 新 設 越 州 ， ', '', '', '', '', ' ', ' ', '批', '批', '', '', '', '', ' 文 帝 元 嘉 ', ' 文 帝 元 嘉 ', ' 把', ' 把', ' 運 ', ' 運 ', '其 擅 ', '其 擅 ', '，', '，', '， 負 責 撰 修', '， 負 責 撰 修', ' 史 ', ' 史 ', ' ', ' ', ' 畫', ' 畫', '察', '察', ' 國 最 早 的 山 水 畫 理 論 著 述 。 其 畫 山 水 序 最 為 著 名 ， 精 闢 地 理 解 山 水 以 形 媚 道 之', ' 國 最 早 的 山 水 畫 理 論 著 述 。 其 畫 山 水 序 最 為 著 名 ， 精 闢 地 理 解 山 水 以 形 媚 道 之', ' 政 大 臣 ， 害 怕 失 德 無 禮 的 劉 義 符 會 敗 壞 國 政 ， 遂 以 廢 昏 立 明 為 名 號 ， 廢 殺 劉 義 符 ， 改 立 劉 裕 的 第 三 個 兒 子 劉 義 隆 為 皇 帝 ， 是 為 宋 文 帝 ， 年 號 元 嘉 。 宋 文 帝 在 426 年 除 掉 權 臣 徐 羨 之 等 人 後 親 政 ， 他 在 位 三 十 年 ， 勵 精 圖 治 、 知 人 善 任 、 提 倡 節 儉 並 澄 清 吏 治 ， 國 家 生 產 經 濟 因 此 大 力 提 升 ， 被 稱 為 元 嘉 之 治 ， 為 六 朝 治 世 之 典 範 。 430 年 起 ， 宋 文 帝 首 次 北 伐 ， 到 彥 之 率 領 的 五 萬 宋 軍 ， 成 功 占 領 河 南 洛 陽 等 地 。 但 由 于 軍 力', ' 政 大 臣 ， 害 怕 失 德 無 禮 的 劉 義 符 會 敗 壞 國 政 ， 遂 以 廢 昏 立 明 為 名 號 ， 廢 殺 劉 義 符 ， 改 立 劉 裕 的 第 三 個 兒 子 劉 義 隆 為 皇 帝 ， 是 為 宋 文 帝 ， 年 號 元 嘉 。 宋 文 帝 在 426 年 除 掉 權 臣 徐 羨 之 等 人 後 親 政 ， 他 在 位 三 十 年 ， 勵 精 圖 治 、 知 人 善 任 、 提 倡 節 儉 並 澄 清 吏 治 ， 國 家 生 產 經 濟 因 此 大 力 提 升 ， 被 稱 為 元 嘉 之 治 ， 為 六 朝 治 世 之 典 範 。 430 年 起 ， 宋 文 帝 首 次 北 伐 ， 到 彥 之 率 領 的 五 萬 宋 軍 ， 成 功 占 領 河 南 洛 陽 等 地 。 但 由 于 軍 力', ' 機', ' 機', ' 殺 ', ' 殺 ', ' 、 ', ' 、 ', '', '', '', '', ' ', ' ', '', '', '主 ', '主 ', '經 由', '經 由', '六 ', '六 ', '等 相', '等 相', '六 ', '六 ', '響 不 大 ， 因 此 總 體 來 說 ， 孝 武 帝 統 治 的 十 一 年 算 是 個 相 對 安 定 的 時 期 ， 孝 武 帝 的 積 極 政 策 也 促 進 了 江 南 的 開 發 與 貨 幣 經 濟 的 深 化 。 一 直 到 463 年 底 至 464 年 ， 浙 江 等 地 發 生 大 旱 災 ， 造 成 慘 重 的 大 饑 荒 ， 浙 江 十 分 之 六 的 戶 口 餓 死 逃 散 宋 孝 武 帝 是 一 個 頗 有 作 為 、 積 極 改 革 制 度 的 皇 帝 。 他 加 強 中 央 集 權 ， 撤 ', '響 不 大 ， 因 此 總 體 來 說 ， 孝 武 帝 統 治 的 十 一 年 算 是 個 相 對 安 定 的 時 期 ， 孝 武 帝 的 積 極 政 策 也 促 進 了 江 南 的 開 發 與 貨 幣 經 濟 的 深 化 。 一 直 到 463 年 底 至 464 年 ， 浙 江 等 地 發 生 大 旱 災 ， 造 成 慘 重 的 大 饑 荒 ， 浙 江 十 分 之 六 的 戶 口 餓 死 逃 散 宋 孝 武 帝 是 一 個 頗 有 作 為 、 積 極 改 革 制 度 的 皇 帝 。 他 加 強 中 央 集 權 ， 撤 ', '', '', ' 寒 ', ' 寒 ', '之 ', '之 ', '的 ', '的 ', '', '', ' 中', ' 中', ' 造 反 ， 殺 死 了 權 倖 王 道 隆 與 顧 命 大 將 劉 [UNK] ， 幾 乎 就 要 攻 下 建 康 城 ， 但 蕭 道 成 即 時 回 軍 ， 平 定 亂 事 。 事 後 蕭 道 成 接 替 劉 [UNK] 的 地 位 ， 上 升 為 與 宰 相 袁 粲 並 列 的 四 貴 之 一 ， 更 受 到 權 倖 阮 佃 夫 的 倚 重 ， 因', ' 造 反 ， 殺 死 了 權 倖 王 道 隆 與 顧 命 大 將 劉 [UNK] ， 幾 乎 就 要 攻 下 建 康 城 ， 但 蕭 道 成 即 時 回 軍 ， 平 定 亂 事 。 事 後 蕭 道 成 接 替 劉 [UNK] 的 地 位 ， 上 升 為 與 宰 相 袁 粲 並 列 的 四 貴 之 一 ， 更 受 到 權 倖 阮 佃 夫 的 倚 重 ， 因', '', '', 'CLS] 宋 明 帝 在 死 前 ， 為 了 穩 固 兒 子 的 皇 位 ， 大 肆 誅 除 有 能 力 的 皇 弟 宗 室 、 功 臣 武 將 和 高 門 士 族 ， 造 成 劉 昱 繼 位 後 中 央 和 地 方 軍 鎮 互 相 猜 忌 、 攻 伐 的 政 治 亂 象 ， 使 得 武 將 蕭 道 成 因 此 崛 起 ， 逐 漸 掌 握 中 央 軍 權 。 特 別 是 474 年 ， 桂 陽 王 劉 休 範 以 清 君 側 之 名 造 反 ， 殺 死 了 權 倖 王 道 隆 與 顧 命 大 將 劉 [UNK] ， 幾 乎 就 要 攻 下 建 康 城 ， 但 蕭 道 成 即 時 回 軍 ， 平 定 亂 事 。 事 後 蕭 道 成 接 替 ', 'CLS] 宋 明 帝 在 死 前 ， 為 了 穩 固 兒 子 的 皇 位 ， 大 肆 誅 除 有 能 力 的 皇 弟 宗 室 、 功 臣 武 將 和 高 門 士 族 ， 造 成 劉 昱 繼 位 後 中 央 和 地 方 軍 鎮 互 相 猜 忌 、 攻 伐 的 政 治 亂 象 ， 使 得 武 將 蕭 道 成 因 此 崛 起 ， 逐 漸 掌 握 中 央 軍 權 。 特 別 是 474 年 ， 桂 陽 王 劉 休 範 以 清 君 側 之 名 造 反 ， 殺 死 了 權 倖 王 道 隆 與 顧 命 大 將 劉 [UNK] ， 幾 乎 就 要 攻 下 建 康 城 ， 但 蕭 道 成 即 時 回 軍 ， 平 定 亂 事 。 事 後 蕭 道 成 接 替 ', ' 界 線', ' 界 線', ' ', ' ', '與 劉', '與 劉', '土 ', '土 ', '00', '00', ' 的', ' 的', '', '', ' 蘇 ', ' 蘇 ', ' 爾', ' 爾', '接 ', '接 ', '立 。 ', '立 。 ', '昆 ', '昆 ', ' 19', ' 19', '昆 ', '昆 ', '是 法 國 修 築 的 滇 越 鐵 路 ， 通 往 越 南 ， 1910 年 通 車 。 直 到 1966 年 以 前 ， 這 條 米 軌 鐵 路 一 直 是 昆 明 與 外 界 聯 繫 的 主 要 通 道 ， 昆 明 也 成 為 中 國 唯 一 一 個 火 車 不 通 國 內 通 國 外 的 省 會 城 市 ， 被 稱 為 雲 南 十 八 怪 之 一 。 昆 河 鐵 路 目 前 是 中 國 唯 一 一 條 米 軌 鐵 路 ， 起 點 站 昆 明 北 站 位 於 昆 明 市 區 北 部 ， 曾 經 每 天 有 一 班 列 車 開 往 中 越 邊 境 的 河 口 ， 每 周 有 兩 班 列 車 開 往 越 南 首 都 河 內 。 目 前 該 鐵 路 以 貨 運 為 主 ， 客 運 已 基 本 停 止 ， 僅 存 王 家 營 經 昆 明 北 至 石 咀 的 市 郊 列 車 ， 上 午 、 下 午 各 一 趟 。 上 午 的 列 車 由 昆 明 北 站 發 車 ， 開 往 王 家 營 ', '是 法 國 修 築 的 滇 越 鐵 路 ， 通 往 越 南 ， 1910 年 通 車 。 直 到 1966 年 以 前 ， 這 條 米 軌 鐵 路 一 直 是 昆 明 與 外 界 聯 繫 的 主 要 通 道 ， 昆 明 也 成 為 中 國 唯 一 一 個 火 車 不 通 國 內 通 國 外 的 省 會 城 市 ， 被 稱 為 雲 南 十 八 怪 之 一 。 昆 河 鐵 路 目 前 是 中 國 唯 一 一 條 米 軌 鐵 路 ， 起 點 站 昆 明 北 站 位 於 昆 明 市 區 北 部 ， 曾 經 每 天 有 一 班 列 車 開 往 中 越 邊 境 的 河 口 ， 每 周 有 兩 班 列 車 開 往 越 南 首 都 河 內 。 目 前 該 鐵 路 以 貨 運 為 主 ， 客 運 已 基 本 停 止 ， 僅 存 王 家 營 經 昆 明 北 至 石 咀 的 市 郊 列 車 ， 上 午 、 下 午 各 一 趟 。 上 午 的 列 車 由 昆 明 北 站 發 車 ， 開 往 王 家 營 ', '一 直', '一 直', '', '', '', '', '儲 存 、 檢 測 和 發 射 太 空 載 具 ， 測 量 飛 行 軌 道 ， 發 送 控 制 指 令 ， 接 收 和 處 理 遙 測 信 息 。 出 於 噪 音 和 安 全 方 面 的 原 因 ， 發 射 場 選 在 遠 ', '儲 存 、 檢 測 和 發 射 太 空 載 具 ， 測 量 飛 行 軌 道 ， 發 送 控 制 指 令 ， 接 收 和 處 理 遙 測 信 息 。 出 於 噪 音 和 安 全 方 面 的 原 因 ， 發 射 場 選 在 遠 ', '道 ， 發', '道 ， 發', '量 飛 行 軌 道 ， 發 送 控 制 指 令 ， 接 收 和 處 理 遙 測 信 息 。 出 於 噪 音 和 安 全 方 面 的 原 因 ， 發 射 場 選 在 遠 離 人 類 居 住 的 地 方 。 太 空 發 射 場 多 數 由 飛', '量 飛 行 軌 道 ， 發 送 控 制 指 令 ， 接 收 和 處 理 遙 測 信 息 。 出 於 噪 音 和 安 全 方 面 的 原 因 ， 發 射 場 選 在 遠 離 人 類 居 住 的 地 方 。 太 空 發 射 場 多 數 由 飛', '量 飛 ', '量 飛 ', '。 為 了 合 乎 科 學 精 神 ， 這 方 法 必 須', '。 為 了 合 乎 科 學 精 神 ， 這 方 法 必 須', '', '', ' 觀 察', ' 觀 察', '。 為 了 合 乎 科 學 精 神 ， 這 方 法 必 須 建 立 於 收 集 可 觀 察 、 可 經 驗 、 可 量 度 的 證 據 ， 並 且 合 乎 明 確 的 推 理 原 則 。 梅 里 亞 姆 - 韋 伯 斯 特 辭 典 如 此 定 義 ： 科 學 方 法 是 一 種 持 續 不 停 的 過 程 ， 通 常 其 最 初 步 驟 是 仔 細 觀 察 大 自 然 ， 人 們 天 生 就 有 一 種 摘 三 問 四 的 習 性 ， 他 們 時 常 會 對 於 周 遭 現 象 想 出 一 些 奇 奇 怪 怪 的 問 題 ， 進 而 發 展 出 一 些 假 說 來 解 釋 這 些 問 題 。 最 好 的 假 說 會 導 致 能 被 多 樣 檢 試 的 預 言 。 基 於 檢 試 的 結 果 ， 被 檢 查 的 假 說 可 能 需 要 加 以 改 善 或 遭 到 毅 然 駁 回 。 這 整 個 循 環 ， 從 預 測 、 ', '。 為 了 合 乎 科 學 精 神 ， 這 方 法 必 須 建 立 於 收 集 可 觀 察 、 可 經 驗 、 可 量 度 的 證 據 ， 並 且 合 乎 明 確 的 推 理 原 則 。 梅 里 亞 姆 - 韋 伯 斯 特 辭 典 如 此 定 義 ： 科 學 方 法 是 一 種 持 續 不 停 的 過 程 ， 通 常 其 最 初 步 驟 是 仔 細 觀 察 大 自 然 ， 人 們 天 生 就 有 一 種 摘 三 問 四 的 習 性 ， 他 們 時 常 會 對 於 周 遭 現 象 想 出 一 些 奇 奇 怪 怪 的 問 題 ， 進 而 發 展 出 一 些 假 說 來 解 釋 這 些 問 題 。 最 好 的 假 說 會 導 致 能 被 多 樣 檢 試 的 預 言 。 基 於 檢 試 的 結 果 ， 被 檢 查 的 假 說 可 能 需 要 加 以 改 善 或 遭 到 毅 然 駁 回 。 這 整 個 循 環 ， 從 預 測 、 ', '可 能', '可 能', 'CLS', 'CLS', 'CLS] 黑 龍 江 省 ， 簡 稱 黑 ， 位 於 中 國 東 北 地 區 北 部 ， 是 全 國 最 北 和 最 東 的 省 份 ， 省 會 駐 地 為 哈 爾 濱 。 中 俄 界 河 黑 龍 江 為 境 內 最 大 河 流', 'CLS] 黑 龍 江 省 ， 簡 稱 黑 ， 位 於 中 國 東 北 地 區 北 部 ， 是 全 國 最 北 和 最 東 的 省 份 ， 省 會 駐 地 為 哈 爾 濱 。 中 俄 界 河 黑 龍 江 為 境 內 最 大 河 流', '與 俄', '與 俄', 'CLS', 'CLS', 'CLS', 'CLS', '', '', ' 為 中 ', ' 為 中 ', ' 即', ' 即', '在 中 國 東 北 修 建 以 哈 爾 濱 為 中 心 ， 東 、 西 、 南 三 個 方 向 分 別 連 接 海 參 崴 、 滿 洲 里 、 中 國 大 連 的 中 東 鐵 路 ， 即 今 天 的 濱 綏 線 、 濱 洲 線 和 哈 大 線 。 哈 爾 濱 鐵 路 局 則 是 中 華 人 民 共 和 國 建 立 的 第 一 個 鐵 路 局 ， 轄 區 覆 蓋 黑 龍 江 省 全 境 以 及 內 蒙 古 自 治 區 東 北 部 。 齊 齊 哈 爾 設 有 鐵 路 貨 車 和 鐵 路 起 重 機 製 造 廠 。 普 速 線 黑 龍 江 之 國 鐵 營 業 里 程 達 5654. 9 千 米 ， 為 中 國 鐵 路 通 車 裡 程 最 長 的 省 份 。 鐵 路 幹 線 和 支 線 以 哈 爾 濱 、 齊 齊 哈 爾 、 牡 丹 江 、 佳 木 斯 四 個 ', '在 中 國 東 北 修 建 以 哈 爾 濱 為 中 心 ， 東 、 西 、 南 三 個 方 向 分 別 連 接 海 參 崴 、 滿 洲 里 、 中 國 大 連 的 中 東 鐵 路 ， 即 今 天 的 濱 綏 線 、 濱 洲 線 和 哈 大 線 。 哈 爾 濱 鐵 路 局 則 是 中 華 人 民 共 和 國 建 立 的 第 一 個 鐵 路 局 ， 轄 區 覆 蓋 黑 龍 江 省 全 境 以 及 內 蒙 古 自 治 區 東 北 部 。 齊 齊 哈 爾 設 有 鐵 路 貨 車 和 鐵 路 起 重 機 製 造 廠 。 普 速 線 黑 龍 江 之 國 鐵 營 業 里 程 達 5654. 9 千 米 ， 為 中 國 鐵 路 通 車 裡 程 最 長 的 省 份 。 鐵 路 幹 線 和 支 線 以 哈 爾 濱 、 齊 齊 哈 爾 、 牡 丹 江 、 佳 木 斯 四 個 ', '', '', ' ', ' ', '國 名 更 改 為 渤 海 ， 以 忽 ', '國 名 更 改 為 渤 海 ， 以 忽 ', ' ', ' ', '', '', '', '', '', '', '', '', '萬 平 方 公 里 。 黑 龍 江 有 額 爾 古 納 河 、 石 勒 喀 河 ', '萬 平 方 公 里 。 黑 龍 江 有 額 爾 古 納 河 、 石 勒 喀 河 ', '萬 ', '萬 ', 'CLS] 黑 龍 江 黑 土 分 布 廣 ， 土 地 肥 沃 ， 地 廣 人 稀 ， 人 均 耕 地 面 積 居 全 國 首 位 ， 糧 食 作 物 播 種 面 積 約 占 全 省 總 播 種 面 積 的 四 分 之 三 左 右 ， 是 全 國 最 大 的 糧 食 產 區 和 商 品 糧 調 出 基 地 ， 糧 食 產 量 、 糧 食 商 品 量 ', 'CLS] 黑 龍 江 黑 土 分 布 廣 ， 土 地 肥 沃 ， 地 廣 人 稀 ， 人 均 耕 地 面 積 居 全 國 首 位 ， 糧 食 作 物 播 種 面 積 約 占 全 省 總 播 種 面 積 的 四 分 之 三 左 右 ， 是 全 國 最 大 的 糧 食 產 區 和 商 品 糧 調 出 基 地 ， 糧 食 產 量 、 糧 食 商 品 量 ', ' 米', ' 米', 'CLS] 黑 龍 江 黑 土 分 布 廣 ， 土 地 肥 沃 ， 地 廣 人 稀 ， 人 均 耕 地 面 積 居 全 國 首 位 ， 糧 食 作 物 播 種 面 積 約 占 全 省 總 播 種 面 積 的 四 分 之 三 左 右 ， 是 全 國 最 大 的 糧 食 產 區 和 商 品 糧 調 出 基 地 ， 糧 食 產 量 、 糧 食 商 品 量 、 勞 均 生 產 糧 食 量 、 農 機 化 程 度 和 大 型 農 機 保 有 量 、 土 地 規 模 經 營 面 積 、 土 壤 有 機 質 含 量 、 農 產 品 質 量 安 全 水 平 等 主 要 指 標 均 居 全 國 首 位 。 全 省 主 要 農 作 物 以 水 稻 、 小 麥 、 玉 米 、 高 粱 、 黃 豆 為 主 。 黑 龍 江 水 稻 栽 培 歷 史 較 短 ， 但 目 前 分 布 普 遍 ， 五 常 、 響 水 等 地 大 米 全 國 聞 名 。 本 省 是 中 國 最 大 的 馬 鈴 ', 'CLS] 黑 龍 江 黑 土 分 布 廣 ， 土 地 肥 沃 ， 地 廣 人 稀 ， 人 均 耕 地 面 積 居 全 國 首 位 ， 糧 食 作 物 播 種 面 積 約 占 全 省 總 播 種 面 積 的 四 分 之 三 左 右 ， 是 全 國 最 大 的 糧 食 產 區 和 商 品 糧 調 出 基 地 ， 糧 食 產 量 、 糧 食 商 品 量 、 勞 均 生 產 糧 食 量 、 農 機 化 程 度 和 大 型 農 機 保 有 量 、 土 地 規 模 經 營 面 積 、 土 壤 有 機 質 含 量 、 農 產 品 質 量 安 全 水 平 等 主 要 指 標 均 居 全 國 首 位 。 全 省 主 要 農 作 物 以 水 稻 、 小 麥 、 玉 米 、 高 粱 、 黃 豆 為 主 。 黑 龍 江 水 稻 栽 培 歷 史 較 短 ， 但 目 前 分 布 普 遍 ， 五 常 、 響 水 等 地 大 米 全 國 聞 名 。 本 省 是 中 國 最 大 的 馬 鈴 ', 'CLS] 黑 龍 江 黑 土 分 布 廣 ， 土 地 肥 沃 ， 地 廣 人 稀 ， 人 均 耕 地 面', 'CLS] 黑 龍 江 黑 土 分 布 廣 ， 土 地 肥 沃 ， 地 廣 人 稀 ， 人 均 耕 地 面', 'CLS] 黑 龍 江 黑 土 分 布 廣 ， 土 地 肥 沃 ， 地 廣 人 稀 ， 人 均 耕 地 面', 'CLS] 黑 龍 江 黑 土 分 布 廣 ， 土 地 肥 沃 ， 地 廣 人 稀 ， 人 均 耕 地 面', ' 太 平 洋 ', ' 太 平 洋 ', 'CLS]', 'CLS]', 'CLS] 洛 杉 磯 湖 人 ， 是 一 支 位 於 美 國 蓋 瑞 福 尼 亞 州 洛 杉 磯 的 [UNK] 籃 球 隊 ， 分 屬 於 西 區 的 太 平 洋 組 ， 主 場 為 史 坦 波 中 心 。 洛 杉 磯 湖 人 是 一 支 擁 有 悠 久 且 輝 煌 歷 史 的 職 業 籃 球 隊 ， 其 前 身 為 明 尼 亞 波 利 斯 湖 人 ， 在 明 尼 亞 波 利 斯 時 期 獲 得 過 5 個 總 冠 軍 ， 1960 年 球 隊 遷 至 洛 杉 磯 後 ， 獲 得 11 次 [UNK] 總 冠 軍 ， 至 今 合 計 共 奪 得 16 次 總 冠 軍 ， 僅 次 於 波 士 頓 塞 爾 提 克 的 1', 'CLS] 洛 杉 磯 湖 人 ， 是 一 支 位 於 美 國 蓋 瑞 福 尼 亞 州 洛 杉 磯 的 [UNK] 籃 球 隊 ， 分 屬 於 西 區 的 太 平 洋 組 ， 主 場 為 史 坦 波 中 心 。 洛 杉 磯 湖 人 是 一 支 擁 有 悠 久 且 輝 煌 歷 史 的 職 業 籃 球 隊 ， 其 前 身 為 明 尼 亞 波 利 斯 湖 人 ， 在 明 尼 亞 波 利 斯 時 期 獲 得 過 5 個 總 冠 軍 ， 1960 年 球 隊 遷 至 洛 杉 磯 後 ， 獲 得 11 次 [UNK] 總 冠 軍 ， 至 今 合 計 共 奪 得 16 次 總 冠 軍 ， 僅 次 於 波 士 頓 塞 爾 提 克 的 1', '', '', ' ', ' ', '', '', '', '', '獲 得 校 友 捐 贈 名 列 全 美 前 茅 。 此 外 學 校 留 學 生 眾 多 ， 超 過 10 % 的 學 生 來 自 110 多 個 國 家 。 南 加 大 是 一 所 電 影 明 星 和 體 育 明 星 輩 出 的 學 校 ， 由 於 距 離 好 萊 塢 十 分 近 ， 因 此 擁 有 頂 尖 的 電 影 藝 術 學 院 。 此 外 百 餘 年 來 南 加 大 校 友 已 累 計 獲 得 280 餘 枚 奧 林 匹 克 運 動 會 獎 牌 ， 位 列 全 球 大 學 之 首 。 南 加 大 是 洛 杉 ', '獲 得 校 友 捐 贈 名 列 全 美 前 茅 。 此 外 學 校 留 學 生 眾 多 ， 超 過 10 % 的 學 生 來 自 110 多 個 國 家 。 南 加 大 是 一 所 電 影 明 星 和 體 育 明 星 輩 出 的 學 校 ， 由 於 距 離 好 萊 塢 十 分 近 ， 因 此 擁 有 頂 尖 的 電 影 藝 術 學 院 。 此 外 百 餘 年 來 南 加 大 校 友 已 累 計 獲 得 280 餘 枚 奧 林 匹 克 運 動 會 獎 牌 ， 位 列 全 球 大 學 之 首 。 南 加 大 是 洛 杉 ', ' 外', ' 外', '院 。 此 外 百 餘 年 來 南 加 ', '院 。 此 外 百 餘 年 來 南 加 ', '、 互 動', '、 互 動', '， 其', '， 其', ' 、 電 玩 、', ' 、 電 玩 、', ' 、 電 玩 、', ' 、 電 玩 、', '捐', '捐', '的 ', '的 ', '的 ', '的 ', '的 ', '的 ', ' 爾 商 學 院 ', ' 爾 商 學 院 ', ' 爾 商 學 院 ', ' 爾 商 學 院 ', ' 繪 對 象 處 於 未 知 範 疇 中 的 作 品 。 以 上 定 義 雖 然 角 度 不 同 ， 但 科 幻 小 說 的 定 義 中 總 是 反 覆 出 現 一 些 詞 語 ， 例 如 ： 幻 想 、 未 來 、 科 技 、 人 類 、 變 化 等 。 從 這 些 關 鍵 詞 中 可 以 看 到 ， 科 幻 小 說 所 涉 及 的 範 疇 總 是 與 人 類 的 好 奇 心 、 求 知 慾 緊 密 相 連 。 在 科 幻 愛 好 者 中 盛 傳 的 一 則 世 界 上 最 短 的 科 幻 小 說 是 這 樣 的 ： 地 球 上 最 後 一 個 人 坐 在 房 間 裡 。 這 時 響 起 了 敲 門 聲 。 可 ', ' 繪 對 象 處 於 未 知 範 疇 中 的 作 品 。 以 上 定 義 雖 然 角 度 不 同 ， 但 科 幻 小 說 的 定 義 中 總 是 反 覆 出 現 一 些 詞 語 ， 例 如 ： 幻 想 、 未 來 、 科 技 、 人 類 、 變 化 等 。 從 這 些 關 鍵 詞 中 可 以 看 到 ， 科 幻 小 說 所 涉 及 的 範 疇 總 是 與 人 類 的 好 奇 心 、 求 知 慾 緊 密 相 連 。 在 科 幻 愛 好 者 中 盛 傳 的 一 則 世 界 上 最 短 的 科 幻 小 說 是 這 樣 的 ： 地 球 上 最 後 一 個 人 坐 在 房 間 裡 。 這 時 響 起 了 敲 門 聲 。 可 ', '', '', '變', '變', '', '', '的 ：', '的 ：', ' 種 ', ' 種 ', '說 都 表 現 出 一 種 前 所 未 有 的 科 ', '說 都 表 現 出 一 種 前 所 未 有 的 科 ', ' 能 實', ' 能 實', '不 ', '不 ', ' 點', ' 點', ' 測 出 來 的 。 幾 個 月 後', ' 測 出 來 的 。 幾 個 月 後', '', '', ' 的 聯 繫 ', ' 的 聯 繫 ', ' 技 新 聞 報 導 中 ， 諸 如 可 望 在 不 久 的 將 來 成 為 現 實 之 類 的 字 句 並 不 罕 見 。 歷 ', ' 技 新 聞 報 導 中 ， 諸 如 可 望 在 不 久 的 將 來 成 為 現 實 之 類 的 字 句 並 不 罕 見 。 歷 ']\n"
          ]
        }
      ]
    },
    {
      "cell_type": "code",
      "source": [
        "f1_metric = evaluate.load(\"f1\")\n",
        "f1_results = f1_metric.compute(predictions=pre, references=ref)\n",
        "print('f1:',f1_results)"
      ],
      "metadata": {
        "colab": {
          "base_uri": "https://localhost:8080/",
          "height": 210
        },
        "id": "TRMdy7-bKMSL",
        "outputId": "f17a4f00-53ba-4780-f300-41f8c3bf7995"
      },
      "execution_count": null,
      "outputs": [
        {
          "output_type": "error",
          "ename": "NameError",
          "evalue": "ignored",
          "traceback": [
            "\u001b[0;31m---------------------------------------------------------------------------\u001b[0m",
            "\u001b[0;31mNameError\u001b[0m                                 Traceback (most recent call last)",
            "\u001b[0;32m<ipython-input-35-3b8cf2f129a8>\u001b[0m in \u001b[0;36m<module>\u001b[0;34m\u001b[0m\n\u001b[0;32m----> 1\u001b[0;31m \u001b[0mf1_metric\u001b[0m \u001b[0;34m=\u001b[0m \u001b[0mevaluate\u001b[0m\u001b[0;34m.\u001b[0m\u001b[0mload\u001b[0m\u001b[0;34m(\u001b[0m\u001b[0;34m\"f1\"\u001b[0m\u001b[0;34m)\u001b[0m\u001b[0;34m\u001b[0m\u001b[0;34m\u001b[0m\u001b[0m\n\u001b[0m\u001b[1;32m      2\u001b[0m \u001b[0mf1_results\u001b[0m \u001b[0;34m=\u001b[0m \u001b[0mf1_metric\u001b[0m\u001b[0;34m.\u001b[0m\u001b[0mcompute\u001b[0m\u001b[0;34m(\u001b[0m\u001b[0mpredictions\u001b[0m\u001b[0;34m=\u001b[0m\u001b[0mpre\u001b[0m\u001b[0;34m,\u001b[0m \u001b[0mreferences\u001b[0m\u001b[0;34m=\u001b[0m\u001b[0mref\u001b[0m\u001b[0;34m)\u001b[0m\u001b[0;34m\u001b[0m\u001b[0;34m\u001b[0m\u001b[0m\n\u001b[1;32m      3\u001b[0m \u001b[0mprint\u001b[0m\u001b[0;34m(\u001b[0m\u001b[0;34m'f1:'\u001b[0m\u001b[0;34m,\u001b[0m\u001b[0mf1_results\u001b[0m\u001b[0;34m)\u001b[0m\u001b[0;34m\u001b[0m\u001b[0;34m\u001b[0m\u001b[0m\n",
            "\u001b[0;31mNameError\u001b[0m: name 'evaluate' is not defined"
          ]
        }
      ]
    },
    {
      "cell_type": "code",
      "execution_count": null,
      "metadata": {
        "id": "Ms67ClKWqkkg",
        "colab": {
          "base_uri": "https://localhost:8080/"
        },
        "outputId": "3bea028f-1f80-4e10-9c00-e3b59a699096"
      },
      "outputs": [
        {
          "output_type": "stream",
          "name": "stdout",
          "text": [
            "\n",
            " 15\n",
            "true label =  {'answer': {'answer_start': tensor(149), 'text': ' 梵 文 ， 其 實 它 只 是 蘭 札 體 的 一 種 無 頭 化 變 體 。 藏 文 、 蒙 文 、 托 忒 蒙 文 、 滿 文 都 有 用 各 自 的 文 字 轉 寫 梵 文 的 體 系 。 1991 年 印 度 人 口 普 查 報 告 了 49, 736 名 流 利 的 梵 語 使 用 者 。 自 從 1990 年 代 ， 對 復 興'}, 'id': '1'}\n",
            "pred label =  {'prediction_text': '用', 'id': '1'}\n",
            "\n",
            " 16\n",
            "true label =  {'answer': {'answer_start': tensor(205), 'text': ' 蒙 文 、 滿 文 都 有 用 各 自 的 文 字 轉 寫 梵 文 的 體 系 。 1991 年 印 度 人 口 普 查 報 告 了 49'}, 'id': '1'}\n",
            "pred label =  {'prediction_text': '0 年', 'id': '1'}\n",
            "\n",
            " 17\n",
            "true label =  {'answer': {'answer_start': tensor(205), 'text': ' 蒙 文 、 滿 文 都 有 用 各 自 的 文 字 轉 寫 梵 文 的 體 系 。 1991 年 印 度 人 口 普 查 報 告 了 49'}, 'id': '1'}\n",
            "pred label =  {'prediction_text': '90 年 ', 'id': '1'}\n",
            "\n",
            " 18\n",
            "true label =  {'answer': {'answer_start': tensor(1), 'text': 'CLS] 馬 祖 列 島 是 隸 屬 中 華 民 國 的 群 島 ， 位 於 臺 灣 海 峽 正 北 方 ， 面 臨 閩 江 口 、 連 江 口 和 羅 源 灣 ， 與 中 國 大 陸 僅 一 水 之 隔 ， 距 中 國 大 陸 最 近 點 約 9. 25 公 里 。 主 要 由 南 '}, 'id': '1'}\n",
            "pred label =  {'prediction_text': 'CLS', 'id': '1'}\n",
            "\n",
            " 19\n",
            "true label =  {'answer': {'answer_start': tensor(1), 'text': 'CLS] 馬 祖 列 島 是 隸 屬 中 華 民 國 的 群 島 ， 位 於 臺 灣 海 峽 正 北 方 ， 面 臨 閩 江 口 、 連 江 口 和 羅 源 灣 ， 與 中 國 大 陸 僅 一 水 之 隔 ， 距 中 國 大 陸 最 近 點 約 9. 25 公 里 。 主 要 由 南 '}, 'id': '1'}\n",
            "pred label =  {'prediction_text': 'CLS', 'id': '1'}\n",
            "\n",
            " 20\n",
            "true label =  {'answer': {'answer_start': tensor(1), 'text': 'CLS] 馬 祖 列 島 是 隸 屬 中 華 民 國 的 群 島 ， 位 於 臺 灣 海 峽 正 北 方 ， 面 臨 閩 江 口 、 連 江 口 和 羅 源 灣 ， 與 中 國 大 陸 僅 一 水 之 隔 ， 距 中 國 大 陸 最 近 點 約 9. 25 公 里 。 主 要 由 南 竿 島 、 北 竿 島'}, 'id': '1'}\n",
            "pred label =  {'prediction_text': '島 、 亮', 'id': '1'}\n",
            "\n",
            " 21\n",
            "true label =  {'answer': {'answer_start': tensor(1), 'text': 'CLS] 馬 祖 列 島 是 隸 屬 中 華 民 國 的 群 島 ， 位 於 臺 灣 海 峽 正 北 方 ， 面 臨 閩 江 口 、 連 江 口 和 羅 源 灣 ， 與 中 國 大 陸 僅 一 水 之 隔 ， 距 中 國 大 陸 最 近 點 約 9. 25 公 里 。 主 要 由 南 竿 島 、 北 竿 島'}, 'id': '1'}\n",
            "pred label =  {'prediction_text': '島 、 亮', 'id': '1'}\n",
            "\n",
            " 22\n",
            "true label =  {'answer': {'answer_start': tensor(1), 'text': 'CLS] 馬 祖 列 島 是 隸 屬 中 華 民 國 的 群 島 ， 位 於 臺 灣 海 峽 正 北 方 ， 面 臨 閩 江 口 、 連 江 口 和 羅 源 灣 ， 與 中 國 大 陸 僅 一 水 之 隔 ， 距 中 國 大 陸 最 近 點 約 9. 25 公 里 。 主 要 由 南 竿 島 、 北 竿 島 、 高 登 島 、 亮 島 、 東 莒 島 、 西 莒 島 、 東 引 島 、 西 引 島 及 其 附 屬 小 島 共 計 36 個 島 嶼 、 礁 嶼 組 成 ， 面 積 29. 6 平 方 公 里 ， 居 民 人 口 約 12, 600 多 人 。 1999 年 以 馬 祖 列 島 為 範 圍 的 馬 '}, 'id': '1'}\n",
            "pred label =  {'prediction_text': ' ', 'id': '1'}\n",
            "\n",
            " 23\n",
            "true label =  {'answer': {'answer_start': tensor(1), 'text': 'CLS] 馬 祖 列 島 是 隸 屬 中 華 民 國 的 群 島 ， 位 於 臺 灣 海 峽 正 北 方 ， 面 臨 閩 江 口 、 連 江 口 和 羅 源 灣 ， 與 中 國 大 陸 僅 一 水 之 隔 ， 距 中 國 大 陸 最 近 點 約 9. 25 公 里 。 主 要 由 南 竿 島 、 北 竿 島 、 高 登 島 、 亮 島 、 東 莒 島 、 西 莒 島 、 東 引 島 、 西 引 島 及 其 附 屬 小 島 共 計 36 個 島 嶼 、 礁 嶼 組 成 ， 面 積 29. 6 平 方 公 里 ， 居 民 人 口 約 12, 600 多 人 。 1999 年 以 馬 祖 列 島 為 範 圍 的 馬 '}, 'id': '1'}\n",
            "pred label =  {'prediction_text': '的 馬 ', 'id': '1'}\n",
            "\n",
            " 24\n",
            "true label =  {'answer': {'answer_start': tensor(232), 'text': '、 廚'}, 'id': '2'}\n",
            "pred label =  {'prediction_text': 'CLS', 'id': '2'}\n"
          ]
        }
      ],
      "source": [
        "for i in range(15,25):\n",
        "  print('\\n',i)\n",
        "  print(\"true label = \",ref[i])\n",
        "  print(\"pred label = \",pre[i])\n"
      ]
    },
    {
      "cell_type": "code",
      "source": [
        "from google.colab import drive\n",
        "drive.mount('/content/drive', force_remount=True)\n",
        "%cd /content/drive/\"MyDrive\"/\"Colab Notebooks\"\n",
        "%cd ./BERT_DRCD/"
      ],
      "metadata": {
        "colab": {
          "base_uri": "https://localhost:8080/"
        },
        "id": "hN15aWAkY8nP",
        "outputId": "fb07a67f-4bfa-40b8-8bbb-cf1924bca87e"
      },
      "execution_count": null,
      "outputs": [
        {
          "output_type": "stream",
          "name": "stdout",
          "text": [
            "Mounted at /content/drive\n",
            "/content/drive/MyDrive/Colab Notebooks\n",
            "/content/drive/MyDrive/Colab Notebooks/BERT_DRCD\n"
          ]
        }
      ]
    },
    {
      "cell_type": "code",
      "source": [
        "from transformers import AutoTokenizer\n",
        "import torch\n",
        "\n",
        "tokenizer=AutoTokenizer.from_pretrained('bert-base-chinese')\n",
        "model = torch.load(\"test_model2\")\n",
        "# model.eval()"
      ],
      "metadata": {
        "id": "pgGtrS89ZM2k"
      },
      "execution_count": null,
      "outputs": []
    },
    {
      "cell_type": "code",
      "source": [
        "# **撰寫預測程式**\n",
        "def QA_model(model, context, question):\n",
        "\n",
        "  input = tokenizer.encode_plus(question, context, return_tensors='pt')\n",
        "  outputs = model(**input)\n",
        "  answer_start = torch.argmax(outputs[0])\n",
        "  answer_end = torch.argmax(outputs[1]) + 1\n",
        "\n",
        "  answer = tokenizer.convert_tokens_to_string(tokenizer.convert_ids_to_tokens(input['input_ids'][0][answer_start:answer_end]))\n",
        "  \n",
        "\n",
        "  return answer"
      ],
      "metadata": {
        "id": "_TEib3s7s1sA"
      },
      "execution_count": null,
      "outputs": []
    },
    {
      "cell_type": "code",
      "source": [
        "context = \"《哈利波特》（英語：Harry Potter），英國作家J·K·羅琳的奇幻文學系列小說，描寫主角哈利波特在霍格華茲魔法學校7年學習生活中的冒險故事；該系列被翻譯成77種語言，在超過兩百個國家出版，所有版本的總銷售量5億，名列世界上最暢銷小說之列。[1][2][3]美國華納兄弟電影公司把這7集小說改拍成8部電影，前6集各一部，第7集分兩部。哈利波特電影系列是全球史上最賣座的電影系列，總票房收入過77億美元，在多國上映。[4]此外還有位於佛羅里達的主題樂園，與大量衍生作品，使作者羅琳本人在此作品完成後躋身英國最富裕的女性人物之列，超越英國女王伊莉莎白二世。\"\n",
        "question = \"哈利波特的作家是誰?\"\n",
        "\n",
        "answer = QA_model(model, context, question)  \n",
        "print(answer)"
      ],
      "metadata": {
        "colab": {
          "base_uri": "https://localhost:8080/"
        },
        "id": "HssOB5ZXs23G",
        "outputId": "660ec7bf-8ae5-49b7-eeb7-f1442caa8a25"
      },
      "execution_count": null,
      "outputs": [
        {
          "output_type": "stream",
          "name": "stdout",
          "text": [
            "\n"
          ]
        }
      ]
    },
    {
      "cell_type": "code",
      "source": [
        "context = \"哈利波特的作家是J·K·羅琳\"\n",
        "question = \"哈利波特的作家是誰?\"\n",
        "\n",
        "answer = QA_model(model, context, question)  \n",
        "print(answer)"
      ],
      "metadata": {
        "colab": {
          "base_uri": "https://localhost:8080/"
        },
        "id": "VTrxAkxVl-M4",
        "outputId": "45355cdd-c189-4c82-e217-22202f9b8cbc"
      },
      "execution_count": null,
      "outputs": [
        {
          "output_type": "stream",
          "name": "stdout",
          "text": [
            "[UNK] · [UNK] · 羅 琳\n"
          ]
        }
      ]
    },
    {
      "cell_type": "code",
      "source": [
        "context = \"國立中興大學，是位於臺中的一所高等教育機構。中興大學以農業科學、農業經濟學、獸醫、生命科學、轉譯醫學、生醫工程、生物科技、綠色科技等研究領域見長 。近年中興大學與臺中榮民總醫院、彰化師範大學、中國醫藥大學等機構合作，聚焦於癌症醫學、免疫醫學及醫學工程三項領域，將實驗室成果逐步應用到臨床上。興大也與臺中市政府合作，簽訂合作意向書，共同推動數位文化、智慧城市等面相帶動區域發展[6]。\"\n",
        "question = \"國立中興大學位於哪裡?\"\n",
        "\n",
        "answer = QA_model(model, context, question)  \n",
        "print(answer)\n",
        "\n"
      ],
      "metadata": {
        "colab": {
          "base_uri": "https://localhost:8080/"
        },
        "id": "ZCdVjnkKmGA_",
        "outputId": "8e8983b6-d799-43be-a4c3-4625f9017448"
      },
      "execution_count": null,
      "outputs": [
        {
          "output_type": "stream",
          "name": "stdout",
          "text": [
            "臺 中\n"
          ]
        }
      ]
    },
    {
      "cell_type": "code",
      "source": [
        "context = \"國立中興大學簡稱興大，是位於臺中的一所高等教育機構。中興大學以農業科學、農業經濟學、獸醫、生命科學、轉譯醫學、生醫工程、生物科技、綠色科技等研究領域見長 。近年中興大學與臺中榮民總醫院、彰化師範大學、中國醫藥大學等機構合作，聚焦於癌症醫學、免疫醫學及醫學工程三項領域，將實驗室成果逐步應用到臨床上。興大也與臺中市政府合作，簽訂合作意向書，共同推動數位文化、智慧城市等面相帶動區域發展[6]。\"\n",
        "question = \"國立中興大學簡稱?\"\n",
        "\n",
        "answer = QA_model(model, context, question)  \n",
        "print(answer)\n",
        "\n"
      ],
      "metadata": {
        "colab": {
          "base_uri": "https://localhost:8080/"
        },
        "id": "0WV-RCydokQP",
        "outputId": "7c19b4f9-72d6-41ac-a872-3e559f084b15"
      },
      "execution_count": null,
      "outputs": [
        {
          "output_type": "stream",
          "name": "stdout",
          "text": [
            "興 大\n"
          ]
        }
      ]
    },
    {
      "cell_type": "code",
      "source": [],
      "metadata": {
        "id": "XO_Zi0tEpU17"
      },
      "execution_count": null,
      "outputs": []
    }
  ],
  "metadata": {
    "colab": {
      "provenance": [],
      "mount_file_id": "17YVCFm0m_JU7BuiliZIsH6LbQDgB1wbX",
      "authorship_tag": "ABX9TyOqJzmo5n4vdZtGIXrXZzKn",
      "include_colab_link": true
    },
    "gpuClass": "standard",
    "kernelspec": {
      "display_name": "Python 3",
      "name": "python3"
    },
    "language_info": {
      "name": "python"
    },
    "widgets": {
      "application/vnd.jupyter.widget-state+json": {
        "01bfdf81aa594ea4a1949bedebfe959b": {
          "model_module": "@jupyter-widgets/base",
          "model_module_version": "1.2.0",
          "model_name": "LayoutModel",
          "state": {
            "_model_module": "@jupyter-widgets/base",
            "_model_module_version": "1.2.0",
            "_model_name": "LayoutModel",
            "_view_count": null,
            "_view_module": "@jupyter-widgets/base",
            "_view_module_version": "1.2.0",
            "_view_name": "LayoutView",
            "align_content": null,
            "align_items": null,
            "align_self": null,
            "border": null,
            "bottom": null,
            "display": null,
            "flex": null,
            "flex_flow": null,
            "grid_area": null,
            "grid_auto_columns": null,
            "grid_auto_flow": null,
            "grid_auto_rows": null,
            "grid_column": null,
            "grid_gap": null,
            "grid_row": null,
            "grid_template_areas": null,
            "grid_template_columns": null,
            "grid_template_rows": null,
            "height": null,
            "justify_content": null,
            "justify_items": null,
            "left": null,
            "margin": null,
            "max_height": null,
            "max_width": null,
            "min_height": null,
            "min_width": null,
            "object_fit": null,
            "object_position": null,
            "order": null,
            "overflow": null,
            "overflow_x": null,
            "overflow_y": null,
            "padding": null,
            "right": null,
            "top": null,
            "visibility": null,
            "width": null
          }
        },
        "03a157cf328247fe9a5e823e3842a1e4": {
          "model_module": "@jupyter-widgets/base",
          "model_module_version": "1.2.0",
          "model_name": "LayoutModel",
          "state": {
            "_model_module": "@jupyter-widgets/base",
            "_model_module_version": "1.2.0",
            "_model_name": "LayoutModel",
            "_view_count": null,
            "_view_module": "@jupyter-widgets/base",
            "_view_module_version": "1.2.0",
            "_view_name": "LayoutView",
            "align_content": null,
            "align_items": null,
            "align_self": null,
            "border": null,
            "bottom": null,
            "display": null,
            "flex": null,
            "flex_flow": null,
            "grid_area": null,
            "grid_auto_columns": null,
            "grid_auto_flow": null,
            "grid_auto_rows": null,
            "grid_column": null,
            "grid_gap": null,
            "grid_row": null,
            "grid_template_areas": null,
            "grid_template_columns": null,
            "grid_template_rows": null,
            "height": null,
            "justify_content": null,
            "justify_items": null,
            "left": null,
            "margin": null,
            "max_height": null,
            "max_width": null,
            "min_height": null,
            "min_width": null,
            "object_fit": null,
            "object_position": null,
            "order": null,
            "overflow": null,
            "overflow_x": null,
            "overflow_y": null,
            "padding": null,
            "right": null,
            "top": null,
            "visibility": null,
            "width": null
          }
        },
        "046205e6e79b4279951a949244d6819c": {
          "model_module": "@jupyter-widgets/controls",
          "model_module_version": "1.5.0",
          "model_name": "HTMLModel",
          "state": {
            "_dom_classes": [],
            "_model_module": "@jupyter-widgets/controls",
            "_model_module_version": "1.5.0",
            "_model_name": "HTMLModel",
            "_view_count": null,
            "_view_module": "@jupyter-widgets/controls",
            "_view_module_version": "1.5.0",
            "_view_name": "HTMLView",
            "description": "",
            "description_tooltip": null,
            "layout": "IPY_MODEL_e4aea11a2cc943ababf8dc4c17269ce9",
            "placeholder": "​",
            "style": "IPY_MODEL_4a4e73b3b3f047fca009c1e0f53f6755",
            "value": "Iteration: 100%"
          }
        },
        "054eaeee7025493bac43b71e2ad071ce": {
          "model_module": "@jupyter-widgets/controls",
          "model_module_version": "1.5.0",
          "model_name": "HBoxModel",
          "state": {
            "_dom_classes": [],
            "_model_module": "@jupyter-widgets/controls",
            "_model_module_version": "1.5.0",
            "_model_name": "HBoxModel",
            "_view_count": null,
            "_view_module": "@jupyter-widgets/controls",
            "_view_module_version": "1.5.0",
            "_view_name": "HBoxView",
            "box_style": "",
            "children": [
              "IPY_MODEL_8e972a536e214d3b9cb5d74d41869e71",
              "IPY_MODEL_73edc7708b1e4d31a43ba6e3eceb9035",
              "IPY_MODEL_726a889ccc324388ab8890fbf6364f71"
            ],
            "layout": "IPY_MODEL_10d9e9ccb9504f898ed8433db140ffa6"
          }
        },
        "063b3bf6fc8e4c5eab28d6861fb426b5": {
          "model_module": "@jupyter-widgets/controls",
          "model_module_version": "1.5.0",
          "model_name": "DescriptionStyleModel",
          "state": {
            "_model_module": "@jupyter-widgets/controls",
            "_model_module_version": "1.5.0",
            "_model_name": "DescriptionStyleModel",
            "_view_count": null,
            "_view_module": "@jupyter-widgets/base",
            "_view_module_version": "1.2.0",
            "_view_name": "StyleView",
            "description_width": ""
          }
        },
        "0e45127aaf87449385346ff345d75072": {
          "model_module": "@jupyter-widgets/controls",
          "model_module_version": "1.5.0",
          "model_name": "FloatProgressModel",
          "state": {
            "_dom_classes": [],
            "_model_module": "@jupyter-widgets/controls",
            "_model_module_version": "1.5.0",
            "_model_name": "FloatProgressModel",
            "_view_count": null,
            "_view_module": "@jupyter-widgets/controls",
            "_view_module_version": "1.5.0",
            "_view_name": "ProgressView",
            "bar_style": "success",
            "description": "",
            "description_tooltip": null,
            "layout": "IPY_MODEL_b4e08ae7669348b78e8456a3994510fe",
            "max": 5001,
            "min": 0,
            "orientation": "horizontal",
            "style": "IPY_MODEL_d1846a3d17e840bdb5fbb4303ae94d71",
            "value": 5001
          }
        },
        "1042240ad2bd4a8d8ad639d6a70bf121": {
          "model_module": "@jupyter-widgets/controls",
          "model_module_version": "1.5.0",
          "model_name": "ProgressStyleModel",
          "state": {
            "_model_module": "@jupyter-widgets/controls",
            "_model_module_version": "1.5.0",
            "_model_name": "ProgressStyleModel",
            "_view_count": null,
            "_view_module": "@jupyter-widgets/base",
            "_view_module_version": "1.2.0",
            "_view_name": "StyleView",
            "bar_color": null,
            "description_width": ""
          }
        },
        "10d9e9ccb9504f898ed8433db140ffa6": {
          "model_module": "@jupyter-widgets/base",
          "model_module_version": "1.2.0",
          "model_name": "LayoutModel",
          "state": {
            "_model_module": "@jupyter-widgets/base",
            "_model_module_version": "1.2.0",
            "_model_name": "LayoutModel",
            "_view_count": null,
            "_view_module": "@jupyter-widgets/base",
            "_view_module_version": "1.2.0",
            "_view_name": "LayoutView",
            "align_content": null,
            "align_items": null,
            "align_self": null,
            "border": null,
            "bottom": null,
            "display": null,
            "flex": null,
            "flex_flow": null,
            "grid_area": null,
            "grid_auto_columns": null,
            "grid_auto_flow": null,
            "grid_auto_rows": null,
            "grid_column": null,
            "grid_gap": null,
            "grid_row": null,
            "grid_template_areas": null,
            "grid_template_columns": null,
            "grid_template_rows": null,
            "height": null,
            "justify_content": null,
            "justify_items": null,
            "left": null,
            "margin": null,
            "max_height": null,
            "max_width": null,
            "min_height": null,
            "min_width": null,
            "object_fit": null,
            "object_position": null,
            "order": null,
            "overflow": null,
            "overflow_x": null,
            "overflow_y": null,
            "padding": null,
            "right": null,
            "top": null,
            "visibility": null,
            "width": null
          }
        },
        "16c3371e87fc4e8d822d5a39474f1a1c": {
          "model_module": "@jupyter-widgets/controls",
          "model_module_version": "1.5.0",
          "model_name": "DescriptionStyleModel",
          "state": {
            "_model_module": "@jupyter-widgets/controls",
            "_model_module_version": "1.5.0",
            "_model_name": "DescriptionStyleModel",
            "_view_count": null,
            "_view_module": "@jupyter-widgets/base",
            "_view_module_version": "1.2.0",
            "_view_name": "StyleView",
            "description_width": ""
          }
        },
        "1c66d1e79a314585a7c2f3651f91e7db": {
          "model_module": "@jupyter-widgets/base",
          "model_module_version": "1.2.0",
          "model_name": "LayoutModel",
          "state": {
            "_model_module": "@jupyter-widgets/base",
            "_model_module_version": "1.2.0",
            "_model_name": "LayoutModel",
            "_view_count": null,
            "_view_module": "@jupyter-widgets/base",
            "_view_module_version": "1.2.0",
            "_view_name": "LayoutView",
            "align_content": null,
            "align_items": null,
            "align_self": null,
            "border": null,
            "bottom": null,
            "display": null,
            "flex": null,
            "flex_flow": null,
            "grid_area": null,
            "grid_auto_columns": null,
            "grid_auto_flow": null,
            "grid_auto_rows": null,
            "grid_column": null,
            "grid_gap": null,
            "grid_row": null,
            "grid_template_areas": null,
            "grid_template_columns": null,
            "grid_template_rows": null,
            "height": null,
            "justify_content": null,
            "justify_items": null,
            "left": null,
            "margin": null,
            "max_height": null,
            "max_width": null,
            "min_height": null,
            "min_width": null,
            "object_fit": null,
            "object_position": null,
            "order": null,
            "overflow": null,
            "overflow_x": null,
            "overflow_y": null,
            "padding": null,
            "right": null,
            "top": null,
            "visibility": null,
            "width": null
          }
        },
        "1dd7f3151d6843f1b73c01710deefba3": {
          "model_module": "@jupyter-widgets/controls",
          "model_module_version": "1.5.0",
          "model_name": "DescriptionStyleModel",
          "state": {
            "_model_module": "@jupyter-widgets/controls",
            "_model_module_version": "1.5.0",
            "_model_name": "DescriptionStyleModel",
            "_view_count": null,
            "_view_module": "@jupyter-widgets/base",
            "_view_module_version": "1.2.0",
            "_view_name": "StyleView",
            "description_width": ""
          }
        },
        "31faea5c0ad048a1952fc49beeaed2c6": {
          "model_module": "@jupyter-widgets/base",
          "model_module_version": "1.2.0",
          "model_name": "LayoutModel",
          "state": {
            "_model_module": "@jupyter-widgets/base",
            "_model_module_version": "1.2.0",
            "_model_name": "LayoutModel",
            "_view_count": null,
            "_view_module": "@jupyter-widgets/base",
            "_view_module_version": "1.2.0",
            "_view_name": "LayoutView",
            "align_content": null,
            "align_items": null,
            "align_self": null,
            "border": null,
            "bottom": null,
            "display": null,
            "flex": null,
            "flex_flow": null,
            "grid_area": null,
            "grid_auto_columns": null,
            "grid_auto_flow": null,
            "grid_auto_rows": null,
            "grid_column": null,
            "grid_gap": null,
            "grid_row": null,
            "grid_template_areas": null,
            "grid_template_columns": null,
            "grid_template_rows": null,
            "height": null,
            "justify_content": null,
            "justify_items": null,
            "left": null,
            "margin": null,
            "max_height": null,
            "max_width": null,
            "min_height": null,
            "min_width": null,
            "object_fit": null,
            "object_position": null,
            "order": null,
            "overflow": null,
            "overflow_x": null,
            "overflow_y": null,
            "padding": null,
            "right": null,
            "top": null,
            "visibility": null,
            "width": null
          }
        },
        "34c2639f3c86496d838115f56545e38b": {
          "model_module": "@jupyter-widgets/controls",
          "model_module_version": "1.5.0",
          "model_name": "ProgressStyleModel",
          "state": {
            "_model_module": "@jupyter-widgets/controls",
            "_model_module_version": "1.5.0",
            "_model_name": "ProgressStyleModel",
            "_view_count": null,
            "_view_module": "@jupyter-widgets/base",
            "_view_module_version": "1.2.0",
            "_view_name": "StyleView",
            "bar_color": null,
            "description_width": ""
          }
        },
        "36ca2489df604721b81edaf6ff7f5d8e": {
          "model_module": "@jupyter-widgets/controls",
          "model_module_version": "1.5.0",
          "model_name": "FloatProgressModel",
          "state": {
            "_dom_classes": [],
            "_model_module": "@jupyter-widgets/controls",
            "_model_module_version": "1.5.0",
            "_model_name": "FloatProgressModel",
            "_view_count": null,
            "_view_module": "@jupyter-widgets/controls",
            "_view_module_version": "1.5.0",
            "_view_name": "ProgressView",
            "bar_style": "success",
            "description": "",
            "description_tooltip": null,
            "layout": "IPY_MODEL_bdc080780f3544c98053d090da9282cc",
            "max": 3,
            "min": 0,
            "orientation": "horizontal",
            "style": "IPY_MODEL_c58c58bf0d0244acb356d80ebb7709bb",
            "value": 3
          }
        },
        "38ec06db1fb241a3981b0380d6ce7919": {
          "model_module": "@jupyter-widgets/controls",
          "model_module_version": "1.5.0",
          "model_name": "HBoxModel",
          "state": {
            "_dom_classes": [],
            "_model_module": "@jupyter-widgets/controls",
            "_model_module_version": "1.5.0",
            "_model_name": "HBoxModel",
            "_view_count": null,
            "_view_module": "@jupyter-widgets/controls",
            "_view_module_version": "1.5.0",
            "_view_name": "HBoxView",
            "box_style": "",
            "children": [
              "IPY_MODEL_046205e6e79b4279951a949244d6819c",
              "IPY_MODEL_ad2a0e0868094adb9b369ce8908cfaa3",
              "IPY_MODEL_5393a7ff097c4005b60890a61e128668"
            ],
            "layout": "IPY_MODEL_db51a26d0a7d46428632fe211c371094"
          }
        },
        "396175e2c4fd4e17bbbe8d66498df3e9": {
          "model_module": "@jupyter-widgets/controls",
          "model_module_version": "1.5.0",
          "model_name": "DescriptionStyleModel",
          "state": {
            "_model_module": "@jupyter-widgets/controls",
            "_model_module_version": "1.5.0",
            "_model_name": "DescriptionStyleModel",
            "_view_count": null,
            "_view_module": "@jupyter-widgets/base",
            "_view_module_version": "1.2.0",
            "_view_name": "StyleView",
            "description_width": ""
          }
        },
        "3bf5d3ec090a48349d99a9160abc313d": {
          "model_module": "@jupyter-widgets/controls",
          "model_module_version": "1.5.0",
          "model_name": "HBoxModel",
          "state": {
            "_dom_classes": [],
            "_model_module": "@jupyter-widgets/controls",
            "_model_module_version": "1.5.0",
            "_model_name": "HBoxModel",
            "_view_count": null,
            "_view_module": "@jupyter-widgets/controls",
            "_view_module_version": "1.5.0",
            "_view_name": "HBoxView",
            "box_style": "",
            "children": [
              "IPY_MODEL_77444cd3887340428bfb1ed877963ded",
              "IPY_MODEL_c267a69445554ba39103e66cb7ef4fb0",
              "IPY_MODEL_705cb08004a84524b0c890b31a752576"
            ],
            "layout": "IPY_MODEL_e411fc7df1004f98827b0f51e3f737b9"
          }
        },
        "3e54f2f516ca4c849d310357b9e6c966": {
          "model_module": "@jupyter-widgets/controls",
          "model_module_version": "1.5.0",
          "model_name": "DescriptionStyleModel",
          "state": {
            "_model_module": "@jupyter-widgets/controls",
            "_model_module_version": "1.5.0",
            "_model_name": "DescriptionStyleModel",
            "_view_count": null,
            "_view_module": "@jupyter-widgets/base",
            "_view_module_version": "1.2.0",
            "_view_name": "StyleView",
            "description_width": ""
          }
        },
        "4a4e73b3b3f047fca009c1e0f53f6755": {
          "model_module": "@jupyter-widgets/controls",
          "model_module_version": "1.5.0",
          "model_name": "DescriptionStyleModel",
          "state": {
            "_model_module": "@jupyter-widgets/controls",
            "_model_module_version": "1.5.0",
            "_model_name": "DescriptionStyleModel",
            "_view_count": null,
            "_view_module": "@jupyter-widgets/base",
            "_view_module_version": "1.2.0",
            "_view_name": "StyleView",
            "description_width": ""
          }
        },
        "4a6e9d7d63e24ecfb98978241d5b1e54": {
          "model_module": "@jupyter-widgets/controls",
          "model_module_version": "1.5.0",
          "model_name": "HTMLModel",
          "state": {
            "_dom_classes": [],
            "_model_module": "@jupyter-widgets/controls",
            "_model_module_version": "1.5.0",
            "_model_name": "HTMLModel",
            "_view_count": null,
            "_view_module": "@jupyter-widgets/controls",
            "_view_module_version": "1.5.0",
            "_view_name": "HTMLView",
            "description": "",
            "description_tooltip": null,
            "layout": "IPY_MODEL_d568a75c4c704a56ab3daae7083512c4",
            "placeholder": "​",
            "style": "IPY_MODEL_3e54f2f516ca4c849d310357b9e6c966",
            "value": " 3/3 [57:07&lt;00:00, 1143.76s/it]"
          }
        },
        "52704700f39e4cc799e818550df346ca": {
          "model_module": "@jupyter-widgets/base",
          "model_module_version": "1.2.0",
          "model_name": "LayoutModel",
          "state": {
            "_model_module": "@jupyter-widgets/base",
            "_model_module_version": "1.2.0",
            "_model_name": "LayoutModel",
            "_view_count": null,
            "_view_module": "@jupyter-widgets/base",
            "_view_module_version": "1.2.0",
            "_view_name": "LayoutView",
            "align_content": null,
            "align_items": null,
            "align_self": null,
            "border": null,
            "bottom": null,
            "display": null,
            "flex": null,
            "flex_flow": null,
            "grid_area": null,
            "grid_auto_columns": null,
            "grid_auto_flow": null,
            "grid_auto_rows": null,
            "grid_column": null,
            "grid_gap": null,
            "grid_row": null,
            "grid_template_areas": null,
            "grid_template_columns": null,
            "grid_template_rows": null,
            "height": null,
            "justify_content": null,
            "justify_items": null,
            "left": null,
            "margin": null,
            "max_height": null,
            "max_width": null,
            "min_height": null,
            "min_width": null,
            "object_fit": null,
            "object_position": null,
            "order": null,
            "overflow": null,
            "overflow_x": null,
            "overflow_y": null,
            "padding": null,
            "right": null,
            "top": null,
            "visibility": null,
            "width": null
          }
        },
        "5393a7ff097c4005b60890a61e128668": {
          "model_module": "@jupyter-widgets/controls",
          "model_module_version": "1.5.0",
          "model_name": "HTMLModel",
          "state": {
            "_dom_classes": [],
            "_model_module": "@jupyter-widgets/controls",
            "_model_module_version": "1.5.0",
            "_model_name": "HTMLModel",
            "_view_count": null,
            "_view_module": "@jupyter-widgets/controls",
            "_view_module_version": "1.5.0",
            "_view_name": "HTMLView",
            "description": "",
            "description_tooltip": null,
            "layout": "IPY_MODEL_905187b6fb754d779749e9502d45fd8c",
            "placeholder": "​",
            "style": "IPY_MODEL_f357ccb0f60f4b40a0a8ebac0806c4a0",
            "value": " 5000/5001 [19:06&lt;00:00,  4.37it/s]"
          }
        },
        "5787a1a18b8442fc800475c1bc244e41": {
          "model_module": "@jupyter-widgets/controls",
          "model_module_version": "1.5.0",
          "model_name": "DescriptionStyleModel",
          "state": {
            "_model_module": "@jupyter-widgets/controls",
            "_model_module_version": "1.5.0",
            "_model_name": "DescriptionStyleModel",
            "_view_count": null,
            "_view_module": "@jupyter-widgets/base",
            "_view_module_version": "1.2.0",
            "_view_name": "StyleView",
            "description_width": ""
          }
        },
        "6c2c4302b4624201bf5f889918380295": {
          "model_module": "@jupyter-widgets/controls",
          "model_module_version": "1.5.0",
          "model_name": "ProgressStyleModel",
          "state": {
            "_model_module": "@jupyter-widgets/controls",
            "_model_module_version": "1.5.0",
            "_model_name": "ProgressStyleModel",
            "_view_count": null,
            "_view_module": "@jupyter-widgets/base",
            "_view_module_version": "1.2.0",
            "_view_name": "StyleView",
            "bar_color": null,
            "description_width": ""
          }
        },
        "6e0e818ccf9b4ba6936fceee4bcb88e3": {
          "model_module": "@jupyter-widgets/controls",
          "model_module_version": "1.5.0",
          "model_name": "DescriptionStyleModel",
          "state": {
            "_model_module": "@jupyter-widgets/controls",
            "_model_module_version": "1.5.0",
            "_model_name": "DescriptionStyleModel",
            "_view_count": null,
            "_view_module": "@jupyter-widgets/base",
            "_view_module_version": "1.2.0",
            "_view_name": "StyleView",
            "description_width": ""
          }
        },
        "6ec6392303e541f392496c3042a3ebe9": {
          "model_module": "@jupyter-widgets/base",
          "model_module_version": "1.2.0",
          "model_name": "LayoutModel",
          "state": {
            "_model_module": "@jupyter-widgets/base",
            "_model_module_version": "1.2.0",
            "_model_name": "LayoutModel",
            "_view_count": null,
            "_view_module": "@jupyter-widgets/base",
            "_view_module_version": "1.2.0",
            "_view_name": "LayoutView",
            "align_content": null,
            "align_items": null,
            "align_self": null,
            "border": null,
            "bottom": null,
            "display": null,
            "flex": null,
            "flex_flow": null,
            "grid_area": null,
            "grid_auto_columns": null,
            "grid_auto_flow": null,
            "grid_auto_rows": null,
            "grid_column": null,
            "grid_gap": null,
            "grid_row": null,
            "grid_template_areas": null,
            "grid_template_columns": null,
            "grid_template_rows": null,
            "height": null,
            "justify_content": null,
            "justify_items": null,
            "left": null,
            "margin": null,
            "max_height": null,
            "max_width": null,
            "min_height": null,
            "min_width": null,
            "object_fit": null,
            "object_position": null,
            "order": null,
            "overflow": null,
            "overflow_x": null,
            "overflow_y": null,
            "padding": null,
            "right": null,
            "top": null,
            "visibility": null,
            "width": null
          }
        },
        "6fbfdb06d3b0409ba8f6fa62c549b08e": {
          "model_module": "@jupyter-widgets/controls",
          "model_module_version": "1.5.0",
          "model_name": "HTMLModel",
          "state": {
            "_dom_classes": [],
            "_model_module": "@jupyter-widgets/controls",
            "_model_module_version": "1.5.0",
            "_model_name": "HTMLModel",
            "_view_count": null,
            "_view_module": "@jupyter-widgets/controls",
            "_view_module_version": "1.5.0",
            "_view_name": "HTMLView",
            "description": "",
            "description_tooltip": null,
            "layout": "IPY_MODEL_9e1c6a44faf741459ba99c1d80c6eb99",
            "placeholder": "​",
            "style": "IPY_MODEL_5787a1a18b8442fc800475c1bc244e41",
            "value": "Epoch: 100%"
          }
        },
        "705cb08004a84524b0c890b31a752576": {
          "model_module": "@jupyter-widgets/controls",
          "model_module_version": "1.5.0",
          "model_name": "HTMLModel",
          "state": {
            "_dom_classes": [],
            "_model_module": "@jupyter-widgets/controls",
            "_model_module_version": "1.5.0",
            "_model_name": "HTMLModel",
            "_view_count": null,
            "_view_module": "@jupyter-widgets/controls",
            "_view_module_version": "1.5.0",
            "_view_name": "HTMLView",
            "description": "",
            "description_tooltip": null,
            "layout": "IPY_MODEL_7d173692b6d944fd9ec9bd8c36a8f735",
            "placeholder": "​",
            "style": "IPY_MODEL_d5cf79ff17c2469b8df8e98208ec6a4d",
            "value": " 412M/412M [00:07&lt;00:00, 62.7MB/s]"
          }
        },
        "726a889ccc324388ab8890fbf6364f71": {
          "model_module": "@jupyter-widgets/controls",
          "model_module_version": "1.5.0",
          "model_name": "HTMLModel",
          "state": {
            "_dom_classes": [],
            "_model_module": "@jupyter-widgets/controls",
            "_model_module_version": "1.5.0",
            "_model_name": "HTMLModel",
            "_view_count": null,
            "_view_module": "@jupyter-widgets/controls",
            "_view_module_version": "1.5.0",
            "_view_name": "HTMLView",
            "description": "",
            "description_tooltip": null,
            "layout": "IPY_MODEL_01bfdf81aa594ea4a1949bedebfe959b",
            "placeholder": "​",
            "style": "IPY_MODEL_063b3bf6fc8e4c5eab28d6861fb426b5",
            "value": " 5001/5001 [18:53&lt;00:00,  4.99it/s]"
          }
        },
        "73edc7708b1e4d31a43ba6e3eceb9035": {
          "model_module": "@jupyter-widgets/controls",
          "model_module_version": "1.5.0",
          "model_name": "FloatProgressModel",
          "state": {
            "_dom_classes": [],
            "_model_module": "@jupyter-widgets/controls",
            "_model_module_version": "1.5.0",
            "_model_name": "FloatProgressModel",
            "_view_count": null,
            "_view_module": "@jupyter-widgets/controls",
            "_view_module_version": "1.5.0",
            "_view_name": "ProgressView",
            "bar_style": "success",
            "description": "",
            "description_tooltip": null,
            "layout": "IPY_MODEL_6ec6392303e541f392496c3042a3ebe9",
            "max": 5001,
            "min": 0,
            "orientation": "horizontal",
            "style": "IPY_MODEL_1042240ad2bd4a8d8ad639d6a70bf121",
            "value": 5001
          }
        },
        "77444cd3887340428bfb1ed877963ded": {
          "model_module": "@jupyter-widgets/controls",
          "model_module_version": "1.5.0",
          "model_name": "HTMLModel",
          "state": {
            "_dom_classes": [],
            "_model_module": "@jupyter-widgets/controls",
            "_model_module_version": "1.5.0",
            "_model_name": "HTMLModel",
            "_view_count": null,
            "_view_module": "@jupyter-widgets/controls",
            "_view_module_version": "1.5.0",
            "_view_name": "HTMLView",
            "description": "",
            "description_tooltip": null,
            "layout": "IPY_MODEL_e6c8b877d7dc4244a6c32a20fb41111b",
            "placeholder": "​",
            "style": "IPY_MODEL_1dd7f3151d6843f1b73c01710deefba3",
            "value": "Downloading: 100%"
          }
        },
        "7d173692b6d944fd9ec9bd8c36a8f735": {
          "model_module": "@jupyter-widgets/base",
          "model_module_version": "1.2.0",
          "model_name": "LayoutModel",
          "state": {
            "_model_module": "@jupyter-widgets/base",
            "_model_module_version": "1.2.0",
            "_model_name": "LayoutModel",
            "_view_count": null,
            "_view_module": "@jupyter-widgets/base",
            "_view_module_version": "1.2.0",
            "_view_name": "LayoutView",
            "align_content": null,
            "align_items": null,
            "align_self": null,
            "border": null,
            "bottom": null,
            "display": null,
            "flex": null,
            "flex_flow": null,
            "grid_area": null,
            "grid_auto_columns": null,
            "grid_auto_flow": null,
            "grid_auto_rows": null,
            "grid_column": null,
            "grid_gap": null,
            "grid_row": null,
            "grid_template_areas": null,
            "grid_template_columns": null,
            "grid_template_rows": null,
            "height": null,
            "justify_content": null,
            "justify_items": null,
            "left": null,
            "margin": null,
            "max_height": null,
            "max_width": null,
            "min_height": null,
            "min_width": null,
            "object_fit": null,
            "object_position": null,
            "order": null,
            "overflow": null,
            "overflow_x": null,
            "overflow_y": null,
            "padding": null,
            "right": null,
            "top": null,
            "visibility": null,
            "width": null
          }
        },
        "8e972a536e214d3b9cb5d74d41869e71": {
          "model_module": "@jupyter-widgets/controls",
          "model_module_version": "1.5.0",
          "model_name": "HTMLModel",
          "state": {
            "_dom_classes": [],
            "_model_module": "@jupyter-widgets/controls",
            "_model_module_version": "1.5.0",
            "_model_name": "HTMLModel",
            "_view_count": null,
            "_view_module": "@jupyter-widgets/controls",
            "_view_module_version": "1.5.0",
            "_view_name": "HTMLView",
            "description": "",
            "description_tooltip": null,
            "layout": "IPY_MODEL_1c66d1e79a314585a7c2f3651f91e7db",
            "placeholder": "​",
            "style": "IPY_MODEL_396175e2c4fd4e17bbbe8d66498df3e9",
            "value": "Iteration: 100%"
          }
        },
        "905187b6fb754d779749e9502d45fd8c": {
          "model_module": "@jupyter-widgets/base",
          "model_module_version": "1.2.0",
          "model_name": "LayoutModel",
          "state": {
            "_model_module": "@jupyter-widgets/base",
            "_model_module_version": "1.2.0",
            "_model_name": "LayoutModel",
            "_view_count": null,
            "_view_module": "@jupyter-widgets/base",
            "_view_module_version": "1.2.0",
            "_view_name": "LayoutView",
            "align_content": null,
            "align_items": null,
            "align_self": null,
            "border": null,
            "bottom": null,
            "display": null,
            "flex": null,
            "flex_flow": null,
            "grid_area": null,
            "grid_auto_columns": null,
            "grid_auto_flow": null,
            "grid_auto_rows": null,
            "grid_column": null,
            "grid_gap": null,
            "grid_row": null,
            "grid_template_areas": null,
            "grid_template_columns": null,
            "grid_template_rows": null,
            "height": null,
            "justify_content": null,
            "justify_items": null,
            "left": null,
            "margin": null,
            "max_height": null,
            "max_width": null,
            "min_height": null,
            "min_width": null,
            "object_fit": null,
            "object_position": null,
            "order": null,
            "overflow": null,
            "overflow_x": null,
            "overflow_y": null,
            "padding": null,
            "right": null,
            "top": null,
            "visibility": null,
            "width": null
          }
        },
        "90ae7fe7761045f6a6c17c78205121fc": {
          "model_module": "@jupyter-widgets/controls",
          "model_module_version": "1.5.0",
          "model_name": "HTMLModel",
          "state": {
            "_dom_classes": [],
            "_model_module": "@jupyter-widgets/controls",
            "_model_module_version": "1.5.0",
            "_model_name": "HTMLModel",
            "_view_count": null,
            "_view_module": "@jupyter-widgets/controls",
            "_view_module_version": "1.5.0",
            "_view_name": "HTMLView",
            "description": "",
            "description_tooltip": null,
            "layout": "IPY_MODEL_fe8a2571d47f41d295fee39bef2d339b",
            "placeholder": "​",
            "style": "IPY_MODEL_6e0e818ccf9b4ba6936fceee4bcb88e3",
            "value": "Iteration: 100%"
          }
        },
        "9e1c6a44faf741459ba99c1d80c6eb99": {
          "model_module": "@jupyter-widgets/base",
          "model_module_version": "1.2.0",
          "model_name": "LayoutModel",
          "state": {
            "_model_module": "@jupyter-widgets/base",
            "_model_module_version": "1.2.0",
            "_model_name": "LayoutModel",
            "_view_count": null,
            "_view_module": "@jupyter-widgets/base",
            "_view_module_version": "1.2.0",
            "_view_name": "LayoutView",
            "align_content": null,
            "align_items": null,
            "align_self": null,
            "border": null,
            "bottom": null,
            "display": null,
            "flex": null,
            "flex_flow": null,
            "grid_area": null,
            "grid_auto_columns": null,
            "grid_auto_flow": null,
            "grid_auto_rows": null,
            "grid_column": null,
            "grid_gap": null,
            "grid_row": null,
            "grid_template_areas": null,
            "grid_template_columns": null,
            "grid_template_rows": null,
            "height": null,
            "justify_content": null,
            "justify_items": null,
            "left": null,
            "margin": null,
            "max_height": null,
            "max_width": null,
            "min_height": null,
            "min_width": null,
            "object_fit": null,
            "object_position": null,
            "order": null,
            "overflow": null,
            "overflow_x": null,
            "overflow_y": null,
            "padding": null,
            "right": null,
            "top": null,
            "visibility": null,
            "width": null
          }
        },
        "ad2a0e0868094adb9b369ce8908cfaa3": {
          "model_module": "@jupyter-widgets/controls",
          "model_module_version": "1.5.0",
          "model_name": "FloatProgressModel",
          "state": {
            "_dom_classes": [],
            "_model_module": "@jupyter-widgets/controls",
            "_model_module_version": "1.5.0",
            "_model_name": "FloatProgressModel",
            "_view_count": null,
            "_view_module": "@jupyter-widgets/controls",
            "_view_module_version": "1.5.0",
            "_view_name": "ProgressView",
            "bar_style": "danger",
            "description": "",
            "description_tooltip": null,
            "layout": "IPY_MODEL_03a157cf328247fe9a5e823e3842a1e4",
            "max": 5001,
            "min": 0,
            "orientation": "horizontal",
            "style": "IPY_MODEL_34c2639f3c86496d838115f56545e38b",
            "value": 5000
          }
        },
        "b18e5c6e630a4d0aaa5e9e3bebcad1b1": {
          "model_module": "@jupyter-widgets/base",
          "model_module_version": "1.2.0",
          "model_name": "LayoutModel",
          "state": {
            "_model_module": "@jupyter-widgets/base",
            "_model_module_version": "1.2.0",
            "_model_name": "LayoutModel",
            "_view_count": null,
            "_view_module": "@jupyter-widgets/base",
            "_view_module_version": "1.2.0",
            "_view_name": "LayoutView",
            "align_content": null,
            "align_items": null,
            "align_self": null,
            "border": null,
            "bottom": null,
            "display": null,
            "flex": null,
            "flex_flow": null,
            "grid_area": null,
            "grid_auto_columns": null,
            "grid_auto_flow": null,
            "grid_auto_rows": null,
            "grid_column": null,
            "grid_gap": null,
            "grid_row": null,
            "grid_template_areas": null,
            "grid_template_columns": null,
            "grid_template_rows": null,
            "height": null,
            "justify_content": null,
            "justify_items": null,
            "left": null,
            "margin": null,
            "max_height": null,
            "max_width": null,
            "min_height": null,
            "min_width": null,
            "object_fit": null,
            "object_position": null,
            "order": null,
            "overflow": null,
            "overflow_x": null,
            "overflow_y": null,
            "padding": null,
            "right": null,
            "top": null,
            "visibility": null,
            "width": null
          }
        },
        "b4e08ae7669348b78e8456a3994510fe": {
          "model_module": "@jupyter-widgets/base",
          "model_module_version": "1.2.0",
          "model_name": "LayoutModel",
          "state": {
            "_model_module": "@jupyter-widgets/base",
            "_model_module_version": "1.2.0",
            "_model_name": "LayoutModel",
            "_view_count": null,
            "_view_module": "@jupyter-widgets/base",
            "_view_module_version": "1.2.0",
            "_view_name": "LayoutView",
            "align_content": null,
            "align_items": null,
            "align_self": null,
            "border": null,
            "bottom": null,
            "display": null,
            "flex": null,
            "flex_flow": null,
            "grid_area": null,
            "grid_auto_columns": null,
            "grid_auto_flow": null,
            "grid_auto_rows": null,
            "grid_column": null,
            "grid_gap": null,
            "grid_row": null,
            "grid_template_areas": null,
            "grid_template_columns": null,
            "grid_template_rows": null,
            "height": null,
            "justify_content": null,
            "justify_items": null,
            "left": null,
            "margin": null,
            "max_height": null,
            "max_width": null,
            "min_height": null,
            "min_width": null,
            "object_fit": null,
            "object_position": null,
            "order": null,
            "overflow": null,
            "overflow_x": null,
            "overflow_y": null,
            "padding": null,
            "right": null,
            "top": null,
            "visibility": null,
            "width": null
          }
        },
        "bdc080780f3544c98053d090da9282cc": {
          "model_module": "@jupyter-widgets/base",
          "model_module_version": "1.2.0",
          "model_name": "LayoutModel",
          "state": {
            "_model_module": "@jupyter-widgets/base",
            "_model_module_version": "1.2.0",
            "_model_name": "LayoutModel",
            "_view_count": null,
            "_view_module": "@jupyter-widgets/base",
            "_view_module_version": "1.2.0",
            "_view_name": "LayoutView",
            "align_content": null,
            "align_items": null,
            "align_self": null,
            "border": null,
            "bottom": null,
            "display": null,
            "flex": null,
            "flex_flow": null,
            "grid_area": null,
            "grid_auto_columns": null,
            "grid_auto_flow": null,
            "grid_auto_rows": null,
            "grid_column": null,
            "grid_gap": null,
            "grid_row": null,
            "grid_template_areas": null,
            "grid_template_columns": null,
            "grid_template_rows": null,
            "height": null,
            "justify_content": null,
            "justify_items": null,
            "left": null,
            "margin": null,
            "max_height": null,
            "max_width": null,
            "min_height": null,
            "min_width": null,
            "object_fit": null,
            "object_position": null,
            "order": null,
            "overflow": null,
            "overflow_x": null,
            "overflow_y": null,
            "padding": null,
            "right": null,
            "top": null,
            "visibility": null,
            "width": null
          }
        },
        "c267a69445554ba39103e66cb7ef4fb0": {
          "model_module": "@jupyter-widgets/controls",
          "model_module_version": "1.5.0",
          "model_name": "FloatProgressModel",
          "state": {
            "_dom_classes": [],
            "_model_module": "@jupyter-widgets/controls",
            "_model_module_version": "1.5.0",
            "_model_name": "FloatProgressModel",
            "_view_count": null,
            "_view_module": "@jupyter-widgets/controls",
            "_view_module_version": "1.5.0",
            "_view_name": "ProgressView",
            "bar_style": "success",
            "description": "",
            "description_tooltip": null,
            "layout": "IPY_MODEL_52704700f39e4cc799e818550df346ca",
            "max": 411577189,
            "min": 0,
            "orientation": "horizontal",
            "style": "IPY_MODEL_6c2c4302b4624201bf5f889918380295",
            "value": 411577189
          }
        },
        "c58c58bf0d0244acb356d80ebb7709bb": {
          "model_module": "@jupyter-widgets/controls",
          "model_module_version": "1.5.0",
          "model_name": "ProgressStyleModel",
          "state": {
            "_model_module": "@jupyter-widgets/controls",
            "_model_module_version": "1.5.0",
            "_model_name": "ProgressStyleModel",
            "_view_count": null,
            "_view_module": "@jupyter-widgets/base",
            "_view_module_version": "1.2.0",
            "_view_name": "StyleView",
            "bar_color": null,
            "description_width": ""
          }
        },
        "cc696bf8a15a4aa4a63afe27764a52bc": {
          "model_module": "@jupyter-widgets/controls",
          "model_module_version": "1.5.0",
          "model_name": "HBoxModel",
          "state": {
            "_dom_classes": [],
            "_model_module": "@jupyter-widgets/controls",
            "_model_module_version": "1.5.0",
            "_model_name": "HBoxModel",
            "_view_count": null,
            "_view_module": "@jupyter-widgets/controls",
            "_view_module_version": "1.5.0",
            "_view_name": "HBoxView",
            "box_style": "",
            "children": [
              "IPY_MODEL_90ae7fe7761045f6a6c17c78205121fc",
              "IPY_MODEL_0e45127aaf87449385346ff345d75072",
              "IPY_MODEL_ea086ff5971d4ce095b2504f7350bd97"
            ],
            "layout": "IPY_MODEL_b18e5c6e630a4d0aaa5e9e3bebcad1b1"
          }
        },
        "d1846a3d17e840bdb5fbb4303ae94d71": {
          "model_module": "@jupyter-widgets/controls",
          "model_module_version": "1.5.0",
          "model_name": "ProgressStyleModel",
          "state": {
            "_model_module": "@jupyter-widgets/controls",
            "_model_module_version": "1.5.0",
            "_model_name": "ProgressStyleModel",
            "_view_count": null,
            "_view_module": "@jupyter-widgets/base",
            "_view_module_version": "1.2.0",
            "_view_name": "StyleView",
            "bar_color": null,
            "description_width": ""
          }
        },
        "d1c77a759055418ab2084e067d461360": {
          "model_module": "@jupyter-widgets/controls",
          "model_module_version": "1.5.0",
          "model_name": "HBoxModel",
          "state": {
            "_dom_classes": [],
            "_model_module": "@jupyter-widgets/controls",
            "_model_module_version": "1.5.0",
            "_model_name": "HBoxModel",
            "_view_count": null,
            "_view_module": "@jupyter-widgets/controls",
            "_view_module_version": "1.5.0",
            "_view_name": "HBoxView",
            "box_style": "",
            "children": [
              "IPY_MODEL_6fbfdb06d3b0409ba8f6fa62c549b08e",
              "IPY_MODEL_36ca2489df604721b81edaf6ff7f5d8e",
              "IPY_MODEL_4a6e9d7d63e24ecfb98978241d5b1e54"
            ],
            "layout": "IPY_MODEL_e31b81040308457eb2cb9f72bfdfa7c5"
          }
        },
        "d568a75c4c704a56ab3daae7083512c4": {
          "model_module": "@jupyter-widgets/base",
          "model_module_version": "1.2.0",
          "model_name": "LayoutModel",
          "state": {
            "_model_module": "@jupyter-widgets/base",
            "_model_module_version": "1.2.0",
            "_model_name": "LayoutModel",
            "_view_count": null,
            "_view_module": "@jupyter-widgets/base",
            "_view_module_version": "1.2.0",
            "_view_name": "LayoutView",
            "align_content": null,
            "align_items": null,
            "align_self": null,
            "border": null,
            "bottom": null,
            "display": null,
            "flex": null,
            "flex_flow": null,
            "grid_area": null,
            "grid_auto_columns": null,
            "grid_auto_flow": null,
            "grid_auto_rows": null,
            "grid_column": null,
            "grid_gap": null,
            "grid_row": null,
            "grid_template_areas": null,
            "grid_template_columns": null,
            "grid_template_rows": null,
            "height": null,
            "justify_content": null,
            "justify_items": null,
            "left": null,
            "margin": null,
            "max_height": null,
            "max_width": null,
            "min_height": null,
            "min_width": null,
            "object_fit": null,
            "object_position": null,
            "order": null,
            "overflow": null,
            "overflow_x": null,
            "overflow_y": null,
            "padding": null,
            "right": null,
            "top": null,
            "visibility": null,
            "width": null
          }
        },
        "d5cf79ff17c2469b8df8e98208ec6a4d": {
          "model_module": "@jupyter-widgets/controls",
          "model_module_version": "1.5.0",
          "model_name": "DescriptionStyleModel",
          "state": {
            "_model_module": "@jupyter-widgets/controls",
            "_model_module_version": "1.5.0",
            "_model_name": "DescriptionStyleModel",
            "_view_count": null,
            "_view_module": "@jupyter-widgets/base",
            "_view_module_version": "1.2.0",
            "_view_name": "StyleView",
            "description_width": ""
          }
        },
        "db51a26d0a7d46428632fe211c371094": {
          "model_module": "@jupyter-widgets/base",
          "model_module_version": "1.2.0",
          "model_name": "LayoutModel",
          "state": {
            "_model_module": "@jupyter-widgets/base",
            "_model_module_version": "1.2.0",
            "_model_name": "LayoutModel",
            "_view_count": null,
            "_view_module": "@jupyter-widgets/base",
            "_view_module_version": "1.2.0",
            "_view_name": "LayoutView",
            "align_content": null,
            "align_items": null,
            "align_self": null,
            "border": null,
            "bottom": null,
            "display": null,
            "flex": null,
            "flex_flow": null,
            "grid_area": null,
            "grid_auto_columns": null,
            "grid_auto_flow": null,
            "grid_auto_rows": null,
            "grid_column": null,
            "grid_gap": null,
            "grid_row": null,
            "grid_template_areas": null,
            "grid_template_columns": null,
            "grid_template_rows": null,
            "height": null,
            "justify_content": null,
            "justify_items": null,
            "left": null,
            "margin": null,
            "max_height": null,
            "max_width": null,
            "min_height": null,
            "min_width": null,
            "object_fit": null,
            "object_position": null,
            "order": null,
            "overflow": null,
            "overflow_x": null,
            "overflow_y": null,
            "padding": null,
            "right": null,
            "top": null,
            "visibility": null,
            "width": null
          }
        },
        "e31b81040308457eb2cb9f72bfdfa7c5": {
          "model_module": "@jupyter-widgets/base",
          "model_module_version": "1.2.0",
          "model_name": "LayoutModel",
          "state": {
            "_model_module": "@jupyter-widgets/base",
            "_model_module_version": "1.2.0",
            "_model_name": "LayoutModel",
            "_view_count": null,
            "_view_module": "@jupyter-widgets/base",
            "_view_module_version": "1.2.0",
            "_view_name": "LayoutView",
            "align_content": null,
            "align_items": null,
            "align_self": null,
            "border": null,
            "bottom": null,
            "display": null,
            "flex": null,
            "flex_flow": null,
            "grid_area": null,
            "grid_auto_columns": null,
            "grid_auto_flow": null,
            "grid_auto_rows": null,
            "grid_column": null,
            "grid_gap": null,
            "grid_row": null,
            "grid_template_areas": null,
            "grid_template_columns": null,
            "grid_template_rows": null,
            "height": null,
            "justify_content": null,
            "justify_items": null,
            "left": null,
            "margin": null,
            "max_height": null,
            "max_width": null,
            "min_height": null,
            "min_width": null,
            "object_fit": null,
            "object_position": null,
            "order": null,
            "overflow": null,
            "overflow_x": null,
            "overflow_y": null,
            "padding": null,
            "right": null,
            "top": null,
            "visibility": null,
            "width": null
          }
        },
        "e411fc7df1004f98827b0f51e3f737b9": {
          "model_module": "@jupyter-widgets/base",
          "model_module_version": "1.2.0",
          "model_name": "LayoutModel",
          "state": {
            "_model_module": "@jupyter-widgets/base",
            "_model_module_version": "1.2.0",
            "_model_name": "LayoutModel",
            "_view_count": null,
            "_view_module": "@jupyter-widgets/base",
            "_view_module_version": "1.2.0",
            "_view_name": "LayoutView",
            "align_content": null,
            "align_items": null,
            "align_self": null,
            "border": null,
            "bottom": null,
            "display": null,
            "flex": null,
            "flex_flow": null,
            "grid_area": null,
            "grid_auto_columns": null,
            "grid_auto_flow": null,
            "grid_auto_rows": null,
            "grid_column": null,
            "grid_gap": null,
            "grid_row": null,
            "grid_template_areas": null,
            "grid_template_columns": null,
            "grid_template_rows": null,
            "height": null,
            "justify_content": null,
            "justify_items": null,
            "left": null,
            "margin": null,
            "max_height": null,
            "max_width": null,
            "min_height": null,
            "min_width": null,
            "object_fit": null,
            "object_position": null,
            "order": null,
            "overflow": null,
            "overflow_x": null,
            "overflow_y": null,
            "padding": null,
            "right": null,
            "top": null,
            "visibility": null,
            "width": null
          }
        },
        "e4aea11a2cc943ababf8dc4c17269ce9": {
          "model_module": "@jupyter-widgets/base",
          "model_module_version": "1.2.0",
          "model_name": "LayoutModel",
          "state": {
            "_model_module": "@jupyter-widgets/base",
            "_model_module_version": "1.2.0",
            "_model_name": "LayoutModel",
            "_view_count": null,
            "_view_module": "@jupyter-widgets/base",
            "_view_module_version": "1.2.0",
            "_view_name": "LayoutView",
            "align_content": null,
            "align_items": null,
            "align_self": null,
            "border": null,
            "bottom": null,
            "display": null,
            "flex": null,
            "flex_flow": null,
            "grid_area": null,
            "grid_auto_columns": null,
            "grid_auto_flow": null,
            "grid_auto_rows": null,
            "grid_column": null,
            "grid_gap": null,
            "grid_row": null,
            "grid_template_areas": null,
            "grid_template_columns": null,
            "grid_template_rows": null,
            "height": null,
            "justify_content": null,
            "justify_items": null,
            "left": null,
            "margin": null,
            "max_height": null,
            "max_width": null,
            "min_height": null,
            "min_width": null,
            "object_fit": null,
            "object_position": null,
            "order": null,
            "overflow": null,
            "overflow_x": null,
            "overflow_y": null,
            "padding": null,
            "right": null,
            "top": null,
            "visibility": null,
            "width": null
          }
        },
        "e6c8b877d7dc4244a6c32a20fb41111b": {
          "model_module": "@jupyter-widgets/base",
          "model_module_version": "1.2.0",
          "model_name": "LayoutModel",
          "state": {
            "_model_module": "@jupyter-widgets/base",
            "_model_module_version": "1.2.0",
            "_model_name": "LayoutModel",
            "_view_count": null,
            "_view_module": "@jupyter-widgets/base",
            "_view_module_version": "1.2.0",
            "_view_name": "LayoutView",
            "align_content": null,
            "align_items": null,
            "align_self": null,
            "border": null,
            "bottom": null,
            "display": null,
            "flex": null,
            "flex_flow": null,
            "grid_area": null,
            "grid_auto_columns": null,
            "grid_auto_flow": null,
            "grid_auto_rows": null,
            "grid_column": null,
            "grid_gap": null,
            "grid_row": null,
            "grid_template_areas": null,
            "grid_template_columns": null,
            "grid_template_rows": null,
            "height": null,
            "justify_content": null,
            "justify_items": null,
            "left": null,
            "margin": null,
            "max_height": null,
            "max_width": null,
            "min_height": null,
            "min_width": null,
            "object_fit": null,
            "object_position": null,
            "order": null,
            "overflow": null,
            "overflow_x": null,
            "overflow_y": null,
            "padding": null,
            "right": null,
            "top": null,
            "visibility": null,
            "width": null
          }
        },
        "ea086ff5971d4ce095b2504f7350bd97": {
          "model_module": "@jupyter-widgets/controls",
          "model_module_version": "1.5.0",
          "model_name": "HTMLModel",
          "state": {
            "_dom_classes": [],
            "_model_module": "@jupyter-widgets/controls",
            "_model_module_version": "1.5.0",
            "_model_name": "HTMLModel",
            "_view_count": null,
            "_view_module": "@jupyter-widgets/controls",
            "_view_module_version": "1.5.0",
            "_view_name": "HTMLView",
            "description": "",
            "description_tooltip": null,
            "layout": "IPY_MODEL_31faea5c0ad048a1952fc49beeaed2c6",
            "placeholder": "​",
            "style": "IPY_MODEL_16c3371e87fc4e8d822d5a39474f1a1c",
            "value": " 5001/5001 [19:03&lt;00:00,  4.96it/s]"
          }
        },
        "f357ccb0f60f4b40a0a8ebac0806c4a0": {
          "model_module": "@jupyter-widgets/controls",
          "model_module_version": "1.5.0",
          "model_name": "DescriptionStyleModel",
          "state": {
            "_model_module": "@jupyter-widgets/controls",
            "_model_module_version": "1.5.0",
            "_model_name": "DescriptionStyleModel",
            "_view_count": null,
            "_view_module": "@jupyter-widgets/base",
            "_view_module_version": "1.2.0",
            "_view_name": "StyleView",
            "description_width": ""
          }
        },
        "fe8a2571d47f41d295fee39bef2d339b": {
          "model_module": "@jupyter-widgets/base",
          "model_module_version": "1.2.0",
          "model_name": "LayoutModel",
          "state": {
            "_model_module": "@jupyter-widgets/base",
            "_model_module_version": "1.2.0",
            "_model_name": "LayoutModel",
            "_view_count": null,
            "_view_module": "@jupyter-widgets/base",
            "_view_module_version": "1.2.0",
            "_view_name": "LayoutView",
            "align_content": null,
            "align_items": null,
            "align_self": null,
            "border": null,
            "bottom": null,
            "display": null,
            "flex": null,
            "flex_flow": null,
            "grid_area": null,
            "grid_auto_columns": null,
            "grid_auto_flow": null,
            "grid_auto_rows": null,
            "grid_column": null,
            "grid_gap": null,
            "grid_row": null,
            "grid_template_areas": null,
            "grid_template_columns": null,
            "grid_template_rows": null,
            "height": null,
            "justify_content": null,
            "justify_items": null,
            "left": null,
            "margin": null,
            "max_height": null,
            "max_width": null,
            "min_height": null,
            "min_width": null,
            "object_fit": null,
            "object_position": null,
            "order": null,
            "overflow": null,
            "overflow_x": null,
            "overflow_y": null,
            "padding": null,
            "right": null,
            "top": null,
            "visibility": null,
            "width": null
          }
        },
        "4e90e35a1daf40c49c5a48e0ec8ce0e9": {
          "model_module": "@jupyter-widgets/controls",
          "model_name": "HBoxModel",
          "model_module_version": "1.5.0",
          "state": {
            "_dom_classes": [],
            "_model_module": "@jupyter-widgets/controls",
            "_model_module_version": "1.5.0",
            "_model_name": "HBoxModel",
            "_view_count": null,
            "_view_module": "@jupyter-widgets/controls",
            "_view_module_version": "1.5.0",
            "_view_name": "HBoxView",
            "box_style": "",
            "children": [
              "IPY_MODEL_8bf980bbf54c430f857bea57eb0340db",
              "IPY_MODEL_2502fe9f485148fdba7f9aa9f5106529",
              "IPY_MODEL_e179560fbf7647dd8f4538c3c764af8f"
            ],
            "layout": "IPY_MODEL_bb50e974985346608eaceb3e12f52d15"
          }
        },
        "8bf980bbf54c430f857bea57eb0340db": {
          "model_module": "@jupyter-widgets/controls",
          "model_name": "HTMLModel",
          "model_module_version": "1.5.0",
          "state": {
            "_dom_classes": [],
            "_model_module": "@jupyter-widgets/controls",
            "_model_module_version": "1.5.0",
            "_model_name": "HTMLModel",
            "_view_count": null,
            "_view_module": "@jupyter-widgets/controls",
            "_view_module_version": "1.5.0",
            "_view_name": "HTMLView",
            "description": "",
            "description_tooltip": null,
            "layout": "IPY_MODEL_450318511a134d27899ff73b8fb75cf2",
            "placeholder": "​",
            "style": "IPY_MODEL_42fbe58093ff42fa8d2da124038726ad",
            "value": "Downloading builder script: 100%"
          }
        },
        "2502fe9f485148fdba7f9aa9f5106529": {
          "model_module": "@jupyter-widgets/controls",
          "model_name": "FloatProgressModel",
          "model_module_version": "1.5.0",
          "state": {
            "_dom_classes": [],
            "_model_module": "@jupyter-widgets/controls",
            "_model_module_version": "1.5.0",
            "_model_name": "FloatProgressModel",
            "_view_count": null,
            "_view_module": "@jupyter-widgets/controls",
            "_view_module_version": "1.5.0",
            "_view_name": "ProgressView",
            "bar_style": "success",
            "description": "",
            "description_tooltip": null,
            "layout": "IPY_MODEL_ccf284493e6f40498e33076b8cf14d40",
            "max": 5669,
            "min": 0,
            "orientation": "horizontal",
            "style": "IPY_MODEL_f46bff5352964d908c1cc4ab5eb78906",
            "value": 5669
          }
        },
        "e179560fbf7647dd8f4538c3c764af8f": {
          "model_module": "@jupyter-widgets/controls",
          "model_name": "HTMLModel",
          "model_module_version": "1.5.0",
          "state": {
            "_dom_classes": [],
            "_model_module": "@jupyter-widgets/controls",
            "_model_module_version": "1.5.0",
            "_model_name": "HTMLModel",
            "_view_count": null,
            "_view_module": "@jupyter-widgets/controls",
            "_view_module_version": "1.5.0",
            "_view_name": "HTMLView",
            "description": "",
            "description_tooltip": null,
            "layout": "IPY_MODEL_104d1c11472d48a085284cc25683e214",
            "placeholder": "​",
            "style": "IPY_MODEL_f017e58cff324b708082b3d7967623fe",
            "value": " 5.67k/5.67k [00:00&lt;00:00, 9.07kB/s]"
          }
        },
        "bb50e974985346608eaceb3e12f52d15": {
          "model_module": "@jupyter-widgets/base",
          "model_name": "LayoutModel",
          "model_module_version": "1.2.0",
          "state": {
            "_model_module": "@jupyter-widgets/base",
            "_model_module_version": "1.2.0",
            "_model_name": "LayoutModel",
            "_view_count": null,
            "_view_module": "@jupyter-widgets/base",
            "_view_module_version": "1.2.0",
            "_view_name": "LayoutView",
            "align_content": null,
            "align_items": null,
            "align_self": null,
            "border": null,
            "bottom": null,
            "display": null,
            "flex": null,
            "flex_flow": null,
            "grid_area": null,
            "grid_auto_columns": null,
            "grid_auto_flow": null,
            "grid_auto_rows": null,
            "grid_column": null,
            "grid_gap": null,
            "grid_row": null,
            "grid_template_areas": null,
            "grid_template_columns": null,
            "grid_template_rows": null,
            "height": null,
            "justify_content": null,
            "justify_items": null,
            "left": null,
            "margin": null,
            "max_height": null,
            "max_width": null,
            "min_height": null,
            "min_width": null,
            "object_fit": null,
            "object_position": null,
            "order": null,
            "overflow": null,
            "overflow_x": null,
            "overflow_y": null,
            "padding": null,
            "right": null,
            "top": null,
            "visibility": null,
            "width": null
          }
        },
        "450318511a134d27899ff73b8fb75cf2": {
          "model_module": "@jupyter-widgets/base",
          "model_name": "LayoutModel",
          "model_module_version": "1.2.0",
          "state": {
            "_model_module": "@jupyter-widgets/base",
            "_model_module_version": "1.2.0",
            "_model_name": "LayoutModel",
            "_view_count": null,
            "_view_module": "@jupyter-widgets/base",
            "_view_module_version": "1.2.0",
            "_view_name": "LayoutView",
            "align_content": null,
            "align_items": null,
            "align_self": null,
            "border": null,
            "bottom": null,
            "display": null,
            "flex": null,
            "flex_flow": null,
            "grid_area": null,
            "grid_auto_columns": null,
            "grid_auto_flow": null,
            "grid_auto_rows": null,
            "grid_column": null,
            "grid_gap": null,
            "grid_row": null,
            "grid_template_areas": null,
            "grid_template_columns": null,
            "grid_template_rows": null,
            "height": null,
            "justify_content": null,
            "justify_items": null,
            "left": null,
            "margin": null,
            "max_height": null,
            "max_width": null,
            "min_height": null,
            "min_width": null,
            "object_fit": null,
            "object_position": null,
            "order": null,
            "overflow": null,
            "overflow_x": null,
            "overflow_y": null,
            "padding": null,
            "right": null,
            "top": null,
            "visibility": null,
            "width": null
          }
        },
        "42fbe58093ff42fa8d2da124038726ad": {
          "model_module": "@jupyter-widgets/controls",
          "model_name": "DescriptionStyleModel",
          "model_module_version": "1.5.0",
          "state": {
            "_model_module": "@jupyter-widgets/controls",
            "_model_module_version": "1.5.0",
            "_model_name": "DescriptionStyleModel",
            "_view_count": null,
            "_view_module": "@jupyter-widgets/base",
            "_view_module_version": "1.2.0",
            "_view_name": "StyleView",
            "description_width": ""
          }
        },
        "ccf284493e6f40498e33076b8cf14d40": {
          "model_module": "@jupyter-widgets/base",
          "model_name": "LayoutModel",
          "model_module_version": "1.2.0",
          "state": {
            "_model_module": "@jupyter-widgets/base",
            "_model_module_version": "1.2.0",
            "_model_name": "LayoutModel",
            "_view_count": null,
            "_view_module": "@jupyter-widgets/base",
            "_view_module_version": "1.2.0",
            "_view_name": "LayoutView",
            "align_content": null,
            "align_items": null,
            "align_self": null,
            "border": null,
            "bottom": null,
            "display": null,
            "flex": null,
            "flex_flow": null,
            "grid_area": null,
            "grid_auto_columns": null,
            "grid_auto_flow": null,
            "grid_auto_rows": null,
            "grid_column": null,
            "grid_gap": null,
            "grid_row": null,
            "grid_template_areas": null,
            "grid_template_columns": null,
            "grid_template_rows": null,
            "height": null,
            "justify_content": null,
            "justify_items": null,
            "left": null,
            "margin": null,
            "max_height": null,
            "max_width": null,
            "min_height": null,
            "min_width": null,
            "object_fit": null,
            "object_position": null,
            "order": null,
            "overflow": null,
            "overflow_x": null,
            "overflow_y": null,
            "padding": null,
            "right": null,
            "top": null,
            "visibility": null,
            "width": null
          }
        },
        "f46bff5352964d908c1cc4ab5eb78906": {
          "model_module": "@jupyter-widgets/controls",
          "model_name": "ProgressStyleModel",
          "model_module_version": "1.5.0",
          "state": {
            "_model_module": "@jupyter-widgets/controls",
            "_model_module_version": "1.5.0",
            "_model_name": "ProgressStyleModel",
            "_view_count": null,
            "_view_module": "@jupyter-widgets/base",
            "_view_module_version": "1.2.0",
            "_view_name": "StyleView",
            "bar_color": null,
            "description_width": ""
          }
        },
        "104d1c11472d48a085284cc25683e214": {
          "model_module": "@jupyter-widgets/base",
          "model_name": "LayoutModel",
          "model_module_version": "1.2.0",
          "state": {
            "_model_module": "@jupyter-widgets/base",
            "_model_module_version": "1.2.0",
            "_model_name": "LayoutModel",
            "_view_count": null,
            "_view_module": "@jupyter-widgets/base",
            "_view_module_version": "1.2.0",
            "_view_name": "LayoutView",
            "align_content": null,
            "align_items": null,
            "align_self": null,
            "border": null,
            "bottom": null,
            "display": null,
            "flex": null,
            "flex_flow": null,
            "grid_area": null,
            "grid_auto_columns": null,
            "grid_auto_flow": null,
            "grid_auto_rows": null,
            "grid_column": null,
            "grid_gap": null,
            "grid_row": null,
            "grid_template_areas": null,
            "grid_template_columns": null,
            "grid_template_rows": null,
            "height": null,
            "justify_content": null,
            "justify_items": null,
            "left": null,
            "margin": null,
            "max_height": null,
            "max_width": null,
            "min_height": null,
            "min_width": null,
            "object_fit": null,
            "object_position": null,
            "order": null,
            "overflow": null,
            "overflow_x": null,
            "overflow_y": null,
            "padding": null,
            "right": null,
            "top": null,
            "visibility": null,
            "width": null
          }
        },
        "f017e58cff324b708082b3d7967623fe": {
          "model_module": "@jupyter-widgets/controls",
          "model_name": "DescriptionStyleModel",
          "model_module_version": "1.5.0",
          "state": {
            "_model_module": "@jupyter-widgets/controls",
            "_model_module_version": "1.5.0",
            "_model_name": "DescriptionStyleModel",
            "_view_count": null,
            "_view_module": "@jupyter-widgets/base",
            "_view_module_version": "1.2.0",
            "_view_name": "StyleView",
            "description_width": ""
          }
        }
      }
    },
    "accelerator": "GPU"
  },
  "nbformat": 4,
  "nbformat_minor": 0
}